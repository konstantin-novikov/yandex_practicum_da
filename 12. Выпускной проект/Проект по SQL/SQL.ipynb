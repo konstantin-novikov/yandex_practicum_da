{
 "cells": [
  {
   "cell_type": "markdown",
   "id": "691f4781",
   "metadata": {
    "toc": true
   },
   "source": [
    "<h1>Финальны проект SQL<span class=\"tocSkip\"></span></h1>\n",
    "<div class=\"toc\"><ul class=\"toc-item\"><li><span><a href=\"#Описание-данных:\" data-toc-modified-id=\"Описание-данных:-1\"><span class=\"toc-item-num\">1&nbsp;&nbsp;</span>Описание данных:</a></span></li><li><span><a href=\"#Задания\" data-toc-modified-id=\"Задания-2\"><span class=\"toc-item-num\">2&nbsp;&nbsp;</span>Задания</a></span></li><li><span><a href=\"#Выгрузка-данных\" data-toc-modified-id=\"Выгрузка-данных-3\"><span class=\"toc-item-num\">3&nbsp;&nbsp;</span>Выгрузка данных</a></span><ul class=\"toc-item\"><li><span><a href=\"#Ознакомление-с-данными\" data-toc-modified-id=\"Ознакомление-с-данными-3.1\"><span class=\"toc-item-num\">3.1&nbsp;&nbsp;</span>Ознакомление с данными</a></span></li></ul></li><li><span><a href=\"#Решение-задач\" data-toc-modified-id=\"Решение-задач-4\"><span class=\"toc-item-num\">4&nbsp;&nbsp;</span>Решение задач</a></span><ul class=\"toc-item\"><li><span><a href=\"#Посчитайте,-сколько-книг-вышло-после-1-января-2000-года;\" data-toc-modified-id=\"Посчитайте,-сколько-книг-вышло-после-1-января-2000-года;-4.1\"><span class=\"toc-item-num\">4.1&nbsp;&nbsp;</span>Посчитайте, сколько книг вышло после 1 января 2000 года;</a></span></li><li><span><a href=\"#Для-каждой-книги-посчитайте-количество-обзоров-и-среднюю-оценку;\" data-toc-modified-id=\"Для-каждой-книги-посчитайте-количество-обзоров-и-среднюю-оценку;-4.2\"><span class=\"toc-item-num\">4.2&nbsp;&nbsp;</span>Для каждой книги посчитайте количество обзоров и среднюю оценку;</a></span></li><li><span><a href=\"#Определите-издательство,-которое-выпустило-наибольшее-число-книг-толще-50-страниц-—-так-вы-исключите-из-анализа-брошюры;\" data-toc-modified-id=\"Определите-издательство,-которое-выпустило-наибольшее-число-книг-толще-50-страниц-—-так-вы-исключите-из-анализа-брошюры;-4.3\"><span class=\"toc-item-num\">4.3&nbsp;&nbsp;</span>Определите издательство, которое выпустило наибольшее число книг толще 50 страниц — так вы исключите из анализа брошюры;</a></span></li><li><span><a href=\"#Определите-автора-с-самой-высокой-средней-оценкой-книг-—-учитывайте-только-книги-с-50-и-более-оценками;\" data-toc-modified-id=\"Определите-автора-с-самой-высокой-средней-оценкой-книг-—-учитывайте-только-книги-с-50-и-более-оценками;-4.4\"><span class=\"toc-item-num\">4.4&nbsp;&nbsp;</span>Определите автора с самой высокой средней оценкой книг — учитывайте только книги с 50 и более оценками;</a></span></li><li><span><a href=\"#Посчитайте-среднее-количество-обзоров-от-пользователей,-которые-поставили-больше-48-оценок.\" data-toc-modified-id=\"Посчитайте-среднее-количество-обзоров-от-пользователей,-которые-поставили-больше-48-оценок.-4.5\"><span class=\"toc-item-num\">4.5&nbsp;&nbsp;</span>Посчитайте среднее количество обзоров от пользователей, которые поставили больше 48 оценок.</a></span></li></ul></li><li><span><a href=\"#Общие-выводы\" data-toc-modified-id=\"Общие-выводы-5\"><span class=\"toc-item-num\">5&nbsp;&nbsp;</span>Общие выводы</a></span></li></ul></div>"
   ]
  },
  {
   "cell_type": "markdown",
   "id": "ead078ab",
   "metadata": {},
   "source": [
    "Коронавирус застал мир врасплох, изменив привычный порядок вещей. В свободное время жители городов больше не выходят на улицу, не посещают кафе и торговые центры. Зато стало больше времени для книг. Это заметили стартаперы — и бросились создавать приложения для тех, кто любит читать.\n",
    "\n",
    "Ваша компания решила быть на волне и купила крупный сервис для чтения книг по подписке. Ваша первая задача как аналитика — проанализировать базу данных.\n",
    "В ней — информация о книгах, издательствах, авторах, а также пользовательские обзоры книг. Эти данные помогут сформулировать ценностное предложение для нового продукта."
   ]
  },
  {
   "cell_type": "markdown",
   "id": "65773580",
   "metadata": {},
   "source": [
    "## Описание данных:\n",
    "\n",
    "**Таблица `books`**\n",
    "\n",
    "Содержит данные о книгах:\n",
    "\n",
    "- `book_id` — идентификатор книги;\n",
    "- `author_id` — идентификатор автора;\n",
    "- `title` — название книги;\n",
    "- `num_pages` — количество страниц;\n",
    "- `publication_date` — дата публикации книги;\n",
    "- `publisher_id` — идентификатор издателя.\n",
    "\n",
    "**Таблица `authors`**\n",
    "\n",
    "Содержит данные об авторах:\n",
    "\n",
    "- `author_id` — идентификатор автора;\n",
    "- `author` — имя автора.\n",
    "\n",
    "**Таблица `publishers`**\n",
    "\n",
    "Содержит данные об издательствах:\n",
    "\n",
    "- `publisher_id` — идентификатор издательства;\n",
    "- `publisher` — название издательства;\n",
    "\n",
    "**Таблица `ratings`**\n",
    "\n",
    "Содержит данные о пользовательских оценках книг:\n",
    "\n",
    "- `rating_id` — идентификатор оценки;\n",
    "- `book_id` — идентификатор книги;\n",
    "- `username` — имя пользователя, оставившего оценку;\n",
    "- `rating` — оценка книги.\n",
    "\n",
    "**Таблица `reviews`**\n",
    "\n",
    "Содержит данные о пользовательских обзорах на книги:\n",
    "\n",
    "- `review_id` — идентификатор обзора;\n",
    "- `book_id` — идентификатор книги;\n",
    "- `username` — имя пользователя, написавшего обзор;\n",
    "- `text` — текст обзора.\n",
    "\n",
    "\n",
    "## Задания\n",
    "\n",
    "- Посчитайте, сколько книг вышло после 1 января 2000 года;\n",
    "- Для каждой книги посчитайте количество обзоров и среднюю оценку;\n",
    "- Определите издательство, которое выпустило наибольшее число книг толще 50 страниц — так вы исключите из анализа брошюры;\n",
    "- Определите автора с самой высокой средней оценкой книг — учитывайте только книги с 50 и более оценками;\n",
    "- Посчитайте среднее количество обзоров от пользователей, которые поставили больше 48 оценок."
   ]
  },
  {
   "cell_type": "markdown",
   "id": "e9c99c1f",
   "metadata": {},
   "source": [
    "## Выгрузка данных\n"
   ]
  },
  {
   "cell_type": "code",
   "execution_count": 1,
   "id": "6435acf2",
   "metadata": {
    "scrolled": true
   },
   "outputs": [],
   "source": [
    "# импортируем библиотеки\n",
    "import pandas as pd\n",
    "from sqlalchemy import text, create_engine\n",
    "\n",
    "# устанавливаем параметры\n",
    "db_config = {'user': 'praktikum_student', # имя пользователя\n",
    "'pwd': 'Sdf4$2;d-d30pp', # пароль\n",
    "'host': 'rc1b-wcoijxj3yxfsf3fs.mdb.yandexcloud.net',\n",
    "'port': 6432, # порт подключения\n",
    "'db': 'data-analyst-final-project-db'} # название базы данных\n",
    "connection_string = 'postgresql://{user}:{pwd}@{host}:{port}/{db}'.format(**db_config)\n",
    "\n",
    "# сохраняем коннектор\n",
    "engine = create_engine(connection_string, connect_args={'sslmode':'require'})\n",
    "\n",
    "con=engine.connect()\n",
    "\n",
    "pd.set_option('display.max_columns', 100)"
   ]
  },
  {
   "cell_type": "markdown",
   "id": "db66a4cb",
   "metadata": {},
   "source": [
    "### Ознакомление с данными"
   ]
  },
  {
   "cell_type": "code",
   "execution_count": 2,
   "id": "7c9295e9",
   "metadata": {
    "scrolled": true
   },
   "outputs": [],
   "source": [
    "#Напишем функцию для вывода запросов SQL в pandas\n",
    "def use_request(request):\n",
    "    return pd.io.sql.read_sql(sql=text(request), con = con)"
   ]
  },
  {
   "cell_type": "code",
   "execution_count": 3,
   "id": "8f0dcc2f",
   "metadata": {
    "scrolled": false
   },
   "outputs": [
    {
     "data": {
      "text/html": [
       "<div>\n",
       "<style scoped>\n",
       "    .dataframe tbody tr th:only-of-type {\n",
       "        vertical-align: middle;\n",
       "    }\n",
       "\n",
       "    .dataframe tbody tr th {\n",
       "        vertical-align: top;\n",
       "    }\n",
       "\n",
       "    .dataframe thead th {\n",
       "        text-align: right;\n",
       "    }\n",
       "</style>\n",
       "<table border=\"1\" class=\"dataframe\">\n",
       "  <thead>\n",
       "    <tr style=\"text-align: right;\">\n",
       "      <th></th>\n",
       "      <th>book_id</th>\n",
       "      <th>author_id</th>\n",
       "      <th>title</th>\n",
       "      <th>num_pages</th>\n",
       "      <th>publication_date</th>\n",
       "      <th>publisher_id</th>\n",
       "    </tr>\n",
       "  </thead>\n",
       "  <tbody>\n",
       "    <tr>\n",
       "      <th>0</th>\n",
       "      <td>1</td>\n",
       "      <td>546</td>\n",
       "      <td>'Salem's Lot</td>\n",
       "      <td>594</td>\n",
       "      <td>2005-11-01</td>\n",
       "      <td>93</td>\n",
       "    </tr>\n",
       "    <tr>\n",
       "      <th>1</th>\n",
       "      <td>2</td>\n",
       "      <td>465</td>\n",
       "      <td>1 000 Places to See Before You Die</td>\n",
       "      <td>992</td>\n",
       "      <td>2003-05-22</td>\n",
       "      <td>336</td>\n",
       "    </tr>\n",
       "    <tr>\n",
       "      <th>2</th>\n",
       "      <td>3</td>\n",
       "      <td>407</td>\n",
       "      <td>13 Little Blue Envelopes (Little Blue Envelope...</td>\n",
       "      <td>322</td>\n",
       "      <td>2010-12-21</td>\n",
       "      <td>135</td>\n",
       "    </tr>\n",
       "    <tr>\n",
       "      <th>3</th>\n",
       "      <td>4</td>\n",
       "      <td>82</td>\n",
       "      <td>1491: New Revelations of the Americas Before C...</td>\n",
       "      <td>541</td>\n",
       "      <td>2006-10-10</td>\n",
       "      <td>309</td>\n",
       "    </tr>\n",
       "    <tr>\n",
       "      <th>4</th>\n",
       "      <td>5</td>\n",
       "      <td>125</td>\n",
       "      <td>1776</td>\n",
       "      <td>386</td>\n",
       "      <td>2006-07-04</td>\n",
       "      <td>268</td>\n",
       "    </tr>\n",
       "  </tbody>\n",
       "</table>\n",
       "</div>"
      ],
      "text/plain": [
       "   book_id  author_id                                              title  \\\n",
       "0        1        546                                       'Salem's Lot   \n",
       "1        2        465                 1 000 Places to See Before You Die   \n",
       "2        3        407  13 Little Blue Envelopes (Little Blue Envelope...   \n",
       "3        4         82  1491: New Revelations of the Americas Before C...   \n",
       "4        5        125                                               1776   \n",
       "\n",
       "   num_pages publication_date  publisher_id  \n",
       "0        594       2005-11-01            93  \n",
       "1        992       2003-05-22           336  \n",
       "2        322       2010-12-21           135  \n",
       "3        541       2006-10-10           309  \n",
       "4        386       2006-07-04           268  "
      ]
     },
     "metadata": {},
     "output_type": "display_data"
    },
    {
     "name": "stdout",
     "output_type": "stream",
     "text": [
      "<class 'pandas.core.frame.DataFrame'>\n",
      "RangeIndex: 1000 entries, 0 to 999\n",
      "Data columns (total 6 columns):\n",
      " #   Column            Non-Null Count  Dtype \n",
      "---  ------            --------------  ----- \n",
      " 0   book_id           1000 non-null   int64 \n",
      " 1   author_id         1000 non-null   int64 \n",
      " 2   title             1000 non-null   object\n",
      " 3   num_pages         1000 non-null   int64 \n",
      " 4   publication_date  1000 non-null   object\n",
      " 5   publisher_id      1000 non-null   int64 \n",
      "dtypes: int64(4), object(2)\n",
      "memory usage: 47.0+ KB\n"
     ]
    },
    {
     "data": {
      "text/plain": [
       "None"
      ]
     },
     "metadata": {},
     "output_type": "display_data"
    },
    {
     "data": {
      "text/plain": [
       "book_id             0\n",
       "author_id           0\n",
       "title               0\n",
       "num_pages           0\n",
       "publication_date    0\n",
       "publisher_id        0\n",
       "dtype: int64"
      ]
     },
     "metadata": {},
     "output_type": "display_data"
    },
    {
     "name": "stdout",
     "output_type": "stream",
     "text": [
      "Количество дубликатов равно 0\n"
     ]
    },
    {
     "data": {
      "text/html": [
       "<div>\n",
       "<style scoped>\n",
       "    .dataframe tbody tr th:only-of-type {\n",
       "        vertical-align: middle;\n",
       "    }\n",
       "\n",
       "    .dataframe tbody tr th {\n",
       "        vertical-align: top;\n",
       "    }\n",
       "\n",
       "    .dataframe thead th {\n",
       "        text-align: right;\n",
       "    }\n",
       "</style>\n",
       "<table border=\"1\" class=\"dataframe\">\n",
       "  <thead>\n",
       "    <tr style=\"text-align: right;\">\n",
       "      <th></th>\n",
       "      <th>author_id</th>\n",
       "      <th>author</th>\n",
       "    </tr>\n",
       "  </thead>\n",
       "  <tbody>\n",
       "    <tr>\n",
       "      <th>0</th>\n",
       "      <td>1</td>\n",
       "      <td>A.S. Byatt</td>\n",
       "    </tr>\n",
       "    <tr>\n",
       "      <th>1</th>\n",
       "      <td>2</td>\n",
       "      <td>Aesop/Laura Harris/Laura Gibbs</td>\n",
       "    </tr>\n",
       "    <tr>\n",
       "      <th>2</th>\n",
       "      <td>3</td>\n",
       "      <td>Agatha Christie</td>\n",
       "    </tr>\n",
       "    <tr>\n",
       "      <th>3</th>\n",
       "      <td>4</td>\n",
       "      <td>Alan Brennert</td>\n",
       "    </tr>\n",
       "    <tr>\n",
       "      <th>4</th>\n",
       "      <td>5</td>\n",
       "      <td>Alan Moore/David   Lloyd</td>\n",
       "    </tr>\n",
       "  </tbody>\n",
       "</table>\n",
       "</div>"
      ],
      "text/plain": [
       "   author_id                          author\n",
       "0          1                      A.S. Byatt\n",
       "1          2  Aesop/Laura Harris/Laura Gibbs\n",
       "2          3                 Agatha Christie\n",
       "3          4                   Alan Brennert\n",
       "4          5        Alan Moore/David   Lloyd"
      ]
     },
     "metadata": {},
     "output_type": "display_data"
    },
    {
     "name": "stdout",
     "output_type": "stream",
     "text": [
      "<class 'pandas.core.frame.DataFrame'>\n",
      "RangeIndex: 636 entries, 0 to 635\n",
      "Data columns (total 2 columns):\n",
      " #   Column     Non-Null Count  Dtype \n",
      "---  ------     --------------  ----- \n",
      " 0   author_id  636 non-null    int64 \n",
      " 1   author     636 non-null    object\n",
      "dtypes: int64(1), object(1)\n",
      "memory usage: 10.1+ KB\n"
     ]
    },
    {
     "data": {
      "text/plain": [
       "None"
      ]
     },
     "metadata": {},
     "output_type": "display_data"
    },
    {
     "data": {
      "text/plain": [
       "author_id    0\n",
       "author       0\n",
       "dtype: int64"
      ]
     },
     "metadata": {},
     "output_type": "display_data"
    },
    {
     "name": "stdout",
     "output_type": "stream",
     "text": [
      "Количество дубликатов равно 0\n"
     ]
    },
    {
     "data": {
      "text/html": [
       "<div>\n",
       "<style scoped>\n",
       "    .dataframe tbody tr th:only-of-type {\n",
       "        vertical-align: middle;\n",
       "    }\n",
       "\n",
       "    .dataframe tbody tr th {\n",
       "        vertical-align: top;\n",
       "    }\n",
       "\n",
       "    .dataframe thead th {\n",
       "        text-align: right;\n",
       "    }\n",
       "</style>\n",
       "<table border=\"1\" class=\"dataframe\">\n",
       "  <thead>\n",
       "    <tr style=\"text-align: right;\">\n",
       "      <th></th>\n",
       "      <th>publisher_id</th>\n",
       "      <th>publisher</th>\n",
       "    </tr>\n",
       "  </thead>\n",
       "  <tbody>\n",
       "    <tr>\n",
       "      <th>0</th>\n",
       "      <td>1</td>\n",
       "      <td>Ace</td>\n",
       "    </tr>\n",
       "    <tr>\n",
       "      <th>1</th>\n",
       "      <td>2</td>\n",
       "      <td>Ace Book</td>\n",
       "    </tr>\n",
       "    <tr>\n",
       "      <th>2</th>\n",
       "      <td>3</td>\n",
       "      <td>Ace Books</td>\n",
       "    </tr>\n",
       "    <tr>\n",
       "      <th>3</th>\n",
       "      <td>4</td>\n",
       "      <td>Ace Hardcover</td>\n",
       "    </tr>\n",
       "    <tr>\n",
       "      <th>4</th>\n",
       "      <td>5</td>\n",
       "      <td>Addison Wesley Publishing Company</td>\n",
       "    </tr>\n",
       "  </tbody>\n",
       "</table>\n",
       "</div>"
      ],
      "text/plain": [
       "   publisher_id                          publisher\n",
       "0             1                                Ace\n",
       "1             2                           Ace Book\n",
       "2             3                          Ace Books\n",
       "3             4                      Ace Hardcover\n",
       "4             5  Addison Wesley Publishing Company"
      ]
     },
     "metadata": {},
     "output_type": "display_data"
    },
    {
     "name": "stdout",
     "output_type": "stream",
     "text": [
      "<class 'pandas.core.frame.DataFrame'>\n",
      "RangeIndex: 340 entries, 0 to 339\n",
      "Data columns (total 2 columns):\n",
      " #   Column        Non-Null Count  Dtype \n",
      "---  ------        --------------  ----- \n",
      " 0   publisher_id  340 non-null    int64 \n",
      " 1   publisher     340 non-null    object\n",
      "dtypes: int64(1), object(1)\n",
      "memory usage: 5.4+ KB\n"
     ]
    },
    {
     "data": {
      "text/plain": [
       "None"
      ]
     },
     "metadata": {},
     "output_type": "display_data"
    },
    {
     "data": {
      "text/plain": [
       "publisher_id    0\n",
       "publisher       0\n",
       "dtype: int64"
      ]
     },
     "metadata": {},
     "output_type": "display_data"
    },
    {
     "name": "stdout",
     "output_type": "stream",
     "text": [
      "Количество дубликатов равно 0\n"
     ]
    },
    {
     "data": {
      "text/html": [
       "<div>\n",
       "<style scoped>\n",
       "    .dataframe tbody tr th:only-of-type {\n",
       "        vertical-align: middle;\n",
       "    }\n",
       "\n",
       "    .dataframe tbody tr th {\n",
       "        vertical-align: top;\n",
       "    }\n",
       "\n",
       "    .dataframe thead th {\n",
       "        text-align: right;\n",
       "    }\n",
       "</style>\n",
       "<table border=\"1\" class=\"dataframe\">\n",
       "  <thead>\n",
       "    <tr style=\"text-align: right;\">\n",
       "      <th></th>\n",
       "      <th>rating_id</th>\n",
       "      <th>book_id</th>\n",
       "      <th>username</th>\n",
       "      <th>rating</th>\n",
       "    </tr>\n",
       "  </thead>\n",
       "  <tbody>\n",
       "    <tr>\n",
       "      <th>0</th>\n",
       "      <td>1</td>\n",
       "      <td>1</td>\n",
       "      <td>ryanfranco</td>\n",
       "      <td>4</td>\n",
       "    </tr>\n",
       "    <tr>\n",
       "      <th>1</th>\n",
       "      <td>2</td>\n",
       "      <td>1</td>\n",
       "      <td>grantpatricia</td>\n",
       "      <td>2</td>\n",
       "    </tr>\n",
       "    <tr>\n",
       "      <th>2</th>\n",
       "      <td>3</td>\n",
       "      <td>1</td>\n",
       "      <td>brandtandrea</td>\n",
       "      <td>5</td>\n",
       "    </tr>\n",
       "    <tr>\n",
       "      <th>3</th>\n",
       "      <td>4</td>\n",
       "      <td>2</td>\n",
       "      <td>lorichen</td>\n",
       "      <td>3</td>\n",
       "    </tr>\n",
       "    <tr>\n",
       "      <th>4</th>\n",
       "      <td>5</td>\n",
       "      <td>2</td>\n",
       "      <td>mariokeller</td>\n",
       "      <td>2</td>\n",
       "    </tr>\n",
       "  </tbody>\n",
       "</table>\n",
       "</div>"
      ],
      "text/plain": [
       "   rating_id  book_id       username  rating\n",
       "0          1        1     ryanfranco       4\n",
       "1          2        1  grantpatricia       2\n",
       "2          3        1   brandtandrea       5\n",
       "3          4        2       lorichen       3\n",
       "4          5        2    mariokeller       2"
      ]
     },
     "metadata": {},
     "output_type": "display_data"
    },
    {
     "name": "stdout",
     "output_type": "stream",
     "text": [
      "<class 'pandas.core.frame.DataFrame'>\n",
      "RangeIndex: 6456 entries, 0 to 6455\n",
      "Data columns (total 4 columns):\n",
      " #   Column     Non-Null Count  Dtype \n",
      "---  ------     --------------  ----- \n",
      " 0   rating_id  6456 non-null   int64 \n",
      " 1   book_id    6456 non-null   int64 \n",
      " 2   username   6456 non-null   object\n",
      " 3   rating     6456 non-null   int64 \n",
      "dtypes: int64(3), object(1)\n",
      "memory usage: 201.9+ KB\n"
     ]
    },
    {
     "data": {
      "text/plain": [
       "None"
      ]
     },
     "metadata": {},
     "output_type": "display_data"
    },
    {
     "data": {
      "text/plain": [
       "rating_id    0\n",
       "book_id      0\n",
       "username     0\n",
       "rating       0\n",
       "dtype: int64"
      ]
     },
     "metadata": {},
     "output_type": "display_data"
    },
    {
     "name": "stdout",
     "output_type": "stream",
     "text": [
      "Количество дубликатов равно 0\n"
     ]
    },
    {
     "data": {
      "text/html": [
       "<div>\n",
       "<style scoped>\n",
       "    .dataframe tbody tr th:only-of-type {\n",
       "        vertical-align: middle;\n",
       "    }\n",
       "\n",
       "    .dataframe tbody tr th {\n",
       "        vertical-align: top;\n",
       "    }\n",
       "\n",
       "    .dataframe thead th {\n",
       "        text-align: right;\n",
       "    }\n",
       "</style>\n",
       "<table border=\"1\" class=\"dataframe\">\n",
       "  <thead>\n",
       "    <tr style=\"text-align: right;\">\n",
       "      <th></th>\n",
       "      <th>review_id</th>\n",
       "      <th>book_id</th>\n",
       "      <th>username</th>\n",
       "      <th>text</th>\n",
       "    </tr>\n",
       "  </thead>\n",
       "  <tbody>\n",
       "    <tr>\n",
       "      <th>0</th>\n",
       "      <td>1</td>\n",
       "      <td>1</td>\n",
       "      <td>brandtandrea</td>\n",
       "      <td>Mention society tell send professor analysis. ...</td>\n",
       "    </tr>\n",
       "    <tr>\n",
       "      <th>1</th>\n",
       "      <td>2</td>\n",
       "      <td>1</td>\n",
       "      <td>ryanfranco</td>\n",
       "      <td>Foot glass pretty audience hit themselves. Amo...</td>\n",
       "    </tr>\n",
       "    <tr>\n",
       "      <th>2</th>\n",
       "      <td>3</td>\n",
       "      <td>2</td>\n",
       "      <td>lorichen</td>\n",
       "      <td>Listen treat keep worry. Miss husband tax but ...</td>\n",
       "    </tr>\n",
       "    <tr>\n",
       "      <th>3</th>\n",
       "      <td>4</td>\n",
       "      <td>3</td>\n",
       "      <td>johnsonamanda</td>\n",
       "      <td>Finally month interesting blue could nature cu...</td>\n",
       "    </tr>\n",
       "    <tr>\n",
       "      <th>4</th>\n",
       "      <td>5</td>\n",
       "      <td>3</td>\n",
       "      <td>scotttamara</td>\n",
       "      <td>Nation purpose heavy give wait song will. List...</td>\n",
       "    </tr>\n",
       "  </tbody>\n",
       "</table>\n",
       "</div>"
      ],
      "text/plain": [
       "   review_id  book_id       username  \\\n",
       "0          1        1   brandtandrea   \n",
       "1          2        1     ryanfranco   \n",
       "2          3        2       lorichen   \n",
       "3          4        3  johnsonamanda   \n",
       "4          5        3    scotttamara   \n",
       "\n",
       "                                                text  \n",
       "0  Mention society tell send professor analysis. ...  \n",
       "1  Foot glass pretty audience hit themselves. Amo...  \n",
       "2  Listen treat keep worry. Miss husband tax but ...  \n",
       "3  Finally month interesting blue could nature cu...  \n",
       "4  Nation purpose heavy give wait song will. List...  "
      ]
     },
     "metadata": {},
     "output_type": "display_data"
    },
    {
     "name": "stdout",
     "output_type": "stream",
     "text": [
      "<class 'pandas.core.frame.DataFrame'>\n",
      "RangeIndex: 2793 entries, 0 to 2792\n",
      "Data columns (total 4 columns):\n",
      " #   Column     Non-Null Count  Dtype \n",
      "---  ------     --------------  ----- \n",
      " 0   review_id  2793 non-null   int64 \n",
      " 1   book_id    2793 non-null   int64 \n",
      " 2   username   2793 non-null   object\n",
      " 3   text       2793 non-null   object\n",
      "dtypes: int64(2), object(2)\n",
      "memory usage: 87.4+ KB\n"
     ]
    },
    {
     "data": {
      "text/plain": [
       "None"
      ]
     },
     "metadata": {},
     "output_type": "display_data"
    },
    {
     "data": {
      "text/plain": [
       "review_id    0\n",
       "book_id      0\n",
       "username     0\n",
       "text         0\n",
       "dtype: int64"
      ]
     },
     "metadata": {},
     "output_type": "display_data"
    },
    {
     "name": "stdout",
     "output_type": "stream",
     "text": [
      "Количество дубликатов равно 0\n"
     ]
    }
   ],
   "source": [
    "#создаем список таблиц\n",
    "df_list = ['books', 'authors', 'publishers', 'ratings', 'reviews']\n",
    "\n",
    "#Через цикл выводим их содержимое\n",
    "for i in df_list:\n",
    "    show = '''SELECT * FROM {} '''.format(i)\n",
    "    display(use_request(show).head())\n",
    "    display(use_request(show).info())\n",
    "    display(use_request(show).isnull().sum())\n",
    "    print(f'Количество дубликатов равно {use_request(show).duplicated().sum()}')"
   ]
  },
  {
   "cell_type": "markdown",
   "id": "e0fa7e1c",
   "metadata": {},
   "source": [
    "В целом данные хорошие, пропусков нет как и дублей тоже,формат данных подходящий, придраться можно лишь к формату даты в books.publication_date  сейчас там `object`.\n",
    "В нашем распоряжении данные о:\n",
    "\n",
    "* 1000 книг\n",
    "* 636 авторах \n",
    "* 2793 обзоров\n",
    "* 340 издательств\n",
    "* 6456 оценок \n",
    "* 2793  обзоров"
   ]
  },
  {
   "cell_type": "markdown",
   "id": "b9be4729",
   "metadata": {},
   "source": [
    "## Решение задач"
   ]
  },
  {
   "cell_type": "markdown",
   "id": "d76418d1",
   "metadata": {},
   "source": [
    "### Посчитайте, сколько книг вышло после 1 января 2000 года;"
   ]
  },
  {
   "cell_type": "code",
   "execution_count": 4,
   "id": "5f16f86f",
   "metadata": {
    "scrolled": true
   },
   "outputs": [
    {
     "data": {
      "text/html": [
       "<div>\n",
       "<style scoped>\n",
       "    .dataframe tbody tr th:only-of-type {\n",
       "        vertical-align: middle;\n",
       "    }\n",
       "\n",
       "    .dataframe tbody tr th {\n",
       "        vertical-align: top;\n",
       "    }\n",
       "\n",
       "    .dataframe thead th {\n",
       "        text-align: right;\n",
       "    }\n",
       "</style>\n",
       "<table border=\"1\" class=\"dataframe\">\n",
       "  <thead>\n",
       "    <tr style=\"text-align: right;\">\n",
       "      <th></th>\n",
       "      <th>count</th>\n",
       "    </tr>\n",
       "  </thead>\n",
       "  <tbody>\n",
       "    <tr>\n",
       "      <th>0</th>\n",
       "      <td>819</td>\n",
       "    </tr>\n",
       "  </tbody>\n",
       "</table>\n",
       "</div>"
      ],
      "text/plain": [
       "   count\n",
       "0    819"
      ]
     },
     "execution_count": 4,
     "metadata": {},
     "output_type": "execute_result"
    }
   ],
   "source": [
    "#пишем запрос\n",
    "book_cout = ''' SELECT COUNT(DISTINCT book_id)\n",
    "                FROM books \n",
    "                WHERE publication_date::date >= '2000-01-02';\n",
    "            '''\n",
    "use_request(book_cout)"
   ]
  },
  {
   "cell_type": "markdown",
   "id": "2e30ffd8",
   "metadata": {},
   "source": [
    "Всего книг вышедших после 1 явнаря 2000 года 819 штук. Если идти от обратного, то 181 книга вышло до"
   ]
  },
  {
   "cell_type": "markdown",
   "id": "47c988ff",
   "metadata": {},
   "source": [
    "### Для каждой книги посчитайте количество обзоров и среднюю оценку;"
   ]
  },
  {
   "cell_type": "code",
   "execution_count": 5,
   "id": "2c5d89b4",
   "metadata": {},
   "outputs": [
    {
     "data": {
      "text/html": [
       "<div>\n",
       "<style scoped>\n",
       "    .dataframe tbody tr th:only-of-type {\n",
       "        vertical-align: middle;\n",
       "    }\n",
       "\n",
       "    .dataframe tbody tr th {\n",
       "        vertical-align: top;\n",
       "    }\n",
       "\n",
       "    .dataframe thead th {\n",
       "        text-align: right;\n",
       "    }\n",
       "</style>\n",
       "<table border=\"1\" class=\"dataframe\">\n",
       "  <thead>\n",
       "    <tr style=\"text-align: right;\">\n",
       "      <th></th>\n",
       "      <th>book_id</th>\n",
       "      <th>title</th>\n",
       "      <th>count_review</th>\n",
       "      <th>avg_rating</th>\n",
       "    </tr>\n",
       "  </thead>\n",
       "  <tbody>\n",
       "    <tr>\n",
       "      <th>0</th>\n",
       "      <td>83</td>\n",
       "      <td>Anne Rice's The Vampire Lestat: A Graphic Novel</td>\n",
       "      <td>0</td>\n",
       "      <td>NaN</td>\n",
       "    </tr>\n",
       "    <tr>\n",
       "      <th>1</th>\n",
       "      <td>191</td>\n",
       "      <td>Disney's Beauty and the Beast (A Little Golden...</td>\n",
       "      <td>0</td>\n",
       "      <td>NaN</td>\n",
       "    </tr>\n",
       "    <tr>\n",
       "      <th>2</th>\n",
       "      <td>221</td>\n",
       "      <td>Essential Tales and Poems</td>\n",
       "      <td>0</td>\n",
       "      <td>NaN</td>\n",
       "    </tr>\n",
       "    <tr>\n",
       "      <th>3</th>\n",
       "      <td>387</td>\n",
       "      <td>Leonardo's Notebooks</td>\n",
       "      <td>0</td>\n",
       "      <td>NaN</td>\n",
       "    </tr>\n",
       "    <tr>\n",
       "      <th>4</th>\n",
       "      <td>672</td>\n",
       "      <td>The Cat in the Hat and Other Dr. Seuss Favorites</td>\n",
       "      <td>0</td>\n",
       "      <td>NaN</td>\n",
       "    </tr>\n",
       "    <tr>\n",
       "      <th>5</th>\n",
       "      <td>808</td>\n",
       "      <td>The Natural Way to Draw</td>\n",
       "      <td>0</td>\n",
       "      <td>NaN</td>\n",
       "    </tr>\n",
       "    <tr>\n",
       "      <th>6</th>\n",
       "      <td>17</td>\n",
       "      <td>A Dirty Job (Grim Reaper  #1)</td>\n",
       "      <td>16</td>\n",
       "      <td>5.0</td>\n",
       "    </tr>\n",
       "    <tr>\n",
       "      <th>7</th>\n",
       "      <td>20</td>\n",
       "      <td>A Fistful of Charms (The Hollows  #4)</td>\n",
       "      <td>4</td>\n",
       "      <td>5.0</td>\n",
       "    </tr>\n",
       "    <tr>\n",
       "      <th>8</th>\n",
       "      <td>55</td>\n",
       "      <td>A Woman of Substance (Emma Harte Saga #1)</td>\n",
       "      <td>4</td>\n",
       "      <td>5.0</td>\n",
       "    </tr>\n",
       "    <tr>\n",
       "      <th>9</th>\n",
       "      <td>57</td>\n",
       "      <td>Act of Treason (Mitch Rapp  #9)</td>\n",
       "      <td>4</td>\n",
       "      <td>5.0</td>\n",
       "    </tr>\n",
       "    <tr>\n",
       "      <th>10</th>\n",
       "      <td>62</td>\n",
       "      <td>Alas  Babylon</td>\n",
       "      <td>4</td>\n",
       "      <td>5.0</td>\n",
       "    </tr>\n",
       "    <tr>\n",
       "      <th>11</th>\n",
       "      <td>76</td>\n",
       "      <td>Angels Fall</td>\n",
       "      <td>4</td>\n",
       "      <td>5.0</td>\n",
       "    </tr>\n",
       "    <tr>\n",
       "      <th>12</th>\n",
       "      <td>86</td>\n",
       "      <td>Arrows of the Queen (Heralds of Valdemar  #1)</td>\n",
       "      <td>4</td>\n",
       "      <td>5.0</td>\n",
       "    </tr>\n",
       "    <tr>\n",
       "      <th>13</th>\n",
       "      <td>136</td>\n",
       "      <td>Captivating: Unveiling the Mystery of a Woman'...</td>\n",
       "      <td>4</td>\n",
       "      <td>5.0</td>\n",
       "    </tr>\n",
       "    <tr>\n",
       "      <th>14</th>\n",
       "      <td>169</td>\n",
       "      <td>Crucial Conversations: Tools for Talking When ...</td>\n",
       "      <td>4</td>\n",
       "      <td>5.0</td>\n",
       "    </tr>\n",
       "  </tbody>\n",
       "</table>\n",
       "</div>"
      ],
      "text/plain": [
       "    book_id                                              title  count_review  \\\n",
       "0        83    Anne Rice's The Vampire Lestat: A Graphic Novel             0   \n",
       "1       191  Disney's Beauty and the Beast (A Little Golden...             0   \n",
       "2       221                          Essential Tales and Poems             0   \n",
       "3       387                               Leonardo's Notebooks             0   \n",
       "4       672   The Cat in the Hat and Other Dr. Seuss Favorites             0   \n",
       "5       808                            The Natural Way to Draw             0   \n",
       "6        17                      A Dirty Job (Grim Reaper  #1)            16   \n",
       "7        20              A Fistful of Charms (The Hollows  #4)             4   \n",
       "8        55          A Woman of Substance (Emma Harte Saga #1)             4   \n",
       "9        57                    Act of Treason (Mitch Rapp  #9)             4   \n",
       "10       62                                      Alas  Babylon             4   \n",
       "11       76                                        Angels Fall             4   \n",
       "12       86      Arrows of the Queen (Heralds of Valdemar  #1)             4   \n",
       "13      136  Captivating: Unveiling the Mystery of a Woman'...             4   \n",
       "14      169  Crucial Conversations: Tools for Talking When ...             4   \n",
       "\n",
       "    avg_rating  \n",
       "0          NaN  \n",
       "1          NaN  \n",
       "2          NaN  \n",
       "3          NaN  \n",
       "4          NaN  \n",
       "5          NaN  \n",
       "6          5.0  \n",
       "7          5.0  \n",
       "8          5.0  \n",
       "9          5.0  \n",
       "10         5.0  \n",
       "11         5.0  \n",
       "12         5.0  \n",
       "13         5.0  \n",
       "14         5.0  "
      ]
     },
     "execution_count": 5,
     "metadata": {},
     "output_type": "execute_result"
    }
   ],
   "source": [
    "#проводим группировку по книге и названию, считая количество обзоров из `reviews`, а подтягивая данные из `ratings` считаем AVG\n",
    "review_cout = ''' SELECT DISTINCT (b.book_id),\n",
    "                         b.title,\n",
    "                         COUNT(rev.review_id) count_review,\n",
    "                         AVG(rat.rating) avg_rating\n",
    "                         \n",
    "                  FROM books b\n",
    "                  LEFT JOIN reviews rev ON b.book_id = rev.book_id\n",
    "                  LEFT JOIN ratings rat ON rev.book_id = rat.book_id\n",
    "                  GROUP BY 1,2\n",
    "                  ORDER BY avg_rating DESC\n",
    "                  LIMIT 15;\n",
    "               '''\n",
    "use_request(review_cout)"
   ]
  },
  {
   "cell_type": "markdown",
   "id": "d57cab28",
   "metadata": {},
   "source": [
    "6 книг не получили оценок и достаточно большое количество со среднийм рейтингом 5. Однако, можеты быть, это одна единсвенная оценка книги). В данном списке я скоре пригляделся к книге с высоким количество обзоров `A Dirty Job (Grim Reaper #1)`"
   ]
  },
  {
   "cell_type": "markdown",
   "id": "35d620ec",
   "metadata": {},
   "source": [
    "### Определите издательство, которое выпустило наибольшее число книг толще 50 страниц — так вы исключите из анализа брошюры;"
   ]
  },
  {
   "cell_type": "code",
   "execution_count": 6,
   "id": "b6b35d92",
   "metadata": {},
   "outputs": [
    {
     "data": {
      "text/html": [
       "<div>\n",
       "<style scoped>\n",
       "    .dataframe tbody tr th:only-of-type {\n",
       "        vertical-align: middle;\n",
       "    }\n",
       "\n",
       "    .dataframe tbody tr th {\n",
       "        vertical-align: top;\n",
       "    }\n",
       "\n",
       "    .dataframe thead th {\n",
       "        text-align: right;\n",
       "    }\n",
       "</style>\n",
       "<table border=\"1\" class=\"dataframe\">\n",
       "  <thead>\n",
       "    <tr style=\"text-align: right;\">\n",
       "      <th></th>\n",
       "      <th>publisher</th>\n",
       "      <th>count</th>\n",
       "    </tr>\n",
       "  </thead>\n",
       "  <tbody>\n",
       "    <tr>\n",
       "      <th>0</th>\n",
       "      <td>Penguin Books</td>\n",
       "      <td>42</td>\n",
       "    </tr>\n",
       "  </tbody>\n",
       "</table>\n",
       "</div>"
      ],
      "text/plain": [
       "       publisher  count\n",
       "0  Penguin Books     42"
      ]
     },
     "execution_count": 6,
     "metadata": {},
     "output_type": "execute_result"
    }
   ],
   "source": [
    "#опять же данные начинаем тянут от книги подтягивая строки из данных об издательствах\n",
    "\n",
    "publisher_cout = ''' SELECT publisher,\n",
    "                         COUNT(DISTINCT b.book_id)\n",
    "                  FROM books b \n",
    "                  LEFT JOIN publishers p ON b.publisher_id  = p.publisher_id \n",
    "                  WHERE num_pages >50\n",
    "                  GROUP BY 1\n",
    "                  ORDER BY 2 DESC\n",
    "                  LIMIT 1;\n",
    "              '''\n",
    "use_request(publisher_cout)"
   ]
  },
  {
   "cell_type": "markdown",
   "id": "9fb54fca",
   "metadata": {},
   "source": [
    "42 книги выпустило издательсво `Penguin Books` и это наибольший результат\t"
   ]
  },
  {
   "cell_type": "markdown",
   "id": "b907786c",
   "metadata": {},
   "source": [
    "### Определите автора с самой высокой средней оценкой книг — учитывайте только книги с 50 и более оценками;"
   ]
  },
  {
   "cell_type": "code",
   "execution_count": 7,
   "id": "ff11ad32",
   "metadata": {},
   "outputs": [
    {
     "data": {
      "text/html": [
       "<div>\n",
       "<style scoped>\n",
       "    .dataframe tbody tr th:only-of-type {\n",
       "        vertical-align: middle;\n",
       "    }\n",
       "\n",
       "    .dataframe tbody tr th {\n",
       "        vertical-align: top;\n",
       "    }\n",
       "\n",
       "    .dataframe thead th {\n",
       "        text-align: right;\n",
       "    }\n",
       "</style>\n",
       "<table border=\"1\" class=\"dataframe\">\n",
       "  <thead>\n",
       "    <tr style=\"text-align: right;\">\n",
       "      <th></th>\n",
       "      <th>author</th>\n",
       "      <th>avg_rait</th>\n",
       "    </tr>\n",
       "  </thead>\n",
       "  <tbody>\n",
       "    <tr>\n",
       "      <th>0</th>\n",
       "      <td>J.K. Rowling/Mary GrandPré</td>\n",
       "      <td>4.283844</td>\n",
       "    </tr>\n",
       "  </tbody>\n",
       "</table>\n",
       "</div>"
      ],
      "text/plain": [
       "                       author  avg_rait\n",
       "0  J.K. Rowling/Mary GrandPré  4.283844"
      ]
     },
     "execution_count": 7,
     "metadata": {},
     "output_type": "execute_result"
    }
   ],
   "source": [
    "#В rating определяем книги, которые получили 50 и более оценока\n",
    "#В profiles подтигиваем назвавние авторов, подсчитываем количество книг и суммарный бал\n",
    "# В основной вывод определяем имя автора и произведенеие суммарного бала, на количество оценок\n",
    "\n",
    "max_rating  = ''' WITH \n",
    "                  rating AS ( SELECT    book_id,\n",
    "                                        COUNT(rating_id),\n",
    "                                        AVG(rating) avg_rating\n",
    "                              \n",
    "                              FROM ratings\n",
    "                              GROUP BY 1\n",
    "                              HAVING COUNT(rating_id ) >= 50\n",
    "                              ORDER BY  3 DESC\n",
    "                             )\n",
    "                             \n",
    "                  SELECT author,\n",
    "                         sum/count avg_rait\n",
    "                  \n",
    "                  FROM ( SELECT author,\n",
    "                               COUNT(r.book_id),\n",
    "                               SUM(r.avg_rating)\n",
    "                         \n",
    "                         FROM rating r\n",
    "                         LEFT JOIN books b ON r.book_id = b.book_id\n",
    "                         LEFT JOIN authors a ON b.author_id = a.author_id\n",
    "                         GROUP BY 1\n",
    "                         \n",
    "                       ) AS profiles\n",
    "                       \n",
    "                       \n",
    "                  ORDER BY 2 DESC\n",
    "                  LIMIT 1;\n",
    "              '''\n",
    "use_request(max_rating)"
   ]
  },
  {
   "cell_type": "markdown",
   "id": "8ba20e60",
   "metadata": {},
   "source": [
    "Автор с самой высокой среденей оценкой J.K. Rowling/Mary GrandPré"
   ]
  },
  {
   "cell_type": "markdown",
   "id": "91981e49",
   "metadata": {},
   "source": [
    "### Посчитайте среднее количество обзоров от пользователей, которые поставили больше 48 оценок."
   ]
  },
  {
   "cell_type": "code",
   "execution_count": 8,
   "id": "ce008f65",
   "metadata": {},
   "outputs": [
    {
     "data": {
      "text/html": [
       "<div>\n",
       "<style scoped>\n",
       "    .dataframe tbody tr th:only-of-type {\n",
       "        vertical-align: middle;\n",
       "    }\n",
       "\n",
       "    .dataframe tbody tr th {\n",
       "        vertical-align: top;\n",
       "    }\n",
       "\n",
       "    .dataframe thead th {\n",
       "        text-align: right;\n",
       "    }\n",
       "</style>\n",
       "<table border=\"1\" class=\"dataframe\">\n",
       "  <thead>\n",
       "    <tr style=\"text-align: right;\">\n",
       "      <th></th>\n",
       "      <th>avg_reviews</th>\n",
       "    </tr>\n",
       "  </thead>\n",
       "  <tbody>\n",
       "    <tr>\n",
       "      <th>0</th>\n",
       "      <td>24.0</td>\n",
       "    </tr>\n",
       "  </tbody>\n",
       "</table>\n",
       "</div>"
      ],
      "text/plain": [
       "   avg_reviews\n",
       "0         24.0"
      ]
     },
     "execution_count": 8,
     "metadata": {},
     "output_type": "execute_result"
    }
   ],
   "source": [
    "#сперва вычисляем пользователей которые поавтили более 48 оценок\n",
    "#затем считаем количество пользователей им сумм обзоров\n",
    "\n",
    "count_review  = ''' \n",
    "                                     \n",
    "                WITH\n",
    "                super_profiles AS (SELECT profiles.username,\n",
    "                                          COUNT(review_id) count_review\n",
    "                  \n",
    "                                    FROM (SELECT username,\n",
    "                                          COUNT(rating_id ) count_rating\n",
    "                                   \n",
    "                                          FROM ratings \n",
    "                                          GROUP BY 1\n",
    "                                          HAVING COUNT(rating_id)>48)  as profiles\n",
    "                  \n",
    "                                          LEFT JOIN reviews rev ON profiles.username = rev.username\n",
    "                                          GROUP BY 1\n",
    "                                    ) \n",
    "                \n",
    "                  SELECT SUM(count_review)/COUNT(username) avg_reviews \n",
    "                  FROM super_profiles;\n",
    "                \n",
    "              '''\n",
    "use_request(count_review)"
   ]
  },
  {
   "cell_type": "markdown",
   "id": "cdb6f492",
   "metadata": {},
   "source": [
    "Среднее количество обзоров от пользователей, поставивших более 48 оценок, ровняется  24 шт"
   ]
  },
  {
   "cell_type": "markdown",
   "id": "712cd4fc",
   "metadata": {},
   "source": [
    "## Общие выводы\n",
    " * Всего книг вышедших после 1 явнаря 2000 года 819 штук. Если идти от обратного, то 181 книга вышло до\n",
    " \n",
    " \n",
    " * 6 книг не получили оценок и достаточно большое количество со среднийм рейтингом 5. Однако, можеты быть, это одна единственная оценка книги). В данном списке я скоре пригляделся к книге с высоким количество обзоров `A Dirty Job (Grim Reaper #1)`\n",
    " \n",
    " \n",
    " * 42 книги выпустило издательсво `Penguin Books` и это наибольший результат\t\n",
    " \n",
    " \n",
    " * Автор с самой высокой среденей оценкой J.K. Rowling/Mary GrandPré\n",
    " \n",
    " \n",
    " * Среднее количество обзоров от пользователей, поставивших более 48 оценок, ровняется  24 шт"
   ]
  }
 ],
 "metadata": {
  "ExecuteTimeLog": [
   {
    "duration": 14107,
    "start_time": "2023-05-02T12:08:40.050Z"
   },
   {
    "duration": 3,
    "start_time": "2023-05-02T12:08:54.159Z"
   },
   {
    "duration": 450,
    "start_time": "2023-05-02T12:08:54.164Z"
   },
   {
    "duration": 13,
    "start_time": "2023-05-02T12:08:54.627Z"
   },
   {
    "duration": 36,
    "start_time": "2023-05-02T12:08:54.643Z"
   },
   {
    "duration": 17,
    "start_time": "2023-05-02T12:08:54.681Z"
   },
   {
    "duration": 39,
    "start_time": "2023-05-02T12:08:54.700Z"
   },
   {
    "duration": 14,
    "start_time": "2023-05-02T12:08:54.741Z"
   },
   {
    "duration": 78,
    "start_time": "2023-05-02T12:17:15.960Z"
   },
   {
    "duration": 6924,
    "start_time": "2023-05-02T12:17:27.529Z"
   },
   {
    "duration": 3,
    "start_time": "2023-05-02T12:17:34.456Z"
   },
   {
    "duration": 500,
    "start_time": "2023-05-02T12:17:34.461Z"
   },
   {
    "duration": 19,
    "start_time": "2023-05-02T12:17:41.050Z"
   },
   {
    "duration": 29,
    "start_time": "2023-05-02T12:18:03.084Z"
   },
   {
    "duration": 81,
    "start_time": "2023-05-02T12:18:25.324Z"
   },
   {
    "duration": 16,
    "start_time": "2023-05-02T12:18:30.837Z"
   },
   {
    "duration": 25,
    "start_time": "2023-05-02T12:18:54.014Z"
   },
   {
    "duration": 14,
    "start_time": "2023-05-02T12:19:01.937Z"
   },
   {
    "duration": 22,
    "start_time": "2023-05-02T12:20:31.785Z"
   },
   {
    "duration": 14,
    "start_time": "2023-05-02T12:20:58.729Z"
   },
   {
    "duration": 21,
    "start_time": "2023-05-02T12:24:11.016Z"
   },
   {
    "duration": 21,
    "start_time": "2023-05-02T12:24:22.514Z"
   },
   {
    "duration": 15,
    "start_time": "2023-05-02T12:24:34.322Z"
   },
   {
    "duration": 23,
    "start_time": "2023-05-02T12:24:56.025Z"
   },
   {
    "duration": 31,
    "start_time": "2023-05-02T12:25:00.985Z"
   },
   {
    "duration": 22,
    "start_time": "2023-05-02T12:25:09.650Z"
   },
   {
    "duration": 36,
    "start_time": "2023-05-02T12:25:16.182Z"
   },
   {
    "duration": 18,
    "start_time": "2023-05-02T12:26:17.580Z"
   },
   {
    "duration": 14,
    "start_time": "2023-05-02T12:27:46.729Z"
   },
   {
    "duration": 13,
    "start_time": "2023-05-02T12:28:10.576Z"
   },
   {
    "duration": 15,
    "start_time": "2023-05-02T12:29:09.914Z"
   },
   {
    "duration": 17,
    "start_time": "2023-05-02T12:32:24.918Z"
   },
   {
    "duration": 12,
    "start_time": "2023-05-02T12:33:43.193Z"
   },
   {
    "duration": 12,
    "start_time": "2023-05-02T12:34:33.867Z"
   },
   {
    "duration": 35,
    "start_time": "2023-05-02T12:35:26.990Z"
   },
   {
    "duration": 13,
    "start_time": "2023-05-02T12:35:31.521Z"
   },
   {
    "duration": 14,
    "start_time": "2023-05-02T12:36:01.537Z"
   },
   {
    "duration": 17,
    "start_time": "2023-05-02T12:37:04.254Z"
   },
   {
    "duration": 22,
    "start_time": "2023-05-02T12:37:38.028Z"
   },
   {
    "duration": 13,
    "start_time": "2023-05-02T12:37:58.520Z"
   },
   {
    "duration": 21,
    "start_time": "2023-05-02T12:38:12.646Z"
   },
   {
    "duration": 18,
    "start_time": "2023-05-02T12:39:36.322Z"
   },
   {
    "duration": 23,
    "start_time": "2023-05-02T12:41:48.225Z"
   },
   {
    "duration": 22,
    "start_time": "2023-05-02T12:42:00.712Z"
   },
   {
    "duration": 29,
    "start_time": "2023-05-02T12:42:08.733Z"
   },
   {
    "duration": 13,
    "start_time": "2023-05-02T12:42:20.142Z"
   },
   {
    "duration": 21,
    "start_time": "2023-05-02T12:42:27.725Z"
   },
   {
    "duration": 31,
    "start_time": "2023-05-02T12:42:35.924Z"
   },
   {
    "duration": 15,
    "start_time": "2023-05-02T12:42:49.219Z"
   },
   {
    "duration": 22,
    "start_time": "2023-05-02T12:43:41.724Z"
   },
   {
    "duration": 23,
    "start_time": "2023-05-02T12:44:18.588Z"
   },
   {
    "duration": 16,
    "start_time": "2023-05-02T12:44:26.645Z"
   },
   {
    "duration": 13,
    "start_time": "2023-05-02T12:45:34.910Z"
   },
   {
    "duration": 14,
    "start_time": "2023-05-02T12:45:47.781Z"
   },
   {
    "duration": 15,
    "start_time": "2023-05-02T12:46:05.784Z"
   },
   {
    "duration": 12,
    "start_time": "2023-05-02T12:46:09.988Z"
   },
   {
    "duration": 13,
    "start_time": "2023-05-02T12:46:47.139Z"
   },
   {
    "duration": 5733,
    "start_time": "2023-05-02T12:50:32.868Z"
   },
   {
    "duration": 3,
    "start_time": "2023-05-02T12:50:38.605Z"
   },
   {
    "duration": 317,
    "start_time": "2023-05-02T12:50:38.610Z"
   },
   {
    "duration": 9,
    "start_time": "2023-05-02T12:50:38.930Z"
   },
   {
    "duration": 40,
    "start_time": "2023-05-02T12:50:38.941Z"
   },
   {
    "duration": 12,
    "start_time": "2023-05-02T12:50:38.982Z"
   },
   {
    "duration": 13,
    "start_time": "2023-05-02T12:50:38.996Z"
   },
   {
    "duration": 21,
    "start_time": "2023-05-02T12:50:39.010Z"
   },
   {
    "duration": 5536,
    "start_time": "2023-05-02T12:50:59.212Z"
   },
   {
    "duration": 3,
    "start_time": "2023-05-02T12:51:04.751Z"
   },
   {
    "duration": 318,
    "start_time": "2023-05-02T12:51:04.757Z"
   },
   {
    "duration": 17,
    "start_time": "2023-05-02T12:51:05.076Z"
   },
   {
    "duration": 21,
    "start_time": "2023-05-02T12:51:05.094Z"
   },
   {
    "duration": 10,
    "start_time": "2023-05-02T12:51:05.117Z"
   },
   {
    "duration": 23,
    "start_time": "2023-05-02T12:51:05.129Z"
   },
   {
    "duration": 14,
    "start_time": "2023-05-02T12:51:05.154Z"
   },
   {
    "duration": 5225,
    "start_time": "2023-05-02T12:51:51.175Z"
   },
   {
    "duration": 3,
    "start_time": "2023-05-02T12:51:56.402Z"
   },
   {
    "duration": 313,
    "start_time": "2023-05-02T12:51:56.406Z"
   },
   {
    "duration": 8,
    "start_time": "2023-05-02T12:51:56.722Z"
   },
   {
    "duration": 21,
    "start_time": "2023-05-02T12:51:56.731Z"
   },
   {
    "duration": 9,
    "start_time": "2023-05-02T12:51:56.754Z"
   },
   {
    "duration": 12,
    "start_time": "2023-05-02T12:51:56.765Z"
   },
   {
    "duration": 21,
    "start_time": "2023-05-02T12:51:56.779Z"
   }
  ],
  "kernelspec": {
   "display_name": "Python 3 (ipykernel)",
   "language": "python",
   "name": "python3"
  },
  "language_info": {
   "codemirror_mode": {
    "name": "ipython",
    "version": 3
   },
   "file_extension": ".py",
   "mimetype": "text/x-python",
   "name": "python",
   "nbconvert_exporter": "python",
   "pygments_lexer": "ipython3",
   "version": "3.9.5"
  },
  "toc": {
   "base_numbering": 1,
   "nav_menu": {},
   "number_sections": true,
   "sideBar": true,
   "skip_h1_title": true,
   "title_cell": "Финальны проект SQL",
   "title_sidebar": "Contents",
   "toc_cell": true,
   "toc_position": {
    "height": "calc(100% - 180px)",
    "left": "10px",
    "top": "150px",
    "width": "165px"
   },
   "toc_section_display": true,
   "toc_window_display": true
  }
 },
 "nbformat": 4,
 "nbformat_minor": 5
}
