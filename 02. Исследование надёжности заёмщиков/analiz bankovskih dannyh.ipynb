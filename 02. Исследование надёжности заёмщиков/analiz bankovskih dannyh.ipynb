{
 "cells": [
  {
   "cell_type": "markdown",
   "id": "2b9ef0d1",
   "metadata": {
    "deletable": false,
    "editable": false,
    "id": "c81daeeb"
   },
   "source": [
    "# Исследование надежности заемщиков\n"
   ]
  },
  {
   "cell_type": "markdown",
   "id": "4a6fded6",
   "metadata": {
    "deletable": false,
    "editable": false,
    "id": "827c20bf"
   },
   "source": [
    "Во второй части проекта вы выполните шаги 3 и 4. Их вручную проверит ревьюер.\n",
    "Чтобы вам не пришлось писать код заново для шагов 1 и 2, мы добавили авторские решения в ячейки с кодом. \n",
    "\n"
   ]
  },
  {
   "cell_type": "markdown",
   "id": "2f76bb08",
   "metadata": {
    "deletable": false,
    "editable": false,
    "id": "744d7639"
   },
   "source": [
    "## Откройте таблицу и изучите общую информацию о данных"
   ]
  },
  {
   "cell_type": "markdown",
   "id": "0a67fb81",
   "metadata": {
    "deletable": false,
    "editable": false,
    "id": "e7a14c31"
   },
   "source": [
    "**Задание 1. Импортируйте библиотеку pandas. Считайте данные из csv-файла в датафрейм и сохраните в переменную `data`. Путь к файлу:**\n",
    "\n",
    "`/datasets/data.csv`"
   ]
  },
  {
   "cell_type": "code",
   "execution_count": null,
   "id": "ea02e5e2",
   "metadata": {
    "deletable": false,
    "id": "7bcf75c9"
   },
   "outputs": [],
   "source": [
    "import pandas as pd\n",
    "\n",
    "try:\n",
    "    data = pd.read_csv('/datasets/data.csv')\n",
    "except:\n",
    "    data = pd.read_csv('https://code.s3.yandex.net/datasets/data.csv')"
   ]
  },
  {
   "cell_type": "markdown",
   "id": "5bb599d3",
   "metadata": {
    "deletable": false,
    "editable": false,
    "id": "b8038fe3"
   },
   "source": [
    "**Задание 2. Выведите первые 20 строчек датафрейма `data` на экран.**"
   ]
  },
  {
   "cell_type": "code",
   "execution_count": null,
   "id": "678e06b7",
   "metadata": {
    "deletable": false,
    "id": "2a7cab99",
    "outputId": "1a8f3ef2-d323-4ec2-ddf7-89670b5944c4"
   },
   "outputs": [],
   "source": [
    "data.head(20)"
   ]
  },
  {
   "cell_type": "markdown",
   "id": "3666bd22",
   "metadata": {
    "deletable": false,
    "editable": false,
    "id": "1c12e233"
   },
   "source": [
    "**Задание 3. Выведите основную информацию о датафрейме с помощью метода `info()`.**"
   ]
  },
  {
   "cell_type": "code",
   "execution_count": null,
   "id": "6bb80879",
   "metadata": {
    "deletable": false,
    "id": "2b757bca",
    "outputId": "15376089-8dad-46c9-b520-c05248d43158"
   },
   "outputs": [],
   "source": [
    "data.info()"
   ]
  },
  {
   "cell_type": "markdown",
   "id": "6eb7d945",
   "metadata": {
    "deletable": false,
    "editable": false,
    "id": "333ec665"
   },
   "source": [
    "## Предобработка данных"
   ]
  },
  {
   "cell_type": "markdown",
   "id": "aa7880e6",
   "metadata": {
    "deletable": false,
    "editable": false,
    "id": "02d92d53"
   },
   "source": [
    "### Удаление пропусков"
   ]
  },
  {
   "cell_type": "markdown",
   "id": "29461475",
   "metadata": {
    "deletable": false,
    "editable": false,
    "id": "cd84967c"
   },
   "source": [
    "**Задание 4. Выведите количество пропущенных значений для каждого столбца. Используйте комбинацию двух методов.**"
   ]
  },
  {
   "cell_type": "code",
   "execution_count": null,
   "id": "8b5bff2e",
   "metadata": {
    "deletable": false,
    "id": "7f9b2309",
    "outputId": "81f4d817-781c-465c-ed15-91ce4446810d"
   },
   "outputs": [],
   "source": [
    "data.isna().sum()"
   ]
  },
  {
   "cell_type": "markdown",
   "id": "ffdf9f9f",
   "metadata": {
    "deletable": false,
    "editable": false,
    "id": "db86e27b"
   },
   "source": [
    "**Задание 5. В двух столбцах есть пропущенные значения. Один из них — `days_employed`. Пропуски в этом столбце вы обработаете на следующем этапе. Другой столбец с пропущенными значениями — `total_income` — хранит данные о доходах. На сумму дохода сильнее всего влияет тип занятости, поэтому заполнить пропуски в этом столбце нужно медианным значением по каждому типу из столбца `income_type`. Например, у человека с типом занятости `сотрудник` пропуск в столбце `total_income` должен быть заполнен медианным доходом среди всех записей с тем же типом.**"
   ]
  },
  {
   "cell_type": "code",
   "execution_count": null,
   "id": "c9febc16",
   "metadata": {
    "deletable": false,
    "id": "42006a93"
   },
   "outputs": [],
   "source": [
    "for t in data['income_type'].unique():\n",
    "    data.loc[(data['income_type'] == t) & (data['total_income'].isna()), 'total_income'] = \\\n",
    "    data.loc[(data['income_type'] == t), 'total_income'].median()"
   ]
  },
  {
   "cell_type": "markdown",
   "id": "bf70d160",
   "metadata": {
    "deletable": false,
    "editable": false,
    "id": "89da5ece"
   },
   "source": [
    "### Обработка аномальных значений"
   ]
  },
  {
   "cell_type": "markdown",
   "id": "e25db738",
   "metadata": {
    "deletable": false,
    "editable": false,
    "id": "57964554"
   },
   "source": [
    "**Задание 6. В данных могут встречаться артефакты (аномалии) — значения, которые не отражают действительность и появились по какой-то ошибке. таким артефактом будет отрицательное количество дней трудового стажа в столбце `days_employed`. Для реальных данных это нормально. Обработайте значения в этом столбце: замените все отрицательные значения положительными с помощью метода `abs()`.**"
   ]
  },
  {
   "cell_type": "code",
   "execution_count": null,
   "id": "dedd1c9f",
   "metadata": {
    "deletable": false,
    "id": "f6f055bf"
   },
   "outputs": [],
   "source": [
    "data['days_employed'] = data['days_employed'].abs()"
   ]
  },
  {
   "cell_type": "markdown",
   "id": "9ce1289d",
   "metadata": {
    "deletable": false,
    "editable": false,
    "id": "6107dd2f"
   },
   "source": [
    "**Задание 7. Для каждого типа занятости выведите медианное значение трудового стажа `days_employed` в днях.**"
   ]
  },
  {
   "cell_type": "code",
   "execution_count": null,
   "id": "c50f9738",
   "metadata": {
    "deletable": false,
    "id": "85a5faf6",
    "outputId": "801ef80e-522b-4668-f34e-565af7432bcf"
   },
   "outputs": [],
   "source": [
    "data.groupby('income_type')['days_employed'].agg('median')"
   ]
  },
  {
   "cell_type": "markdown",
   "id": "713f6bee",
   "metadata": {
    "deletable": false,
    "editable": false,
    "id": "38d1a030"
   },
   "source": [
    "У двух типов (безработные и пенсионеры) получатся аномально большие значения. Исправить такие значения сложно, поэтому оставьте их как есть. Тем более этот столбец не понадобится вам для исследования."
   ]
  },
  {
   "cell_type": "markdown",
   "id": "47769b01",
   "metadata": {
    "deletable": false,
    "editable": false,
    "id": "d8a9f147"
   },
   "source": [
    "**Задание 8. Выведите перечень уникальных значений столбца `children`.**"
   ]
  },
  {
   "cell_type": "code",
   "execution_count": null,
   "id": "e0427c7d",
   "metadata": {
    "deletable": false,
    "id": "ef5056eb",
    "outputId": "6975b15c-7f95-4697-d16d-a0c79b657b03"
   },
   "outputs": [],
   "source": [
    "data['children'].unique()"
   ]
  },
  {
   "cell_type": "markdown",
   "id": "e19d3ef3",
   "metadata": {
    "deletable": false,
    "editable": false,
    "id": "40b9ebf2"
   },
   "source": [
    "**Задание 9. В столбце `children` есть два аномальных значения. Удалите строки, в которых встречаются такие аномальные значения из датафрейма `data`.**"
   ]
  },
  {
   "cell_type": "code",
   "execution_count": null,
   "id": "1b446d7e",
   "metadata": {
    "deletable": false,
    "id": "3ff9801d"
   },
   "outputs": [],
   "source": [
    "data = data[(data['children'] != -1) & (data['children'] != 20)]"
   ]
  },
  {
   "cell_type": "markdown",
   "id": "8437e075",
   "metadata": {
    "deletable": false,
    "editable": false,
    "id": "bbc4d0ce"
   },
   "source": [
    "**Задание 10. Ещё раз выведите перечень уникальных значений столбца `children`, чтобы убедиться, что артефакты удалены.**"
   ]
  },
  {
   "cell_type": "code",
   "execution_count": null,
   "id": "b0cca991",
   "metadata": {
    "deletable": false,
    "id": "ad4fa8b7",
    "outputId": "b2097101-d49d-44d9-901b-32a65c9463d1"
   },
   "outputs": [],
   "source": [
    "data['children'].unique()"
   ]
  },
  {
   "cell_type": "markdown",
   "id": "1103fb8e",
   "metadata": {
    "deletable": false,
    "editable": false,
    "id": "75440b63"
   },
   "source": [
    "### Удаление пропусков (продолжение)"
   ]
  },
  {
   "cell_type": "markdown",
   "id": "db707c1b",
   "metadata": {
    "deletable": false,
    "editable": false,
    "id": "f4ea573f"
   },
   "source": [
    "**Задание 11. Заполните пропуски в столбце `days_employed` медианными значениями по каждого типа занятости `income_type`.**"
   ]
  },
  {
   "cell_type": "code",
   "execution_count": null,
   "id": "7ed608d4",
   "metadata": {
    "deletable": false,
    "id": "af6b1a7e"
   },
   "outputs": [],
   "source": [
    "for t in data['income_type'].unique():\n",
    "    data.loc[(data['income_type'] == t) & (data['days_employed'].isna()), 'days_employed'] = \\\n",
    "    data.loc[(data['income_type'] == t), 'days_employed'].median()"
   ]
  },
  {
   "cell_type": "markdown",
   "id": "b3c4a1eb",
   "metadata": {
    "deletable": false,
    "editable": false,
    "id": "2753f40d"
   },
   "source": [
    "**Задание 12. Убедитесь, что все пропуски заполнены. Проверьте себя и ещё раз выведите количество пропущенных значений для каждого столбца с помощью двух методов.**"
   ]
  },
  {
   "cell_type": "code",
   "execution_count": null,
   "id": "644b8ce3",
   "metadata": {
    "deletable": false,
    "id": "55f78bc2",
    "outputId": "8da1e4e1-358e-4e87-98c9-f261bce0a7b2"
   },
   "outputs": [],
   "source": [
    "data.isna().sum()"
   ]
  },
  {
   "cell_type": "markdown",
   "id": "80d181e1",
   "metadata": {
    "deletable": false,
    "editable": false,
    "id": "ddc81e43"
   },
   "source": [
    "### Изменение типов данных"
   ]
  },
  {
   "cell_type": "markdown",
   "id": "4305641c",
   "metadata": {
    "deletable": false,
    "editable": false,
    "id": "42d19d24"
   },
   "source": [
    "**Задание 13. Замените вещественный тип данных в столбце `total_income` на целочисленный с помощью метода `astype()`.**"
   ]
  },
  {
   "cell_type": "code",
   "execution_count": null,
   "id": "e6cf0f16",
   "metadata": {
    "deletable": false,
    "id": "920b65ad"
   },
   "outputs": [],
   "source": [
    "data['total_income'] = data['total_income'].astype(int)"
   ]
  },
  {
   "cell_type": "markdown",
   "id": "4c68a750",
   "metadata": {
    "deletable": false,
    "editable": false,
    "id": "80c420ba"
   },
   "source": [
    "### Обработка дубликатов"
   ]
  },
  {
   "cell_type": "markdown",
   "id": "7821d502",
   "metadata": {
    "deletable": false,
    "editable": false
   },
   "source": [
    "**Задание 14. Обработайте неявные дубликаты в столбце `education`. В этом столбце есть одни и те же значения, но записанные по-разному: с использованием заглавных и строчных букв. Приведите их к нижнему регистру. Проверьте остальные столбцы.**"
   ]
  },
  {
   "cell_type": "code",
   "execution_count": null,
   "id": "7def491b",
   "metadata": {
    "deletable": false
   },
   "outputs": [],
   "source": [
    "data['education'] = data['education'].str.lower()"
   ]
  },
  {
   "cell_type": "markdown",
   "id": "259c8db9",
   "metadata": {
    "deletable": false,
    "editable": false,
    "id": "dc587695"
   },
   "source": [
    "**Задание 15. Выведите на экран количество строк-дубликатов в данных. Если такие строки присутствуют, удалите их.**"
   ]
  },
  {
   "cell_type": "code",
   "execution_count": null,
   "id": "64a59a71",
   "metadata": {
    "deletable": false,
    "id": "3ee445e4",
    "outputId": "9684deba-1934-42d1-99e1-cda61740f822"
   },
   "outputs": [],
   "source": [
    "data.duplicated().sum()"
   ]
  },
  {
   "cell_type": "code",
   "execution_count": null,
   "id": "6f34949a",
   "metadata": {
    "deletable": false,
    "id": "8575fe05"
   },
   "outputs": [],
   "source": [
    "data = data.drop_duplicates()"
   ]
  },
  {
   "cell_type": "markdown",
   "id": "eb26bd49",
   "metadata": {
    "deletable": false,
    "editable": false,
    "id": "9904cf55"
   },
   "source": [
    "### Категоризация данных"
   ]
  },
  {
   "cell_type": "markdown",
   "id": "dd6549ba",
   "metadata": {
    "deletable": false,
    "editable": false,
    "id": "72fcc8a2"
   },
   "source": [
    "**Задание 16. На основании диапазонов, указанных ниже, создайте в датафрейме `data` столбец `total_income_category` с категориями:**\n",
    "\n",
    "- 0–30000 — `'E'`;\n",
    "- 30001–50000 — `'D'`;\n",
    "- 50001–200000 — `'C'`;\n",
    "- 200001–1000000 — `'B'`;\n",
    "- 1000001 и выше — `'A'`.\n",
    "\n",
    "\n",
    "**Например, кредитополучателю с доходом 25000 нужно назначить категорию `'E'`, а клиенту, получающему 235000, — `'B'`. Используйте собственную функцию с именем `categorize_income()` и метод `apply()`.**"
   ]
  },
  {
   "cell_type": "code",
   "execution_count": null,
   "id": "608b8e7d",
   "metadata": {
    "deletable": false,
    "id": "e1771346"
   },
   "outputs": [],
   "source": [
    "def categorize_income(income):\n",
    "    try:\n",
    "        if 0 <= income <= 30000:\n",
    "            return 'E'\n",
    "        elif 30001 <= income <= 50000:\n",
    "            return 'D'\n",
    "        elif 50001 <= income <= 200000:\n",
    "            return 'C'\n",
    "        elif 200001 <= income <= 1000000:\n",
    "            return 'B'\n",
    "        elif income >= 1000001:\n",
    "            return 'A'\n",
    "    except:\n",
    "        pass"
   ]
  },
  {
   "cell_type": "code",
   "execution_count": null,
   "id": "8ae73a54",
   "metadata": {
    "deletable": false,
    "id": "d5f3586d"
   },
   "outputs": [],
   "source": [
    "data['total_income_category'] = data['total_income'].apply(categorize_income)"
   ]
  },
  {
   "cell_type": "markdown",
   "id": "989e81cc",
   "metadata": {
    "deletable": false,
    "editable": false,
    "id": "dde49b5c"
   },
   "source": [
    "**Задание 17. Выведите на экран перечень уникальных целей взятия кредита из столбца `purpose`.**"
   ]
  },
  {
   "cell_type": "code",
   "execution_count": null,
   "id": "3f45495c",
   "metadata": {
    "deletable": false,
    "id": "f67ce9b3",
    "outputId": "673c12d9-7d7e-4ae0-9812-c622c89dd244"
   },
   "outputs": [],
   "source": [
    "data['purpose'].unique()"
   ]
  },
  {
   "cell_type": "markdown",
   "id": "f24b95ad",
   "metadata": {
    "deletable": false,
    "editable": false,
    "id": "85d0aef0"
   },
   "source": [
    "**Задание 18. Создайте функцию, которая на основании данных из столбца `purpose` сформирует новый столбец `purpose_category`, в который войдут следующие категории:**\n",
    "\n",
    "- `'операции с автомобилем'`,\n",
    "- `'операции с недвижимостью'`,\n",
    "- `'проведение свадьбы'`,\n",
    "- `'получение образования'`.\n",
    "\n",
    "**Например, если в столбце `purpose` находится подстрока `'на покупку автомобиля'`, то в столбце `purpose_category` должна появиться строка `'операции с автомобилем'`.**\n",
    "\n",
    "**Используйте собственную функцию с именем `categorize_purpose()` и метод `apply()`. Изучите данные в столбце `purpose` и определите, какие подстроки помогут вам правильно определить категорию.**"
   ]
  },
  {
   "cell_type": "code",
   "execution_count": null,
   "id": "b6005f4e",
   "metadata": {
    "deletable": false,
    "id": "e149fab4"
   },
   "outputs": [],
   "source": [
    "def categorize_purpose(row):\n",
    "    try:\n",
    "        if 'автом' in row:\n",
    "            return 'операции с автомобилем'\n",
    "        elif 'жил' in row or 'недвиж' in row:\n",
    "            return 'операции с недвижимостью'\n",
    "        elif 'свад' in row:\n",
    "            return 'проведение свадьбы'\n",
    "        elif 'образов' in row:\n",
    "            return 'получение образования'\n",
    "    except:\n",
    "        return 'нет категории'"
   ]
  },
  {
   "cell_type": "code",
   "execution_count": null,
   "id": "21650fe4",
   "metadata": {
    "deletable": false,
    "id": "bf36e69b"
   },
   "outputs": [],
   "source": [
    "data['purpose_category'] = data['purpose'].apply(categorize_purpose)"
   ]
  },
  {
   "cell_type": "markdown",
   "id": "89b4bae5",
   "metadata": {
    "deletable": false,
    "editable": false,
    "id": "09b242bf"
   },
   "source": [
    "### Шаг 3. Исследуйте данные и ответьте на вопросы"
   ]
  },
  {
   "cell_type": "markdown",
   "id": "58583a3f",
   "metadata": {
    "deletable": false,
    "editable": false,
    "id": "c5d66278"
   },
   "source": [
    "#### 3.1 Есть ли зависимость между количеством детей и возвратом кредита в срок?"
   ]
  },
  {
   "cell_type": "markdown",
   "id": "44feb2b6",
   "metadata": {
    "deletable": false,
    "id": "2cacfc4a"
   },
   "source": [
    "Если прямо сильно придерживаться требование в 1 строку, то получим некрасивые проценты"
   ]
  },
  {
   "cell_type": "code",
   "execution_count": null,
   "id": "4b14df11",
   "metadata": {},
   "outputs": [],
   "source": [
    "pd.pivot_table(data,index ='children',values='debt', aggfunc=[len,sum,'mean'])"
   ]
  },
  {
   "cell_type": "markdown",
   "id": "eb45d886",
   "metadata": {},
   "source": [
    "Для симпотичного вида нужно использовать переменну"
   ]
  },
  {
   "cell_type": "code",
   "execution_count": null,
   "id": "6e2bdedb",
   "metadata": {},
   "outputs": [],
   "source": [
    "children_pivot = data.pivot_table(index ='children',values='debt', aggfunc=[len,sum,'mean'])\n",
    "children_pivot['mean'] = round(children_pivot['mean']*100,2)\n",
    "children_pivot"
   ]
  },
  {
   "cell_type": "markdown",
   "id": "8401f6aa",
   "metadata": {
    "deletable": false,
    "id": "3a6b99ec"
   },
   "source": [
    "**Вывод:** По полученной таблице видно, что наличие детей плохо сказывается на показатель возврата кредита в срок.\n",
    "У клиентов без детей просрочки возникают в 7.5% случаях, а с детьми в  8.18-9.76%.\n"
   ]
  },
  {
   "cell_type": "markdown",
   "id": "caa3d92d",
   "metadata": {
    "deletable": false,
    "editable": false,
    "id": "97be82ca"
   },
   "source": [
    "#### 3.2 Есть ли зависимость между семейным положением и возвратом кредита в срок?"
   ]
  },
  {
   "cell_type": "code",
   "execution_count": null,
   "id": "12c64d96",
   "metadata": {},
   "outputs": [],
   "source": [
    "family_status_pivot = data.pivot_table(index ='family_status',values='debt', aggfunc=[len,sum,'mean'])\n",
    "family_status_pivot['mean'] = round(family_status_pivot['mean']*100,2)\n",
    "family_status_pivot"
   ]
  },
  {
   "cell_type": "markdown",
   "id": "8dea70cf",
   "metadata": {
    "deletable": false,
    "id": "dc3f7ee8"
   },
   "source": [
    "**Вывод:** Клиенты не обремененные отношениями или состоящие гражданском браке склонны чаще иметь долгки по кредитам, по сравнения с клиентами состоящими или бывшими в узаконненых отношениях."
   ]
  },
  {
   "cell_type": "markdown",
   "id": "8ac9114e",
   "metadata": {
    "deletable": false,
    "editable": false,
    "id": "1e8b2fca"
   },
   "source": [
    "#### 3.3 Есть ли зависимость между уровнем дохода и возвратом кредита в срок?"
   ]
  },
  {
   "cell_type": "code",
   "execution_count": null,
   "id": "b5baa96a",
   "metadata": {
    "deletable": false,
    "id": "cd7e3720"
   },
   "outputs": [],
   "source": [
    "income_category_pivot = data.pivot_table(index ='total_income_category',values='debt', aggfunc=[len,sum,'mean'])\n",
    "income_category_pivot['mean'] = round(income_category_pivot['mean']*100,2)\n",
    "income_category_pivot"
   ]
  },
  {
   "cell_type": "markdown",
   "id": "fa70bbef",
   "metadata": {
    "deletable": false,
    "id": "e8593def"
   },
   "source": [
    "**Вывод:** Т.к. записей в категории А,D,E крайне мало, то полученная статистика получится необъективной. Остается С и B, по данным которых можно увидеть, что чем выше доход, тем процент просрочек ниже.  "
   ]
  },
  {
   "cell_type": "markdown",
   "id": "5e4ee60c",
   "metadata": {
    "deletable": false,
    "editable": false,
    "id": "99ecbd1f"
   },
   "source": [
    "#### 3.4 Как разные цели кредита влияют на его возврат в срок?"
   ]
  },
  {
   "cell_type": "code",
   "execution_count": null,
   "id": "578c1a95",
   "metadata": {},
   "outputs": [],
   "source": [
    "purpose_pivot = data.pivot_table(index ='purpose_category',values='debt', aggfunc=[len,sum,'mean'])\n",
    "purpose_pivot['mean'] = round(purpose_pivot['mean']*100,2)\n",
    "purpose_pivot"
   ]
  },
  {
   "cell_type": "markdown",
   "id": "4296e85b",
   "metadata": {
    "deletable": false,
    "id": "2b687290"
   },
   "source": [
    "**Вывод:** Самыми неблагонадежными оказались категории 'операции с автомобилем' и 'получение образования'"
   ]
  },
  {
   "cell_type": "markdown",
   "id": "409227e9",
   "metadata": {
    "deletable": false,
    "editable": false,
    "id": "09c3ac4c"
   },
   "source": [
    "#### 3.5 Приведите возможные причины появления пропусков в исходных данных."
   ]
  },
  {
   "cell_type": "markdown",
   "id": "d6fe4ab8",
   "metadata": {
    "deletable": false,
    "id": "9da2ceda"
   },
   "source": [
    "*Ответ:* Причин возникновения множество, как технических так и совершенных чловеком. Если рассматривать нашу таблицу, то это колонки days_employed и total_income, которые по какой-то причине совпадают по количеству. Общий трудовой стаж и ежемесечный доход берется из справки 2-НДФЛ. Возможно на одном из серверов произошел сбой, отключение электроэннергии, внеплановый тест оборудования в момент загрузки или обновления данных. Но возможно эти данные собирались из разных источников воедино и человек, ответсвенный за формирование датасета, просто их не прогрузил."
   ]
  },
  {
   "cell_type": "markdown",
   "id": "00ff07ab",
   "metadata": {
    "deletable": false,
    "editable": false,
    "id": "7b0487d6"
   },
   "source": [
    "#### 3.6 Объясните, почему заполнить пропуски медианным значением — лучшее решение для количественных переменных."
   ]
  },
  {
   "cell_type": "markdown",
   "id": "fd8f705c",
   "metadata": {
    "deletable": false,
    "id": "7ecf2b8e"
   },
   "source": [
    "*Ответ:* Медианное значение указывает на центральное значение, вокруг которого набор значений обладает тенденцием кластеризации. Получается что-то вроде \"экватора\" массива значений. "
   ]
  },
  {
   "cell_type": "markdown",
   "id": "5bcc7d87",
   "metadata": {
    "deletable": false,
    "editable": false,
    "id": "6db5255a"
   },
   "source": [
    "### Шаг 4: общий вывод."
   ]
  },
  {
   "cell_type": "markdown",
   "id": "1cc2d755",
   "metadata": {
    "deletable": false,
    "id": "bad65432"
   },
   "source": [
    "В 3-ем шаге мы получили данные которые не слишком сильно отличаются друг от друга. Сперва покажется незначительными разница в категориях в 1-2 процента. Но если наложить эти статистические фильтры к потребителю, то можно предложить конкретизированные продукты банка подходящие именно ему (% кредита, максимльная сумма кредита, срок). Чем больше работы проведут аналитики банка, тем выше его конкурентная способность на рынке.                                                                                  \n",
    "**Дополнение** Судя по полученным результатом можно увидеть картину благонадежного заемщика:                                   <br> *1) Размер дохода B и выше*\n",
    "<br> *2) Наличие или опыт узаконенных отношений*\n",
    "<br> *3) Отсутсвие детей*\n",
    "<br> *4) Предпочтетельны кредитный продукт - операции с недвижимостью*\n",
    "<br><br>В общем это молодая семья без детей, с хорошим доходом, которая покупает квартиру)"
   ]
  },
  {
   "cell_type": "code",
   "execution_count": null,
   "id": "0d50ce40",
   "metadata": {
    "deletable": false,
    "id": "1cef7837"
   },
   "outputs": [],
   "source": []
  },
  {
   "cell_type": "code",
   "execution_count": null,
   "id": "5d5a9d14",
   "metadata": {
    "deletable": false,
    "id": "b4bb2ce6"
   },
   "outputs": [],
   "source": []
  }
 ],
 "metadata": {
  "ExecuteTimeLog": [
   {
    "duration": 46,
    "start_time": "2022-11-06T15:56:36.084Z"
   },
   {
    "duration": 6,
    "start_time": "2022-11-06T15:56:45.201Z"
   },
   {
    "duration": 106,
    "start_time": "2022-11-06T15:56:50.088Z"
   },
   {
    "duration": 6,
    "start_time": "2022-11-06T15:56:56.303Z"
   },
   {
    "duration": 446,
    "start_time": "2022-11-06T15:57:06.401Z"
   },
   {
    "duration": 21,
    "start_time": "2022-11-06T15:57:06.849Z"
   },
   {
    "duration": 14,
    "start_time": "2022-11-06T15:57:06.871Z"
   },
   {
    "duration": 22,
    "start_time": "2022-11-06T15:57:06.887Z"
   },
   {
    "duration": 32,
    "start_time": "2022-11-06T15:57:06.910Z"
   },
   {
    "duration": 4,
    "start_time": "2022-11-06T15:57:06.944Z"
   },
   {
    "duration": 14,
    "start_time": "2022-11-06T15:57:06.949Z"
   },
   {
    "duration": 10,
    "start_time": "2022-11-06T15:57:06.965Z"
   },
   {
    "duration": 27,
    "start_time": "2022-11-06T15:57:06.976Z"
   },
   {
    "duration": 5,
    "start_time": "2022-11-06T15:57:07.006Z"
   },
   {
    "duration": 48,
    "start_time": "2022-11-06T15:57:07.013Z"
   },
   {
    "duration": 10,
    "start_time": "2022-11-06T15:57:07.062Z"
   },
   {
    "duration": 4,
    "start_time": "2022-11-06T15:57:07.073Z"
   },
   {
    "duration": 25,
    "start_time": "2022-11-06T15:57:07.079Z"
   },
   {
    "duration": 25,
    "start_time": "2022-11-06T15:57:07.106Z"
   },
   {
    "duration": 17,
    "start_time": "2022-11-06T15:57:07.133Z"
   },
   {
    "duration": 4,
    "start_time": "2022-11-06T15:57:07.152Z"
   },
   {
    "duration": 23,
    "start_time": "2022-11-06T15:57:07.158Z"
   },
   {
    "duration": 5,
    "start_time": "2022-11-06T15:57:07.182Z"
   },
   {
    "duration": 15,
    "start_time": "2022-11-06T15:57:07.188Z"
   },
   {
    "duration": 12,
    "start_time": "2022-11-06T15:57:07.204Z"
   },
   {
    "duration": 53,
    "start_time": "2022-11-06T15:57:07.217Z"
   },
   {
    "duration": 0,
    "start_time": "2022-11-06T15:57:07.271Z"
   },
   {
    "duration": 0,
    "start_time": "2022-11-06T15:57:07.273Z"
   },
   {
    "duration": 0,
    "start_time": "2022-11-06T15:57:07.274Z"
   },
   {
    "duration": 6,
    "start_time": "2022-11-06T15:57:12.771Z"
   },
   {
    "duration": 3,
    "start_time": "2022-11-06T15:57:19.539Z"
   },
   {
    "duration": 3,
    "start_time": "2022-11-06T15:57:22.743Z"
   },
   {
    "duration": 2,
    "start_time": "2022-11-06T15:57:40.849Z"
   },
   {
    "duration": 5,
    "start_time": "2022-11-06T15:57:49.106Z"
   },
   {
    "duration": 4,
    "start_time": "2022-11-06T15:57:55.201Z"
   },
   {
    "duration": 5,
    "start_time": "2022-11-06T15:57:58.830Z"
   },
   {
    "duration": 6,
    "start_time": "2022-11-06T15:58:59.805Z"
   },
   {
    "duration": 5,
    "start_time": "2022-11-06T15:59:06.330Z"
   },
   {
    "duration": 22,
    "start_time": "2022-11-06T16:00:21.649Z"
   },
   {
    "duration": 12,
    "start_time": "2022-11-06T16:00:37.966Z"
   },
   {
    "duration": 10,
    "start_time": "2022-11-06T16:00:45.106Z"
   },
   {
    "duration": 64,
    "start_time": "2022-11-06T16:01:20.643Z"
   },
   {
    "duration": 70,
    "start_time": "2022-11-06T16:01:32.802Z"
   },
   {
    "duration": 16,
    "start_time": "2022-11-06T16:01:39.860Z"
   },
   {
    "duration": 10,
    "start_time": "2022-11-06T16:01:58.953Z"
   },
   {
    "duration": 11,
    "start_time": "2022-11-06T16:02:14.935Z"
   },
   {
    "duration": 10,
    "start_time": "2022-11-06T16:02:26.483Z"
   },
   {
    "duration": 12,
    "start_time": "2022-11-06T16:02:29.793Z"
   },
   {
    "duration": 5,
    "start_time": "2022-11-06T16:02:55.591Z"
   },
   {
    "duration": 6,
    "start_time": "2022-11-06T16:03:07.559Z"
   },
   {
    "duration": 5,
    "start_time": "2022-11-06T16:05:01.030Z"
   },
   {
    "duration": 4,
    "start_time": "2022-11-06T16:05:07.723Z"
   },
   {
    "duration": 6,
    "start_time": "2022-11-06T16:10:24.365Z"
   },
   {
    "duration": 7,
    "start_time": "2022-11-06T16:10:59.596Z"
   },
   {
    "duration": 7,
    "start_time": "2022-11-06T16:11:44.771Z"
   },
   {
    "duration": 6,
    "start_time": "2022-11-06T16:11:48.631Z"
   },
   {
    "duration": 8,
    "start_time": "2022-11-06T16:11:58.329Z"
   },
   {
    "duration": 3,
    "start_time": "2022-11-06T16:12:16.423Z"
   },
   {
    "duration": 4,
    "start_time": "2022-11-06T16:12:20.780Z"
   },
   {
    "duration": 4,
    "start_time": "2022-11-06T16:12:31.991Z"
   },
   {
    "duration": 4,
    "start_time": "2022-11-06T16:12:38.309Z"
   },
   {
    "duration": 5,
    "start_time": "2022-11-06T16:13:19.298Z"
   },
   {
    "duration": 4,
    "start_time": "2022-11-06T16:13:37.331Z"
   },
   {
    "duration": 70,
    "start_time": "2022-11-06T16:13:53.557Z"
   },
   {
    "duration": 7,
    "start_time": "2022-11-06T16:14:08.202Z"
   },
   {
    "duration": 3,
    "start_time": "2022-11-06T16:18:37.567Z"
   },
   {
    "duration": 7,
    "start_time": "2022-11-06T16:19:01.952Z"
   },
   {
    "duration": 7,
    "start_time": "2022-11-06T16:19:16.498Z"
   },
   {
    "duration": 7,
    "start_time": "2022-11-06T16:19:23.725Z"
   },
   {
    "duration": 8,
    "start_time": "2022-11-06T16:20:01.721Z"
   },
   {
    "duration": 8,
    "start_time": "2022-11-06T16:20:38.447Z"
   },
   {
    "duration": 8,
    "start_time": "2022-11-06T16:20:48.301Z"
   },
   {
    "duration": 4,
    "start_time": "2022-11-06T16:20:52.903Z"
   },
   {
    "duration": 4,
    "start_time": "2022-11-06T16:22:12.571Z"
   },
   {
    "duration": 4,
    "start_time": "2022-11-06T16:22:29.935Z"
   },
   {
    "duration": 4,
    "start_time": "2022-11-06T16:22:55.686Z"
   },
   {
    "duration": 84,
    "start_time": "2022-11-06T16:24:59.953Z"
   },
   {
    "duration": 68,
    "start_time": "2022-11-06T16:25:04.267Z"
   },
   {
    "duration": 77,
    "start_time": "2022-11-06T16:25:19.372Z"
   },
   {
    "duration": 8,
    "start_time": "2022-11-06T16:25:39.896Z"
   },
   {
    "duration": 4,
    "start_time": "2022-11-06T16:26:32.028Z"
   },
   {
    "duration": 4,
    "start_time": "2022-11-06T16:26:52.949Z"
   },
   {
    "duration": 3,
    "start_time": "2022-11-06T16:27:00.995Z"
   },
   {
    "duration": 69,
    "start_time": "2022-11-06T16:27:59.435Z"
   },
   {
    "duration": 69,
    "start_time": "2022-11-06T16:28:19.846Z"
   },
   {
    "duration": 82,
    "start_time": "2022-11-06T16:29:04.324Z"
   },
   {
    "duration": 66,
    "start_time": "2022-11-06T16:29:12.477Z"
   },
   {
    "duration": 4,
    "start_time": "2022-11-06T16:29:20.536Z"
   },
   {
    "duration": 75,
    "start_time": "2022-11-06T16:29:57.180Z"
   },
   {
    "duration": 4,
    "start_time": "2022-11-06T16:30:08.383Z"
   },
   {
    "duration": 3,
    "start_time": "2022-11-06T16:33:13.859Z"
   },
   {
    "duration": 9,
    "start_time": "2022-11-06T16:36:55.823Z"
   },
   {
    "duration": 6,
    "start_time": "2022-11-06T16:37:21.534Z"
   },
   {
    "duration": 5,
    "start_time": "2022-11-06T16:37:29.992Z"
   },
   {
    "duration": 4,
    "start_time": "2022-11-06T16:38:00.288Z"
   },
   {
    "duration": 1134,
    "start_time": "2022-11-06T16:38:30.005Z"
   },
   {
    "duration": 67,
    "start_time": "2022-11-06T16:38:41.022Z"
   },
   {
    "duration": 10,
    "start_time": "2022-11-06T16:38:52.069Z"
   },
   {
    "duration": 73,
    "start_time": "2022-11-06T16:39:05.083Z"
   },
   {
    "duration": 11,
    "start_time": "2022-11-06T16:39:11.119Z"
   },
   {
    "duration": 5,
    "start_time": "2022-11-06T16:39:20.426Z"
   },
   {
    "duration": 6,
    "start_time": "2022-11-06T16:41:42.063Z"
   },
   {
    "duration": 73,
    "start_time": "2022-11-06T16:42:14.213Z"
   },
   {
    "duration": 71,
    "start_time": "2022-11-06T16:42:27.596Z"
   },
   {
    "duration": 8,
    "start_time": "2022-11-06T16:46:02.891Z"
   },
   {
    "duration": 7,
    "start_time": "2022-11-06T16:46:12.753Z"
   },
   {
    "duration": 454,
    "start_time": "2022-11-06T16:46:18.991Z"
   },
   {
    "duration": 19,
    "start_time": "2022-11-06T16:46:19.447Z"
   },
   {
    "duration": 12,
    "start_time": "2022-11-06T16:46:19.467Z"
   },
   {
    "duration": 24,
    "start_time": "2022-11-06T16:46:19.481Z"
   },
   {
    "duration": 28,
    "start_time": "2022-11-06T16:46:19.507Z"
   },
   {
    "duration": 3,
    "start_time": "2022-11-06T16:46:19.537Z"
   },
   {
    "duration": 9,
    "start_time": "2022-11-06T16:46:19.541Z"
   },
   {
    "duration": 3,
    "start_time": "2022-11-06T16:46:19.551Z"
   },
   {
    "duration": 6,
    "start_time": "2022-11-06T16:46:19.556Z"
   },
   {
    "duration": 4,
    "start_time": "2022-11-06T16:46:19.565Z"
   },
   {
    "duration": 51,
    "start_time": "2022-11-06T16:46:19.570Z"
   },
   {
    "duration": 7,
    "start_time": "2022-11-06T16:46:19.622Z"
   },
   {
    "duration": 3,
    "start_time": "2022-11-06T16:46:19.630Z"
   },
   {
    "duration": 10,
    "start_time": "2022-11-06T16:46:19.634Z"
   },
   {
    "duration": 17,
    "start_time": "2022-11-06T16:46:19.645Z"
   },
   {
    "duration": 13,
    "start_time": "2022-11-06T16:46:19.663Z"
   },
   {
    "duration": 26,
    "start_time": "2022-11-06T16:46:19.677Z"
   },
   {
    "duration": 11,
    "start_time": "2022-11-06T16:46:19.705Z"
   },
   {
    "duration": 5,
    "start_time": "2022-11-06T16:46:19.717Z"
   },
   {
    "duration": 2,
    "start_time": "2022-11-06T16:46:19.724Z"
   },
   {
    "duration": 9,
    "start_time": "2022-11-06T16:46:19.728Z"
   },
   {
    "duration": 75,
    "start_time": "2022-11-06T16:46:19.739Z"
   },
   {
    "duration": 0,
    "start_time": "2022-11-06T16:46:19.816Z"
   },
   {
    "duration": 0,
    "start_time": "2022-11-06T16:46:19.817Z"
   },
   {
    "duration": 0,
    "start_time": "2022-11-06T16:46:19.818Z"
   },
   {
    "duration": 0,
    "start_time": "2022-11-06T16:46:19.819Z"
   },
   {
    "duration": 0,
    "start_time": "2022-11-06T16:46:19.821Z"
   },
   {
    "duration": 10,
    "start_time": "2022-11-06T16:46:29.537Z"
   },
   {
    "duration": 7,
    "start_time": "2022-11-06T16:46:34.723Z"
   },
   {
    "duration": 6,
    "start_time": "2022-11-06T16:49:24.191Z"
   },
   {
    "duration": 5,
    "start_time": "2022-11-06T16:58:08.765Z"
   },
   {
    "duration": 81,
    "start_time": "2022-11-06T16:59:39.367Z"
   },
   {
    "duration": 6,
    "start_time": "2022-11-06T17:00:56.435Z"
   },
   {
    "duration": 6,
    "start_time": "2022-11-06T17:01:10.367Z"
   },
   {
    "duration": 447,
    "start_time": "2022-11-07T08:56:39.584Z"
   },
   {
    "duration": 18,
    "start_time": "2022-11-07T08:56:40.033Z"
   },
   {
    "duration": 15,
    "start_time": "2022-11-07T08:56:40.052Z"
   },
   {
    "duration": 7,
    "start_time": "2022-11-07T08:56:40.069Z"
   },
   {
    "duration": 38,
    "start_time": "2022-11-07T08:56:40.077Z"
   },
   {
    "duration": 3,
    "start_time": "2022-11-07T08:56:40.116Z"
   },
   {
    "duration": 16,
    "start_time": "2022-11-07T08:56:40.120Z"
   },
   {
    "duration": 3,
    "start_time": "2022-11-07T08:56:40.137Z"
   },
   {
    "duration": 8,
    "start_time": "2022-11-07T08:56:40.141Z"
   },
   {
    "duration": 3,
    "start_time": "2022-11-07T08:56:40.151Z"
   },
   {
    "duration": 27,
    "start_time": "2022-11-07T08:56:40.156Z"
   },
   {
    "duration": 23,
    "start_time": "2022-11-07T08:56:40.185Z"
   },
   {
    "duration": 29,
    "start_time": "2022-11-07T08:56:40.209Z"
   },
   {
    "duration": 26,
    "start_time": "2022-11-07T08:56:40.239Z"
   },
   {
    "duration": 40,
    "start_time": "2022-11-07T08:56:40.267Z"
   },
   {
    "duration": 14,
    "start_time": "2022-11-07T08:56:40.309Z"
   },
   {
    "duration": 9,
    "start_time": "2022-11-07T08:56:40.324Z"
   },
   {
    "duration": 20,
    "start_time": "2022-11-07T08:56:40.335Z"
   },
   {
    "duration": 25,
    "start_time": "2022-11-07T08:56:40.356Z"
   },
   {
    "duration": 32,
    "start_time": "2022-11-07T08:56:40.383Z"
   },
   {
    "duration": 39,
    "start_time": "2022-11-07T08:56:40.416Z"
   },
   {
    "duration": 21,
    "start_time": "2022-11-07T08:56:40.457Z"
   },
   {
    "duration": 25,
    "start_time": "2022-11-07T08:56:40.480Z"
   },
   {
    "duration": 30,
    "start_time": "2022-11-07T08:56:40.506Z"
   },
   {
    "duration": 76,
    "start_time": "2022-11-07T08:56:40.538Z"
   },
   {
    "duration": 0,
    "start_time": "2022-11-07T08:56:40.616Z"
   },
   {
    "duration": 0,
    "start_time": "2022-11-07T08:56:40.617Z"
   },
   {
    "duration": 0,
    "start_time": "2022-11-07T08:56:40.618Z"
   },
   {
    "duration": 9,
    "start_time": "2022-11-07T08:59:17.092Z"
   },
   {
    "duration": 3,
    "start_time": "2022-11-07T08:59:29.294Z"
   },
   {
    "duration": 9,
    "start_time": "2022-11-07T09:01:33.532Z"
   },
   {
    "duration": 1074,
    "start_time": "2022-11-07T09:02:56.060Z"
   },
   {
    "duration": 7,
    "start_time": "2022-11-07T09:03:29.023Z"
   },
   {
    "duration": 75,
    "start_time": "2022-11-07T09:04:01.333Z"
   },
   {
    "duration": 8,
    "start_time": "2022-11-07T09:04:05.972Z"
   },
   {
    "duration": 3,
    "start_time": "2022-11-07T09:04:26.588Z"
   },
   {
    "duration": 5,
    "start_time": "2022-11-07T09:06:15.612Z"
   },
   {
    "duration": 6,
    "start_time": "2022-11-07T09:06:21.179Z"
   },
   {
    "duration": 7,
    "start_time": "2022-11-07T09:06:33.451Z"
   },
   {
    "duration": 6,
    "start_time": "2022-11-07T09:08:22.395Z"
   },
   {
    "duration": 7,
    "start_time": "2022-11-07T09:08:34.011Z"
   },
   {
    "duration": 8,
    "start_time": "2022-11-07T09:09:00.874Z"
   },
   {
    "duration": 12,
    "start_time": "2022-11-07T09:09:22.339Z"
   },
   {
    "duration": 11,
    "start_time": "2022-11-07T09:09:32.835Z"
   },
   {
    "duration": 7,
    "start_time": "2022-11-07T09:09:59.219Z"
   },
   {
    "duration": 8,
    "start_time": "2022-11-07T09:10:22.582Z"
   },
   {
    "duration": 8,
    "start_time": "2022-11-07T09:10:28.571Z"
   },
   {
    "duration": 8,
    "start_time": "2022-11-07T09:11:03.421Z"
   },
   {
    "duration": 10,
    "start_time": "2022-11-07T09:11:10.147Z"
   },
   {
    "duration": 9,
    "start_time": "2022-11-07T09:11:24.410Z"
   },
   {
    "duration": 7,
    "start_time": "2022-11-07T09:11:27.804Z"
   },
   {
    "duration": 7,
    "start_time": "2022-11-07T09:11:37.533Z"
   },
   {
    "duration": 7,
    "start_time": "2022-11-07T09:12:05.387Z"
   },
   {
    "duration": 8,
    "start_time": "2022-11-07T09:12:37.517Z"
   },
   {
    "duration": 4,
    "start_time": "2022-11-07T09:21:20.641Z"
   },
   {
    "duration": 4,
    "start_time": "2022-11-07T09:21:21.873Z"
   },
   {
    "duration": 2,
    "start_time": "2022-11-07T09:21:23.963Z"
   },
   {
    "duration": 9,
    "start_time": "2022-11-07T09:21:26.305Z"
   },
   {
    "duration": 4,
    "start_time": "2022-11-07T09:22:17.345Z"
   },
   {
    "duration": 6,
    "start_time": "2022-11-07T09:22:19.864Z"
   },
   {
    "duration": 7,
    "start_time": "2022-11-07T09:22:30.305Z"
   },
   {
    "duration": 6,
    "start_time": "2022-11-07T09:24:10.777Z"
   },
   {
    "duration": 7,
    "start_time": "2022-11-07T09:24:39.384Z"
   },
   {
    "duration": 8,
    "start_time": "2022-11-07T09:27:06.914Z"
   },
   {
    "duration": 7,
    "start_time": "2022-11-07T09:28:56.888Z"
   },
   {
    "duration": 7,
    "start_time": "2022-11-07T09:29:19.184Z"
   },
   {
    "duration": 7,
    "start_time": "2022-11-07T09:44:01.919Z"
   },
   {
    "duration": 7,
    "start_time": "2022-11-07T09:44:19.182Z"
   },
   {
    "duration": 12,
    "start_time": "2022-11-07T09:45:10.334Z"
   },
   {
    "duration": 7,
    "start_time": "2022-11-07T09:45:21.606Z"
   },
   {
    "duration": 7,
    "start_time": "2022-11-07T09:45:26.158Z"
   },
   {
    "duration": 7,
    "start_time": "2022-11-07T09:48:10.085Z"
   },
   {
    "duration": 9,
    "start_time": "2022-11-07T09:48:16.230Z"
   },
   {
    "duration": 8,
    "start_time": "2022-11-07T09:48:29.445Z"
   },
   {
    "duration": 8,
    "start_time": "2022-11-07T09:48:46.118Z"
   },
   {
    "duration": 8,
    "start_time": "2022-11-07T09:49:03.885Z"
   },
   {
    "duration": 11,
    "start_time": "2022-11-07T09:49:26.566Z"
   },
   {
    "duration": 12,
    "start_time": "2022-11-07T09:50:11.085Z"
   },
   {
    "duration": 8,
    "start_time": "2022-11-07T09:50:29.726Z"
   },
   {
    "duration": 11,
    "start_time": "2022-11-07T09:50:59.253Z"
   },
   {
    "duration": 10,
    "start_time": "2022-11-07T09:51:17.077Z"
   },
   {
    "duration": 11,
    "start_time": "2022-11-07T09:51:32.045Z"
   },
   {
    "duration": 14,
    "start_time": "2022-11-07T09:51:38.070Z"
   },
   {
    "duration": 15,
    "start_time": "2022-11-07T09:52:16.165Z"
   },
   {
    "duration": 26,
    "start_time": "2022-11-07T09:52:20.669Z"
   },
   {
    "duration": 24,
    "start_time": "2022-11-07T09:53:16.565Z"
   },
   {
    "duration": 27,
    "start_time": "2022-11-07T09:53:53.197Z"
   },
   {
    "duration": 15,
    "start_time": "2022-11-07T09:54:25.901Z"
   },
   {
    "duration": 10,
    "start_time": "2022-11-07T09:54:56.221Z"
   },
   {
    "duration": 9,
    "start_time": "2022-11-07T09:55:07.793Z"
   },
   {
    "duration": 15,
    "start_time": "2022-11-07T09:55:28.351Z"
   },
   {
    "duration": 25,
    "start_time": "2022-11-07T09:55:32.735Z"
   },
   {
    "duration": 16,
    "start_time": "2022-11-07T09:55:47.646Z"
   },
   {
    "duration": 14,
    "start_time": "2022-11-07T09:56:16.376Z"
   },
   {
    "duration": 15,
    "start_time": "2022-11-07T09:56:23.349Z"
   },
   {
    "duration": 22,
    "start_time": "2022-11-07T09:56:32.484Z"
   },
   {
    "duration": 11,
    "start_time": "2022-11-07T09:57:03.645Z"
   },
   {
    "duration": 21,
    "start_time": "2022-11-07T09:57:34.349Z"
   },
   {
    "duration": 9,
    "start_time": "2022-11-07T09:58:19.653Z"
   },
   {
    "duration": 7,
    "start_time": "2022-11-07T09:59:02.668Z"
   },
   {
    "duration": 10,
    "start_time": "2022-11-07T09:59:22.948Z"
   },
   {
    "duration": 5,
    "start_time": "2022-11-07T09:59:25.068Z"
   },
   {
    "duration": 9,
    "start_time": "2022-11-07T09:59:27.543Z"
   },
   {
    "duration": 9,
    "start_time": "2022-11-07T10:00:14.741Z"
   },
   {
    "duration": 15,
    "start_time": "2022-11-07T10:01:22.980Z"
   },
   {
    "duration": 20,
    "start_time": "2022-11-07T10:01:27.460Z"
   },
   {
    "duration": 16,
    "start_time": "2022-11-07T10:01:51.612Z"
   },
   {
    "duration": 20,
    "start_time": "2022-11-07T10:02:02.572Z"
   },
   {
    "duration": 8,
    "start_time": "2022-11-07T10:02:53.236Z"
   },
   {
    "duration": 9,
    "start_time": "2022-11-07T10:03:03.459Z"
   },
   {
    "duration": 8,
    "start_time": "2022-11-07T10:03:08.886Z"
   },
   {
    "duration": 10,
    "start_time": "2022-11-07T10:04:36.867Z"
   },
   {
    "duration": 10,
    "start_time": "2022-11-07T10:05:49.516Z"
   },
   {
    "duration": 9,
    "start_time": "2022-11-07T10:05:56.107Z"
   },
   {
    "duration": 9,
    "start_time": "2022-11-07T10:06:03.059Z"
   },
   {
    "duration": 14,
    "start_time": "2022-11-07T10:06:16.891Z"
   },
   {
    "duration": 9,
    "start_time": "2022-11-07T10:06:33.119Z"
   },
   {
    "duration": 10,
    "start_time": "2022-11-07T10:06:41.244Z"
   },
   {
    "duration": 11,
    "start_time": "2022-11-07T10:07:47.266Z"
   },
   {
    "duration": 8,
    "start_time": "2022-11-07T10:08:05.147Z"
   },
   {
    "duration": 9,
    "start_time": "2022-11-07T10:09:43.745Z"
   },
   {
    "duration": 87,
    "start_time": "2022-11-07T10:12:16.546Z"
   },
   {
    "duration": 136,
    "start_time": "2022-11-07T10:12:29.978Z"
   },
   {
    "duration": 71,
    "start_time": "2022-11-07T10:12:34.042Z"
   },
   {
    "duration": 23,
    "start_time": "2022-11-07T10:12:41.027Z"
   },
   {
    "duration": 11,
    "start_time": "2022-11-07T10:12:53.083Z"
   },
   {
    "duration": 9,
    "start_time": "2022-11-07T10:15:03.009Z"
   },
   {
    "duration": 10,
    "start_time": "2022-11-07T10:15:05.241Z"
   },
   {
    "duration": 10,
    "start_time": "2022-11-07T10:16:03.423Z"
   },
   {
    "duration": 164,
    "start_time": "2022-11-07T10:20:03.218Z"
   },
   {
    "duration": 4,
    "start_time": "2022-11-07T10:20:40.433Z"
   },
   {
    "duration": 6,
    "start_time": "2022-11-07T10:20:52.929Z"
   },
   {
    "duration": 6,
    "start_time": "2022-11-07T10:20:57.857Z"
   },
   {
    "duration": 8,
    "start_time": "2022-11-07T10:21:24.257Z"
   },
   {
    "duration": 6,
    "start_time": "2022-11-07T10:21:33.864Z"
   },
   {
    "duration": 80,
    "start_time": "2022-11-07T10:29:08.672Z"
   },
   {
    "duration": 1091,
    "start_time": "2022-11-07T10:29:18.608Z"
   },
   {
    "duration": 8,
    "start_time": "2022-11-07T10:29:41.161Z"
   },
   {
    "duration": 11,
    "start_time": "2022-11-07T10:29:49.623Z"
   },
   {
    "duration": 46,
    "start_time": "2022-11-08T08:45:39.407Z"
   },
   {
    "duration": 670,
    "start_time": "2022-11-08T08:46:16.435Z"
   },
   {
    "duration": 21,
    "start_time": "2022-11-08T08:46:17.107Z"
   },
   {
    "duration": 14,
    "start_time": "2022-11-08T08:46:17.132Z"
   },
   {
    "duration": 10,
    "start_time": "2022-11-08T08:46:17.147Z"
   },
   {
    "duration": 35,
    "start_time": "2022-11-08T08:46:17.158Z"
   },
   {
    "duration": 3,
    "start_time": "2022-11-08T08:46:17.195Z"
   },
   {
    "duration": 9,
    "start_time": "2022-11-08T08:46:17.200Z"
   },
   {
    "duration": 4,
    "start_time": "2022-11-08T08:46:17.210Z"
   },
   {
    "duration": 7,
    "start_time": "2022-11-08T08:46:17.216Z"
   },
   {
    "duration": 4,
    "start_time": "2022-11-08T08:46:17.225Z"
   },
   {
    "duration": 63,
    "start_time": "2022-11-08T08:46:17.230Z"
   },
   {
    "duration": 8,
    "start_time": "2022-11-08T08:46:17.295Z"
   },
   {
    "duration": 5,
    "start_time": "2022-11-08T08:46:17.305Z"
   },
   {
    "duration": 12,
    "start_time": "2022-11-08T08:46:17.312Z"
   },
   {
    "duration": 23,
    "start_time": "2022-11-08T08:46:17.325Z"
   },
   {
    "duration": 33,
    "start_time": "2022-11-08T08:46:17.350Z"
   },
   {
    "duration": 3,
    "start_time": "2022-11-08T08:46:17.384Z"
   },
   {
    "duration": 11,
    "start_time": "2022-11-08T08:46:17.389Z"
   },
   {
    "duration": 8,
    "start_time": "2022-11-08T08:46:17.401Z"
   },
   {
    "duration": 13,
    "start_time": "2022-11-08T08:46:17.411Z"
   },
   {
    "duration": 17,
    "start_time": "2022-11-08T08:46:17.425Z"
   },
   {
    "duration": 9,
    "start_time": "2022-11-08T08:46:17.443Z"
   },
   {
    "duration": 16,
    "start_time": "2022-11-08T08:46:17.453Z"
   },
   {
    "duration": 13,
    "start_time": "2022-11-08T08:46:17.471Z"
   },
   {
    "duration": 5,
    "start_time": "2022-11-08T08:46:17.486Z"
   },
   {
    "duration": 5,
    "start_time": "2022-11-08T08:46:17.492Z"
   },
   {
    "duration": 5,
    "start_time": "2022-11-08T08:46:25.196Z"
   },
   {
    "duration": 6,
    "start_time": "2022-11-08T08:47:21.397Z"
   },
   {
    "duration": 8,
    "start_time": "2022-11-08T08:48:56.653Z"
   },
   {
    "duration": 6,
    "start_time": "2022-11-08T08:56:01.089Z"
   },
   {
    "duration": 5,
    "start_time": "2022-11-08T08:57:04.410Z"
   },
   {
    "duration": 7,
    "start_time": "2022-11-08T09:03:55.182Z"
   },
   {
    "duration": 7,
    "start_time": "2022-11-08T09:03:56.963Z"
   },
   {
    "duration": 3,
    "start_time": "2022-11-08T09:05:04.162Z"
   },
   {
    "duration": 5,
    "start_time": "2022-11-08T09:05:10.457Z"
   },
   {
    "duration": 5,
    "start_time": "2022-11-08T09:05:22.002Z"
   },
   {
    "duration": 151,
    "start_time": "2022-11-08T09:06:24.701Z"
   },
   {
    "duration": 5,
    "start_time": "2022-11-08T09:06:32.033Z"
   },
   {
    "duration": 5,
    "start_time": "2022-11-08T09:06:39.194Z"
   },
   {
    "duration": 5,
    "start_time": "2022-11-08T09:20:02.799Z"
   },
   {
    "duration": 5,
    "start_time": "2022-11-08T09:26:26.752Z"
   },
   {
    "duration": 57,
    "start_time": "2022-11-08T09:30:12.127Z"
   },
   {
    "duration": 67,
    "start_time": "2022-11-08T09:33:02.854Z"
   },
   {
    "duration": 20,
    "start_time": "2022-11-08T09:33:20.014Z"
   },
   {
    "duration": 61,
    "start_time": "2022-11-08T09:34:15.096Z"
   },
   {
    "duration": 21,
    "start_time": "2022-11-08T09:34:48.624Z"
   },
   {
    "duration": 18,
    "start_time": "2022-11-08T09:39:17.965Z"
   },
   {
    "duration": 4,
    "start_time": "2022-11-08T09:39:44.133Z"
   },
   {
    "duration": 6,
    "start_time": "2022-11-08T09:40:04.156Z"
   },
   {
    "duration": 18,
    "start_time": "2022-11-08T09:40:10.179Z"
   },
   {
    "duration": 16,
    "start_time": "2022-11-08T09:40:34.612Z"
   },
   {
    "duration": 12,
    "start_time": "2022-11-08T09:40:52.470Z"
   },
   {
    "duration": 13,
    "start_time": "2022-11-08T09:41:22.868Z"
   },
   {
    "duration": 14,
    "start_time": "2022-11-08T09:41:31.919Z"
   },
   {
    "duration": 12,
    "start_time": "2022-11-08T09:41:52.052Z"
   },
   {
    "duration": 13,
    "start_time": "2022-11-08T09:42:22.996Z"
   },
   {
    "duration": 14,
    "start_time": "2022-11-08T09:42:26.910Z"
   },
   {
    "duration": 11,
    "start_time": "2022-11-08T09:42:34.639Z"
   },
   {
    "duration": 15,
    "start_time": "2022-11-08T09:42:42.932Z"
   },
   {
    "duration": 14,
    "start_time": "2022-11-08T09:46:06.811Z"
   },
   {
    "duration": 16,
    "start_time": "2022-11-08T09:46:43.747Z"
   },
   {
    "duration": 14,
    "start_time": "2022-11-08T09:47:01.644Z"
   },
   {
    "duration": 12,
    "start_time": "2022-11-08T09:47:48.401Z"
   },
   {
    "duration": 12,
    "start_time": "2022-11-08T09:47:59.964Z"
   },
   {
    "duration": 12,
    "start_time": "2022-11-08T09:48:32.435Z"
   },
   {
    "duration": 19,
    "start_time": "2022-11-08T09:49:04.467Z"
   },
   {
    "duration": 15,
    "start_time": "2022-11-08T09:51:31.940Z"
   },
   {
    "duration": 13,
    "start_time": "2022-11-08T09:51:34.574Z"
   },
   {
    "duration": 13,
    "start_time": "2022-11-08T09:51:46.091Z"
   },
   {
    "duration": 14,
    "start_time": "2022-11-08T09:53:12.426Z"
   },
   {
    "duration": 12,
    "start_time": "2022-11-08T09:53:26.538Z"
   },
   {
    "duration": 10,
    "start_time": "2022-11-08T09:53:57.649Z"
   },
   {
    "duration": 4,
    "start_time": "2022-11-08T09:54:08.828Z"
   },
   {
    "duration": 11,
    "start_time": "2022-11-08T09:54:12.329Z"
   },
   {
    "duration": 12,
    "start_time": "2022-11-08T11:52:50.004Z"
   },
   {
    "duration": 11,
    "start_time": "2022-11-08T11:53:06.850Z"
   },
   {
    "duration": 11,
    "start_time": "2022-11-08T11:53:19.507Z"
   },
   {
    "duration": 16,
    "start_time": "2022-11-08T11:54:52.889Z"
   },
   {
    "duration": 22,
    "start_time": "2022-11-08T11:54:57.843Z"
   },
   {
    "duration": 10,
    "start_time": "2022-11-08T11:55:19.304Z"
   },
   {
    "duration": 10,
    "start_time": "2022-11-08T11:56:02.051Z"
   },
   {
    "duration": 3,
    "start_time": "2022-11-08T12:01:10.019Z"
   },
   {
    "duration": 6,
    "start_time": "2022-11-08T12:01:28.599Z"
   },
   {
    "duration": 6,
    "start_time": "2022-11-08T12:01:47.722Z"
   },
   {
    "duration": 6,
    "start_time": "2022-11-08T12:01:59.908Z"
   },
   {
    "duration": 6,
    "start_time": "2022-11-08T12:02:18.321Z"
   },
   {
    "duration": 5,
    "start_time": "2022-11-08T12:02:20.338Z"
   },
   {
    "duration": 4,
    "start_time": "2022-11-08T12:02:27.121Z"
   },
   {
    "duration": 4,
    "start_time": "2022-11-08T12:02:32.532Z"
   },
   {
    "duration": 7,
    "start_time": "2022-11-08T12:14:03.739Z"
   },
   {
    "duration": 15,
    "start_time": "2022-11-08T12:14:50.004Z"
   },
   {
    "duration": 15,
    "start_time": "2022-11-08T12:16:04.820Z"
   },
   {
    "duration": 19,
    "start_time": "2022-11-08T12:18:57.431Z"
   },
   {
    "duration": 7,
    "start_time": "2022-11-08T12:20:15.560Z"
   },
   {
    "duration": 6,
    "start_time": "2022-11-08T12:20:30.712Z"
   },
   {
    "duration": 10,
    "start_time": "2022-11-08T12:20:38.920Z"
   },
   {
    "duration": 11,
    "start_time": "2022-11-08T12:21:12.040Z"
   },
   {
    "duration": 10,
    "start_time": "2022-11-08T12:21:23.965Z"
   },
   {
    "duration": 12,
    "start_time": "2022-11-08T12:21:38.802Z"
   },
   {
    "duration": 20,
    "start_time": "2022-11-08T12:22:04.111Z"
   },
   {
    "duration": 11,
    "start_time": "2022-11-08T12:22:08.745Z"
   },
   {
    "duration": 12,
    "start_time": "2022-11-08T12:23:43.263Z"
   },
   {
    "duration": 11,
    "start_time": "2022-11-08T12:23:49.042Z"
   },
   {
    "duration": 12,
    "start_time": "2022-11-08T12:24:13.737Z"
   },
   {
    "duration": 5,
    "start_time": "2022-11-08T12:33:34.049Z"
   },
   {
    "duration": 8,
    "start_time": "2022-11-08T12:33:38.950Z"
   },
   {
    "duration": 11,
    "start_time": "2022-11-08T12:33:53.351Z"
   },
   {
    "duration": 8,
    "start_time": "2022-11-08T12:34:44.520Z"
   },
   {
    "duration": 7,
    "start_time": "2022-11-08T12:34:45.889Z"
   },
   {
    "duration": 47,
    "start_time": "2022-11-08T12:36:12.017Z"
   },
   {
    "duration": 7,
    "start_time": "2022-11-08T12:36:22.095Z"
   },
   {
    "duration": 7,
    "start_time": "2022-11-08T12:36:23.607Z"
   },
   {
    "duration": 7,
    "start_time": "2022-11-08T12:37:08.350Z"
   },
   {
    "duration": 8,
    "start_time": "2022-11-08T12:37:09.183Z"
   },
   {
    "duration": 6,
    "start_time": "2022-11-08T12:37:23.422Z"
   },
   {
    "duration": 716,
    "start_time": "2022-11-09T07:39:11.317Z"
   },
   {
    "duration": 22,
    "start_time": "2022-11-09T07:39:12.035Z"
   },
   {
    "duration": 14,
    "start_time": "2022-11-09T07:39:12.059Z"
   },
   {
    "duration": 10,
    "start_time": "2022-11-09T07:39:12.765Z"
   },
   {
    "duration": 37,
    "start_time": "2022-11-09T07:39:13.020Z"
   },
   {
    "duration": 3,
    "start_time": "2022-11-09T07:39:13.452Z"
   },
   {
    "duration": 8,
    "start_time": "2022-11-09T07:39:13.739Z"
   },
   {
    "duration": 4,
    "start_time": "2022-11-09T07:39:14.162Z"
   },
   {
    "duration": 9,
    "start_time": "2022-11-09T07:39:14.430Z"
   },
   {
    "duration": 4,
    "start_time": "2022-11-09T07:39:14.830Z"
   },
   {
    "duration": 33,
    "start_time": "2022-11-09T07:39:15.255Z"
   },
   {
    "duration": 10,
    "start_time": "2022-11-09T07:39:15.543Z"
   },
   {
    "duration": 4,
    "start_time": "2022-11-09T07:39:16.171Z"
   },
   {
    "duration": 12,
    "start_time": "2022-11-09T07:39:16.723Z"
   },
   {
    "duration": 20,
    "start_time": "2022-11-09T07:39:17.074Z"
   },
   {
    "duration": 18,
    "start_time": "2022-11-09T07:39:17.198Z"
   },
   {
    "duration": 3,
    "start_time": "2022-11-09T07:39:17.694Z"
   },
   {
    "duration": 11,
    "start_time": "2022-11-09T07:39:17.834Z"
   },
   {
    "duration": 6,
    "start_time": "2022-11-09T07:39:18.362Z"
   },
   {
    "duration": 3,
    "start_time": "2022-11-09T07:39:18.851Z"
   },
   {
    "duration": 11,
    "start_time": "2022-11-09T07:39:19.222Z"
   },
   {
    "duration": 6,
    "start_time": "2022-11-09T07:39:28.181Z"
   },
   {
    "duration": 5,
    "start_time": "2022-11-09T07:39:29.931Z"
   },
   {
    "duration": 6,
    "start_time": "2022-11-09T07:39:33.001Z"
   },
   {
    "duration": 25,
    "start_time": "2022-11-09T07:40:12.130Z"
   },
   {
    "duration": 9,
    "start_time": "2022-11-09T07:40:17.268Z"
   },
   {
    "duration": 28,
    "start_time": "2022-11-09T07:41:19.167Z"
   },
   {
    "duration": 11,
    "start_time": "2022-11-09T07:41:23.556Z"
   },
   {
    "duration": 6,
    "start_time": "2022-11-09T07:42:42.700Z"
   },
   {
    "duration": 8,
    "start_time": "2022-11-09T07:42:42.933Z"
   },
   {
    "duration": 6,
    "start_time": "2022-11-09T07:42:43.480Z"
   },
   {
    "duration": 82,
    "start_time": "2022-11-09T08:59:40.558Z"
   },
   {
    "duration": 72,
    "start_time": "2022-11-09T08:59:50.801Z"
   },
   {
    "duration": 65,
    "start_time": "2022-11-09T08:59:58.815Z"
   },
   {
    "duration": 109,
    "start_time": "2022-11-09T09:00:04.637Z"
   },
   {
    "duration": 44,
    "start_time": "2022-11-09T09:00:19.140Z"
   },
   {
    "duration": 534,
    "start_time": "2022-11-09T09:00:34.145Z"
   },
   {
    "duration": 20,
    "start_time": "2022-11-09T09:00:34.680Z"
   },
   {
    "duration": 16,
    "start_time": "2022-11-09T09:00:34.702Z"
   },
   {
    "duration": 7,
    "start_time": "2022-11-09T09:00:34.720Z"
   },
   {
    "duration": 35,
    "start_time": "2022-11-09T09:00:34.729Z"
   },
   {
    "duration": 3,
    "start_time": "2022-11-09T09:00:34.765Z"
   },
   {
    "duration": 10,
    "start_time": "2022-11-09T09:00:34.769Z"
   },
   {
    "duration": 3,
    "start_time": "2022-11-09T09:00:34.781Z"
   },
   {
    "duration": 21,
    "start_time": "2022-11-09T09:00:34.786Z"
   },
   {
    "duration": 12,
    "start_time": "2022-11-09T09:00:34.810Z"
   },
   {
    "duration": 33,
    "start_time": "2022-11-09T09:00:34.823Z"
   },
   {
    "duration": 8,
    "start_time": "2022-11-09T09:00:34.857Z"
   },
   {
    "duration": 8,
    "start_time": "2022-11-09T09:00:34.866Z"
   },
   {
    "duration": 17,
    "start_time": "2022-11-09T09:00:34.875Z"
   },
   {
    "duration": 18,
    "start_time": "2022-11-09T09:00:34.893Z"
   },
   {
    "duration": 15,
    "start_time": "2022-11-09T09:00:34.912Z"
   },
   {
    "duration": 4,
    "start_time": "2022-11-09T09:00:34.928Z"
   },
   {
    "duration": 27,
    "start_time": "2022-11-09T09:00:34.933Z"
   },
   {
    "duration": 6,
    "start_time": "2022-11-09T09:00:34.961Z"
   },
   {
    "duration": 8,
    "start_time": "2022-11-09T09:00:34.969Z"
   },
   {
    "duration": 11,
    "start_time": "2022-11-09T09:00:34.979Z"
   },
   {
    "duration": 31,
    "start_time": "2022-11-09T09:00:34.991Z"
   },
   {
    "duration": 6,
    "start_time": "2022-11-09T09:00:35.024Z"
   },
   {
    "duration": 9,
    "start_time": "2022-11-09T09:00:35.031Z"
   },
   {
    "duration": 16,
    "start_time": "2022-11-09T09:00:35.042Z"
   },
   {
    "duration": 33,
    "start_time": "2022-11-09T09:00:35.059Z"
   },
   {
    "duration": 8,
    "start_time": "2022-11-09T09:00:35.094Z"
   },
   {
    "duration": 30,
    "start_time": "2022-11-09T09:00:35.105Z"
   },
   {
    "duration": 8,
    "start_time": "2022-11-09T09:00:35.137Z"
   },
   {
    "duration": 24,
    "start_time": "2022-11-09T09:00:35.146Z"
   },
   {
    "duration": 9,
    "start_time": "2022-11-09T09:00:35.172Z"
   },
   {
    "duration": 6,
    "start_time": "2022-11-09T09:00:35.182Z"
   },
   {
    "duration": 17,
    "start_time": "2022-11-09T09:00:47.147Z"
   },
   {
    "duration": 73,
    "start_time": "2022-11-09T09:02:10.283Z"
   },
   {
    "duration": 67,
    "start_time": "2022-11-09T09:02:21.315Z"
   },
   {
    "duration": 80,
    "start_time": "2022-11-09T09:02:29.619Z"
   },
   {
    "duration": 15,
    "start_time": "2022-11-09T09:02:34.521Z"
   },
   {
    "duration": 56,
    "start_time": "2022-11-09T09:02:40.179Z"
   },
   {
    "duration": 45,
    "start_time": "2022-11-09T09:02:51.616Z"
   },
   {
    "duration": 39,
    "start_time": "2022-11-09T09:03:23.947Z"
   },
   {
    "duration": 41,
    "start_time": "2022-11-09T09:03:40.283Z"
   },
   {
    "duration": 12,
    "start_time": "2022-11-09T09:03:59.891Z"
   },
   {
    "duration": 8,
    "start_time": "2022-11-09T09:08:28.330Z"
   },
   {
    "duration": 7,
    "start_time": "2022-11-09T09:08:40.834Z"
   },
   {
    "duration": 6,
    "start_time": "2022-11-09T09:09:07.986Z"
   },
   {
    "duration": 17,
    "start_time": "2022-11-09T09:09:45.163Z"
   },
   {
    "duration": 7,
    "start_time": "2022-11-09T09:11:57.803Z"
   },
   {
    "duration": 14,
    "start_time": "2022-11-09T09:12:19.498Z"
   },
   {
    "duration": 6,
    "start_time": "2022-11-09T09:14:16.802Z"
   },
   {
    "duration": 13,
    "start_time": "2022-11-09T09:14:26.226Z"
   },
   {
    "duration": 17,
    "start_time": "2022-11-09T09:14:53.660Z"
   },
   {
    "duration": 13,
    "start_time": "2022-11-09T09:15:01.617Z"
   },
   {
    "duration": 12,
    "start_time": "2022-11-09T09:15:28.387Z"
   },
   {
    "duration": 105,
    "start_time": "2022-11-09T09:16:31.594Z"
   },
   {
    "duration": 73,
    "start_time": "2022-11-09T09:16:35.650Z"
   },
   {
    "duration": 14,
    "start_time": "2022-11-09T09:16:45.771Z"
   },
   {
    "duration": 12,
    "start_time": "2022-11-09T09:26:37.800Z"
   },
   {
    "duration": 14,
    "start_time": "2022-11-09T09:27:06.880Z"
   },
   {
    "duration": 14,
    "start_time": "2022-11-09T09:27:18.417Z"
   },
   {
    "duration": 12,
    "start_time": "2022-11-09T09:28:02.336Z"
   },
   {
    "duration": 13,
    "start_time": "2022-11-09T09:28:22.112Z"
   },
   {
    "duration": 11,
    "start_time": "2022-11-09T09:28:30.139Z"
   },
   {
    "duration": 9,
    "start_time": "2022-11-09T09:29:12.624Z"
   },
   {
    "duration": 12,
    "start_time": "2022-11-09T09:29:20.272Z"
   },
   {
    "duration": 13,
    "start_time": "2022-11-09T09:29:30.448Z"
   },
   {
    "duration": 12,
    "start_time": "2022-11-09T09:30:16.448Z"
   },
   {
    "duration": 17,
    "start_time": "2022-11-09T09:34:01.583Z"
   },
   {
    "duration": 13,
    "start_time": "2022-11-09T09:34:27.143Z"
   },
   {
    "duration": 7,
    "start_time": "2022-11-09T09:36:25.031Z"
   },
   {
    "duration": 7,
    "start_time": "2022-11-09T09:36:29.542Z"
   },
   {
    "duration": 7,
    "start_time": "2022-11-09T09:36:37.486Z"
   },
   {
    "duration": 7,
    "start_time": "2022-11-09T09:36:56.631Z"
   },
   {
    "duration": 7,
    "start_time": "2022-11-09T09:37:23.239Z"
   },
   {
    "duration": 7,
    "start_time": "2022-11-09T09:37:30.958Z"
   },
   {
    "duration": 18,
    "start_time": "2022-11-09T09:37:40.142Z"
   },
   {
    "duration": 14,
    "start_time": "2022-11-09T09:37:54.446Z"
   },
   {
    "duration": 29,
    "start_time": "2022-11-09T09:37:58.935Z"
   },
   {
    "duration": 77,
    "start_time": "2022-11-09T09:38:12.513Z"
   },
   {
    "duration": 76,
    "start_time": "2022-11-09T09:38:16.784Z"
   },
   {
    "duration": 11,
    "start_time": "2022-11-09T09:38:29.470Z"
   },
   {
    "duration": 12,
    "start_time": "2022-11-09T09:38:34.638Z"
   },
   {
    "duration": 11,
    "start_time": "2022-11-09T09:38:41.519Z"
   },
   {
    "duration": 11,
    "start_time": "2022-11-09T09:38:45.782Z"
   },
   {
    "duration": 35,
    "start_time": "2022-11-09T09:39:51.998Z"
   },
   {
    "duration": 191,
    "start_time": "2022-11-09T09:40:19.614Z"
   },
   {
    "duration": 87,
    "start_time": "2022-11-09T09:40:36.470Z"
   },
   {
    "duration": 38,
    "start_time": "2022-11-09T09:40:52.961Z"
   },
   {
    "duration": 11,
    "start_time": "2022-11-09T09:41:07.951Z"
   },
   {
    "duration": 71,
    "start_time": "2022-11-09T09:41:29.438Z"
   },
   {
    "duration": 78,
    "start_time": "2022-11-09T09:41:33.765Z"
   },
   {
    "duration": 82,
    "start_time": "2022-11-09T09:41:47.037Z"
   },
   {
    "duration": 17,
    "start_time": "2022-11-09T09:41:57.861Z"
   },
   {
    "duration": 55,
    "start_time": "2022-11-09T09:42:47.366Z"
   },
   {
    "duration": 6,
    "start_time": "2022-11-09T09:45:13.031Z"
   },
   {
    "duration": 3,
    "start_time": "2022-11-09T09:45:19.191Z"
   },
   {
    "duration": 86,
    "start_time": "2022-11-09T09:45:37.158Z"
   },
   {
    "duration": 11,
    "start_time": "2022-11-09T09:47:34.101Z"
   },
   {
    "duration": 58,
    "start_time": "2022-11-09T09:47:41.513Z"
   },
   {
    "duration": 6,
    "start_time": "2022-11-09T09:48:18.438Z"
   },
   {
    "duration": 6,
    "start_time": "2022-11-09T09:48:48.629Z"
   },
   {
    "duration": 25,
    "start_time": "2022-11-09T09:49:09.668Z"
   },
   {
    "duration": 16,
    "start_time": "2022-11-09T09:54:13.877Z"
   },
   {
    "duration": 21,
    "start_time": "2022-11-09T09:54:37.051Z"
   },
   {
    "duration": 16,
    "start_time": "2022-11-09T09:54:48.348Z"
   },
   {
    "duration": 18,
    "start_time": "2022-11-09T09:54:57.316Z"
   },
   {
    "duration": 68,
    "start_time": "2022-11-09T09:55:31.035Z"
   },
   {
    "duration": 68,
    "start_time": "2022-11-09T09:55:37.124Z"
   },
   {
    "duration": 18,
    "start_time": "2022-11-09T09:55:45.243Z"
   },
   {
    "duration": 17,
    "start_time": "2022-11-09T09:55:59.612Z"
   },
   {
    "duration": 96,
    "start_time": "2022-11-09T11:05:06.546Z"
   },
   {
    "duration": 71,
    "start_time": "2022-11-09T11:05:24.992Z"
   },
   {
    "duration": 22,
    "start_time": "2022-11-09T11:05:43.456Z"
   },
   {
    "duration": 429,
    "start_time": "2022-11-09T11:34:32.691Z"
   },
   {
    "duration": 21,
    "start_time": "2022-11-09T11:34:33.122Z"
   },
   {
    "duration": 13,
    "start_time": "2022-11-09T11:34:33.145Z"
   },
   {
    "duration": 8,
    "start_time": "2022-11-09T11:34:33.160Z"
   },
   {
    "duration": 31,
    "start_time": "2022-11-09T11:34:33.169Z"
   },
   {
    "duration": 2,
    "start_time": "2022-11-09T11:34:33.202Z"
   },
   {
    "duration": 10,
    "start_time": "2022-11-09T11:34:33.206Z"
   },
   {
    "duration": 4,
    "start_time": "2022-11-09T11:34:33.217Z"
   },
   {
    "duration": 8,
    "start_time": "2022-11-09T11:34:33.222Z"
   },
   {
    "duration": 4,
    "start_time": "2022-11-09T11:34:33.256Z"
   },
   {
    "duration": 47,
    "start_time": "2022-11-09T11:34:33.262Z"
   },
   {
    "duration": 10,
    "start_time": "2022-11-09T11:34:33.310Z"
   },
   {
    "duration": 13,
    "start_time": "2022-11-09T11:34:33.322Z"
   },
   {
    "duration": 13,
    "start_time": "2022-11-09T11:34:33.336Z"
   },
   {
    "duration": 20,
    "start_time": "2022-11-09T11:34:33.351Z"
   },
   {
    "duration": 16,
    "start_time": "2022-11-09T11:34:33.372Z"
   },
   {
    "duration": 3,
    "start_time": "2022-11-09T11:34:33.389Z"
   },
   {
    "duration": 14,
    "start_time": "2022-11-09T11:34:33.394Z"
   },
   {
    "duration": 5,
    "start_time": "2022-11-09T11:34:33.409Z"
   },
   {
    "duration": 4,
    "start_time": "2022-11-09T11:34:33.416Z"
   },
   {
    "duration": 36,
    "start_time": "2022-11-09T11:34:33.421Z"
   },
   {
    "duration": 22,
    "start_time": "2022-11-09T11:34:33.458Z"
   },
   {
    "duration": 6,
    "start_time": "2022-11-09T11:34:33.481Z"
   },
   {
    "duration": 8,
    "start_time": "2022-11-09T11:34:33.488Z"
   },
   {
    "duration": 12,
    "start_time": "2022-11-09T11:34:33.497Z"
   },
   {
    "duration": 25,
    "start_time": "2022-11-09T11:34:33.510Z"
   },
   {
    "duration": 25,
    "start_time": "2022-11-09T11:34:33.538Z"
   },
   {
    "duration": 23,
    "start_time": "2022-11-09T11:34:33.565Z"
   },
   {
    "duration": 10,
    "start_time": "2022-11-09T11:34:33.590Z"
   },
   {
    "duration": 8,
    "start_time": "2022-11-09T11:34:33.602Z"
   },
   {
    "duration": 9,
    "start_time": "2022-11-09T11:34:33.612Z"
   },
   {
    "duration": 40,
    "start_time": "2022-11-09T11:34:33.622Z"
   },
   {
    "duration": 1291,
    "start_time": "2022-11-09T11:37:26.567Z"
   },
   {
    "duration": 14,
    "start_time": "2022-11-09T11:37:55.525Z"
   },
   {
    "duration": 16,
    "start_time": "2022-11-09T11:38:13.324Z"
   },
   {
    "duration": 7,
    "start_time": "2022-11-09T11:38:31.614Z"
   },
   {
    "duration": 71,
    "start_time": "2022-11-09T11:38:38.020Z"
   },
   {
    "duration": 17,
    "start_time": "2022-11-09T11:38:45.140Z"
   },
   {
    "duration": 21,
    "start_time": "2022-11-09T11:41:57.668Z"
   },
   {
    "duration": 1122,
    "start_time": "2022-11-09T11:42:06.932Z"
   },
   {
    "duration": 20,
    "start_time": "2022-11-09T11:42:11.804Z"
   },
   {
    "duration": 81,
    "start_time": "2022-11-09T11:45:17.347Z"
   },
   {
    "duration": 71,
    "start_time": "2022-11-09T11:45:45.219Z"
   },
   {
    "duration": 74,
    "start_time": "2022-11-09T11:46:04.499Z"
   },
   {
    "duration": 7,
    "start_time": "2022-11-09T11:46:05.659Z"
   },
   {
    "duration": 71,
    "start_time": "2022-11-09T11:46:27.611Z"
   },
   {
    "duration": 71,
    "start_time": "2022-11-09T11:48:16.523Z"
   },
   {
    "duration": 74,
    "start_time": "2022-11-09T11:48:27.363Z"
   },
   {
    "duration": 7,
    "start_time": "2022-11-09T11:48:34.819Z"
   },
   {
    "duration": 17,
    "start_time": "2022-11-09T11:48:44.475Z"
   },
   {
    "duration": 20,
    "start_time": "2022-11-09T11:48:57.539Z"
   },
   {
    "duration": 20,
    "start_time": "2022-11-09T11:50:18.955Z"
   },
   {
    "duration": 20,
    "start_time": "2022-11-09T11:51:05.819Z"
   },
   {
    "duration": 20,
    "start_time": "2022-11-09T11:51:53.994Z"
   },
   {
    "duration": 18,
    "start_time": "2022-11-09T11:57:39.417Z"
   },
   {
    "duration": 14,
    "start_time": "2022-11-09T11:58:03.705Z"
   },
   {
    "duration": 13,
    "start_time": "2022-11-09T11:58:13.642Z"
   },
   {
    "duration": 6,
    "start_time": "2022-11-09T11:58:19.187Z"
   },
   {
    "duration": 12,
    "start_time": "2022-11-09T11:58:32.170Z"
   },
   {
    "duration": 94,
    "start_time": "2022-11-09T11:58:42.185Z"
   },
   {
    "duration": 18,
    "start_time": "2022-11-09T11:58:46.049Z"
   },
   {
    "duration": 20,
    "start_time": "2022-11-09T11:59:01.449Z"
   },
   {
    "duration": 20,
    "start_time": "2022-11-09T11:59:10.945Z"
   },
   {
    "duration": 18,
    "start_time": "2022-11-09T11:59:17.961Z"
   },
   {
    "duration": 89,
    "start_time": "2022-11-09T11:59:23.713Z"
   },
   {
    "duration": 18,
    "start_time": "2022-11-09T11:59:38.379Z"
   },
   {
    "duration": 17,
    "start_time": "2022-11-09T11:59:46.642Z"
   },
   {
    "duration": 31,
    "start_time": "2022-11-09T12:00:02.939Z"
   },
   {
    "duration": 22,
    "start_time": "2022-11-09T12:00:15.489Z"
   },
   {
    "duration": 19,
    "start_time": "2022-11-09T12:00:20.505Z"
   },
   {
    "duration": 21,
    "start_time": "2022-11-09T12:00:36.811Z"
   },
   {
    "duration": 21,
    "start_time": "2022-11-09T12:00:45.401Z"
   },
   {
    "duration": 19,
    "start_time": "2022-11-09T12:01:07.089Z"
   },
   {
    "duration": 16,
    "start_time": "2022-11-09T12:01:22.553Z"
   },
   {
    "duration": 14,
    "start_time": "2022-11-09T12:01:34.616Z"
   },
   {
    "duration": 17,
    "start_time": "2022-11-09T12:01:53.753Z"
   },
   {
    "duration": 15,
    "start_time": "2022-11-09T12:02:28.664Z"
   },
   {
    "duration": 72,
    "start_time": "2022-11-09T12:02:50.106Z"
   },
   {
    "duration": 14,
    "start_time": "2022-11-09T12:02:55.792Z"
   },
   {
    "duration": 13,
    "start_time": "2022-11-09T12:04:25.096Z"
   },
   {
    "duration": 21,
    "start_time": "2022-11-09T12:04:39.800Z"
   },
   {
    "duration": 73,
    "start_time": "2022-11-09T12:04:47.227Z"
   },
   {
    "duration": 23,
    "start_time": "2022-11-09T12:04:51.321Z"
   },
   {
    "duration": 19,
    "start_time": "2022-11-09T12:05:18.888Z"
   },
   {
    "duration": 20,
    "start_time": "2022-11-09T12:05:26.960Z"
   },
   {
    "duration": 7,
    "start_time": "2022-11-09T12:05:39.208Z"
   },
   {
    "duration": 7,
    "start_time": "2022-11-09T12:05:48.320Z"
   },
   {
    "duration": 99,
    "start_time": "2022-11-09T12:05:55.370Z"
   },
   {
    "duration": 75,
    "start_time": "2022-11-09T12:06:02.664Z"
   },
   {
    "duration": 67,
    "start_time": "2022-11-09T12:06:06.496Z"
   },
   {
    "duration": 70,
    "start_time": "2022-11-09T12:06:11.792Z"
   },
   {
    "duration": 20,
    "start_time": "2022-11-09T12:06:22.761Z"
   },
   {
    "duration": 69,
    "start_time": "2022-11-09T12:06:26.416Z"
   },
   {
    "duration": 19,
    "start_time": "2022-11-09T12:06:30.136Z"
   },
   {
    "duration": 68,
    "start_time": "2022-11-09T12:19:08.063Z"
   },
   {
    "duration": 20,
    "start_time": "2022-11-09T12:19:12.952Z"
   },
   {
    "duration": 74,
    "start_time": "2022-11-09T12:19:37.432Z"
   },
   {
    "duration": 87,
    "start_time": "2022-11-09T12:19:41.311Z"
   },
   {
    "duration": 70,
    "start_time": "2022-11-09T12:19:45.479Z"
   },
   {
    "duration": 64,
    "start_time": "2022-11-09T12:19:48.231Z"
   },
   {
    "duration": 77,
    "start_time": "2022-11-09T12:19:52.487Z"
   },
   {
    "duration": 65,
    "start_time": "2022-11-09T12:19:58.287Z"
   },
   {
    "duration": 32,
    "start_time": "2022-11-09T12:20:02.351Z"
   },
   {
    "duration": 20,
    "start_time": "2022-11-09T12:20:14.871Z"
   },
   {
    "duration": 19,
    "start_time": "2022-11-09T12:20:41.487Z"
   },
   {
    "duration": 10,
    "start_time": "2022-11-09T12:20:42.430Z"
   },
   {
    "duration": 21,
    "start_time": "2022-11-09T12:21:00.336Z"
   },
   {
    "duration": 31,
    "start_time": "2022-11-09T12:21:14.310Z"
   },
   {
    "duration": 29,
    "start_time": "2022-11-09T12:21:40.185Z"
   },
   {
    "duration": 31,
    "start_time": "2022-11-09T12:21:46.478Z"
   },
   {
    "duration": 29,
    "start_time": "2022-11-09T12:23:09.574Z"
   },
   {
    "duration": 66,
    "start_time": "2022-11-09T12:23:38.742Z"
   },
   {
    "duration": 89,
    "start_time": "2022-11-09T12:39:52.836Z"
   },
   {
    "duration": 30,
    "start_time": "2022-11-09T12:50:07.346Z"
   },
   {
    "duration": 31,
    "start_time": "2022-11-09T12:50:29.603Z"
   },
   {
    "duration": 30,
    "start_time": "2022-11-09T12:50:52.226Z"
   },
   {
    "duration": 29,
    "start_time": "2022-11-09T12:51:08.306Z"
   },
   {
    "duration": 31,
    "start_time": "2022-11-09T12:51:17.052Z"
   },
   {
    "duration": 286,
    "start_time": "2022-11-09T12:54:06.833Z"
   },
   {
    "duration": 7,
    "start_time": "2022-11-09T12:54:29.299Z"
   },
   {
    "duration": 38,
    "start_time": "2022-11-09T12:54:48.896Z"
   },
   {
    "duration": 31,
    "start_time": "2022-11-09T12:54:58.273Z"
   },
   {
    "duration": 3,
    "start_time": "2022-11-09T12:55:39.521Z"
   },
   {
    "duration": 4,
    "start_time": "2022-11-09T12:55:43.972Z"
   },
   {
    "duration": 22,
    "start_time": "2022-11-09T12:55:53.281Z"
   },
   {
    "duration": 9,
    "start_time": "2022-11-09T12:56:02.520Z"
   },
   {
    "duration": 8,
    "start_time": "2022-11-09T12:56:11.801Z"
   },
   {
    "duration": 36,
    "start_time": "2022-11-09T12:56:22.745Z"
   },
   {
    "duration": 18,
    "start_time": "2022-11-09T12:56:39.520Z"
   },
   {
    "duration": 19,
    "start_time": "2022-11-09T12:56:51.960Z"
   },
   {
    "duration": 17,
    "start_time": "2022-11-09T12:57:10.777Z"
   },
   {
    "duration": 14,
    "start_time": "2022-11-09T12:57:44.273Z"
   },
   {
    "duration": 14,
    "start_time": "2022-11-09T12:57:51.224Z"
   },
   {
    "duration": 19,
    "start_time": "2022-11-09T12:58:04.112Z"
   },
   {
    "duration": 70,
    "start_time": "2022-11-09T12:59:02.849Z"
   },
   {
    "duration": 65,
    "start_time": "2022-11-09T12:59:09.576Z"
   },
   {
    "duration": 681,
    "start_time": "2022-11-09T12:59:37.240Z"
   },
   {
    "duration": 15,
    "start_time": "2022-11-09T12:59:59.953Z"
   },
   {
    "duration": 687,
    "start_time": "2022-11-09T13:00:09.128Z"
   },
   {
    "duration": 8,
    "start_time": "2022-11-09T13:00:40.578Z"
   },
   {
    "duration": 16,
    "start_time": "2022-11-09T13:00:46.641Z"
   },
   {
    "duration": 17,
    "start_time": "2022-11-09T13:00:53.448Z"
   },
   {
    "duration": 19,
    "start_time": "2022-11-09T13:01:04.001Z"
   },
   {
    "duration": 6,
    "start_time": "2022-11-09T13:01:09.880Z"
   },
   {
    "duration": 17,
    "start_time": "2022-11-09T13:01:19.418Z"
   },
   {
    "duration": 21,
    "start_time": "2022-11-09T13:01:46.975Z"
   },
   {
    "duration": 21,
    "start_time": "2022-11-09T13:01:59.137Z"
   },
   {
    "duration": 22,
    "start_time": "2022-11-09T13:02:04.287Z"
   },
   {
    "duration": 21,
    "start_time": "2022-11-09T13:02:09.475Z"
   },
   {
    "duration": 8,
    "start_time": "2022-11-09T13:02:25.671Z"
   },
   {
    "duration": 34,
    "start_time": "2022-11-09T13:02:45.632Z"
   },
   {
    "duration": 22,
    "start_time": "2022-11-09T13:03:10.887Z"
   },
   {
    "duration": 17,
    "start_time": "2022-11-09T13:03:28.808Z"
   },
   {
    "duration": 75,
    "start_time": "2022-11-09T13:03:35.511Z"
   },
   {
    "duration": 17,
    "start_time": "2022-11-09T13:03:46.320Z"
   },
   {
    "duration": 698,
    "start_time": "2022-11-09T13:05:34.599Z"
   },
   {
    "duration": 8,
    "start_time": "2022-11-09T13:05:43.407Z"
   },
   {
    "duration": 16,
    "start_time": "2022-11-09T13:05:47.296Z"
   },
   {
    "duration": 66,
    "start_time": "2022-11-09T13:06:39.400Z"
   },
   {
    "duration": 17,
    "start_time": "2022-11-09T13:06:56.407Z"
   },
   {
    "duration": 20,
    "start_time": "2022-11-09T13:07:30.607Z"
   },
   {
    "duration": 71,
    "start_time": "2022-11-09T13:07:37.799Z"
   },
   {
    "duration": 67,
    "start_time": "2022-11-09T13:07:56.895Z"
   },
   {
    "duration": 25,
    "start_time": "2022-11-09T13:08:06.023Z"
   },
   {
    "duration": 32,
    "start_time": "2022-11-09T13:08:32.712Z"
   },
   {
    "duration": 39,
    "start_time": "2022-11-09T13:09:03.183Z"
   },
   {
    "duration": 50,
    "start_time": "2022-11-09T13:09:21.767Z"
   },
   {
    "duration": 23,
    "start_time": "2022-11-09T13:09:33.687Z"
   },
   {
    "duration": 24,
    "start_time": "2022-11-09T13:10:01.647Z"
   },
   {
    "duration": 32,
    "start_time": "2022-11-09T13:10:22.791Z"
   },
   {
    "duration": 89,
    "start_time": "2022-11-09T13:11:02.039Z"
   },
   {
    "duration": 78,
    "start_time": "2022-11-09T13:11:27.838Z"
   },
   {
    "duration": 96,
    "start_time": "2022-11-09T13:11:31.817Z"
   },
   {
    "duration": 69,
    "start_time": "2022-11-09T13:11:55.478Z"
   },
   {
    "duration": 44,
    "start_time": "2022-11-09T13:12:04.887Z"
   },
   {
    "duration": 72,
    "start_time": "2022-11-09T13:12:17.783Z"
   },
   {
    "duration": 43,
    "start_time": "2022-11-09T13:12:26.150Z"
   },
   {
    "duration": 28,
    "start_time": "2022-11-09T13:12:47.519Z"
   },
   {
    "duration": 28,
    "start_time": "2022-11-09T13:13:54.989Z"
   },
   {
    "duration": 16,
    "start_time": "2022-11-09T13:14:12.278Z"
   },
   {
    "duration": 72,
    "start_time": "2022-11-09T13:15:21.190Z"
   },
   {
    "duration": 72,
    "start_time": "2022-11-09T13:15:53.734Z"
   },
   {
    "duration": 78,
    "start_time": "2022-11-09T13:16:05.190Z"
   },
   {
    "duration": 82,
    "start_time": "2022-11-09T13:16:19.367Z"
   },
   {
    "duration": 109,
    "start_time": "2022-11-09T13:16:27.313Z"
   },
   {
    "duration": 79,
    "start_time": "2022-11-09T13:16:42.047Z"
   },
   {
    "duration": 78,
    "start_time": "2022-11-09T13:16:57.294Z"
   },
   {
    "duration": 485,
    "start_time": "2022-11-10T08:02:19.574Z"
   },
   {
    "duration": 22,
    "start_time": "2022-11-10T08:02:20.061Z"
   },
   {
    "duration": 17,
    "start_time": "2022-11-10T08:02:20.085Z"
   },
   {
    "duration": 9,
    "start_time": "2022-11-10T08:02:20.104Z"
   },
   {
    "duration": 52,
    "start_time": "2022-11-10T08:02:20.114Z"
   },
   {
    "duration": 4,
    "start_time": "2022-11-10T08:02:20.167Z"
   },
   {
    "duration": 19,
    "start_time": "2022-11-10T08:02:20.172Z"
   },
   {
    "duration": 4,
    "start_time": "2022-11-10T08:02:20.193Z"
   },
   {
    "duration": 15,
    "start_time": "2022-11-10T08:02:20.198Z"
   },
   {
    "duration": 16,
    "start_time": "2022-11-10T08:02:20.216Z"
   },
   {
    "duration": 37,
    "start_time": "2022-11-10T08:02:20.233Z"
   },
   {
    "duration": 11,
    "start_time": "2022-11-10T08:02:20.271Z"
   },
   {
    "duration": 5,
    "start_time": "2022-11-10T08:02:20.283Z"
   },
   {
    "duration": 18,
    "start_time": "2022-11-10T08:02:20.289Z"
   },
   {
    "duration": 20,
    "start_time": "2022-11-10T08:02:20.308Z"
   },
   {
    "duration": 37,
    "start_time": "2022-11-10T08:02:20.329Z"
   },
   {
    "duration": 3,
    "start_time": "2022-11-10T08:02:20.368Z"
   },
   {
    "duration": 13,
    "start_time": "2022-11-10T08:02:20.374Z"
   },
   {
    "duration": 12,
    "start_time": "2022-11-10T08:02:20.389Z"
   },
   {
    "duration": 4,
    "start_time": "2022-11-10T08:02:20.403Z"
   },
   {
    "duration": 10,
    "start_time": "2022-11-10T08:02:20.409Z"
   },
   {
    "duration": 43,
    "start_time": "2022-11-10T08:02:20.421Z"
   },
   {
    "duration": 7,
    "start_time": "2022-11-10T08:02:20.466Z"
   },
   {
    "duration": 10,
    "start_time": "2022-11-10T08:02:20.474Z"
   },
   {
    "duration": 11,
    "start_time": "2022-11-10T08:02:20.485Z"
   },
   {
    "duration": 25,
    "start_time": "2022-11-10T08:02:20.497Z"
   },
   {
    "duration": 34,
    "start_time": "2022-11-10T08:02:20.524Z"
   },
   {
    "duration": 21,
    "start_time": "2022-11-10T08:02:20.561Z"
   },
   {
    "duration": 10,
    "start_time": "2022-11-10T08:02:20.584Z"
   },
   {
    "duration": 15,
    "start_time": "2022-11-10T08:02:20.596Z"
   },
   {
    "duration": 7,
    "start_time": "2022-11-10T08:02:20.613Z"
   },
   {
    "duration": 32,
    "start_time": "2022-11-10T08:02:20.622Z"
   },
   {
    "duration": 24,
    "start_time": "2022-11-10T08:02:30.533Z"
   },
   {
    "duration": 26,
    "start_time": "2022-11-10T08:06:01.822Z"
   },
   {
    "duration": 732,
    "start_time": "2022-11-10T08:06:18.854Z"
   },
   {
    "duration": 60,
    "start_time": "2022-11-10T08:06:29.860Z"
   },
   {
    "duration": 88,
    "start_time": "2022-11-10T08:06:35.247Z"
   },
   {
    "duration": 85,
    "start_time": "2022-11-10T08:06:45.901Z"
   },
   {
    "duration": 70,
    "start_time": "2022-11-10T08:06:52.964Z"
   },
   {
    "duration": 83,
    "start_time": "2022-11-10T08:06:56.510Z"
   },
   {
    "duration": 73,
    "start_time": "2022-11-10T08:07:02.645Z"
   },
   {
    "duration": 84,
    "start_time": "2022-11-10T08:07:16.468Z"
   },
   {
    "duration": 75,
    "start_time": "2022-11-10T08:07:21.066Z"
   },
   {
    "duration": 21,
    "start_time": "2022-11-10T08:07:34.469Z"
   },
   {
    "duration": 22,
    "start_time": "2022-11-10T08:07:47.324Z"
   },
   {
    "duration": 83,
    "start_time": "2022-11-10T08:23:52.608Z"
   },
   {
    "duration": 8,
    "start_time": "2022-11-10T08:24:11.712Z"
   },
   {
    "duration": 7,
    "start_time": "2022-11-10T08:24:23.697Z"
   },
   {
    "duration": 20,
    "start_time": "2022-11-10T08:28:08.055Z"
   },
   {
    "duration": 32,
    "start_time": "2022-11-10T08:32:44.768Z"
   },
   {
    "duration": 32,
    "start_time": "2022-11-10T08:33:32.936Z"
   },
   {
    "duration": 22,
    "start_time": "2022-11-10T08:33:45.167Z"
   },
   {
    "duration": 72,
    "start_time": "2022-11-10T08:34:35.719Z"
   },
   {
    "duration": 79,
    "start_time": "2022-11-10T08:35:01.920Z"
   },
   {
    "duration": 76,
    "start_time": "2022-11-10T08:35:13.735Z"
   },
   {
    "duration": 46,
    "start_time": "2022-11-10T08:35:21.311Z"
   },
   {
    "duration": 20,
    "start_time": "2022-11-10T08:35:30.887Z"
   },
   {
    "duration": 69,
    "start_time": "2022-11-10T08:35:53.095Z"
   },
   {
    "duration": 23,
    "start_time": "2022-11-10T08:36:03.654Z"
   },
   {
    "duration": 29,
    "start_time": "2022-11-10T08:36:10.327Z"
   },
   {
    "duration": 29,
    "start_time": "2022-11-10T08:36:35.087Z"
   },
   {
    "duration": 30,
    "start_time": "2022-11-10T08:36:57.631Z"
   },
   {
    "duration": 8,
    "start_time": "2022-11-10T08:37:35.841Z"
   },
   {
    "duration": 28,
    "start_time": "2022-11-10T08:37:47.513Z"
   },
   {
    "duration": 18,
    "start_time": "2022-11-10T08:37:59.775Z"
   },
   {
    "duration": 29,
    "start_time": "2022-11-10T08:39:50.886Z"
   },
   {
    "duration": 9,
    "start_time": "2022-11-10T08:40:13.502Z"
   },
   {
    "duration": 94,
    "start_time": "2022-11-10T08:40:17.990Z"
   },
   {
    "duration": 18,
    "start_time": "2022-11-10T08:40:24.862Z"
   },
   {
    "duration": 20,
    "start_time": "2022-11-10T08:40:37.710Z"
   },
   {
    "duration": 19,
    "start_time": "2022-11-10T08:40:49.518Z"
   },
   {
    "duration": 72,
    "start_time": "2022-11-10T08:41:05.166Z"
   },
   {
    "duration": 21,
    "start_time": "2022-11-10T08:41:08.941Z"
   },
   {
    "duration": 27,
    "start_time": "2022-11-10T08:41:33.270Z"
   },
   {
    "duration": 34,
    "start_time": "2022-11-10T08:41:42.501Z"
   },
   {
    "duration": 30,
    "start_time": "2022-11-10T08:41:52.902Z"
   },
   {
    "duration": 8,
    "start_time": "2022-11-10T08:52:23.141Z"
   },
   {
    "duration": 7,
    "start_time": "2022-11-10T08:52:31.271Z"
   },
   {
    "duration": 19,
    "start_time": "2022-11-10T08:52:39.116Z"
   },
   {
    "duration": 7,
    "start_time": "2022-11-10T08:53:01.253Z"
   },
   {
    "duration": 8,
    "start_time": "2022-11-10T08:53:28.701Z"
   },
   {
    "duration": 7,
    "start_time": "2022-11-10T08:53:37.197Z"
   },
   {
    "duration": 18,
    "start_time": "2022-11-10T08:53:49.260Z"
   },
   {
    "duration": 37,
    "start_time": "2022-11-10T08:54:24.013Z"
   },
   {
    "duration": 9,
    "start_time": "2022-11-10T08:54:45.428Z"
   },
   {
    "duration": 21,
    "start_time": "2022-11-10T08:55:13.093Z"
   },
   {
    "duration": 18,
    "start_time": "2022-11-10T08:55:45.501Z"
   },
   {
    "duration": 73,
    "start_time": "2022-11-10T08:58:43.939Z"
   },
   {
    "duration": 21,
    "start_time": "2022-11-10T08:58:54.945Z"
   },
   {
    "duration": 32,
    "start_time": "2022-11-10T08:59:21.124Z"
   },
   {
    "duration": 76,
    "start_time": "2022-11-10T09:00:28.580Z"
   },
   {
    "duration": 16,
    "start_time": "2022-11-10T09:00:44.836Z"
   },
   {
    "duration": 236,
    "start_time": "2022-11-10T09:00:50.467Z"
   },
   {
    "duration": 293,
    "start_time": "2022-11-10T09:01:20.316Z"
   },
   {
    "duration": 1933,
    "start_time": "2022-11-10T09:01:32.004Z"
   },
   {
    "duration": 18,
    "start_time": "2022-11-10T09:01:47.148Z"
   },
   {
    "duration": 17,
    "start_time": "2022-11-10T09:02:01.076Z"
   },
   {
    "duration": 6,
    "start_time": "2022-11-10T09:02:54.892Z"
   },
   {
    "duration": 62,
    "start_time": "2022-11-10T09:02:57.275Z"
   },
   {
    "duration": 22,
    "start_time": "2022-11-10T09:03:11.901Z"
   },
   {
    "duration": 19,
    "start_time": "2022-11-10T09:03:13.971Z"
   },
   {
    "duration": 36,
    "start_time": "2022-11-10T09:03:46.427Z"
   },
   {
    "duration": 35,
    "start_time": "2022-11-10T09:03:53.823Z"
   },
   {
    "duration": 36,
    "start_time": "2022-11-10T09:04:03.723Z"
   },
   {
    "duration": 36,
    "start_time": "2022-11-10T09:04:11.947Z"
   },
   {
    "duration": 40,
    "start_time": "2022-11-10T09:04:21.499Z"
   },
   {
    "duration": 42,
    "start_time": "2022-11-10T09:18:40.937Z"
   },
   {
    "duration": 36,
    "start_time": "2022-11-10T09:18:45.816Z"
   },
   {
    "duration": 38,
    "start_time": "2022-11-10T09:19:17.154Z"
   },
   {
    "duration": 34,
    "start_time": "2022-11-10T09:19:39.937Z"
   },
   {
    "duration": 36,
    "start_time": "2022-11-10T09:20:04.113Z"
   },
   {
    "duration": 36,
    "start_time": "2022-11-10T09:20:12.769Z"
   },
   {
    "duration": 29,
    "start_time": "2022-11-10T09:20:33.704Z"
   },
   {
    "duration": 20,
    "start_time": "2022-11-10T09:20:43.704Z"
   },
   {
    "duration": 20,
    "start_time": "2022-11-10T09:20:51.052Z"
   },
   {
    "duration": 13,
    "start_time": "2022-11-10T09:21:07.720Z"
   },
   {
    "duration": 11,
    "start_time": "2022-11-10T09:22:01.072Z"
   },
   {
    "duration": 13,
    "start_time": "2022-11-10T09:22:32.792Z"
   },
   {
    "duration": 13,
    "start_time": "2022-11-10T09:22:44.903Z"
   },
   {
    "duration": 15,
    "start_time": "2022-11-10T09:22:59.160Z"
   },
   {
    "duration": 33,
    "start_time": "2022-11-10T09:24:25.703Z"
   },
   {
    "duration": 20,
    "start_time": "2022-11-10T09:24:37.615Z"
   },
   {
    "duration": 15,
    "start_time": "2022-11-10T09:24:39.055Z"
   },
   {
    "duration": 7,
    "start_time": "2022-11-10T09:37:34.354Z"
   },
   {
    "duration": 26,
    "start_time": "2022-11-10T09:37:48.145Z"
   },
   {
    "duration": 8,
    "start_time": "2022-11-10T09:51:09.013Z"
   },
   {
    "duration": 27,
    "start_time": "2022-11-10T09:51:21.444Z"
   },
   {
    "duration": 27,
    "start_time": "2022-11-10T09:51:33.395Z"
   },
   {
    "duration": 1511,
    "start_time": "2022-11-10T09:51:44.203Z"
   },
   {
    "duration": 28,
    "start_time": "2022-11-10T09:51:52.003Z"
   },
   {
    "duration": 29,
    "start_time": "2022-11-10T09:52:39.092Z"
   },
   {
    "duration": 82,
    "start_time": "2022-11-10T10:04:26.058Z"
   },
   {
    "duration": 25,
    "start_time": "2022-11-10T10:04:40.819Z"
   },
   {
    "duration": 1102,
    "start_time": "2022-11-10T10:05:18.720Z"
   },
   {
    "duration": 25,
    "start_time": "2022-11-10T10:08:16.658Z"
   },
   {
    "duration": 26,
    "start_time": "2022-11-10T10:09:21.099Z"
   },
   {
    "duration": 21,
    "start_time": "2022-11-10T10:10:35.706Z"
   },
   {
    "duration": 24,
    "start_time": "2022-11-10T10:10:44.482Z"
   },
   {
    "duration": 28,
    "start_time": "2022-11-10T10:11:24.972Z"
   },
   {
    "duration": 28,
    "start_time": "2022-11-10T10:11:35.554Z"
   },
   {
    "duration": 29,
    "start_time": "2022-11-10T10:11:53.121Z"
   },
   {
    "duration": 25,
    "start_time": "2022-11-10T10:12:59.002Z"
   },
   {
    "duration": 25,
    "start_time": "2022-11-10T10:13:13.859Z"
   },
   {
    "duration": 32,
    "start_time": "2022-11-10T10:13:32.426Z"
   },
   {
    "duration": 40,
    "start_time": "2022-11-10T10:13:42.394Z"
   },
   {
    "duration": 30,
    "start_time": "2022-11-10T10:13:56.594Z"
   },
   {
    "duration": 32,
    "start_time": "2022-11-10T10:14:03.553Z"
   },
   {
    "duration": 30,
    "start_time": "2022-11-10T10:21:02.819Z"
   },
   {
    "duration": 38,
    "start_time": "2022-11-10T10:29:24.808Z"
   },
   {
    "duration": 33,
    "start_time": "2022-11-10T10:29:37.643Z"
   },
   {
    "duration": 31,
    "start_time": "2022-11-10T10:33:41.064Z"
   },
   {
    "duration": 31,
    "start_time": "2022-11-10T10:33:56.432Z"
   },
   {
    "duration": 32,
    "start_time": "2022-11-10T10:35:09.855Z"
   },
   {
    "duration": 54,
    "start_time": "2022-11-10T10:35:27.191Z"
   },
   {
    "duration": 31,
    "start_time": "2022-11-10T10:35:37.993Z"
   },
   {
    "duration": 33,
    "start_time": "2022-11-10T10:41:55.679Z"
   },
   {
    "duration": 29,
    "start_time": "2022-11-10T10:42:11.454Z"
   },
   {
    "duration": 38,
    "start_time": "2022-11-10T10:42:21.342Z"
   },
   {
    "duration": 31,
    "start_time": "2022-11-10T10:42:33.086Z"
   },
   {
    "duration": 35,
    "start_time": "2022-11-10T10:42:38.102Z"
   },
   {
    "duration": 32,
    "start_time": "2022-11-10T10:42:43.326Z"
   },
   {
    "duration": 25,
    "start_time": "2022-11-10T10:42:52.222Z"
   },
   {
    "duration": 29,
    "start_time": "2022-11-10T10:43:03.960Z"
   },
   {
    "duration": 29,
    "start_time": "2022-11-10T10:43:37.631Z"
   },
   {
    "duration": 30,
    "start_time": "2022-11-10T10:44:02.998Z"
   },
   {
    "duration": 28,
    "start_time": "2022-11-10T10:44:33.431Z"
   },
   {
    "duration": 27,
    "start_time": "2022-11-10T10:44:38.758Z"
   },
   {
    "duration": 28,
    "start_time": "2022-11-10T10:45:16.158Z"
   },
   {
    "duration": 28,
    "start_time": "2022-11-10T10:45:29.510Z"
   },
   {
    "duration": 28,
    "start_time": "2022-11-10T10:45:41.462Z"
   },
   {
    "duration": 30,
    "start_time": "2022-11-10T10:45:47.664Z"
   },
   {
    "duration": 30,
    "start_time": "2022-11-10T10:47:47.693Z"
   },
   {
    "duration": 76,
    "start_time": "2022-11-10T10:50:47.085Z"
   },
   {
    "duration": 72,
    "start_time": "2022-11-10T10:50:56.478Z"
   },
   {
    "duration": 80,
    "start_time": "2022-11-10T10:51:11.309Z"
   },
   {
    "duration": 67,
    "start_time": "2022-11-10T10:51:14.805Z"
   },
   {
    "duration": 93,
    "start_time": "2022-11-10T10:51:25.574Z"
   },
   {
    "duration": 69,
    "start_time": "2022-11-10T10:51:31.662Z"
   },
   {
    "duration": 71,
    "start_time": "2022-11-10T10:51:40.084Z"
   },
   {
    "duration": 33,
    "start_time": "2022-11-10T10:53:54.420Z"
   },
   {
    "duration": 27,
    "start_time": "2022-11-10T10:54:25.124Z"
   },
   {
    "duration": 31,
    "start_time": "2022-11-10T10:54:26.684Z"
   },
   {
    "duration": 33,
    "start_time": "2022-11-10T10:54:32.972Z"
   },
   {
    "duration": 31,
    "start_time": "2022-11-10T10:54:47.142Z"
   },
   {
    "duration": 35,
    "start_time": "2022-11-10T10:55:06.533Z"
   },
   {
    "duration": 33,
    "start_time": "2022-11-10T10:55:16.236Z"
   }
  ],
  "colab": {
   "name": "dpp_template_part2.ipynb",
   "provenance": []
  },
  "kernelspec": {
   "display_name": "Python 3 (ipykernel)",
   "language": "python",
   "name": "python3"
  },
  "language_info": {
   "codemirror_mode": {
    "name": "ipython",
    "version": 3
   },
   "file_extension": ".py",
   "mimetype": "text/x-python",
   "name": "python",
   "nbconvert_exporter": "python",
   "pygments_lexer": "ipython3",
   "version": "3.9.13"
  },
  "toc": {
   "base_numbering": 1,
   "nav_menu": {},
   "number_sections": true,
   "sideBar": true,
   "skip_h1_title": true,
   "title_cell": "Исследование надежности заемщиков",
   "title_sidebar": "Contents",
   "toc_cell": false,
   "toc_position": {},
   "toc_section_display": true,
   "toc_window_display": true
  }
 },
 "nbformat": 4,
 "nbformat_minor": 5
}
