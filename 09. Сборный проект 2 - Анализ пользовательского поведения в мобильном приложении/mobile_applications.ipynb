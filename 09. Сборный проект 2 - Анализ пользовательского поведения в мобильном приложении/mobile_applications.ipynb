{
 "cells": [
  {
   "cell_type": "markdown",
   "id": "1ba52f0d",
   "metadata": {
    "toc": true
   },
   "source": [
    "<h1>Сборный проект-2<span class=\"tocSkip\"></span></h1>\n",
    "<div class=\"toc\"><ul class=\"toc-item\"><li><span><a href=\"#Загрузка-данных-и-подготовка-их-к-анализу\" data-toc-modified-id=\"Загрузка-данных-и-подготовка-их-к-анализу-1\"><span class=\"toc-item-num\">1&nbsp;&nbsp;</span>Загрузка данных и подготовка их к анализу</a></span><ul class=\"toc-item\"><li><span><a href=\"#Ознакамливаюсь-со-структурой-данных\" data-toc-modified-id=\"Ознакамливаюсь-со-структурой-данных-1.1\"><span class=\"toc-item-num\">1.1&nbsp;&nbsp;</span>Ознакамливаюсь со структурой данных</a></span></li><li><span><a href=\"#Определяю-наличие-пропусков-и-формат-данных\" data-toc-modified-id=\"Определяю-наличие-пропусков-и-формат-данных-1.2\"><span class=\"toc-item-num\">1.2&nbsp;&nbsp;</span>Определяю наличие пропусков и формат данных</a></span></li><li><span><a href=\"#Переименуем-название-колонок\" data-toc-modified-id=\"Переименуем-название-колонок-1.3\"><span class=\"toc-item-num\">1.3&nbsp;&nbsp;</span>Переименуем название колонок</a></span></li><li><span><a href=\"#Переименуем-название-групп\" data-toc-modified-id=\"Переименуем-название-групп-1.4\"><span class=\"toc-item-num\">1.4&nbsp;&nbsp;</span>Переименуем название групп</a></span></li><li><span><a href=\"#Проверяю-на-наличие-дубликатов-явных\" data-toc-modified-id=\"Проверяю-на-наличие-дубликатов-явных-1.5\"><span class=\"toc-item-num\">1.5&nbsp;&nbsp;</span>Проверяю на наличие дубликатов явных</a></span></li><li><span><a href=\"#Проверяю-наличие-неявных\" data-toc-modified-id=\"Проверяю-наличие-неявных-1.6\"><span class=\"toc-item-num\">1.6&nbsp;&nbsp;</span>Проверяю наличие неявных</a></span></li></ul></li><li><span><a href=\"#Изучаем--и-проверяем-данные\" data-toc-modified-id=\"Изучаем--и-проверяем-данные-2\"><span class=\"toc-item-num\">2&nbsp;&nbsp;</span>Изучаем  и проверяем данные</a></span><ul class=\"toc-item\"><li><span><a href=\"#Сколько-всего-событий-в-логе?\" data-toc-modified-id=\"Сколько-всего-событий-в-логе?-2.1\"><span class=\"toc-item-num\">2.1&nbsp;&nbsp;</span>Сколько всего событий в логе?</a></span></li><li><span><a href=\"#Сколько-всего-пользователей-в-логе?\" data-toc-modified-id=\"Сколько-всего-пользователей-в-логе?-2.2\"><span class=\"toc-item-num\">2.2&nbsp;&nbsp;</span>Сколько всего пользователей в логе?</a></span></li><li><span><a href=\"#Сколько-в-среднем-событий-приходится-на-пользователя?\" data-toc-modified-id=\"Сколько-в-среднем-событий-приходится-на-пользователя?-2.3\"><span class=\"toc-item-num\">2.3&nbsp;&nbsp;</span>Сколько в среднем событий приходится на пользователя?</a></span></li><li><span><a href=\"#Данными-за-какой-период-мы-располагаем?\" data-toc-modified-id=\"Данными-за-какой-период-мы-располагаем?-2.4\"><span class=\"toc-item-num\">2.4&nbsp;&nbsp;</span>Данными за какой период мы располагаем?</a></span></li><li><span><a href=\"#Много-ли-событий-и-пользователей-вы-потеряли,-отбросив-старые-данные?\" data-toc-modified-id=\"Много-ли-событий-и-пользователей-вы-потеряли,-отбросив-старые-данные?-2.5\"><span class=\"toc-item-num\">2.5&nbsp;&nbsp;</span>Много ли событий и пользователей вы потеряли, отбросив старые данные?</a></span></li><li><span><a href=\"#Проверяем,-что-у-нас-есть-пользователи-из-всех-трёх-экспериментальных-групп.\" data-toc-modified-id=\"Проверяем,-что-у-нас-есть-пользователи-из-всех-трёх-экспериментальных-групп.-2.6\"><span class=\"toc-item-num\">2.6&nbsp;&nbsp;</span>Проверяем, что у нас есть пользователи из всех трёх экспериментальных групп.</a></span></li></ul></li><li><span><a href=\"#Изучаем-воронку-событий\" data-toc-modified-id=\"Изучаем-воронку-событий-3\"><span class=\"toc-item-num\">3&nbsp;&nbsp;</span>Изучаем воронку событий</a></span><ul class=\"toc-item\"><li><span><a href=\"#Посмотрим,-какие-события-есть-в-логах,-как-часто-они-встречаются.-Отсортируем-события-по-частоте\" data-toc-modified-id=\"Посмотрим,-какие-события-есть-в-логах,-как-часто-они-встречаются.-Отсортируем-события-по-частоте-3.1\"><span class=\"toc-item-num\">3.1&nbsp;&nbsp;</span>Посмотрим, какие события есть в логах, как часто они встречаются. Отсортируем события по частоте</a></span></li><li><span><a href=\"#Сколько-пользователей-совершали-каждое-из-этих-событий.-На-каком-шаге-самая-большая-просадка-и-какая-доля-пользователей-доходит-до-успешной-покупки.\" data-toc-modified-id=\"Сколько-пользователей-совершали-каждое-из-этих-событий.-На-каком-шаге-самая-большая-просадка-и-какая-доля-пользователей-доходит-до-успешной-покупки.-3.2\"><span class=\"toc-item-num\">3.2&nbsp;&nbsp;</span>Сколько пользователей совершали каждое из этих событий. На каком шаге самая большая просадка и какая доля пользователей доходит до успешной покупки.</a></span></li></ul></li><li><span><a href=\"#Изучаем-результаты-эксперимента\" data-toc-modified-id=\"Изучаем-результаты-эксперимента-4\"><span class=\"toc-item-num\">4&nbsp;&nbsp;</span>Изучаем результаты эксперимента</a></span><ul class=\"toc-item\"><li><span><a href=\"#Сколько-пользователей-в-каждой-экспериментальной-группе?\" data-toc-modified-id=\"Сколько-пользователей-в-каждой-экспериментальной-группе?-4.1\"><span class=\"toc-item-num\">4.1&nbsp;&nbsp;</span>Сколько пользователей в каждой экспериментальной группе?</a></span></li><li><span><a href=\"#Выбериаем-самое-популярное-событие.-Считаем-число-пользователей,-совершивших-это-событие-в-каждой-из-контрольных-групп.\" data-toc-modified-id=\"Выбериаем-самое-популярное-событие.-Считаем-число-пользователей,-совершивших-это-событие-в-каждой-из-контрольных-групп.-4.2\"><span class=\"toc-item-num\">4.2&nbsp;&nbsp;</span>Выбериаем самое популярное событие. Считаем число пользователей, совершивших это событие в каждой из контрольных групп.</a></span></li><li><span><a href=\"#Проверим-уровень-статистической-значимости-остальных-событий-между-А1-и-А\" data-toc-modified-id=\"Проверим-уровень-статистической-значимости-остальных-событий-между-А1-и-А-4.3\"><span class=\"toc-item-num\">4.3&nbsp;&nbsp;</span>Проверим уровень статистической значимости остальных событий между А1 и А</a></span></li><li><span><a href=\"#Проверим-уровень-статистической-значимости-остальных-событий-между-А-и-B\" data-toc-modified-id=\"Проверим-уровень-статистической-значимости-остальных-событий-между-А-и-B-4.4\"><span class=\"toc-item-num\">4.4&nbsp;&nbsp;</span>Проверим уровень статистической значимости остальных событий между А и B</a></span></li><li><span><a href=\"#Проверим-уровень-статистической-значимости-остальных-событий-между-А1-и-B\" data-toc-modified-id=\"Проверим-уровень-статистической-значимости-остальных-событий-между-А1-и-B-4.5\"><span class=\"toc-item-num\">4.5&nbsp;&nbsp;</span>Проверим уровень статистической значимости остальных событий между А1 и B</a></span></li><li><span><a href=\"#Сравнение-результатов-с-объединённой-контрольной-группой\" data-toc-modified-id=\"Сравнение-результатов-с-объединённой-контрольной-группой-4.6\"><span class=\"toc-item-num\">4.6&nbsp;&nbsp;</span>Сравнение результатов с объединённой контрольной группой</a></span></li></ul></li><li><span><a href=\"#Общий-вывод\" data-toc-modified-id=\"Общий-вывод-5\"><span class=\"toc-item-num\">5&nbsp;&nbsp;</span>Общий вывод</a></span></li></ul></div>"
   ]
  },
  {
   "cell_type": "markdown",
   "id": "502358e3",
   "metadata": {},
   "source": [
    "**Описание проекта**\n",
    "\n",
    "Вы работаете в стартапе, который продаёт продукты питания. Нужно разобраться, как ведут себя пользователи вашего мобильного приложения. \n",
    "\n",
    "\n",
    "Изучите воронку продаж. Узнайте, как пользователи доходят до покупки. Сколько пользователей доходит до покупки, а сколько — «застревает» на предыдущих шагах? На каких именно?\n",
    "\n",
    "\n",
    "После этого исследуйте результаты A/A/B-эксперимента. Дизайнеры захотели поменять шрифты во всём приложении, а менеджеры испугались, что пользователям будет непривычно. Договорились принять решение по результатам A/A/B-теста. Пользователей разбили на 3 группы: 2 контрольные со старыми шрифтами и одну экспериментальную — с новыми. Выясните, какой шрифт лучше.\n",
    "\n",
    "\n",
    "Создание двух групп A вместо одной имеет определённые преимущества. Если две контрольные группы окажутся равны, вы можете быть уверены в точности проведенного тестирования. Если же между значениями A и A будут существенные различия, это поможет обнаружить факторы, которые привели к искажению результатов. Сравнение контрольных групп также помогает понять, сколько времени и данных потребуется для дальнейших тестов.\n",
    "\n",
    "\n",
    "В случае общей аналитики и A/A/B-эксперимента работайте с одними и теми же данными. В реальных проектах всегда идут эксперименты. Аналитики исследуют качество работы приложения по общим данным, не учитывая принадлежность пользователей к экспериментам.\n",
    "\n",
    "\n",
    "**Описание данных**\n",
    "\n",
    "Каждая запись в логе — это действие пользователя, или событие. \n",
    "\n",
    "\n",
    "`EventName` — название события;\n",
    "\n",
    "\n",
    "`DeviceIDHash` — уникальный идентификатор пользователя;\n",
    "\n",
    "\n",
    "`EventTimestamp` — время события;\n",
    "\n",
    "\n",
    "`ExpId` — номер эксперимента: 246 и 247 — контрольные группы, а 248 — экспериментальная."
   ]
  },
  {
   "cell_type": "markdown",
   "id": "27fb3160",
   "metadata": {},
   "source": [
    "## Загрузка данных и подготовка их к анализу"
   ]
  },
  {
   "cell_type": "code",
   "execution_count": 1,
   "id": "9ebbb008",
   "metadata": {},
   "outputs": [],
   "source": [
    "# импортирую необходимые библитеки\n",
    "import pandas as pd\n",
    "import scipy.stats as stats\n",
    "import datetime as dt\n",
    "import numpy as np\n",
    "import matplotlib.pyplot as plt\n",
    "import seaborn as sns\n",
    "import math as mth\n",
    "\n",
    "\n",
    "import plotly.express as px\n",
    "from plotly import graph_objects as go\n",
    "\n",
    "\n",
    "#указываю путь к датасетам\n",
    "try:\n",
    "    logs = pd.read_csv('/datasets/logs_exp.csv', sep='\\t')\n",
    "except:\n",
    "    logs = pd.read_csv('logs_exp.csv', sep='\\t')\n",
    "    \n",
    "\n",
    "pd.set_option('display.max_colwidth', 0)"
   ]
  },
  {
   "cell_type": "markdown",
   "id": "5c9ec303",
   "metadata": {},
   "source": [
    "### Ознакамливаюсь со структурой данных \n"
   ]
  },
  {
   "cell_type": "code",
   "execution_count": 2,
   "id": "ae58424d",
   "metadata": {},
   "outputs": [
    {
     "data": {
      "text/html": [
       "<div>\n",
       "<style scoped>\n",
       "    .dataframe tbody tr th:only-of-type {\n",
       "        vertical-align: middle;\n",
       "    }\n",
       "\n",
       "    .dataframe tbody tr th {\n",
       "        vertical-align: top;\n",
       "    }\n",
       "\n",
       "    .dataframe thead th {\n",
       "        text-align: right;\n",
       "    }\n",
       "</style>\n",
       "<table border=\"1\" class=\"dataframe\">\n",
       "  <thead>\n",
       "    <tr style=\"text-align: right;\">\n",
       "      <th></th>\n",
       "      <th>EventName</th>\n",
       "      <th>DeviceIDHash</th>\n",
       "      <th>EventTimestamp</th>\n",
       "      <th>ExpId</th>\n",
       "    </tr>\n",
       "  </thead>\n",
       "  <tbody>\n",
       "    <tr>\n",
       "      <th>0</th>\n",
       "      <td>MainScreenAppear</td>\n",
       "      <td>4575588528974610257</td>\n",
       "      <td>1564029816</td>\n",
       "      <td>246</td>\n",
       "    </tr>\n",
       "    <tr>\n",
       "      <th>1</th>\n",
       "      <td>MainScreenAppear</td>\n",
       "      <td>7416695313311560658</td>\n",
       "      <td>1564053102</td>\n",
       "      <td>246</td>\n",
       "    </tr>\n",
       "    <tr>\n",
       "      <th>2</th>\n",
       "      <td>PaymentScreenSuccessful</td>\n",
       "      <td>3518123091307005509</td>\n",
       "      <td>1564054127</td>\n",
       "      <td>248</td>\n",
       "    </tr>\n",
       "    <tr>\n",
       "      <th>3</th>\n",
       "      <td>CartScreenAppear</td>\n",
       "      <td>3518123091307005509</td>\n",
       "      <td>1564054127</td>\n",
       "      <td>248</td>\n",
       "    </tr>\n",
       "    <tr>\n",
       "      <th>4</th>\n",
       "      <td>PaymentScreenSuccessful</td>\n",
       "      <td>6217807653094995999</td>\n",
       "      <td>1564055322</td>\n",
       "      <td>248</td>\n",
       "    </tr>\n",
       "    <tr>\n",
       "      <th>...</th>\n",
       "      <td>...</td>\n",
       "      <td>...</td>\n",
       "      <td>...</td>\n",
       "      <td>...</td>\n",
       "    </tr>\n",
       "    <tr>\n",
       "      <th>244121</th>\n",
       "      <td>MainScreenAppear</td>\n",
       "      <td>4599628364049201812</td>\n",
       "      <td>1565212345</td>\n",
       "      <td>247</td>\n",
       "    </tr>\n",
       "    <tr>\n",
       "      <th>244122</th>\n",
       "      <td>MainScreenAppear</td>\n",
       "      <td>5849806612437486590</td>\n",
       "      <td>1565212439</td>\n",
       "      <td>246</td>\n",
       "    </tr>\n",
       "    <tr>\n",
       "      <th>244123</th>\n",
       "      <td>MainScreenAppear</td>\n",
       "      <td>5746969938801999050</td>\n",
       "      <td>1565212483</td>\n",
       "      <td>246</td>\n",
       "    </tr>\n",
       "    <tr>\n",
       "      <th>244124</th>\n",
       "      <td>MainScreenAppear</td>\n",
       "      <td>5746969938801999050</td>\n",
       "      <td>1565212498</td>\n",
       "      <td>246</td>\n",
       "    </tr>\n",
       "    <tr>\n",
       "      <th>244125</th>\n",
       "      <td>OffersScreenAppear</td>\n",
       "      <td>5746969938801999050</td>\n",
       "      <td>1565212517</td>\n",
       "      <td>246</td>\n",
       "    </tr>\n",
       "  </tbody>\n",
       "</table>\n",
       "<p>244126 rows × 4 columns</p>\n",
       "</div>"
      ],
      "text/plain": [
       "                      EventName         DeviceIDHash  EventTimestamp  ExpId\n",
       "0       MainScreenAppear         4575588528974610257  1564029816      246  \n",
       "1       MainScreenAppear         7416695313311560658  1564053102      246  \n",
       "2       PaymentScreenSuccessful  3518123091307005509  1564054127      248  \n",
       "3       CartScreenAppear         3518123091307005509  1564054127      248  \n",
       "4       PaymentScreenSuccessful  6217807653094995999  1564055322      248  \n",
       "...                         ...                  ...         ...      ...  \n",
       "244121  MainScreenAppear         4599628364049201812  1565212345      247  \n",
       "244122  MainScreenAppear         5849806612437486590  1565212439      246  \n",
       "244123  MainScreenAppear         5746969938801999050  1565212483      246  \n",
       "244124  MainScreenAppear         5746969938801999050  1565212498      246  \n",
       "244125  OffersScreenAppear       5746969938801999050  1565212517      246  \n",
       "\n",
       "[244126 rows x 4 columns]"
      ]
     },
     "execution_count": 2,
     "metadata": {},
     "output_type": "execute_result"
    }
   ],
   "source": [
    "logs"
   ]
  },
  {
   "cell_type": "markdown",
   "id": "93e906da",
   "metadata": {},
   "source": [
    "### Определяю наличие пропусков и формат данных"
   ]
  },
  {
   "cell_type": "code",
   "execution_count": 3,
   "id": "6f91f96d",
   "metadata": {
    "scrolled": false
   },
   "outputs": [
    {
     "name": "stdout",
     "output_type": "stream",
     "text": [
      "<class 'pandas.core.frame.DataFrame'>\n",
      "RangeIndex: 244126 entries, 0 to 244125\n",
      "Data columns (total 4 columns):\n",
      " #   Column          Non-Null Count   Dtype \n",
      "---  ------          --------------   ----- \n",
      " 0   EventName       244126 non-null  object\n",
      " 1   DeviceIDHash    244126 non-null  int64 \n",
      " 2   EventTimestamp  244126 non-null  int64 \n",
      " 3   ExpId           244126 non-null  int64 \n",
      "dtypes: int64(3), object(1)\n",
      "memory usage: 7.5+ MB\n"
     ]
    }
   ],
   "source": [
    "logs.info()"
   ]
  },
  {
   "cell_type": "markdown",
   "id": "f3ef6fa7",
   "metadata": {},
   "source": [
    "Пропуски не обнаружены, но портребуется изменени формата данных в колонке `EventTimestamp`"
   ]
  },
  {
   "cell_type": "code",
   "execution_count": 4,
   "id": "73dee2ad",
   "metadata": {},
   "outputs": [],
   "source": [
    "#преобразуем основную колонку с точностью до секунд\n",
    "logs.EventTimestamp=pd.to_datetime(logs.EventTimestamp,unit='s')\n",
    "#и добавим еще одну колонку с с точноостью до дня, для создания когорт\n",
    "logs['event_day']=logs.EventTimestamp\n",
    "logs.event_day=pd.to_datetime(logs.event_day).dt.date\n"
   ]
  },
  {
   "cell_type": "markdown",
   "id": "6051286c",
   "metadata": {},
   "source": [
    "### Переименуем название колонок"
   ]
  },
  {
   "cell_type": "code",
   "execution_count": 5,
   "id": "31a138d4",
   "metadata": {},
   "outputs": [],
   "source": [
    "logs = logs.rename(columns = {'EventName':'event_name', 'DeviceIDHash' : 'device_id', 'EventTimestamp':'event_time','ExpId':'exp_id'})"
   ]
  },
  {
   "cell_type": "markdown",
   "id": "b3a69f78",
   "metadata": {},
   "source": [
    "### Переименуем название групп"
   ]
  },
  {
   "cell_type": "code",
   "execution_count": 6,
   "id": "0ddb4716",
   "metadata": {},
   "outputs": [],
   "source": [
    "def rename(exp_id):\n",
    "    if exp_id == 246:\n",
    "        return 'A'\n",
    "    elif exp_id == 247:\n",
    "        return 'A1'\n",
    "    elif exp_id == 248:\n",
    "        return 'B'\n",
    "logs['exp_id'] = logs['exp_id'].apply(rename)"
   ]
  },
  {
   "cell_type": "markdown",
   "id": "660bef06",
   "metadata": {},
   "source": [
    "### Проверяю на наличие дубликатов явных"
   ]
  },
  {
   "cell_type": "code",
   "execution_count": 7,
   "id": "59b33eda",
   "metadata": {},
   "outputs": [
    {
     "data": {
      "text/plain": [
       "False    243713\n",
       "True     413   \n",
       "dtype: int64"
      ]
     },
     "metadata": {},
     "output_type": "display_data"
    }
   ],
   "source": [
    "display(logs.duplicated().value_counts())"
   ]
  },
  {
   "cell_type": "code",
   "execution_count": 8,
   "id": "12997dec",
   "metadata": {},
   "outputs": [],
   "source": [
    "#Обнуружено 413 дубликатов,в которых повторяются все значения строках и поэтому удаляем их из датафрейма\n",
    "logs = logs.drop_duplicates().reset_index(drop=True)"
   ]
  },
  {
   "cell_type": "markdown",
   "id": "e39f3c6b",
   "metadata": {},
   "source": [
    "### Проверяю наличие неявных"
   ]
  },
  {
   "cell_type": "code",
   "execution_count": 9,
   "id": "d8169be5",
   "metadata": {
    "scrolled": false
   },
   "outputs": [
    {
     "data": {
      "text/plain": [
       "array(['MainScreenAppear', 'PaymentScreenSuccessful', 'CartScreenAppear',\n",
       "       'OffersScreenAppear', 'Tutorial'], dtype=object)"
      ]
     },
     "metadata": {},
     "output_type": "display_data"
    },
    {
     "data": {
      "text/plain": [
       "array(['A', 'B', 'A1'], dtype=object)"
      ]
     },
     "metadata": {},
     "output_type": "display_data"
    }
   ],
   "source": [
    "display(\n",
    "        logs['event_name'].unique(),\n",
    "        logs['exp_id'].unique()\n",
    "       )"
   ]
  },
  {
   "cell_type": "markdown",
   "id": "b7a6ca21",
   "metadata": {},
   "source": [
    "Получаем 5 уникальных названий экспериментов и 3 уникальных id групп для них. Проверим сколько из них одновременно попадают в во все исследуемые группы"
   ]
  },
  {
   "cell_type": "markdown",
   "id": "1fa5821d",
   "metadata": {},
   "source": [
    "На данном этапе подготовку данных к анлизу считаем завершенной."
   ]
  },
  {
   "cell_type": "markdown",
   "id": "58c55d48",
   "metadata": {},
   "source": [
    "## Изучаем  и проверяем данные"
   ]
  },
  {
   "cell_type": "markdown",
   "id": "127b3380",
   "metadata": {},
   "source": [
    "### Сколько всего событий в логе?"
   ]
  },
  {
   "cell_type": "code",
   "execution_count": 10,
   "id": "3721951d",
   "metadata": {},
   "outputs": [
    {
     "name": "stdout",
     "output_type": "stream",
     "text": [
      " Всего в датафрейме записано 243713 шт событий\n"
     ]
    }
   ],
   "source": [
    "print(f' Всего в датафрейме записано {logs.event_name.count()} шт событий')"
   ]
  },
  {
   "cell_type": "code",
   "execution_count": 11,
   "id": "ea097a23",
   "metadata": {},
   "outputs": [
    {
     "data": {
      "text/html": [
       "<div>\n",
       "<style scoped>\n",
       "    .dataframe tbody tr th:only-of-type {\n",
       "        vertical-align: middle;\n",
       "    }\n",
       "\n",
       "    .dataframe tbody tr th {\n",
       "        vertical-align: top;\n",
       "    }\n",
       "\n",
       "    .dataframe thead th {\n",
       "        text-align: right;\n",
       "    }\n",
       "</style>\n",
       "<table border=\"1\" class=\"dataframe\">\n",
       "  <thead>\n",
       "    <tr style=\"text-align: right;\">\n",
       "      <th></th>\n",
       "      <th>event_name</th>\n",
       "      <th>device_id</th>\n",
       "    </tr>\n",
       "  </thead>\n",
       "  <tbody>\n",
       "    <tr>\n",
       "      <th>0</th>\n",
       "      <td>MainScreenAppear</td>\n",
       "      <td>119101</td>\n",
       "    </tr>\n",
       "    <tr>\n",
       "      <th>1</th>\n",
       "      <td>OffersScreenAppear</td>\n",
       "      <td>46808</td>\n",
       "    </tr>\n",
       "    <tr>\n",
       "      <th>2</th>\n",
       "      <td>CartScreenAppear</td>\n",
       "      <td>42668</td>\n",
       "    </tr>\n",
       "    <tr>\n",
       "      <th>3</th>\n",
       "      <td>PaymentScreenSuccessful</td>\n",
       "      <td>34118</td>\n",
       "    </tr>\n",
       "    <tr>\n",
       "      <th>4</th>\n",
       "      <td>Tutorial</td>\n",
       "      <td>1018</td>\n",
       "    </tr>\n",
       "  </tbody>\n",
       "</table>\n",
       "</div>"
      ],
      "text/plain": [
       "                event_name  device_id\n",
       "0  MainScreenAppear         119101   \n",
       "1  OffersScreenAppear       46808    \n",
       "2  CartScreenAppear         42668    \n",
       "3  PaymentScreenSuccessful  34118    \n",
       "4  Tutorial                 1018     "
      ]
     },
     "execution_count": 11,
     "metadata": {},
     "output_type": "execute_result"
    }
   ],
   "source": [
    "#посмотрим на их распределение\n",
    "logs.pivot_table(index = 'event_name', values=('device_id'), aggfunc='count').\\\n",
    "sort_values(by='device_id', ascending=False).reset_index()"
   ]
  },
  {
   "cell_type": "markdown",
   "id": "b0d1bcc8",
   "metadata": {},
   "source": [
    "Стартуем с  `MainScreenAppear` и оканчиваем  `Tutorial`"
   ]
  },
  {
   "cell_type": "markdown",
   "id": "3e6722db",
   "metadata": {},
   "source": [
    "### Сколько всего пользователей в логе?"
   ]
  },
  {
   "cell_type": "code",
   "execution_count": 12,
   "id": "e42b65e6",
   "metadata": {},
   "outputs": [
    {
     "name": "stdout",
     "output_type": "stream",
     "text": [
      " Всего уникальных пользователей в логе 7551 шт\n"
     ]
    }
   ],
   "source": [
    "print( f' Всего уникальных пользователей в логе {logs.device_id.nunique()} шт')"
   ]
  },
  {
   "cell_type": "markdown",
   "id": "1044b92b",
   "metadata": {},
   "source": [
    "### Сколько в среднем событий приходится на пользователя?"
   ]
  },
  {
   "cell_type": "code",
   "execution_count": 13,
   "id": "38b394d4",
   "metadata": {},
   "outputs": [
    {
     "name": "stdout",
     "output_type": "stream",
     "text": [
      "В среднем событий на пользователя приходится 32 события.\n"
     ]
    }
   ],
   "source": [
    "print(f'В среднем событий на пользователя приходится {round(logs.event_name.count() / logs.device_id.nunique())} события.')"
   ]
  },
  {
   "cell_type": "markdown",
   "id": "ead94a12",
   "metadata": {},
   "source": [
    "### Данными за какой период мы располагаем?"
   ]
  },
  {
   "cell_type": "code",
   "execution_count": 14,
   "id": "afe24da0",
   "metadata": {},
   "outputs": [
    {
     "name": "stdout",
     "output_type": "stream",
     "text": [
      "Минимальное значание 2019-07-25 и максимальное даты 2019-08-07\n"
     ]
    }
   ],
   "source": [
    "#посмортим на минимальное значение и маскимальное значение в колонке дата\n",
    "print(f'Минимальное значание {logs.event_day.min()} и максимальное даты {logs.event_day.max()}')"
   ]
  },
  {
   "cell_type": "markdown",
   "id": "bcdc5d48",
   "metadata": {},
   "source": [
    "Построим гистрограммы по дате и времени"
   ]
  },
  {
   "cell_type": "code",
   "execution_count": 15,
   "id": "cc0086f9",
   "metadata": {},
   "outputs": [
    {
     "data": {
      "image/png": "[encoded data removed]",
      "text/plain": [
       "<Figure size 720x360 with 1 Axes>"
      ]
     },
     "metadata": {
      "needs_background": "light"
     },
     "output_type": "display_data"
    }
   ],
   "source": [
    "logs.event_day.hist(figsize=(10, 5))\n",
    "plt.title('Распределение логов под датам')\n",
    "plt.ylabel('Количество записей')\n",
    "plt.xlabel('Временной период') \n",
    "plt.xticks(rotation=45)\n",
    "plt.show()"
   ]
  },
  {
   "cell_type": "markdown",
   "id": "09b578de",
   "metadata": {},
   "source": [
    "Полный временной период у нас с 25 июля по 7 августа, однако, судя по гистрограмме, активный период наступает лишь с 1 по 7 августа. В дни количество записей минимальное и не годиться для анлиза с остальными периодами. Стои так же заметить, что активность начианает расти с середины дня 31 июля. Заостряем этот момент и строим график с учетом не только даты, но и времени."
   ]
  },
  {
   "cell_type": "code",
   "execution_count": 16,
   "id": "7744ceb7",
   "metadata": {},
   "outputs": [
    {
     "data": {
      "image/png": "[encoded data removed]",
      "text/plain": [
       "<Figure size 720x360 with 1 Axes>"
      ]
     },
     "metadata": {
      "needs_background": "light"
     },
     "output_type": "display_data"
    }
   ],
   "source": [
    "logs.event_time.hist(figsize=(10, 5))\n",
    "plt.title('Распределение логов по времени')\n",
    "plt.ylabel('Количество записей')\n",
    "plt.xlabel('Временной период') \n",
    "plt.xticks(rotation=45)\n",
    "plt.show()"
   ]
  },
  {
   "cell_type": "markdown",
   "id": "4e68dd82",
   "metadata": {},
   "source": [
    "Делаем вывод, что объективнее учитывть не просто дни активности, а так же время. Т.к. мы не располагаем данными о часовом поясе по которому велись записи. Именно поэтому можно отсечь записи, которые велись в июле. "
   ]
  },
  {
   "cell_type": "code",
   "execution_count": 17,
   "id": "cff205e6",
   "metadata": {},
   "outputs": [],
   "source": [
    "#создаем датафрейм с данным за август\n",
    "logs_aug=logs.query('event_time>=\"2019-08-01 00:00:00\"')"
   ]
  },
  {
   "cell_type": "markdown",
   "id": "d6997b15",
   "metadata": {},
   "source": [
    "### Много ли событий и пользователей вы потеряли, отбросив старые данные?"
   ]
  },
  {
   "cell_type": "code",
   "execution_count": 18,
   "id": "b466c7cb",
   "metadata": {},
   "outputs": [
    {
     "name": "stdout",
     "output_type": "stream",
     "text": [
      "Отсекая июль от анализа у нас отсается 98.84 % от первоначальных данных\n"
     ]
    }
   ],
   "source": [
    "print(f'Отсекая июль от анализа у нас отсается {round((len(logs_aug)*100/len(logs)),2)} % от первоначальных данных')"
   ]
  },
  {
   "cell_type": "code",
   "execution_count": 19,
   "id": "2d5694eb",
   "metadata": {},
   "outputs": [
    {
     "name": "stdout",
     "output_type": "stream",
     "text": [
      "Что составляет 2826 записей которые создали 1451 пользователей из всех 7551\n"
     ]
    }
   ],
   "source": [
    "#создаем датафрейм с данным за июль\n",
    "logs_jul= logs.query('event_time < \"2019-08-01 00:00:00\"')\n",
    "\n",
    "print(f'Что составляет {len(logs_jul)} записей которые создали {logs_jul.device_id.nunique()} пользователей из всех {logs.device_id.nunique()}')"
   ]
  },
  {
   "cell_type": "markdown",
   "id": "c2794b73",
   "metadata": {},
   "source": [
    "### Проверяем, что у нас есть пользователи из всех трёх экспериментальных групп."
   ]
  },
  {
   "cell_type": "code",
   "execution_count": 20,
   "id": "8b566208",
   "metadata": {},
   "outputs": [
    {
     "data": {
      "text/plain": [
       "exp_id\n",
       "A     2489\n",
       "A1    2520\n",
       "B     2542\n",
       "Name: device_id, dtype: int64"
      ]
     },
     "execution_count": 20,
     "metadata": {},
     "output_type": "execute_result"
    }
   ],
   "source": [
    "#группируем августовские данные по id теста и смортрим на количество записей в каждой группе\n",
    "logs_group = logs.groupby('exp_id')['device_id'].nunique()\n",
    "#определяем общее количество пользователей в новой таблицу\n",
    "logs_group"
   ]
  },
  {
   "cell_type": "code",
   "execution_count": 21,
   "id": "29e31d69",
   "metadata": {},
   "outputs": [
    {
     "name": "stdout",
     "output_type": "stream",
     "text": [
      "В финальном датасете будут исследоваться 240887 записей созданными 7534 пользователями\n"
     ]
    }
   ],
   "source": [
    "#подсчитываем сколько записей и пользователй в августе\n",
    "print(f'В финальном датасете будут исследоваться {len(logs_aug)} записей созданными {logs_aug.device_id.nunique()} пользователями')\n"
   ]
  },
  {
   "cell_type": "markdown",
   "id": "117199ef",
   "metadata": {},
   "source": [
    "На данном этапе мы выяснили, что данные распределеным неравномерно по датам и решили оставить на исследование лишь августовкие логи, которые составляют 98.84% от основной таблицы. Анализировать будем 240 887 записей и 7 534 пользователей.Так же провели проверку, что во всех 3-групах есть пользователи"
   ]
  },
  {
   "cell_type": "markdown",
   "id": "b42cdc14",
   "metadata": {},
   "source": [
    "## Изучаем воронку событий"
   ]
  },
  {
   "cell_type": "markdown",
   "id": "9810e14f",
   "metadata": {},
   "source": [
    "### Посмотрим, какие события есть в логах, как часто они встречаются. Отсортируем события по частоте"
   ]
  },
  {
   "cell_type": "code",
   "execution_count": 22,
   "id": "981d1e02",
   "metadata": {},
   "outputs": [
    {
     "data": {
      "text/html": [
       "<div>\n",
       "<style scoped>\n",
       "    .dataframe tbody tr th:only-of-type {\n",
       "        vertical-align: middle;\n",
       "    }\n",
       "\n",
       "    .dataframe tbody tr th {\n",
       "        vertical-align: top;\n",
       "    }\n",
       "\n",
       "    .dataframe thead th {\n",
       "        text-align: right;\n",
       "    }\n",
       "</style>\n",
       "<table border=\"1\" class=\"dataframe\">\n",
       "  <thead>\n",
       "    <tr style=\"text-align: right;\">\n",
       "      <th></th>\n",
       "      <th>event_name</th>\n",
       "      <th>device_id</th>\n",
       "      <th>rate</th>\n",
       "    </tr>\n",
       "  </thead>\n",
       "  <tbody>\n",
       "    <tr>\n",
       "      <th>0</th>\n",
       "      <td>MainScreenAppear</td>\n",
       "      <td>117328</td>\n",
       "      <td>48.71</td>\n",
       "    </tr>\n",
       "    <tr>\n",
       "      <th>1</th>\n",
       "      <td>OffersScreenAppear</td>\n",
       "      <td>46333</td>\n",
       "      <td>19.23</td>\n",
       "    </tr>\n",
       "    <tr>\n",
       "      <th>2</th>\n",
       "      <td>CartScreenAppear</td>\n",
       "      <td>42303</td>\n",
       "      <td>17.56</td>\n",
       "    </tr>\n",
       "    <tr>\n",
       "      <th>3</th>\n",
       "      <td>PaymentScreenSuccessful</td>\n",
       "      <td>33918</td>\n",
       "      <td>14.08</td>\n",
       "    </tr>\n",
       "    <tr>\n",
       "      <th>4</th>\n",
       "      <td>Tutorial</td>\n",
       "      <td>1005</td>\n",
       "      <td>0.42</td>\n",
       "    </tr>\n",
       "  </tbody>\n",
       "</table>\n",
       "</div>"
      ],
      "text/plain": [
       "                event_name  device_id   rate\n",
       "0  MainScreenAppear         117328     48.71\n",
       "1  OffersScreenAppear       46333      19.23\n",
       "2  CartScreenAppear         42303      17.56\n",
       "3  PaymentScreenSuccessful  33918      14.08\n",
       "4  Tutorial                 1005       0.42 "
      ]
     },
     "execution_count": 22,
     "metadata": {},
     "output_type": "execute_result"
    }
   ],
   "source": [
    "#по обновленным данным строю таблицу распределения количества действий по их типу\n",
    "funnel = logs_aug.pivot_table(index = 'event_name', values=('device_id'), aggfunc='count').\\\n",
    "sort_values(by='device_id', ascending=False).reset_index()\n",
    "\n",
    "#добавляю столбец с процентным соотношением\n",
    "funnel['rate'] = round(funnel.device_id*100/len(logs_aug),2)\n",
    "\n",
    "funnel"
   ]
  },
  {
   "cell_type": "markdown",
   "id": "cff99492",
   "metadata": {},
   "source": [
    "Разберем воронку по порядку\n",
    "\n",
    "* `MainScreenAppear`\t- появление главного экрана\n",
    "* `OffersScreenAppear` - появленеи экрасна с предложением \n",
    "* `CartScreenAppear` - переход в корзину\n",
    "* `PaymentScreenSuccessful` - уведомление об успешной оплате\n",
    "* `Tutorial` - обучение \n",
    "\n",
    "\n",
    "Последние выбивается из этой воронки. Возможность обучения, конечно, необходимая вещь в приложении, однако это должно касаться скорее новых пользователей, которые еще не совершали покупок, да и вообще каких либо других действий в приложении. В любом случае данный лог лучше исключить из следования, тем более что эти данные не составляюи и половину процента всего объема."
   ]
  },
  {
   "cell_type": "code",
   "execution_count": 23,
   "id": "533c55ce",
   "metadata": {},
   "outputs": [
    {
     "data": {
      "image/png": "[encoded data removed]",
      "text/plain": [
       "<Figure size 432x288 with 1 Axes>"
      ]
     },
     "metadata": {
      "needs_background": "light"
     },
     "output_type": "display_data"
    }
   ],
   "source": [
    "#удаляем Tutorial из августовского датафрейма\n",
    "logs_aug=logs_aug.query('event_name != \"Tutorial\"')\n",
    "funnel_clean=logs_aug.\\\n",
    "pivot_table(index = 'event_name', values=('device_id'), aggfunc='count').\\\n",
    "sort_values(by='device_id', ascending=False).reset_index()\n",
    "\n",
    "#добавляю столбец с процентным соотношением\n",
    "funnel_clean['rate'] = round(funnel.device_id*100/len(logs_aug),2)\n",
    "\n",
    "#Визуализируем обновленную информацию \n",
    "sns.barplot(y='event_name', x='rate', data=funnel_clean)\n",
    "plt.title('Воронка событий')\n",
    "plt.ylabel('Название события')\n",
    "plt.xlabel('Процентное соотношение событий') \n",
    "plt.show()"
   ]
  },
  {
   "cell_type": "code",
   "execution_count": 24,
   "id": "d8618f33",
   "metadata": {},
   "outputs": [
    {
     "name": "stdout",
     "output_type": "stream",
     "text": [
      " После обработки сырых данный датафрейм стал меньше на 1.57 %\n"
     ]
    }
   ],
   "source": [
    "#посмотрим на сколько уменьшился датафрейм\n",
    "print(f' После обработки сырых данный датафрейм стал меньше на {round(100- len(logs_aug)*100/len(logs),2)} %')"
   ]
  },
  {
   "cell_type": "markdown",
   "id": "03adc090",
   "metadata": {},
   "source": [
    "### Сколько пользователей совершали каждое из этих событий. На каком шаге самая большая просадка и какая доля пользователей доходит до успешной покупки."
   ]
  },
  {
   "cell_type": "code",
   "execution_count": 25,
   "id": "914f20e9",
   "metadata": {},
   "outputs": [
    {
     "data": {
      "text/html": [
       "<div>\n",
       "<style scoped>\n",
       "    .dataframe tbody tr th:only-of-type {\n",
       "        vertical-align: middle;\n",
       "    }\n",
       "\n",
       "    .dataframe tbody tr th {\n",
       "        vertical-align: top;\n",
       "    }\n",
       "\n",
       "    .dataframe thead th {\n",
       "        text-align: right;\n",
       "    }\n",
       "</style>\n",
       "<table border=\"1\" class=\"dataframe\">\n",
       "  <thead>\n",
       "    <tr style=\"text-align: right;\">\n",
       "      <th></th>\n",
       "      <th>event_name</th>\n",
       "      <th>device_id</th>\n",
       "      <th>rate</th>\n",
       "    </tr>\n",
       "  </thead>\n",
       "  <tbody>\n",
       "    <tr>\n",
       "      <th>0</th>\n",
       "      <td>MainScreenAppear</td>\n",
       "      <td>7419</td>\n",
       "      <td>98.53</td>\n",
       "    </tr>\n",
       "    <tr>\n",
       "      <th>1</th>\n",
       "      <td>OffersScreenAppear</td>\n",
       "      <td>4593</td>\n",
       "      <td>61.00</td>\n",
       "    </tr>\n",
       "    <tr>\n",
       "      <th>2</th>\n",
       "      <td>CartScreenAppear</td>\n",
       "      <td>3734</td>\n",
       "      <td>49.59</td>\n",
       "    </tr>\n",
       "    <tr>\n",
       "      <th>3</th>\n",
       "      <td>PaymentScreenSuccessful</td>\n",
       "      <td>3539</td>\n",
       "      <td>47.00</td>\n",
       "    </tr>\n",
       "  </tbody>\n",
       "</table>\n",
       "</div>"
      ],
      "text/plain": [
       "                event_name  device_id   rate\n",
       "0  MainScreenAppear         7419       98.53\n",
       "1  OffersScreenAppear       4593       61.00\n",
       "2  CartScreenAppear         3734       49.59\n",
       "3  PaymentScreenSuccessful  3539       47.00"
      ]
     },
     "metadata": {},
     "output_type": "display_data"
    },
    {
     "data": {
      "image/png": "[encoded data removed]",
      "text/plain": [
       "<Figure size 432x288 with 1 Axes>"
      ]
     },
     "metadata": {
      "needs_background": "light"
     },
     "output_type": "display_data"
    }
   ],
   "source": [
    "#группируем по уникальному пользовател и совершонному ими действию\n",
    "funnel_id =logs_aug\\\n",
    ".groupby('event_name')['device_id'].nunique().sort_values(ascending=False).reset_index()\n",
    "\n",
    "#считаем процент \n",
    "funnel_id['rate'] = round(funnel_id['device_id']*100/logs_aug['device_id'].nunique(),2)\n",
    "\n",
    "display(funnel_id)\n",
    "#Визуализируем обновленную информацию \n",
    "sns.barplot(y='event_name', x='rate', data=funnel_id)\n",
    "plt.title('Воронка событий для пользователя')\n",
    "plt.ylabel('Название события')\n",
    "plt.xlabel('Процентное соотношение событий') \n",
    "plt.show()"
   ]
  },
  {
   "cell_type": "markdown",
   "id": "d2adc444",
   "metadata": {},
   "source": [
    "Смотря на график видно что 98,47 % пользователям одается попасть на основной экран, 60,96% решают воспользоваться предложением, из только 49,56 переходят в корзину, а завршают покупку 46,97%. Т.е. половина пользователей заходят в приложение, чтобы совершить покупку. При все при этом самая большая просадка получается в самом началае с переходам главной страницы на страницу предложения. "
   ]
  },
  {
   "cell_type": "markdown",
   "id": "87173422",
   "metadata": {},
   "source": [
    "## Изучаем результаты эксперимента"
   ]
  },
  {
   "cell_type": "markdown",
   "id": "b495864a",
   "metadata": {},
   "source": [
    "### Сколько пользователей в каждой экспериментальной группе?"
   ]
  },
  {
   "cell_type": "code",
   "execution_count": 26,
   "id": "51cb71e9",
   "metadata": {},
   "outputs": [
    {
     "data": {
      "text/html": [
       "<div>\n",
       "<style scoped>\n",
       "    .dataframe tbody tr th:only-of-type {\n",
       "        vertical-align: middle;\n",
       "    }\n",
       "\n",
       "    .dataframe tbody tr th {\n",
       "        vertical-align: top;\n",
       "    }\n",
       "\n",
       "    .dataframe thead th {\n",
       "        text-align: right;\n",
       "    }\n",
       "</style>\n",
       "<table border=\"1\" class=\"dataframe\">\n",
       "  <thead>\n",
       "    <tr style=\"text-align: right;\">\n",
       "      <th></th>\n",
       "      <th>exp_id</th>\n",
       "      <th>device_id</th>\n",
       "    </tr>\n",
       "  </thead>\n",
       "  <tbody>\n",
       "    <tr>\n",
       "      <th>0</th>\n",
       "      <td>A</td>\n",
       "      <td>2483</td>\n",
       "    </tr>\n",
       "    <tr>\n",
       "      <th>1</th>\n",
       "      <td>A1</td>\n",
       "      <td>2512</td>\n",
       "    </tr>\n",
       "    <tr>\n",
       "      <th>2</th>\n",
       "      <td>B</td>\n",
       "      <td>2535</td>\n",
       "    </tr>\n",
       "  </tbody>\n",
       "</table>\n",
       "</div>"
      ],
      "text/plain": [
       "  exp_id  device_id\n",
       "0  A      2483     \n",
       "1  A1     2512     \n",
       "2  B      2535     "
      ]
     },
     "metadata": {},
     "output_type": "display_data"
    },
    {
     "data": {
      "image/png": "[encoded data removed]",
      "text/plain": [
       "<Figure size 432x288 with 1 Axes>"
      ]
     },
     "metadata": {
      "needs_background": "light"
     },
     "output_type": "display_data"
    }
   ],
   "source": [
    "### Сколько уникальных пользователей в каждой экспериментальной группе?\n",
    "aab_count_id =logs_aug\\\n",
    ".groupby(['exp_id']).agg({'device_id': 'nunique'}).reset_index()\\\n",
    "\n",
    "\n",
    "display(aab_count_id)\n",
    "#Визуализируем обновленную информацию \n",
    "sns.barplot(y='device_id', x='exp_id', data=aab_count_id)\n",
    "plt.title('Количество уникальных пользователей в каждой из группы')\n",
    "plt.ylabel('Количество пользователей')\n",
    "plt.xlabel('Название группы') \n",
    "plt.show()"
   ]
  },
  {
   "cell_type": "markdown",
   "id": "373a9913",
   "metadata": {},
   "source": [
    "Количество пользователей во всех 3 группах близки друг другу по количеству , но проведем более детальное изучение и проверим.\n",
    "* Количество пользователей в различных группах различается не более, чем на 1%?\n",
    "* Различие ключевых метрик по группам не превышает 1% и не имеет статистической значимости?"
   ]
  },
  {
   "cell_type": "markdown",
   "id": "8f6828d7",
   "metadata": {},
   "source": [
    "\n",
    "\n"
   ]
  },
  {
   "cell_type": "code",
   "execution_count": 27,
   "id": "6af241cc",
   "metadata": {
    "scrolled": false
   },
   "outputs": [
    {
     "name": "stdout",
     "output_type": "stream",
     "text": [
      "Разница в количетсве пользователей в группе A1, по отношению к A равна 1%\n",
      "Разница в количетсве пользователей в группе A1, по отношению к B равна 1%\n",
      "Разница в количетсве пользователей в группе A, по отношению к B равна 1%\n"
     ]
    }
   ],
   "source": [
    "#создаю таблицы согласно группе\n",
    "group_a =logs_aug.query('exp_id == \"A\"')\n",
    "group_a1 =logs_aug.query('exp_id == \"A1\"')\n",
    "group_b = logs_aug.query('exp_id == \"B\"')\n",
    "print(f'Разница в количетсве пользователей в группе A1, по отношению к A равна {(round(group_a1.device_id.nunique()/group_a.device_id.nunique()))}%')\n",
    "print(f'Разница в количетсве пользователей в группе A1, по отношению к B равна {(round(group_a1.device_id.nunique()/group_b.device_id.nunique()))}%')\n",
    "print(f'Разница в количетсве пользователей в группе A, по отношению к B равна {(round(group_a.device_id.nunique()/group_b.device_id.nunique()))}%')"
   ]
  },
  {
   "cell_type": "markdown",
   "id": "8c31484d",
   "metadata": {},
   "source": [
    "Различия по количеству в пределах нормы"
   ]
  },
  {
   "cell_type": "code",
   "execution_count": 28,
   "id": "0bdd31dc",
   "metadata": {},
   "outputs": [
    {
     "data": {
      "text/plain": [
       "exp_id    0\n",
       "dtype: int64"
      ]
     },
     "execution_count": 28,
     "metadata": {},
     "output_type": "execute_result"
    }
   ],
   "source": [
    "#проводим проверку что пользователи не пересекаются в группах\n",
    "logs_aug.groupby(['device_id']).agg({'exp_id':'nunique'}).query('exp_id>1').count()\n"
   ]
  },
  {
   "cell_type": "markdown",
   "id": "ea8be068",
   "metadata": {},
   "source": [
    "Количество пересекающий пользователй в группах равно 0"
   ]
  },
  {
   "cell_type": "markdown",
   "id": "c50cb196",
   "metadata": {},
   "source": [
    "### Выбериаем самое популярное событие. Считаем число пользователей, совершивших это событие в каждой из контрольных групп. "
   ]
  },
  {
   "cell_type": "code",
   "execution_count": 29,
   "id": "1bbdd77e",
   "metadata": {},
   "outputs": [
    {
     "data": {
      "text/html": [
       "<div>\n",
       "<style scoped>\n",
       "    .dataframe tbody tr th:only-of-type {\n",
       "        vertical-align: middle;\n",
       "    }\n",
       "\n",
       "    .dataframe tbody tr th {\n",
       "        vertical-align: top;\n",
       "    }\n",
       "\n",
       "    .dataframe thead th {\n",
       "        text-align: right;\n",
       "    }\n",
       "</style>\n",
       "<table border=\"1\" class=\"dataframe\">\n",
       "  <thead>\n",
       "    <tr style=\"text-align: right;\">\n",
       "      <th></th>\n",
       "      <th>event_name</th>\n",
       "      <th>device_id</th>\n",
       "    </tr>\n",
       "  </thead>\n",
       "  <tbody>\n",
       "    <tr>\n",
       "      <th>0</th>\n",
       "      <td>MainScreenAppear</td>\n",
       "      <td>2450</td>\n",
       "    </tr>\n",
       "    <tr>\n",
       "      <th>1</th>\n",
       "      <td>OffersScreenAppear</td>\n",
       "      <td>1542</td>\n",
       "    </tr>\n",
       "    <tr>\n",
       "      <th>2</th>\n",
       "      <td>CartScreenAppear</td>\n",
       "      <td>1266</td>\n",
       "    </tr>\n",
       "    <tr>\n",
       "      <th>3</th>\n",
       "      <td>PaymentScreenSuccessful</td>\n",
       "      <td>1200</td>\n",
       "    </tr>\n",
       "  </tbody>\n",
       "</table>\n",
       "</div>"
      ],
      "text/plain": [
       "                event_name  device_id\n",
       "0  MainScreenAppear         2450     \n",
       "1  OffersScreenAppear       1542     \n",
       "2  CartScreenAppear         1266     \n",
       "3  PaymentScreenSuccessful  1200     "
      ]
     },
     "metadata": {},
     "output_type": "display_data"
    },
    {
     "data": {
      "text/html": [
       "<div>\n",
       "<style scoped>\n",
       "    .dataframe tbody tr th:only-of-type {\n",
       "        vertical-align: middle;\n",
       "    }\n",
       "\n",
       "    .dataframe tbody tr th {\n",
       "        vertical-align: top;\n",
       "    }\n",
       "\n",
       "    .dataframe thead th {\n",
       "        text-align: right;\n",
       "    }\n",
       "</style>\n",
       "<table border=\"1\" class=\"dataframe\">\n",
       "  <thead>\n",
       "    <tr style=\"text-align: right;\">\n",
       "      <th></th>\n",
       "      <th>event_name</th>\n",
       "      <th>device_id</th>\n",
       "    </tr>\n",
       "  </thead>\n",
       "  <tbody>\n",
       "    <tr>\n",
       "      <th>0</th>\n",
       "      <td>MainScreenAppear</td>\n",
       "      <td>2476</td>\n",
       "    </tr>\n",
       "    <tr>\n",
       "      <th>1</th>\n",
       "      <td>OffersScreenAppear</td>\n",
       "      <td>1520</td>\n",
       "    </tr>\n",
       "    <tr>\n",
       "      <th>2</th>\n",
       "      <td>CartScreenAppear</td>\n",
       "      <td>1238</td>\n",
       "    </tr>\n",
       "    <tr>\n",
       "      <th>3</th>\n",
       "      <td>PaymentScreenSuccessful</td>\n",
       "      <td>1158</td>\n",
       "    </tr>\n",
       "  </tbody>\n",
       "</table>\n",
       "</div>"
      ],
      "text/plain": [
       "                event_name  device_id\n",
       "0  MainScreenAppear         2476     \n",
       "1  OffersScreenAppear       1520     \n",
       "2  CartScreenAppear         1238     \n",
       "3  PaymentScreenSuccessful  1158     "
      ]
     },
     "metadata": {},
     "output_type": "display_data"
    },
    {
     "data": {
      "text/html": [
       "<div>\n",
       "<style scoped>\n",
       "    .dataframe tbody tr th:only-of-type {\n",
       "        vertical-align: middle;\n",
       "    }\n",
       "\n",
       "    .dataframe tbody tr th {\n",
       "        vertical-align: top;\n",
       "    }\n",
       "\n",
       "    .dataframe thead th {\n",
       "        text-align: right;\n",
       "    }\n",
       "</style>\n",
       "<table border=\"1\" class=\"dataframe\">\n",
       "  <thead>\n",
       "    <tr style=\"text-align: right;\">\n",
       "      <th></th>\n",
       "      <th>event_name</th>\n",
       "      <th>device_id</th>\n",
       "    </tr>\n",
       "  </thead>\n",
       "  <tbody>\n",
       "    <tr>\n",
       "      <th>0</th>\n",
       "      <td>MainScreenAppear</td>\n",
       "      <td>2493</td>\n",
       "    </tr>\n",
       "    <tr>\n",
       "      <th>1</th>\n",
       "      <td>OffersScreenAppear</td>\n",
       "      <td>1531</td>\n",
       "    </tr>\n",
       "    <tr>\n",
       "      <th>2</th>\n",
       "      <td>CartScreenAppear</td>\n",
       "      <td>1230</td>\n",
       "    </tr>\n",
       "    <tr>\n",
       "      <th>3</th>\n",
       "      <td>PaymentScreenSuccessful</td>\n",
       "      <td>1181</td>\n",
       "    </tr>\n",
       "  </tbody>\n",
       "</table>\n",
       "</div>"
      ],
      "text/plain": [
       "                event_name  device_id\n",
       "0  MainScreenAppear         2493     \n",
       "1  OffersScreenAppear       1531     \n",
       "2  CartScreenAppear         1230     \n",
       "3  PaymentScreenSuccessful  1181     "
      ]
     },
     "metadata": {},
     "output_type": "display_data"
    }
   ],
   "source": [
    "#для этого группируем по отбельности в каждоый грууппе события\n",
    "group_a_event = group_a.groupby('event_name')['device_id'].nunique().sort_values(ascending=False).reset_index()\n",
    "group_a1_event = group_a1.groupby('event_name')['device_id'].nunique().sort_values(ascending=False).reset_index()\n",
    "group_b_event = group_b.groupby('event_name')['device_id'].nunique().sort_values(ascending=False).reset_index()\n",
    "\n",
    "display(group_a_event,group_a1_event, group_b_event )"
   ]
  },
  {
   "cell_type": "markdown",
   "id": "7566c091",
   "metadata": {},
   "source": [
    "Порядок событий во всех группах одинкаковый, просадки так же похожи. Объеденим все в 1 таблицу"
   ]
  },
  {
   "cell_type": "code",
   "execution_count": 30,
   "id": "ece2fe3a",
   "metadata": {},
   "outputs": [
    {
     "data": {
      "text/html": [
       "<div>\n",
       "<style scoped>\n",
       "    .dataframe tbody tr th:only-of-type {\n",
       "        vertical-align: middle;\n",
       "    }\n",
       "\n",
       "    .dataframe tbody tr th {\n",
       "        vertical-align: top;\n",
       "    }\n",
       "\n",
       "    .dataframe thead th {\n",
       "        text-align: right;\n",
       "    }\n",
       "</style>\n",
       "<table border=\"1\" class=\"dataframe\">\n",
       "  <thead>\n",
       "    <tr style=\"text-align: right;\">\n",
       "      <th></th>\n",
       "      <th>event_name</th>\n",
       "      <th>A</th>\n",
       "      <th>A1</th>\n",
       "      <th>B</th>\n",
       "    </tr>\n",
       "  </thead>\n",
       "  <tbody>\n",
       "    <tr>\n",
       "      <th>0</th>\n",
       "      <td>MainScreenAppear</td>\n",
       "      <td>2450</td>\n",
       "      <td>2476</td>\n",
       "      <td>2493</td>\n",
       "    </tr>\n",
       "    <tr>\n",
       "      <th>1</th>\n",
       "      <td>OffersScreenAppear</td>\n",
       "      <td>1542</td>\n",
       "      <td>1520</td>\n",
       "      <td>1531</td>\n",
       "    </tr>\n",
       "    <tr>\n",
       "      <th>2</th>\n",
       "      <td>CartScreenAppear</td>\n",
       "      <td>1266</td>\n",
       "      <td>1238</td>\n",
       "      <td>1230</td>\n",
       "    </tr>\n",
       "    <tr>\n",
       "      <th>3</th>\n",
       "      <td>PaymentScreenSuccessful</td>\n",
       "      <td>1200</td>\n",
       "      <td>1158</td>\n",
       "      <td>1181</td>\n",
       "    </tr>\n",
       "  </tbody>\n",
       "</table>\n",
       "</div>"
      ],
      "text/plain": [
       "                event_name     A    A1     B\n",
       "0  MainScreenAppear         2450  2476  2493\n",
       "1  OffersScreenAppear       1542  1520  1531\n",
       "2  CartScreenAppear         1266  1238  1230\n",
       "3  PaymentScreenSuccessful  1200  1158  1181"
      ]
     },
     "execution_count": 30,
     "metadata": {},
     "output_type": "execute_result"
    }
   ],
   "source": [
    "group_aab_event = group_a_event.merge(group_a1_event,  how='left', left_on='event_name', right_on='event_name')\\\n",
    ".merge(group_b_event,  how='left', left_on='event_name', right_on='event_name')\\\n",
    ".rename(columns={'device_id_x': 'A','device_id_y':'A1', 'device_id':'B'})\n",
    "group_aab_event\n"
   ]
  },
  {
   "cell_type": "code",
   "execution_count": 31,
   "id": "58b5f737",
   "metadata": {},
   "outputs": [
    {
     "data": {
      "text/html": [
       "<div>\n",
       "<style scoped>\n",
       "    .dataframe tbody tr th:only-of-type {\n",
       "        vertical-align: middle;\n",
       "    }\n",
       "\n",
       "    .dataframe tbody tr th {\n",
       "        vertical-align: top;\n",
       "    }\n",
       "\n",
       "    .dataframe thead th {\n",
       "        text-align: right;\n",
       "    }\n",
       "</style>\n",
       "<table border=\"1\" class=\"dataframe\">\n",
       "  <thead>\n",
       "    <tr style=\"text-align: right;\">\n",
       "      <th></th>\n",
       "      <th>event_name</th>\n",
       "      <th>A</th>\n",
       "      <th>A1</th>\n",
       "      <th>B</th>\n",
       "      <th>AA1</th>\n",
       "      <th>AB</th>\n",
       "      <th>A1B</th>\n",
       "    </tr>\n",
       "  </thead>\n",
       "  <tbody>\n",
       "    <tr>\n",
       "      <th>0</th>\n",
       "      <td>MainScreenAppear</td>\n",
       "      <td>2450</td>\n",
       "      <td>2476</td>\n",
       "      <td>2493</td>\n",
       "      <td>98.949919</td>\n",
       "      <td>98.275170</td>\n",
       "      <td>99.318091</td>\n",
       "    </tr>\n",
       "    <tr>\n",
       "      <th>1</th>\n",
       "      <td>OffersScreenAppear</td>\n",
       "      <td>1542</td>\n",
       "      <td>1520</td>\n",
       "      <td>1531</td>\n",
       "      <td>101.447368</td>\n",
       "      <td>100.718485</td>\n",
       "      <td>99.281515</td>\n",
       "    </tr>\n",
       "    <tr>\n",
       "      <th>2</th>\n",
       "      <td>CartScreenAppear</td>\n",
       "      <td>1266</td>\n",
       "      <td>1238</td>\n",
       "      <td>1230</td>\n",
       "      <td>102.261712</td>\n",
       "      <td>102.926829</td>\n",
       "      <td>100.650407</td>\n",
       "    </tr>\n",
       "    <tr>\n",
       "      <th>3</th>\n",
       "      <td>PaymentScreenSuccessful</td>\n",
       "      <td>1200</td>\n",
       "      <td>1158</td>\n",
       "      <td>1181</td>\n",
       "      <td>103.626943</td>\n",
       "      <td>101.608806</td>\n",
       "      <td>98.052498</td>\n",
       "    </tr>\n",
       "  </tbody>\n",
       "</table>\n",
       "</div>"
      ],
      "text/plain": [
       "                event_name     A    A1     B         AA1          AB  \\\n",
       "0  MainScreenAppear         2450  2476  2493  98.949919   98.275170    \n",
       "1  OffersScreenAppear       1542  1520  1531  101.447368  100.718485   \n",
       "2  CartScreenAppear         1266  1238  1230  102.261712  102.926829   \n",
       "3  PaymentScreenSuccessful  1200  1158  1181  103.626943  101.608806   \n",
       "\n",
       "          A1B  \n",
       "0  99.318091   \n",
       "1  99.281515   \n",
       "2  100.650407  \n",
       "3  98.052498   "
      ]
     },
     "execution_count": 31,
     "metadata": {},
     "output_type": "execute_result"
    }
   ],
   "source": [
    "#добавляем еще колонки, в которых отобразим отношение одного показателя к другом относительно групп\n",
    "group_aab_event['AA1'] = group_aab_event['A']*100/group_aab_event['A1']\n",
    "group_aab_event['AB'] = group_aab_event['A']*100/group_aab_event['B']\n",
    "group_aab_event['A1B'] = group_aab_event['A1']*100/group_aab_event['B']\n",
    "stats.ttest_ind(group_aab_event['A'], group_aab_event['A1'])\n",
    "group_aab_event"
   ]
  },
  {
   "cell_type": "markdown",
   "id": "57bccee5",
   "metadata": {},
   "source": [
    "Наблюдаем что самое популярное все так же остается преход на главную страницу с небольшими отличия друг от друга. Непольные 100% скорее всего возникла из-за части срезанных ранее данных"
   ]
  },
  {
   "cell_type": "markdown",
   "id": "cdd02548",
   "metadata": {},
   "source": [
    "### Проверим уровень статистической значимости остальных событий между А1 и А\n",
    "\n",
    "H0 - Разницы  между группами А и А1 нет, т.е. доли пользователей, совершивших действие, равны \n",
    "\n",
    "\n",
    "H1 - Разница  между группами А и А1 есть, т.е. доли пользователей, совершивших действие, не равны "
   ]
  },
  {
   "cell_type": "code",
   "execution_count": 32,
   "id": "46161609",
   "metadata": {},
   "outputs": [],
   "source": [
    "def contrast(group1, group2, alpha): \n",
    "    event_first = group_aab_event.loc[event_name, group1]\n",
    "    event_second = group_aab_event.loc[event_name, group2] \n",
    "    users_first = logs_group.loc[group1] \n",
    "    users_second = logs_group.loc[group2] \n",
    "    \n",
    "    # пропорция успехов в первой группе\n",
    "    p1 = event_first / users_first \n",
    "    \n",
    "    # пропорция успехов во второй группе\n",
    "    p2 = event_second / users_second \n",
    "    \n",
    "    # пропорция успехов в комбинированном датасете\n",
    "    p_combined = (event_first + event_second) / (users_first + users_second) \n",
    "    \n",
    "    # разница пропорций в датасетах\n",
    "    difference = p1 - p2\n",
    "    \n",
    "    # считаем статистику в ст.отклонениях стандартного нормального распределения\n",
    "    z_value = difference / mth.sqrt(p_combined * (1 - p_combined) * (1 / users_first + 1 / users_second))\n",
    "    \n",
    "    # задаем стандартное нормальное распределение (среднее 0, ст.отклонение 1)\n",
    "    distr = stats.norm(0, 1)\n",
    "    p_value = (1 - distr.cdf(abs(z_value))) * 2\n",
    "    \n",
    "  \n",
    "    \n",
    "    print('Проверка для групп {} и {}, событие: {}, p-значение: {p_value:.2f}'.format(group1, group2, event_name, p_value=p_value))\n",
    "    if (p_value < alpha):\n",
    "        print(\"Отвергаем нулевую гипотезу о равенстве данных в группах\")\n",
    "    else:\n",
    "        print(\"Не получилось отвергнуть нулевую гипотезу о равенстве данных в группах\")"
   ]
  },
  {
   "cell_type": "code",
   "execution_count": 33,
   "id": "b7826dfc",
   "metadata": {
    "scrolled": false
   },
   "outputs": [
    {
     "name": "stdout",
     "output_type": "stream",
     "text": [
      "Проверка для групп A и A1, событие: 0, p-значение: 0.62\n",
      "Не получилось отвергнуть нулевую гипотезу о равенстве данных в группах\n",
      "\n",
      "Проверка для групп A и A1, событие: 1, p-значение: 0.24\n",
      "Не получилось отвергнуть нулевую гипотезу о равенстве данных в группах\n",
      "\n",
      "Проверка для групп A и A1, событие: 2, p-значение: 0.22\n",
      "Не получилось отвергнуть нулевую гипотезу о равенстве данных в группах\n",
      "\n",
      "Проверка для групп A и A1, событие: 3, p-значение: 0.11\n",
      "Не получилось отвергнуть нулевую гипотезу о равенстве данных в группах\n",
      "\n"
     ]
    }
   ],
   "source": [
    "#запускаем проверку А и A1\n",
    "for event_name in group_aab_event.index:\n",
    "    contrast('A', 'A1', .05)\n",
    "    print()"
   ]
  },
  {
   "cell_type": "markdown",
   "id": "2ed80362",
   "metadata": {},
   "source": [
    "Во всех случаях отвергнуть нулевую гипотезу неудалось"
   ]
  },
  {
   "cell_type": "markdown",
   "id": "663c28c6",
   "metadata": {},
   "source": [
    "### Проверим уровень статистической значимости остальных событий между А и B\n",
    "\n",
    "H0 - Разницы  между группами А и B нет, т.е. доли пользователей, совершивших действие, равны \n",
    "\n",
    "\n",
    "H1 - Разница  между группами А и B есть, т.е. доли пользователей, совершивших действие, не равны "
   ]
  },
  {
   "cell_type": "code",
   "execution_count": 34,
   "id": "0c95a555",
   "metadata": {
    "scrolled": false
   },
   "outputs": [
    {
     "name": "stdout",
     "output_type": "stream",
     "text": [
      "Проверка для групп A и B, событие: 0, p-значение: 0.33\n",
      "Не получилось отвергнуть нулевую гипотезу о равенстве данных в группах\n",
      "\n",
      "Проверка для групп A и B, событие: 1, p-значение: 0.21\n",
      "Не получилось отвергнуть нулевую гипотезу о равенстве данных в группах\n",
      "\n",
      "Проверка для групп A и B, событие: 2, p-значение: 0.08\n",
      "Не получилось отвергнуть нулевую гипотезу о равенстве данных в группах\n",
      "\n",
      "Проверка для групп A и B, событие: 3, p-значение: 0.21\n",
      "Не получилось отвергнуть нулевую гипотезу о равенстве данных в группах\n",
      "\n"
     ]
    }
   ],
   "source": [
    "#запускаем проверку А и B\n",
    "for event_name in group_aab_event.index:\n",
    "    contrast('A', 'B', .05)\n",
    "    print()"
   ]
  },
  {
   "cell_type": "markdown",
   "id": "fa48bab4",
   "metadata": {},
   "source": [
    "Аналогично между  А и В отвергнуть нулевую гипотезу неудалось"
   ]
  },
  {
   "cell_type": "markdown",
   "id": "e7cc0123",
   "metadata": {},
   "source": [
    "### Проверим уровень статистической значимости остальных событий между А1 и B\n",
    "\n",
    "H0 - Разницы  между группами А1 и B нет, т.е. доли пользователей, совершивших действие, равны \n",
    "\n",
    "\n",
    "H1 - Разница  между группами А1 и B есть, т.е. доли пользователей, совершивших действие, не равны "
   ]
  },
  {
   "cell_type": "code",
   "execution_count": 35,
   "id": "1466a181",
   "metadata": {
    "scrolled": false
   },
   "outputs": [
    {
     "name": "stdout",
     "output_type": "stream",
     "text": [
      "Проверка для групп A1 и B, событие: 0, p-значение: 0.63\n",
      "Не получилось отвергнуть нулевую гипотезу о равенстве данных в группах\n",
      "\n",
      "Проверка для групп A1 и B, событие: 1, p-значение: 0.95\n",
      "Не получилось отвергнуть нулевую гипотезу о равенстве данных в группах\n",
      "\n",
      "Проверка для групп A1 и B, событие: 2, p-значение: 0.60\n",
      "Не получилось отвергнуть нулевую гипотезу о равенстве данных в группах\n",
      "\n",
      "Проверка для групп A1 и B, событие: 3, p-значение: 0.72\n",
      "Не получилось отвергнуть нулевую гипотезу о равенстве данных в группах\n",
      "\n"
     ]
    }
   ],
   "source": [
    "#запускаем проверку А1 и B\n",
    "for event_name in group_aab_event.index:\n",
    "    contrast('A1', 'B', .05)\n",
    "    print()"
   ]
  },
  {
   "cell_type": "markdown",
   "id": "8b08c4c5",
   "metadata": {},
   "source": [
    "На выходе получаем тот же результат-принятие нулевой гипотезы в выборках А1 и В"
   ]
  },
  {
   "cell_type": "markdown",
   "id": "e5528c31",
   "metadata": {},
   "source": [
    "### Сравнение результатов с объединённой контрольной группой"
   ]
  },
  {
   "cell_type": "code",
   "execution_count": 36,
   "id": "86fc104a",
   "metadata": {},
   "outputs": [],
   "source": [
    "#добавим в функицю сложение групп А и А1\n",
    "def contrast_AAB(group1, group2, group3, alpha): \n",
    "    event_first = group_aab_event.loc[event_name, group1] + group_aab_event.loc[event_name, group3]\n",
    "    event_second = group_aab_event.loc[event_name, group2] \n",
    "    users_first = logs_group.loc[group1] +logs_group.loc[group3]\n",
    "    users_second = logs_group.loc[group2] \n",
    "    \n",
    "    # пропорция успехов в первой группе\n",
    "    p1 = event_first / users_first \n",
    "    \n",
    "    # пропорция успехов во второй группе\n",
    "    p2 = event_second / users_second \n",
    "    \n",
    "    # пропорция успехов в комбинированном датасете\n",
    "    p_combined = (event_first + event_second) / (users_first + users_second) \n",
    "    \n",
    "    # разница пропорций в датасетах\n",
    "    difference = p1 - p2\n",
    "    \n",
    "    # считаем статистику в ст.отклонениях стандартного нормального распределения\n",
    "    z_value = difference / mth.sqrt(p_combined * (1 - p_combined) * (1 / users_first + 1 / users_second))\n",
    "    \n",
    "    # задаем стандартное нормальное распределение (среднее 0, ст.отклонение 1)\n",
    "    distr = stats.norm(0, 1)\n",
    "    p_value = (1 - distr.cdf(abs(z_value))) * 2\n",
    "    \n",
    "  \n",
    "    \n",
    "    print('Проверка для групп {} и {}, событие: {}, p-значение: {p_value:.2f}'.format(group1, group2, event_name, p_value=p_value))\n",
    "    if (p_value < alpha):\n",
    "        print(\"Отвергаем нулевую гипотезу о равенстве данных в группах\")\n",
    "    else:\n",
    "        print(\"Не получилось отвергнуть нулевую гипотезу о равенстве данных в группах\")"
   ]
  },
  {
   "cell_type": "code",
   "execution_count": 37,
   "id": "ac1b70e9",
   "metadata": {
    "scrolled": false
   },
   "outputs": [
    {
     "name": "stdout",
     "output_type": "stream",
     "text": [
      "Проверка для групп A и B, событие: 0, p-значение: 0.40\n",
      "Не получилось отвергнуть нулевую гипотезу о равенстве данных в группах\n",
      "\n",
      "Проверка для групп A и B, событие: 1, p-значение: 0.45\n",
      "Не получилось отвергнуть нулевую гипотезу о равенстве данных в группах\n",
      "\n",
      "Проверка для групп A и B, событие: 2, p-значение: 0.19\n",
      "Не получилось отвергнуть нулевую гипотезу о равенстве данных в группах\n",
      "\n",
      "Проверка для групп A и B, событие: 3, p-значение: 0.61\n",
      "Не получилось отвергнуть нулевую гипотезу о равенстве данных в группах\n",
      "\n"
     ]
    }
   ],
   "source": [
    "for event_name in group_aab_event.index:\n",
    "    contrast_AAB('A', 'B', 'A1',.05)\n",
    "    print()"
   ]
  },
  {
   "cell_type": "markdown",
   "id": "ac0ba395",
   "metadata": {},
   "source": [
    "И в этом сравненние нулевую гипотезу не удалось опровергнуть"
   ]
  },
  {
   "cell_type": "markdown",
   "id": "f874f8cb",
   "metadata": {},
   "source": [
    "## Общий вывод\n",
    "\n"
   ]
  },
  {
   "cell_type": "markdown",
   "id": "dfdcd322",
   "metadata": {},
   "source": [
    "При работе с полученным датасеты в 'сырых данных' мы обработали 244 126 записей с 5-ю уникальными событиями в периоде  с 25-07-2019 по 7-08-2019 года. На выходе оставили лишь 4 события, избавившись от Tutorial, т.к. оно не имеет смысловой нагрузки на остальные данные. Так же сократился временной период и мы убрали все данные за июль, т.к. их количество было не существенно. На выходе в датафрейме стало на 1.57 % меньше данных. На основании эти данных вровел ряд статистически значимых тестов для контрольных групп сравнивания их по всем событиям. \n",
    "\n",
    "При расчете использовалось значение alpha = 0.05 и проводилось сравнение p_value которое во всех тестах было больше.Всего 16 тестов A/A1, A/B и AA1/B. Все они подтвердили нулевую гипотезу о равенственных данных. Благодаря чем, делаем вывод, что изменение шрифта не оказала влияния ни на одну из воронок и никак не отразилось на пользователях и шрифт можно применять. \n",
    "\n",
    "Если бы мы применили уровень значимости 0.1 каждый десятый раз можно получать ложный результат и один из тестов, а именно в АВ тесте подтвердилась бы альтернативная гипотеза в сравнении с 3-им этапом воронки CartScreenAppear(значение 0.08). Но я полагаю, что это слишком высокий порог, который дает ошибочное видение на тест. Поэтому в данном исследование предпочтительнее использовать уровень в 5%"
   ]
  }
 ],
 "metadata": {
  "ExecuteTimeLog": [
   {
    "duration": 2143,
    "start_time": "2023-05-25T13:32:50.306Z"
   },
   {
    "duration": 18,
    "start_time": "2023-05-25T13:32:52.452Z"
   },
   {
    "duration": 28,
    "start_time": "2023-05-25T13:32:52.472Z"
   },
   {
    "duration": 144,
    "start_time": "2023-05-25T13:32:52.502Z"
   },
   {
    "duration": 87,
    "start_time": "2023-05-25T13:32:52.649Z"
   },
   {
    "duration": 81,
    "start_time": "2023-05-25T13:32:52.738Z"
   },
   {
    "duration": 136,
    "start_time": "2023-05-25T13:32:52.821Z"
   },
   {
    "duration": 166,
    "start_time": "2023-05-25T13:32:52.959Z"
   },
   {
    "duration": 44,
    "start_time": "2023-05-25T13:32:53.127Z"
   },
   {
    "duration": 10,
    "start_time": "2023-05-25T13:32:53.173Z"
   },
   {
    "duration": 67,
    "start_time": "2023-05-25T13:32:53.185Z"
   },
   {
    "duration": 8,
    "start_time": "2023-05-25T13:32:53.254Z"
   },
   {
    "duration": 29,
    "start_time": "2023-05-25T13:32:53.264Z"
   },
   {
    "duration": 47,
    "start_time": "2023-05-25T13:32:53.296Z"
   },
   {
    "duration": 556,
    "start_time": "2023-05-25T13:32:53.345Z"
   },
   {
    "duration": 226,
    "start_time": "2023-05-25T13:32:53.907Z"
   },
   {
    "duration": 17,
    "start_time": "2023-05-25T13:32:54.135Z"
   },
   {
    "duration": 123,
    "start_time": "2023-05-25T13:32:54.155Z"
   },
   {
    "duration": 12,
    "start_time": "2023-05-25T13:32:54.281Z"
   },
   {
    "duration": 64,
    "start_time": "2023-05-25T13:32:54.295Z"
   },
   {
    "duration": 7,
    "start_time": "2023-05-25T13:32:54.361Z"
   },
   {
    "duration": 61,
    "start_time": "2023-05-25T13:32:54.370Z"
   },
   {
    "duration": 191,
    "start_time": "2023-05-25T13:32:54.435Z"
   },
   {
    "duration": 9,
    "start_time": "2023-05-25T13:32:54.630Z"
   },
   {
    "duration": 237,
    "start_time": "2023-05-25T13:32:54.641Z"
   },
   {
    "duration": 229,
    "start_time": "2023-05-25T13:32:54.880Z"
   },
   {
    "duration": 63,
    "start_time": "2023-05-25T13:32:55.117Z"
   },
   {
    "duration": 76,
    "start_time": "2023-05-25T13:32:55.182Z"
   },
   {
    "duration": 84,
    "start_time": "2023-05-25T13:32:55.259Z"
   },
   {
    "duration": 133,
    "start_time": "2023-05-25T13:32:55.345Z"
   },
   {
    "duration": 44,
    "start_time": "2023-05-25T13:32:55.480Z"
   },
   {
    "duration": 77,
    "start_time": "2023-05-25T13:32:55.526Z"
   },
   {
    "duration": 29,
    "start_time": "2023-05-25T13:32:55.605Z"
   },
   {
    "duration": 11,
    "start_time": "2023-05-25T13:32:55.636Z"
   },
   {
    "duration": 12,
    "start_time": "2023-05-25T13:32:55.649Z"
   },
   {
    "duration": 8,
    "start_time": "2023-05-25T13:32:55.673Z"
   },
   {
    "duration": 13,
    "start_time": "2023-05-25T13:32:55.683Z"
   }
  ],
  "kernelspec": {
   "display_name": "Python 3 (ipykernel)",
   "language": "python",
   "name": "python3"
  },
  "language_info": {
   "codemirror_mode": {
    "name": "ipython",
    "version": 3
   },
   "file_extension": ".py",
   "mimetype": "text/x-python",
   "name": "python",
   "nbconvert_exporter": "python",
   "pygments_lexer": "ipython3",
   "version": "3.9.5"
  },
  "toc": {
   "base_numbering": 1,
   "nav_menu": {},
   "number_sections": true,
   "sideBar": true,
   "skip_h1_title": true,
   "title_cell": "Сборный проект-2",
   "title_sidebar": "Contents",
   "toc_cell": true,
   "toc_position": {
    "height": "calc(100% - 180px)",
    "left": "10px",
    "top": "150px",
    "width": "384px"
   },
   "toc_section_display": true,
   "toc_window_display": true
  }
 },
 "nbformat": 4,
 "nbformat_minor": 5
}
