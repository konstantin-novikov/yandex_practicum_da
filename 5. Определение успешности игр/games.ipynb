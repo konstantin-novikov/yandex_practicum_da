{
 "cells": [
  {
   "cell_type": "markdown",
   "id": "d1dc8577",
   "metadata": {},
   "source": [
    "# Описание проекта\n",
    "\n"
   ]
  },
  {
   "cell_type": "markdown",
   "id": "594b501d",
   "metadata": {},
   "source": [
    "\n",
    "Вы работаете в интернет-магазине «Стримчик», который продаёт по всему миру компьютерные игры. Из открытых источников доступны исторические данные о продажах игр, оценки пользователей и экспертов, жанры и платформы (например, Xbox или PlayStation). Вам нужно выявить определяющие успешность игры закономерности. Это позволит сделать ставку на потенциально популярный продукт и спланировать рекламные кампании.\n",
    "Перед вами данные до 2016 года. Представим, что сейчас декабрь 2016 г., и вы планируете кампанию на 2017-й. Нужно отработать принцип работы с данными. Неважно, прогнозируете ли вы продажи на 2017 год по данным 2016-го или же 2027-й — по данным 2026 года.\n",
    "В наборе данных попадается аббревиатура ESRB (Entertainment Software Rating Board) — это ассоциация, определяющая возрастной рейтинг компьютерных игр. ESRB оценивает игровой контент и присваивает ему подходящую возрастную категорию, например, «Для взрослых», «Для детей младшего возраста» или «Для подростков»."
   ]
  },
  {
   "cell_type": "markdown",
   "id": "85a1c345",
   "metadata": {},
   "source": [
    "## Шаг 1. Откройте файл с данными и изучите общую информацию"
   ]
  },
  {
   "cell_type": "code",
   "execution_count": 1,
   "id": "4f157b80",
   "metadata": {},
   "outputs": [],
   "source": [
    "# 1) импорт библиотеки pandas для анализа\n",
    "import pandas as pd\n",
    "# 2) импорт библиотеки numpy для математических операций\n",
    "import numpy as np\n",
    "# 3) импорт библиотеки seaborn для визуализации\n",
    "import seaborn as sbn \n",
    "# 4) импорт библиотеки matplotlib для так же для визуализации\n",
    "import matplotlib.pyplot as plt\n",
    "# 5) импорт библиотеки stats для проверки гипотез\n",
    "from scipy import stats as st"
   ]
  },
  {
   "cell_type": "code",
   "execution_count": 2,
   "id": "ee4e698a",
   "metadata": {},
   "outputs": [],
   "source": [
    "data = pd.read_csv('/datasets/games.csv')"
   ]
  },
  {
   "cell_type": "code",
   "execution_count": 3,
   "id": "b8c8e9d3",
   "metadata": {},
   "outputs": [],
   "source": [
    "#и несколько предустановок по-умолчанию для комфортного использования\n",
    "pd.set_option('display.max_columns', None)\n",
    "sbn.set(rc={'figure.figsize':(12,8)})\n",
    "pd.options.display.float_format = '{:,.2f}'.format"
   ]
  },
  {
   "cell_type": "code",
   "execution_count": 4,
   "id": "d3e077c7",
   "metadata": {},
   "outputs": [
    {
     "data": {
      "text/html": [
       "<div>\n",
       "<style scoped>\n",
       "    .dataframe tbody tr th:only-of-type {\n",
       "        vertical-align: middle;\n",
       "    }\n",
       "\n",
       "    .dataframe tbody tr th {\n",
       "        vertical-align: top;\n",
       "    }\n",
       "\n",
       "    .dataframe thead th {\n",
       "        text-align: right;\n",
       "    }\n",
       "</style>\n",
       "<table border=\"1\" class=\"dataframe\">\n",
       "  <thead>\n",
       "    <tr style=\"text-align: right;\">\n",
       "      <th></th>\n",
       "      <th>Name</th>\n",
       "      <th>Platform</th>\n",
       "      <th>Year_of_Release</th>\n",
       "      <th>Genre</th>\n",
       "      <th>NA_sales</th>\n",
       "      <th>EU_sales</th>\n",
       "      <th>JP_sales</th>\n",
       "      <th>Other_sales</th>\n",
       "      <th>Critic_Score</th>\n",
       "      <th>User_Score</th>\n",
       "      <th>Rating</th>\n",
       "    </tr>\n",
       "  </thead>\n",
       "  <tbody>\n",
       "    <tr>\n",
       "      <th>0</th>\n",
       "      <td>Wii Sports</td>\n",
       "      <td>Wii</td>\n",
       "      <td>2,006.00</td>\n",
       "      <td>Sports</td>\n",
       "      <td>41.36</td>\n",
       "      <td>28.96</td>\n",
       "      <td>3.77</td>\n",
       "      <td>8.45</td>\n",
       "      <td>76.00</td>\n",
       "      <td>8</td>\n",
       "      <td>E</td>\n",
       "    </tr>\n",
       "    <tr>\n",
       "      <th>1</th>\n",
       "      <td>Super Mario Bros.</td>\n",
       "      <td>NES</td>\n",
       "      <td>1,985.00</td>\n",
       "      <td>Platform</td>\n",
       "      <td>29.08</td>\n",
       "      <td>3.58</td>\n",
       "      <td>6.81</td>\n",
       "      <td>0.77</td>\n",
       "      <td>NaN</td>\n",
       "      <td>NaN</td>\n",
       "      <td>NaN</td>\n",
       "    </tr>\n",
       "    <tr>\n",
       "      <th>2</th>\n",
       "      <td>Mario Kart Wii</td>\n",
       "      <td>Wii</td>\n",
       "      <td>2,008.00</td>\n",
       "      <td>Racing</td>\n",
       "      <td>15.68</td>\n",
       "      <td>12.76</td>\n",
       "      <td>3.79</td>\n",
       "      <td>3.29</td>\n",
       "      <td>82.00</td>\n",
       "      <td>8.3</td>\n",
       "      <td>E</td>\n",
       "    </tr>\n",
       "    <tr>\n",
       "      <th>3</th>\n",
       "      <td>Wii Sports Resort</td>\n",
       "      <td>Wii</td>\n",
       "      <td>2,009.00</td>\n",
       "      <td>Sports</td>\n",
       "      <td>15.61</td>\n",
       "      <td>10.93</td>\n",
       "      <td>3.28</td>\n",
       "      <td>2.95</td>\n",
       "      <td>80.00</td>\n",
       "      <td>8</td>\n",
       "      <td>E</td>\n",
       "    </tr>\n",
       "    <tr>\n",
       "      <th>4</th>\n",
       "      <td>Pokemon Red/Pokemon Blue</td>\n",
       "      <td>GB</td>\n",
       "      <td>1,996.00</td>\n",
       "      <td>Role-Playing</td>\n",
       "      <td>11.27</td>\n",
       "      <td>8.89</td>\n",
       "      <td>10.22</td>\n",
       "      <td>1.00</td>\n",
       "      <td>NaN</td>\n",
       "      <td>NaN</td>\n",
       "      <td>NaN</td>\n",
       "    </tr>\n",
       "  </tbody>\n",
       "</table>\n",
       "</div>"
      ],
      "text/plain": [
       "                       Name Platform  Year_of_Release         Genre  NA_sales  \\\n",
       "0                Wii Sports      Wii         2,006.00        Sports     41.36   \n",
       "1         Super Mario Bros.      NES         1,985.00      Platform     29.08   \n",
       "2            Mario Kart Wii      Wii         2,008.00        Racing     15.68   \n",
       "3         Wii Sports Resort      Wii         2,009.00        Sports     15.61   \n",
       "4  Pokemon Red/Pokemon Blue       GB         1,996.00  Role-Playing     11.27   \n",
       "\n",
       "   EU_sales  JP_sales  Other_sales  Critic_Score User_Score Rating  \n",
       "0     28.96      3.77         8.45         76.00          8      E  \n",
       "1      3.58      6.81         0.77           NaN        NaN    NaN  \n",
       "2     12.76      3.79         3.29         82.00        8.3      E  \n",
       "3     10.93      3.28         2.95         80.00          8      E  \n",
       "4      8.89     10.22         1.00           NaN        NaN    NaN  "
      ]
     },
     "execution_count": 4,
     "metadata": {},
     "output_type": "execute_result"
    }
   ],
   "source": [
    "#ознакамлюваюсь со структурой данных\n",
    "data.head()"
   ]
  },
  {
   "cell_type": "code",
   "execution_count": 5,
   "id": "2e656d84",
   "metadata": {},
   "outputs": [
    {
     "data": {
      "text/plain": [
       "(16715, 11)"
      ]
     },
     "execution_count": 5,
     "metadata": {},
     "output_type": "execute_result"
    }
   ],
   "source": [
    "# у нас 16 715 строк и 11 колонок\n",
    "data.shape"
   ]
  },
  {
   "cell_type": "code",
   "execution_count": 6,
   "id": "51c4b690",
   "metadata": {},
   "outputs": [
    {
     "name": "stdout",
     "output_type": "stream",
     "text": [
      "<class 'pandas.core.frame.DataFrame'>\n",
      "RangeIndex: 16715 entries, 0 to 16714\n",
      "Data columns (total 11 columns):\n",
      " #   Column           Non-Null Count  Dtype  \n",
      "---  ------           --------------  -----  \n",
      " 0   Name             16713 non-null  object \n",
      " 1   Platform         16715 non-null  object \n",
      " 2   Year_of_Release  16446 non-null  float64\n",
      " 3   Genre            16713 non-null  object \n",
      " 4   NA_sales         16715 non-null  float64\n",
      " 5   EU_sales         16715 non-null  float64\n",
      " 6   JP_sales         16715 non-null  float64\n",
      " 7   Other_sales      16715 non-null  float64\n",
      " 8   Critic_Score     8137 non-null   float64\n",
      " 9   User_Score       10014 non-null  object \n",
      " 10  Rating           9949 non-null   object \n",
      "dtypes: float64(6), object(5)\n",
      "memory usage: 1.4+ MB\n"
     ]
    }
   ],
   "source": [
    "#3 последние колонки проблемные, получается у нас в половине датасета пропуски. Изучим подробнее в следующих шагах.\n",
    "data.info()"
   ]
  },
  {
   "cell_type": "markdown",
   "id": "2a191f4a",
   "metadata": {},
   "source": [
    "## Шаг 2. Подготовьте данные"
   ]
  },
  {
   "cell_type": "markdown",
   "id": "4c6165f6",
   "metadata": {},
   "source": [
    "**2.1 Привожу название столбцов к нижнему регистру**"
   ]
  },
  {
   "cell_type": "code",
   "execution_count": 7,
   "id": "ca02c0c8",
   "metadata": {},
   "outputs": [],
   "source": [
    "data.columns = data.columns.str.lower()"
   ]
  },
  {
   "cell_type": "markdown",
   "id": "e61b36bd",
   "metadata": {},
   "source": [
    "**2.2 Преобразую данные в нужные типы**"
   ]
  },
  {
   "cell_type": "code",
   "execution_count": 8,
   "id": "046faef0",
   "metadata": {},
   "outputs": [],
   "source": [
    "# на данном этапе преобразовываю Year_of_Release в числовой формат, чтобы убрать нули \n",
    "data['year_of_release'] = data['year_of_release'].astype('Int64')\n",
    "#Чуть позднее сконвертирую оценки пользователей"
   ]
  },
  {
   "cell_type": "markdown",
   "id": "f3528632",
   "metadata": {},
   "source": [
    " **2.3 Обработка пропусков**"
   ]
  },
  {
   "cell_type": "code",
   "execution_count": 9,
   "id": "89210742",
   "metadata": {},
   "outputs": [
    {
     "data": {
      "text/plain": [
       "name                  2\n",
       "platform              0\n",
       "year_of_release     269\n",
       "genre                 2\n",
       "na_sales              0\n",
       "eu_sales              0\n",
       "jp_sales              0\n",
       "other_sales           0\n",
       "critic_score       8578\n",
       "user_score         6701\n",
       "rating             6766\n",
       "dtype: int64"
      ]
     },
     "execution_count": 9,
     "metadata": {},
     "output_type": "execute_result"
    }
   ],
   "source": [
    "#Посмтотрим на их количество\n",
    "data.isna().sum()"
   ]
  },
  {
   "cell_type": "code",
   "execution_count": 10,
   "id": "e3358437",
   "metadata": {},
   "outputs": [
    {
     "data": {
      "text/html": [
       "<div>\n",
       "<style scoped>\n",
       "    .dataframe tbody tr th:only-of-type {\n",
       "        vertical-align: middle;\n",
       "    }\n",
       "\n",
       "    .dataframe tbody tr th {\n",
       "        vertical-align: top;\n",
       "    }\n",
       "\n",
       "    .dataframe thead th {\n",
       "        text-align: right;\n",
       "    }\n",
       "</style>\n",
       "<table border=\"1\" class=\"dataframe\">\n",
       "  <thead>\n",
       "    <tr style=\"text-align: right;\">\n",
       "      <th></th>\n",
       "      <th>name</th>\n",
       "      <th>platform</th>\n",
       "      <th>year_of_release</th>\n",
       "      <th>genre</th>\n",
       "      <th>na_sales</th>\n",
       "      <th>eu_sales</th>\n",
       "      <th>jp_sales</th>\n",
       "      <th>other_sales</th>\n",
       "      <th>critic_score</th>\n",
       "      <th>user_score</th>\n",
       "      <th>rating</th>\n",
       "    </tr>\n",
       "  </thead>\n",
       "  <tbody>\n",
       "    <tr>\n",
       "      <th>659</th>\n",
       "      <td>NaN</td>\n",
       "      <td>GEN</td>\n",
       "      <td>1993</td>\n",
       "      <td>NaN</td>\n",
       "      <td>1.78</td>\n",
       "      <td>0.53</td>\n",
       "      <td>0.00</td>\n",
       "      <td>0.08</td>\n",
       "      <td>NaN</td>\n",
       "      <td>NaN</td>\n",
       "      <td>NaN</td>\n",
       "    </tr>\n",
       "    <tr>\n",
       "      <th>14244</th>\n",
       "      <td>NaN</td>\n",
       "      <td>GEN</td>\n",
       "      <td>1993</td>\n",
       "      <td>NaN</td>\n",
       "      <td>0.00</td>\n",
       "      <td>0.00</td>\n",
       "      <td>0.03</td>\n",
       "      <td>0.00</td>\n",
       "      <td>NaN</td>\n",
       "      <td>NaN</td>\n",
       "      <td>NaN</td>\n",
       "    </tr>\n",
       "  </tbody>\n",
       "</table>\n",
       "</div>"
      ],
      "text/plain": [
       "      name platform  year_of_release genre  na_sales  eu_sales  jp_sales  \\\n",
       "659    NaN      GEN             1993   NaN      1.78      0.53      0.00   \n",
       "14244  NaN      GEN             1993   NaN      0.00      0.00      0.03   \n",
       "\n",
       "       other_sales  critic_score user_score rating  \n",
       "659           0.08           NaN        NaN    NaN  \n",
       "14244         0.00           NaN        NaN    NaN  "
      ]
     },
     "execution_count": 10,
     "metadata": {},
     "output_type": "execute_result"
    }
   ],
   "source": [
    "#Посмотрим на ценность оставшихся данных в пропусках в колонке name\n",
    "data[data['name'].isna()]"
   ]
  },
  {
   "cell_type": "code",
   "execution_count": 11,
   "id": "e253db9b",
   "metadata": {},
   "outputs": [],
   "source": [
    "#уверенность для удаления только выросла, эти данные бесполезны, т.к. из не идентифицировать, поэтому удаляю\n",
    "data.dropna(subset=['name'], inplace=True)"
   ]
  },
  {
   "cell_type": "code",
   "execution_count": 12,
   "id": "baaf599d",
   "metadata": {},
   "outputs": [
    {
     "data": {
      "text/html": [
       "<div>\n",
       "<style scoped>\n",
       "    .dataframe tbody tr th:only-of-type {\n",
       "        vertical-align: middle;\n",
       "    }\n",
       "\n",
       "    .dataframe tbody tr th {\n",
       "        vertical-align: top;\n",
       "    }\n",
       "\n",
       "    .dataframe thead th {\n",
       "        text-align: right;\n",
       "    }\n",
       "</style>\n",
       "<table border=\"1\" class=\"dataframe\">\n",
       "  <thead>\n",
       "    <tr style=\"text-align: right;\">\n",
       "      <th></th>\n",
       "      <th>name</th>\n",
       "      <th>platform</th>\n",
       "      <th>year_of_release</th>\n",
       "      <th>genre</th>\n",
       "      <th>na_sales</th>\n",
       "      <th>eu_sales</th>\n",
       "      <th>jp_sales</th>\n",
       "      <th>other_sales</th>\n",
       "      <th>critic_score</th>\n",
       "      <th>user_score</th>\n",
       "      <th>rating</th>\n",
       "    </tr>\n",
       "  </thead>\n",
       "  <tbody>\n",
       "    <tr>\n",
       "      <th>183</th>\n",
       "      <td>Madden NFL 2004</td>\n",
       "      <td>PS2</td>\n",
       "      <td>&lt;NA&gt;</td>\n",
       "      <td>Sports</td>\n",
       "      <td>4.26</td>\n",
       "      <td>0.26</td>\n",
       "      <td>0.01</td>\n",
       "      <td>0.71</td>\n",
       "      <td>94.00</td>\n",
       "      <td>8.5</td>\n",
       "      <td>E</td>\n",
       "    </tr>\n",
       "    <tr>\n",
       "      <th>377</th>\n",
       "      <td>FIFA Soccer 2004</td>\n",
       "      <td>PS2</td>\n",
       "      <td>&lt;NA&gt;</td>\n",
       "      <td>Sports</td>\n",
       "      <td>0.59</td>\n",
       "      <td>2.36</td>\n",
       "      <td>0.04</td>\n",
       "      <td>0.51</td>\n",
       "      <td>84.00</td>\n",
       "      <td>6.4</td>\n",
       "      <td>E</td>\n",
       "    </tr>\n",
       "    <tr>\n",
       "      <th>456</th>\n",
       "      <td>LEGO Batman: The Videogame</td>\n",
       "      <td>Wii</td>\n",
       "      <td>&lt;NA&gt;</td>\n",
       "      <td>Action</td>\n",
       "      <td>1.80</td>\n",
       "      <td>0.97</td>\n",
       "      <td>0.00</td>\n",
       "      <td>0.29</td>\n",
       "      <td>74.00</td>\n",
       "      <td>7.9</td>\n",
       "      <td>E10+</td>\n",
       "    </tr>\n",
       "    <tr>\n",
       "      <th>475</th>\n",
       "      <td>wwe Smackdown vs. Raw 2006</td>\n",
       "      <td>PS2</td>\n",
       "      <td>&lt;NA&gt;</td>\n",
       "      <td>Fighting</td>\n",
       "      <td>1.57</td>\n",
       "      <td>1.02</td>\n",
       "      <td>0.00</td>\n",
       "      <td>0.41</td>\n",
       "      <td>NaN</td>\n",
       "      <td>NaN</td>\n",
       "      <td>NaN</td>\n",
       "    </tr>\n",
       "    <tr>\n",
       "      <th>609</th>\n",
       "      <td>Space Invaders</td>\n",
       "      <td>2600</td>\n",
       "      <td>&lt;NA&gt;</td>\n",
       "      <td>Shooter</td>\n",
       "      <td>2.36</td>\n",
       "      <td>0.14</td>\n",
       "      <td>0.00</td>\n",
       "      <td>0.03</td>\n",
       "      <td>NaN</td>\n",
       "      <td>NaN</td>\n",
       "      <td>NaN</td>\n",
       "    </tr>\n",
       "    <tr>\n",
       "      <th>...</th>\n",
       "      <td>...</td>\n",
       "      <td>...</td>\n",
       "      <td>...</td>\n",
       "      <td>...</td>\n",
       "      <td>...</td>\n",
       "      <td>...</td>\n",
       "      <td>...</td>\n",
       "      <td>...</td>\n",
       "      <td>...</td>\n",
       "      <td>...</td>\n",
       "      <td>...</td>\n",
       "    </tr>\n",
       "    <tr>\n",
       "      <th>16373</th>\n",
       "      <td>PDC World Championship Darts 2008</td>\n",
       "      <td>PSP</td>\n",
       "      <td>&lt;NA&gt;</td>\n",
       "      <td>Sports</td>\n",
       "      <td>0.01</td>\n",
       "      <td>0.00</td>\n",
       "      <td>0.00</td>\n",
       "      <td>0.00</td>\n",
       "      <td>43.00</td>\n",
       "      <td>tbd</td>\n",
       "      <td>E10+</td>\n",
       "    </tr>\n",
       "    <tr>\n",
       "      <th>16405</th>\n",
       "      <td>Freaky Flyers</td>\n",
       "      <td>GC</td>\n",
       "      <td>&lt;NA&gt;</td>\n",
       "      <td>Racing</td>\n",
       "      <td>0.01</td>\n",
       "      <td>0.00</td>\n",
       "      <td>0.00</td>\n",
       "      <td>0.00</td>\n",
       "      <td>69.00</td>\n",
       "      <td>6.5</td>\n",
       "      <td>T</td>\n",
       "    </tr>\n",
       "    <tr>\n",
       "      <th>16448</th>\n",
       "      <td>Inversion</td>\n",
       "      <td>PC</td>\n",
       "      <td>&lt;NA&gt;</td>\n",
       "      <td>Shooter</td>\n",
       "      <td>0.01</td>\n",
       "      <td>0.00</td>\n",
       "      <td>0.00</td>\n",
       "      <td>0.00</td>\n",
       "      <td>59.00</td>\n",
       "      <td>6.7</td>\n",
       "      <td>M</td>\n",
       "    </tr>\n",
       "    <tr>\n",
       "      <th>16458</th>\n",
       "      <td>Hakuouki: Shinsengumi Kitan</td>\n",
       "      <td>PS3</td>\n",
       "      <td>&lt;NA&gt;</td>\n",
       "      <td>Adventure</td>\n",
       "      <td>0.01</td>\n",
       "      <td>0.00</td>\n",
       "      <td>0.00</td>\n",
       "      <td>0.00</td>\n",
       "      <td>NaN</td>\n",
       "      <td>NaN</td>\n",
       "      <td>NaN</td>\n",
       "    </tr>\n",
       "    <tr>\n",
       "      <th>16522</th>\n",
       "      <td>Virtua Quest</td>\n",
       "      <td>GC</td>\n",
       "      <td>&lt;NA&gt;</td>\n",
       "      <td>Role-Playing</td>\n",
       "      <td>0.01</td>\n",
       "      <td>0.00</td>\n",
       "      <td>0.00</td>\n",
       "      <td>0.00</td>\n",
       "      <td>55.00</td>\n",
       "      <td>5.5</td>\n",
       "      <td>T</td>\n",
       "    </tr>\n",
       "  </tbody>\n",
       "</table>\n",
       "<p>269 rows × 11 columns</p>\n",
       "</div>"
      ],
      "text/plain": [
       "                                    name platform  year_of_release  \\\n",
       "183                      Madden NFL 2004      PS2             <NA>   \n",
       "377                     FIFA Soccer 2004      PS2             <NA>   \n",
       "456           LEGO Batman: The Videogame      Wii             <NA>   \n",
       "475           wwe Smackdown vs. Raw 2006      PS2             <NA>   \n",
       "609                       Space Invaders     2600             <NA>   \n",
       "...                                  ...      ...              ...   \n",
       "16373  PDC World Championship Darts 2008      PSP             <NA>   \n",
       "16405                      Freaky Flyers       GC             <NA>   \n",
       "16448                          Inversion       PC             <NA>   \n",
       "16458        Hakuouki: Shinsengumi Kitan      PS3             <NA>   \n",
       "16522                       Virtua Quest       GC             <NA>   \n",
       "\n",
       "              genre  na_sales  eu_sales  jp_sales  other_sales  critic_score  \\\n",
       "183          Sports      4.26      0.26      0.01         0.71         94.00   \n",
       "377          Sports      0.59      2.36      0.04         0.51         84.00   \n",
       "456          Action      1.80      0.97      0.00         0.29         74.00   \n",
       "475        Fighting      1.57      1.02      0.00         0.41           NaN   \n",
       "609         Shooter      2.36      0.14      0.00         0.03           NaN   \n",
       "...             ...       ...       ...       ...          ...           ...   \n",
       "16373        Sports      0.01      0.00      0.00         0.00         43.00   \n",
       "16405        Racing      0.01      0.00      0.00         0.00         69.00   \n",
       "16448       Shooter      0.01      0.00      0.00         0.00         59.00   \n",
       "16458     Adventure      0.01      0.00      0.00         0.00           NaN   \n",
       "16522  Role-Playing      0.01      0.00      0.00         0.00         55.00   \n",
       "\n",
       "      user_score rating  \n",
       "183          8.5      E  \n",
       "377          6.4      E  \n",
       "456          7.9   E10+  \n",
       "475          NaN    NaN  \n",
       "609          NaN    NaN  \n",
       "...          ...    ...  \n",
       "16373        tbd   E10+  \n",
       "16405        6.5      T  \n",
       "16448        6.7      M  \n",
       "16458        NaN    NaN  \n",
       "16522        5.5      T  \n",
       "\n",
       "[269 rows x 11 columns]"
      ]
     },
     "execution_count": 12,
     "metadata": {},
     "output_type": "execute_result"
    }
   ],
   "source": [
    "#оцениваем масштаб бедствия в колонке year_of_release\n",
    "data[data['year_of_release'].isna()]"
   ]
  },
  {
   "cell_type": "markdown",
   "id": "f8e33e57",
   "metadata": {},
   "source": [
    "пропуски в колонке year_of_release составляют 1,6% от всего датасета, а учитывая весомость этих данных для дальнейшего анализа, \n",
    "прихожу к твердому решению удалить эти данные. Хотя, при большом желании можно привязаться к имени, в котором указан год релиза\n",
    "считаю, что не окажет никакого влияния на общие данные.\n",
    "В добавок к этому решению так же влияет факт пропуксках еще 3 колонках"
   ]
  },
  {
   "cell_type": "code",
   "execution_count": 13,
   "id": "cd6c917c",
   "metadata": {},
   "outputs": [],
   "source": [
    "#удаляем пропуски\n",
    "data.dropna(subset=['year_of_release'], inplace=True)"
   ]
  },
  {
   "cell_type": "code",
   "execution_count": 14,
   "id": "a161a2dc",
   "metadata": {},
   "outputs": [
    {
     "data": {
      "text/plain": [
       "array([13., 17., 19., 20., 21., 23., 24., 25., 26., 27., 28., 29., 30.,\n",
       "       31., 32., 33., 34., 35., 36., 37., 38., 39., 40., 41., 42., 43.,\n",
       "       44., 45., 46., 47., 48., 49., 50., 51., 52., 53., 54., 55., 56.,\n",
       "       57., 58., 59., 60., 61., 62., 63., 64., 65., 66., 67., 68., 69.,\n",
       "       70., 71., 72., 73., 74., 75., 76., 77., 78., 79., 80., 81., 82.,\n",
       "       83., 84., 85., 86., 87., 88., 89., 90., 91., 92., 93., 94., 95.,\n",
       "       96., 97., 98., nan])"
      ]
     },
     "execution_count": 14,
     "metadata": {},
     "output_type": "execute_result"
    }
   ],
   "source": [
    "#посмотрю что представляют собой остальные 3 колоник, в которых очень много пропусков\n",
    "data.critic_score.sort_values().unique()"
   ]
  },
  {
   "cell_type": "code",
   "execution_count": 15,
   "id": "296f1d69",
   "metadata": {},
   "outputs": [
    {
     "data": {
      "text/plain": [
       "array(['AO', 'E', 'E10+', 'EC', 'K-A', 'M', 'RP', 'T', nan], dtype=object)"
      ]
     },
     "execution_count": 15,
     "metadata": {},
     "output_type": "execute_result"
    }
   ],
   "source": [
    "#обращая внимание на то, что количество пропусков user_score и rating очень похожи и, возможно, взаимосвязаны\n",
    "data.rating.sort_values().unique()"
   ]
  },
  {
   "cell_type": "code",
   "execution_count": 16,
   "id": "a2ad797f",
   "metadata": {},
   "outputs": [
    {
     "data": {
      "text/plain": [
       "array(['0', '0.2', '0.3', '0.5', '0.6', '0.7', '0.9', '1', '1.1', '1.2',\n",
       "       '1.3', '1.4', '1.5', '1.6', '1.7', '1.8', '1.9', '2', '2.1', '2.2',\n",
       "       '2.3', '2.4', '2.5', '2.6', '2.7', '2.8', '2.9', '3', '3.1', '3.2',\n",
       "       '3.3', '3.4', '3.5', '3.6', '3.7', '3.8', '3.9', '4', '4.1', '4.2',\n",
       "       '4.3', '4.4', '4.5', '4.6', '4.7', '4.8', '4.9', '5', '5.1', '5.2',\n",
       "       '5.3', '5.4', '5.5', '5.6', '5.7', '5.8', '5.9', '6', '6.1', '6.2',\n",
       "       '6.3', '6.4', '6.5', '6.6', '6.7', '6.8', '6.9', '7', '7.1', '7.2',\n",
       "       '7.3', '7.4', '7.5', '7.6', '7.7', '7.8', '7.9', '8', '8.1', '8.2',\n",
       "       '8.3', '8.4', '8.5', '8.6', '8.7', '8.8', '8.9', '9', '9.1', '9.2',\n",
       "       '9.3', '9.4', '9.5', '9.6', '9.7', 'tbd', nan], dtype=object)"
      ]
     },
     "execution_count": 16,
     "metadata": {},
     "output_type": "execute_result"
    }
   ],
   "source": [
    "#посмотрим на user_score\n",
    "data.user_score.sort_values().unique()"
   ]
  },
  {
   "cell_type": "code",
   "execution_count": 17,
   "id": "3dfb054f",
   "metadata": {},
   "outputs": [
    {
     "data": {
      "text/html": [
       "<div>\n",
       "<style scoped>\n",
       "    .dataframe tbody tr th:only-of-type {\n",
       "        vertical-align: middle;\n",
       "    }\n",
       "\n",
       "    .dataframe tbody tr th {\n",
       "        vertical-align: top;\n",
       "    }\n",
       "\n",
       "    .dataframe thead th {\n",
       "        text-align: right;\n",
       "    }\n",
       "</style>\n",
       "<table border=\"1\" class=\"dataframe\">\n",
       "  <thead>\n",
       "    <tr style=\"text-align: right;\">\n",
       "      <th></th>\n",
       "      <th>name</th>\n",
       "      <th>platform</th>\n",
       "      <th>year_of_release</th>\n",
       "      <th>genre</th>\n",
       "      <th>na_sales</th>\n",
       "      <th>eu_sales</th>\n",
       "      <th>jp_sales</th>\n",
       "      <th>other_sales</th>\n",
       "      <th>critic_score</th>\n",
       "      <th>user_score</th>\n",
       "      <th>rating</th>\n",
       "    </tr>\n",
       "  </thead>\n",
       "  <tbody>\n",
       "    <tr>\n",
       "      <th>119</th>\n",
       "      <td>Zumba Fitness</td>\n",
       "      <td>Wii</td>\n",
       "      <td>2010</td>\n",
       "      <td>Sports</td>\n",
       "      <td>3.45</td>\n",
       "      <td>2.59</td>\n",
       "      <td>0.00</td>\n",
       "      <td>0.66</td>\n",
       "      <td>NaN</td>\n",
       "      <td>tbd</td>\n",
       "      <td>E</td>\n",
       "    </tr>\n",
       "    <tr>\n",
       "      <th>301</th>\n",
       "      <td>Namco Museum: 50th Anniversary</td>\n",
       "      <td>PS2</td>\n",
       "      <td>2005</td>\n",
       "      <td>Misc</td>\n",
       "      <td>2.08</td>\n",
       "      <td>1.35</td>\n",
       "      <td>0.00</td>\n",
       "      <td>0.54</td>\n",
       "      <td>61.00</td>\n",
       "      <td>tbd</td>\n",
       "      <td>E10+</td>\n",
       "    </tr>\n",
       "    <tr>\n",
       "      <th>520</th>\n",
       "      <td>Zumba Fitness 2</td>\n",
       "      <td>Wii</td>\n",
       "      <td>2011</td>\n",
       "      <td>Sports</td>\n",
       "      <td>1.51</td>\n",
       "      <td>1.03</td>\n",
       "      <td>0.00</td>\n",
       "      <td>0.27</td>\n",
       "      <td>NaN</td>\n",
       "      <td>tbd</td>\n",
       "      <td>T</td>\n",
       "    </tr>\n",
       "    <tr>\n",
       "      <th>645</th>\n",
       "      <td>uDraw Studio</td>\n",
       "      <td>Wii</td>\n",
       "      <td>2010</td>\n",
       "      <td>Misc</td>\n",
       "      <td>1.65</td>\n",
       "      <td>0.57</td>\n",
       "      <td>0.00</td>\n",
       "      <td>0.20</td>\n",
       "      <td>71.00</td>\n",
       "      <td>tbd</td>\n",
       "      <td>E</td>\n",
       "    </tr>\n",
       "    <tr>\n",
       "      <th>718</th>\n",
       "      <td>Just Dance Kids</td>\n",
       "      <td>Wii</td>\n",
       "      <td>2010</td>\n",
       "      <td>Misc</td>\n",
       "      <td>1.52</td>\n",
       "      <td>0.54</td>\n",
       "      <td>0.00</td>\n",
       "      <td>0.18</td>\n",
       "      <td>NaN</td>\n",
       "      <td>tbd</td>\n",
       "      <td>E</td>\n",
       "    </tr>\n",
       "    <tr>\n",
       "      <th>...</th>\n",
       "      <td>...</td>\n",
       "      <td>...</td>\n",
       "      <td>...</td>\n",
       "      <td>...</td>\n",
       "      <td>...</td>\n",
       "      <td>...</td>\n",
       "      <td>...</td>\n",
       "      <td>...</td>\n",
       "      <td>...</td>\n",
       "      <td>...</td>\n",
       "      <td>...</td>\n",
       "    </tr>\n",
       "    <tr>\n",
       "      <th>16695</th>\n",
       "      <td>Planet Monsters</td>\n",
       "      <td>GBA</td>\n",
       "      <td>2001</td>\n",
       "      <td>Action</td>\n",
       "      <td>0.01</td>\n",
       "      <td>0.00</td>\n",
       "      <td>0.00</td>\n",
       "      <td>0.00</td>\n",
       "      <td>67.00</td>\n",
       "      <td>tbd</td>\n",
       "      <td>E</td>\n",
       "    </tr>\n",
       "    <tr>\n",
       "      <th>16697</th>\n",
       "      <td>Bust-A-Move 3000</td>\n",
       "      <td>GC</td>\n",
       "      <td>2003</td>\n",
       "      <td>Puzzle</td>\n",
       "      <td>0.01</td>\n",
       "      <td>0.00</td>\n",
       "      <td>0.00</td>\n",
       "      <td>0.00</td>\n",
       "      <td>53.00</td>\n",
       "      <td>tbd</td>\n",
       "      <td>E</td>\n",
       "    </tr>\n",
       "    <tr>\n",
       "      <th>16698</th>\n",
       "      <td>Mega Brain Boost</td>\n",
       "      <td>DS</td>\n",
       "      <td>2008</td>\n",
       "      <td>Puzzle</td>\n",
       "      <td>0.01</td>\n",
       "      <td>0.00</td>\n",
       "      <td>0.00</td>\n",
       "      <td>0.00</td>\n",
       "      <td>48.00</td>\n",
       "      <td>tbd</td>\n",
       "      <td>E</td>\n",
       "    </tr>\n",
       "    <tr>\n",
       "      <th>16704</th>\n",
       "      <td>Plushees</td>\n",
       "      <td>DS</td>\n",
       "      <td>2008</td>\n",
       "      <td>Simulation</td>\n",
       "      <td>0.01</td>\n",
       "      <td>0.00</td>\n",
       "      <td>0.00</td>\n",
       "      <td>0.00</td>\n",
       "      <td>NaN</td>\n",
       "      <td>tbd</td>\n",
       "      <td>E</td>\n",
       "    </tr>\n",
       "    <tr>\n",
       "      <th>16706</th>\n",
       "      <td>Men in Black II: Alien Escape</td>\n",
       "      <td>GC</td>\n",
       "      <td>2003</td>\n",
       "      <td>Shooter</td>\n",
       "      <td>0.01</td>\n",
       "      <td>0.00</td>\n",
       "      <td>0.00</td>\n",
       "      <td>0.00</td>\n",
       "      <td>NaN</td>\n",
       "      <td>tbd</td>\n",
       "      <td>T</td>\n",
       "    </tr>\n",
       "  </tbody>\n",
       "</table>\n",
       "<p>2376 rows × 11 columns</p>\n",
       "</div>"
      ],
      "text/plain": [
       "                                 name platform  year_of_release       genre  \\\n",
       "119                     Zumba Fitness      Wii             2010      Sports   \n",
       "301    Namco Museum: 50th Anniversary      PS2             2005        Misc   \n",
       "520                   Zumba Fitness 2      Wii             2011      Sports   \n",
       "645                      uDraw Studio      Wii             2010        Misc   \n",
       "718                   Just Dance Kids      Wii             2010        Misc   \n",
       "...                               ...      ...              ...         ...   \n",
       "16695                 Planet Monsters      GBA             2001      Action   \n",
       "16697                Bust-A-Move 3000       GC             2003      Puzzle   \n",
       "16698                Mega Brain Boost       DS             2008      Puzzle   \n",
       "16704                        Plushees       DS             2008  Simulation   \n",
       "16706   Men in Black II: Alien Escape       GC             2003     Shooter   \n",
       "\n",
       "       na_sales  eu_sales  jp_sales  other_sales  critic_score user_score  \\\n",
       "119        3.45      2.59      0.00         0.66           NaN        tbd   \n",
       "301        2.08      1.35      0.00         0.54         61.00        tbd   \n",
       "520        1.51      1.03      0.00         0.27           NaN        tbd   \n",
       "645        1.65      0.57      0.00         0.20         71.00        tbd   \n",
       "718        1.52      0.54      0.00         0.18           NaN        tbd   \n",
       "...         ...       ...       ...          ...           ...        ...   \n",
       "16695      0.01      0.00      0.00         0.00         67.00        tbd   \n",
       "16697      0.01      0.00      0.00         0.00         53.00        tbd   \n",
       "16698      0.01      0.00      0.00         0.00         48.00        tbd   \n",
       "16704      0.01      0.00      0.00         0.00           NaN        tbd   \n",
       "16706      0.01      0.00      0.00         0.00           NaN        tbd   \n",
       "\n",
       "      rating  \n",
       "119        E  \n",
       "301     E10+  \n",
       "520        T  \n",
       "645        E  \n",
       "718        E  \n",
       "...      ...  \n",
       "16695      E  \n",
       "16697      E  \n",
       "16698      E  \n",
       "16704      E  \n",
       "16706      T  \n",
       "\n",
       "[2376 rows x 11 columns]"
      ]
     },
     "execution_count": 17,
     "metadata": {},
     "output_type": "execute_result"
    }
   ],
   "source": [
    "#погулгли, что значит tbd -to Be Determined, т.е. по сути оценки нет, но она обещает появиться в будущем\n",
    "#раз нет фактических данных, значит надо удалить эти строки, но перед этим проверить сколько их\n",
    "data.loc[data['user_score']=='tbd']"
   ]
  },
  {
   "cell_type": "code",
   "execution_count": 18,
   "id": "a57334f7",
   "metadata": {},
   "outputs": [],
   "source": [
    "#получилось 2376 записей, что составляет 14% датасета, это много, поэтому просто переименую их в NaN, \n",
    "#т.к. смысл данных не поменяется\n",
    "data.user_score = data.user_score.replace('tbd', np.NaN, regex=True)\n",
    "#и заодно сконвертирую в форма float\n",
    "data['user_score'] = data['user_score'].astype('float64')\n"
   ]
  },
  {
   "cell_type": "code",
   "execution_count": 19,
   "id": "3a313dbc",
   "metadata": {},
   "outputs": [
    {
     "data": {
      "text/html": [
       "<div>\n",
       "<style scoped>\n",
       "    .dataframe tbody tr th:only-of-type {\n",
       "        vertical-align: middle;\n",
       "    }\n",
       "\n",
       "    .dataframe tbody tr th {\n",
       "        vertical-align: top;\n",
       "    }\n",
       "\n",
       "    .dataframe thead th {\n",
       "        text-align: right;\n",
       "    }\n",
       "</style>\n",
       "<table border=\"1\" class=\"dataframe\">\n",
       "  <thead>\n",
       "    <tr style=\"text-align: right;\">\n",
       "      <th></th>\n",
       "      <th>name</th>\n",
       "      <th>platform</th>\n",
       "      <th>year_of_release</th>\n",
       "      <th>genre</th>\n",
       "      <th>na_sales</th>\n",
       "      <th>eu_sales</th>\n",
       "      <th>jp_sales</th>\n",
       "      <th>other_sales</th>\n",
       "      <th>critic_score</th>\n",
       "      <th>user_score</th>\n",
       "      <th>rating</th>\n",
       "    </tr>\n",
       "  </thead>\n",
       "  <tbody>\n",
       "    <tr>\n",
       "      <th>1</th>\n",
       "      <td>Super Mario Bros.</td>\n",
       "      <td>NES</td>\n",
       "      <td>1985</td>\n",
       "      <td>Platform</td>\n",
       "      <td>29.08</td>\n",
       "      <td>3.58</td>\n",
       "      <td>6.81</td>\n",
       "      <td>0.77</td>\n",
       "      <td>NaN</td>\n",
       "      <td>NaN</td>\n",
       "      <td>NaN</td>\n",
       "    </tr>\n",
       "    <tr>\n",
       "      <th>4</th>\n",
       "      <td>Pokemon Red/Pokemon Blue</td>\n",
       "      <td>GB</td>\n",
       "      <td>1996</td>\n",
       "      <td>Role-Playing</td>\n",
       "      <td>11.27</td>\n",
       "      <td>8.89</td>\n",
       "      <td>10.22</td>\n",
       "      <td>1.00</td>\n",
       "      <td>NaN</td>\n",
       "      <td>NaN</td>\n",
       "      <td>NaN</td>\n",
       "    </tr>\n",
       "    <tr>\n",
       "      <th>5</th>\n",
       "      <td>Tetris</td>\n",
       "      <td>GB</td>\n",
       "      <td>1989</td>\n",
       "      <td>Puzzle</td>\n",
       "      <td>23.20</td>\n",
       "      <td>2.26</td>\n",
       "      <td>4.22</td>\n",
       "      <td>0.58</td>\n",
       "      <td>NaN</td>\n",
       "      <td>NaN</td>\n",
       "      <td>NaN</td>\n",
       "    </tr>\n",
       "    <tr>\n",
       "      <th>9</th>\n",
       "      <td>Duck Hunt</td>\n",
       "      <td>NES</td>\n",
       "      <td>1984</td>\n",
       "      <td>Shooter</td>\n",
       "      <td>26.93</td>\n",
       "      <td>0.63</td>\n",
       "      <td>0.28</td>\n",
       "      <td>0.47</td>\n",
       "      <td>NaN</td>\n",
       "      <td>NaN</td>\n",
       "      <td>NaN</td>\n",
       "    </tr>\n",
       "    <tr>\n",
       "      <th>10</th>\n",
       "      <td>Nintendogs</td>\n",
       "      <td>DS</td>\n",
       "      <td>2005</td>\n",
       "      <td>Simulation</td>\n",
       "      <td>9.05</td>\n",
       "      <td>10.95</td>\n",
       "      <td>1.93</td>\n",
       "      <td>2.74</td>\n",
       "      <td>NaN</td>\n",
       "      <td>NaN</td>\n",
       "      <td>NaN</td>\n",
       "    </tr>\n",
       "    <tr>\n",
       "      <th>12</th>\n",
       "      <td>Pokemon Gold/Pokemon Silver</td>\n",
       "      <td>GB</td>\n",
       "      <td>1999</td>\n",
       "      <td>Role-Playing</td>\n",
       "      <td>9.00</td>\n",
       "      <td>6.18</td>\n",
       "      <td>7.20</td>\n",
       "      <td>0.71</td>\n",
       "      <td>NaN</td>\n",
       "      <td>NaN</td>\n",
       "      <td>NaN</td>\n",
       "    </tr>\n",
       "    <tr>\n",
       "      <th>18</th>\n",
       "      <td>Super Mario World</td>\n",
       "      <td>SNES</td>\n",
       "      <td>1990</td>\n",
       "      <td>Platform</td>\n",
       "      <td>12.78</td>\n",
       "      <td>3.75</td>\n",
       "      <td>3.54</td>\n",
       "      <td>0.55</td>\n",
       "      <td>NaN</td>\n",
       "      <td>NaN</td>\n",
       "      <td>NaN</td>\n",
       "    </tr>\n",
       "    <tr>\n",
       "      <th>20</th>\n",
       "      <td>Pokemon Diamond/Pokemon Pearl</td>\n",
       "      <td>DS</td>\n",
       "      <td>2006</td>\n",
       "      <td>Role-Playing</td>\n",
       "      <td>6.38</td>\n",
       "      <td>4.46</td>\n",
       "      <td>6.04</td>\n",
       "      <td>1.36</td>\n",
       "      <td>NaN</td>\n",
       "      <td>NaN</td>\n",
       "      <td>NaN</td>\n",
       "    </tr>\n",
       "    <tr>\n",
       "      <th>21</th>\n",
       "      <td>Super Mario Land</td>\n",
       "      <td>GB</td>\n",
       "      <td>1989</td>\n",
       "      <td>Platform</td>\n",
       "      <td>10.83</td>\n",
       "      <td>2.71</td>\n",
       "      <td>4.18</td>\n",
       "      <td>0.42</td>\n",
       "      <td>NaN</td>\n",
       "      <td>NaN</td>\n",
       "      <td>NaN</td>\n",
       "    </tr>\n",
       "    <tr>\n",
       "      <th>22</th>\n",
       "      <td>Super Mario Bros. 3</td>\n",
       "      <td>NES</td>\n",
       "      <td>1988</td>\n",
       "      <td>Platform</td>\n",
       "      <td>9.54</td>\n",
       "      <td>3.44</td>\n",
       "      <td>3.84</td>\n",
       "      <td>0.46</td>\n",
       "      <td>NaN</td>\n",
       "      <td>NaN</td>\n",
       "      <td>NaN</td>\n",
       "    </tr>\n",
       "    <tr>\n",
       "      <th>25</th>\n",
       "      <td>Pokemon Ruby/Pokemon Sapphire</td>\n",
       "      <td>GBA</td>\n",
       "      <td>2002</td>\n",
       "      <td>Role-Playing</td>\n",
       "      <td>6.06</td>\n",
       "      <td>3.90</td>\n",
       "      <td>5.38</td>\n",
       "      <td>0.50</td>\n",
       "      <td>NaN</td>\n",
       "      <td>NaN</td>\n",
       "      <td>NaN</td>\n",
       "    </tr>\n",
       "    <tr>\n",
       "      <th>27</th>\n",
       "      <td>Pokemon Black/Pokemon White</td>\n",
       "      <td>DS</td>\n",
       "      <td>2010</td>\n",
       "      <td>Role-Playing</td>\n",
       "      <td>5.51</td>\n",
       "      <td>3.17</td>\n",
       "      <td>5.65</td>\n",
       "      <td>0.80</td>\n",
       "      <td>NaN</td>\n",
       "      <td>NaN</td>\n",
       "      <td>NaN</td>\n",
       "    </tr>\n",
       "    <tr>\n",
       "      <th>30</th>\n",
       "      <td>Pokémon Yellow: Special Pikachu Edition</td>\n",
       "      <td>GB</td>\n",
       "      <td>1998</td>\n",
       "      <td>Role-Playing</td>\n",
       "      <td>5.89</td>\n",
       "      <td>5.04</td>\n",
       "      <td>3.12</td>\n",
       "      <td>0.59</td>\n",
       "      <td>NaN</td>\n",
       "      <td>NaN</td>\n",
       "      <td>NaN</td>\n",
       "    </tr>\n",
       "    <tr>\n",
       "      <th>31</th>\n",
       "      <td>Call of Duty: Black Ops 3</td>\n",
       "      <td>PS4</td>\n",
       "      <td>2015</td>\n",
       "      <td>Shooter</td>\n",
       "      <td>6.03</td>\n",
       "      <td>5.86</td>\n",
       "      <td>0.36</td>\n",
       "      <td>2.38</td>\n",
       "      <td>NaN</td>\n",
       "      <td>NaN</td>\n",
       "      <td>NaN</td>\n",
       "    </tr>\n",
       "    <tr>\n",
       "      <th>33</th>\n",
       "      <td>Pokemon X/Pokemon Y</td>\n",
       "      <td>3DS</td>\n",
       "      <td>2013</td>\n",
       "      <td>Role-Playing</td>\n",
       "      <td>5.28</td>\n",
       "      <td>4.19</td>\n",
       "      <td>4.35</td>\n",
       "      <td>0.78</td>\n",
       "      <td>NaN</td>\n",
       "      <td>NaN</td>\n",
       "      <td>NaN</td>\n",
       "    </tr>\n",
       "    <tr>\n",
       "      <th>45</th>\n",
       "      <td>Super Mario 64</td>\n",
       "      <td>N64</td>\n",
       "      <td>1996</td>\n",
       "      <td>Platform</td>\n",
       "      <td>6.91</td>\n",
       "      <td>2.85</td>\n",
       "      <td>1.91</td>\n",
       "      <td>0.23</td>\n",
       "      <td>NaN</td>\n",
       "      <td>NaN</td>\n",
       "      <td>NaN</td>\n",
       "    </tr>\n",
       "    <tr>\n",
       "      <th>46</th>\n",
       "      <td>Pokemon HeartGold/Pokemon SoulSilver</td>\n",
       "      <td>DS</td>\n",
       "      <td>2009</td>\n",
       "      <td>Action</td>\n",
       "      <td>4.34</td>\n",
       "      <td>2.71</td>\n",
       "      <td>3.96</td>\n",
       "      <td>0.76</td>\n",
       "      <td>NaN</td>\n",
       "      <td>NaN</td>\n",
       "      <td>NaN</td>\n",
       "    </tr>\n",
       "    <tr>\n",
       "      <th>47</th>\n",
       "      <td>Pokemon Omega Ruby/Pokemon Alpha Sapphire</td>\n",
       "      <td>3DS</td>\n",
       "      <td>2014</td>\n",
       "      <td>Role-Playing</td>\n",
       "      <td>4.35</td>\n",
       "      <td>3.49</td>\n",
       "      <td>3.10</td>\n",
       "      <td>0.74</td>\n",
       "      <td>NaN</td>\n",
       "      <td>NaN</td>\n",
       "      <td>NaN</td>\n",
       "    </tr>\n",
       "    <tr>\n",
       "      <th>50</th>\n",
       "      <td>Super Mario Land 2: 6 Golden Coins</td>\n",
       "      <td>GB</td>\n",
       "      <td>1992</td>\n",
       "      <td>Adventure</td>\n",
       "      <td>6.16</td>\n",
       "      <td>2.04</td>\n",
       "      <td>2.69</td>\n",
       "      <td>0.29</td>\n",
       "      <td>NaN</td>\n",
       "      <td>NaN</td>\n",
       "      <td>NaN</td>\n",
       "    </tr>\n",
       "    <tr>\n",
       "      <th>56</th>\n",
       "      <td>Super Mario All-Stars</td>\n",
       "      <td>SNES</td>\n",
       "      <td>1993</td>\n",
       "      <td>Platform</td>\n",
       "      <td>5.99</td>\n",
       "      <td>2.15</td>\n",
       "      <td>2.12</td>\n",
       "      <td>0.29</td>\n",
       "      <td>NaN</td>\n",
       "      <td>NaN</td>\n",
       "      <td>NaN</td>\n",
       "    </tr>\n",
       "    <tr>\n",
       "      <th>58</th>\n",
       "      <td>Pokemon FireRed/Pokemon LeafGreen</td>\n",
       "      <td>GBA</td>\n",
       "      <td>2004</td>\n",
       "      <td>Role-Playing</td>\n",
       "      <td>4.34</td>\n",
       "      <td>2.65</td>\n",
       "      <td>3.15</td>\n",
       "      <td>0.35</td>\n",
       "      <td>NaN</td>\n",
       "      <td>NaN</td>\n",
       "      <td>NaN</td>\n",
       "    </tr>\n",
       "    <tr>\n",
       "      <th>59</th>\n",
       "      <td>Super Mario 64</td>\n",
       "      <td>DS</td>\n",
       "      <td>2004</td>\n",
       "      <td>Platform</td>\n",
       "      <td>5.01</td>\n",
       "      <td>3.07</td>\n",
       "      <td>1.25</td>\n",
       "      <td>0.97</td>\n",
       "      <td>NaN</td>\n",
       "      <td>NaN</td>\n",
       "      <td>NaN</td>\n",
       "    </tr>\n",
       "    <tr>\n",
       "      <th>63</th>\n",
       "      <td>Mario Kart 64</td>\n",
       "      <td>N64</td>\n",
       "      <td>1996</td>\n",
       "      <td>Racing</td>\n",
       "      <td>5.55</td>\n",
       "      <td>1.94</td>\n",
       "      <td>2.23</td>\n",
       "      <td>0.15</td>\n",
       "      <td>NaN</td>\n",
       "      <td>NaN</td>\n",
       "      <td>NaN</td>\n",
       "    </tr>\n",
       "    <tr>\n",
       "      <th>71</th>\n",
       "      <td>Donkey Kong Country</td>\n",
       "      <td>SNES</td>\n",
       "      <td>1994</td>\n",
       "      <td>Platform</td>\n",
       "      <td>4.36</td>\n",
       "      <td>1.71</td>\n",
       "      <td>3.00</td>\n",
       "      <td>0.23</td>\n",
       "      <td>NaN</td>\n",
       "      <td>NaN</td>\n",
       "      <td>NaN</td>\n",
       "    </tr>\n",
       "    <tr>\n",
       "      <th>72</th>\n",
       "      <td>Minecraft</td>\n",
       "      <td>X360</td>\n",
       "      <td>2013</td>\n",
       "      <td>Misc</td>\n",
       "      <td>5.70</td>\n",
       "      <td>2.65</td>\n",
       "      <td>0.02</td>\n",
       "      <td>0.81</td>\n",
       "      <td>NaN</td>\n",
       "      <td>NaN</td>\n",
       "      <td>NaN</td>\n",
       "    </tr>\n",
       "    <tr>\n",
       "      <th>76</th>\n",
       "      <td>Super Mario Kart</td>\n",
       "      <td>SNES</td>\n",
       "      <td>1992</td>\n",
       "      <td>Racing</td>\n",
       "      <td>3.54</td>\n",
       "      <td>1.24</td>\n",
       "      <td>3.81</td>\n",
       "      <td>0.18</td>\n",
       "      <td>NaN</td>\n",
       "      <td>NaN</td>\n",
       "      <td>NaN</td>\n",
       "    </tr>\n",
       "    <tr>\n",
       "      <th>82</th>\n",
       "      <td>GoldenEye 007</td>\n",
       "      <td>N64</td>\n",
       "      <td>1997</td>\n",
       "      <td>Shooter</td>\n",
       "      <td>5.80</td>\n",
       "      <td>2.01</td>\n",
       "      <td>0.13</td>\n",
       "      <td>0.15</td>\n",
       "      <td>NaN</td>\n",
       "      <td>NaN</td>\n",
       "      <td>NaN</td>\n",
       "    </tr>\n",
       "    <tr>\n",
       "      <th>83</th>\n",
       "      <td>Pokemon Black 2/Pokemon White 2</td>\n",
       "      <td>DS</td>\n",
       "      <td>2012</td>\n",
       "      <td>Role-Playing</td>\n",
       "      <td>2.79</td>\n",
       "      <td>1.72</td>\n",
       "      <td>3.14</td>\n",
       "      <td>0.41</td>\n",
       "      <td>NaN</td>\n",
       "      <td>NaN</td>\n",
       "      <td>NaN</td>\n",
       "    </tr>\n",
       "    <tr>\n",
       "      <th>86</th>\n",
       "      <td>Mario &amp; Sonic at the Olympic Games</td>\n",
       "      <td>Wii</td>\n",
       "      <td>2007</td>\n",
       "      <td>Sports</td>\n",
       "      <td>2.57</td>\n",
       "      <td>3.86</td>\n",
       "      <td>0.66</td>\n",
       "      <td>0.91</td>\n",
       "      <td>NaN</td>\n",
       "      <td>NaN</td>\n",
       "      <td>NaN</td>\n",
       "    </tr>\n",
       "    <tr>\n",
       "      <th>87</th>\n",
       "      <td>Star Wars Battlefront (2015)</td>\n",
       "      <td>PS4</td>\n",
       "      <td>2015</td>\n",
       "      <td>Shooter</td>\n",
       "      <td>2.99</td>\n",
       "      <td>3.49</td>\n",
       "      <td>0.22</td>\n",
       "      <td>1.28</td>\n",
       "      <td>NaN</td>\n",
       "      <td>NaN</td>\n",
       "      <td>NaN</td>\n",
       "    </tr>\n",
       "  </tbody>\n",
       "</table>\n",
       "</div>"
      ],
      "text/plain": [
       "                                         name platform  year_of_release  \\\n",
       "1                           Super Mario Bros.      NES             1985   \n",
       "4                    Pokemon Red/Pokemon Blue       GB             1996   \n",
       "5                                      Tetris       GB             1989   \n",
       "9                                   Duck Hunt      NES             1984   \n",
       "10                                 Nintendogs       DS             2005   \n",
       "12                Pokemon Gold/Pokemon Silver       GB             1999   \n",
       "18                          Super Mario World     SNES             1990   \n",
       "20              Pokemon Diamond/Pokemon Pearl       DS             2006   \n",
       "21                           Super Mario Land       GB             1989   \n",
       "22                        Super Mario Bros. 3      NES             1988   \n",
       "25              Pokemon Ruby/Pokemon Sapphire      GBA             2002   \n",
       "27                Pokemon Black/Pokemon White       DS             2010   \n",
       "30    Pokémon Yellow: Special Pikachu Edition       GB             1998   \n",
       "31                  Call of Duty: Black Ops 3      PS4             2015   \n",
       "33                        Pokemon X/Pokemon Y      3DS             2013   \n",
       "45                             Super Mario 64      N64             1996   \n",
       "46       Pokemon HeartGold/Pokemon SoulSilver       DS             2009   \n",
       "47  Pokemon Omega Ruby/Pokemon Alpha Sapphire      3DS             2014   \n",
       "50         Super Mario Land 2: 6 Golden Coins       GB             1992   \n",
       "56                      Super Mario All-Stars     SNES             1993   \n",
       "58          Pokemon FireRed/Pokemon LeafGreen      GBA             2004   \n",
       "59                             Super Mario 64       DS             2004   \n",
       "63                              Mario Kart 64      N64             1996   \n",
       "71                        Donkey Kong Country     SNES             1994   \n",
       "72                                  Minecraft     X360             2013   \n",
       "76                           Super Mario Kart     SNES             1992   \n",
       "82                              GoldenEye 007      N64             1997   \n",
       "83            Pokemon Black 2/Pokemon White 2       DS             2012   \n",
       "86         Mario & Sonic at the Olympic Games      Wii             2007   \n",
       "87               Star Wars Battlefront (2015)      PS4             2015   \n",
       "\n",
       "           genre  na_sales  eu_sales  jp_sales  other_sales  critic_score  \\\n",
       "1       Platform     29.08      3.58      6.81         0.77           NaN   \n",
       "4   Role-Playing     11.27      8.89     10.22         1.00           NaN   \n",
       "5         Puzzle     23.20      2.26      4.22         0.58           NaN   \n",
       "9        Shooter     26.93      0.63      0.28         0.47           NaN   \n",
       "10    Simulation      9.05     10.95      1.93         2.74           NaN   \n",
       "12  Role-Playing      9.00      6.18      7.20         0.71           NaN   \n",
       "18      Platform     12.78      3.75      3.54         0.55           NaN   \n",
       "20  Role-Playing      6.38      4.46      6.04         1.36           NaN   \n",
       "21      Platform     10.83      2.71      4.18         0.42           NaN   \n",
       "22      Platform      9.54      3.44      3.84         0.46           NaN   \n",
       "25  Role-Playing      6.06      3.90      5.38         0.50           NaN   \n",
       "27  Role-Playing      5.51      3.17      5.65         0.80           NaN   \n",
       "30  Role-Playing      5.89      5.04      3.12         0.59           NaN   \n",
       "31       Shooter      6.03      5.86      0.36         2.38           NaN   \n",
       "33  Role-Playing      5.28      4.19      4.35         0.78           NaN   \n",
       "45      Platform      6.91      2.85      1.91         0.23           NaN   \n",
       "46        Action      4.34      2.71      3.96         0.76           NaN   \n",
       "47  Role-Playing      4.35      3.49      3.10         0.74           NaN   \n",
       "50     Adventure      6.16      2.04      2.69         0.29           NaN   \n",
       "56      Platform      5.99      2.15      2.12         0.29           NaN   \n",
       "58  Role-Playing      4.34      2.65      3.15         0.35           NaN   \n",
       "59      Platform      5.01      3.07      1.25         0.97           NaN   \n",
       "63        Racing      5.55      1.94      2.23         0.15           NaN   \n",
       "71      Platform      4.36      1.71      3.00         0.23           NaN   \n",
       "72          Misc      5.70      2.65      0.02         0.81           NaN   \n",
       "76        Racing      3.54      1.24      3.81         0.18           NaN   \n",
       "82       Shooter      5.80      2.01      0.13         0.15           NaN   \n",
       "83  Role-Playing      2.79      1.72      3.14         0.41           NaN   \n",
       "86        Sports      2.57      3.86      0.66         0.91           NaN   \n",
       "87       Shooter      2.99      3.49      0.22         1.28           NaN   \n",
       "\n",
       "    user_score rating  \n",
       "1          NaN    NaN  \n",
       "4          NaN    NaN  \n",
       "5          NaN    NaN  \n",
       "9          NaN    NaN  \n",
       "10         NaN    NaN  \n",
       "12         NaN    NaN  \n",
       "18         NaN    NaN  \n",
       "20         NaN    NaN  \n",
       "21         NaN    NaN  \n",
       "22         NaN    NaN  \n",
       "25         NaN    NaN  \n",
       "27         NaN    NaN  \n",
       "30         NaN    NaN  \n",
       "31         NaN    NaN  \n",
       "33         NaN    NaN  \n",
       "45         NaN    NaN  \n",
       "46         NaN    NaN  \n",
       "47         NaN    NaN  \n",
       "50         NaN    NaN  \n",
       "56         NaN    NaN  \n",
       "58         NaN    NaN  \n",
       "59         NaN    NaN  \n",
       "63         NaN    NaN  \n",
       "71         NaN    NaN  \n",
       "72         NaN    NaN  \n",
       "76         NaN    NaN  \n",
       "82         NaN    NaN  \n",
       "83         NaN    NaN  \n",
       "86         NaN    NaN  \n",
       "87         NaN    NaN  "
      ]
     },
     "execution_count": 19,
     "metadata": {},
     "output_type": "execute_result"
    }
   ],
   "source": [
    "#посмотрю на датасет состоящий из пропусках в 3 колонках\n",
    "data_isna = data[data['critic_score'].isna() & data['user_score'].isna() & data['rating'].isna()]\n",
    "data_isna.head(30)"
   ]
  },
  {
   "cell_type": "code",
   "execution_count": 20,
   "id": "c28ed5a1",
   "metadata": {},
   "outputs": [
    {
     "data": {
      "text/plain": [
       "<AxesSubplot:xlabel='year_of_release'>"
      ]
     },
     "execution_count": 20,
     "metadata": {},
     "output_type": "execute_result"
    },
    {
     "data": {
      "image/png": "[encoded data removed]",
      "text/plain": [
       "<Figure size 1224x576 with 1 Axes>"
      ]
     },
     "metadata": {},
     "output_type": "display_data"
    }
   ],
   "source": [
    "# Добавляю еще 1 колонку по названиемем суммарные продажи во всех регионах и для наглядности строю график.\n",
    "data['total_sales']= data['na_sales']+data['eu_sales']+data['jp_sales']+data['other_sales']\n",
    "data.pivot_table(index='year_of_release', values='total_sales', aggfunc='sum').plot(grid=True,figsize=(17, 8))"
   ]
  },
  {
   "cell_type": "markdown",
   "id": "7537752b",
   "metadata": {},
   "source": [
    "Каких-то очевидных закономерностей не вижу. Года разные, платформы, имена и т.д. По сути мы просто не можем определить рейтинг, а такие вещи как года выпусков и доходы остается. Пока оставля эти данные в основном датасете. \n",
    "\n",
    "На этом предобратботку считаю законченной и продолжу анализом данных."
   ]
  },
  {
   "cell_type": "code",
   "execution_count": 21,
   "id": "d6fdad5c",
   "metadata": {},
   "outputs": [
    {
     "data": {
      "text/html": [
       "<div>\n",
       "<style scoped>\n",
       "    .dataframe tbody tr th:only-of-type {\n",
       "        vertical-align: middle;\n",
       "    }\n",
       "\n",
       "    .dataframe tbody tr th {\n",
       "        vertical-align: top;\n",
       "    }\n",
       "\n",
       "    .dataframe thead th {\n",
       "        text-align: right;\n",
       "    }\n",
       "</style>\n",
       "<table border=\"1\" class=\"dataframe\">\n",
       "  <thead>\n",
       "    <tr style=\"text-align: right;\">\n",
       "      <th></th>\n",
       "      <th>name</th>\n",
       "      <th>platform</th>\n",
       "      <th>year_of_release</th>\n",
       "      <th>genre</th>\n",
       "      <th>na_sales</th>\n",
       "      <th>eu_sales</th>\n",
       "      <th>jp_sales</th>\n",
       "      <th>other_sales</th>\n",
       "      <th>critic_score</th>\n",
       "      <th>user_score</th>\n",
       "      <th>rating</th>\n",
       "      <th>total_sales</th>\n",
       "    </tr>\n",
       "  </thead>\n",
       "  <tbody>\n",
       "    <tr>\n",
       "      <th>1591</th>\n",
       "      <td>Need for Speed: Most Wanted</td>\n",
       "      <td>X360</td>\n",
       "      <td>2005</td>\n",
       "      <td>Racing</td>\n",
       "      <td>1.00</td>\n",
       "      <td>0.13</td>\n",
       "      <td>0.02</td>\n",
       "      <td>0.10</td>\n",
       "      <td>83.00</td>\n",
       "      <td>8.50</td>\n",
       "      <td>T</td>\n",
       "      <td>1.25</td>\n",
       "    </tr>\n",
       "    <tr>\n",
       "      <th>11715</th>\n",
       "      <td>Need for Speed: Most Wanted</td>\n",
       "      <td>PC</td>\n",
       "      <td>2012</td>\n",
       "      <td>Racing</td>\n",
       "      <td>0.00</td>\n",
       "      <td>0.06</td>\n",
       "      <td>0.00</td>\n",
       "      <td>0.02</td>\n",
       "      <td>82.00</td>\n",
       "      <td>8.50</td>\n",
       "      <td>T</td>\n",
       "      <td>0.08</td>\n",
       "    </tr>\n",
       "    <tr>\n",
       "      <th>16230</th>\n",
       "      <td>Madden NFL 13</td>\n",
       "      <td>PS3</td>\n",
       "      <td>2012</td>\n",
       "      <td>Sports</td>\n",
       "      <td>0.00</td>\n",
       "      <td>0.01</td>\n",
       "      <td>0.00</td>\n",
       "      <td>0.00</td>\n",
       "      <td>83.00</td>\n",
       "      <td>5.50</td>\n",
       "      <td>E</td>\n",
       "      <td>0.01</td>\n",
       "    </tr>\n",
       "  </tbody>\n",
       "</table>\n",
       "</div>"
      ],
      "text/plain": [
       "                              name platform  year_of_release   genre  \\\n",
       "1591   Need for Speed: Most Wanted     X360             2005  Racing   \n",
       "11715  Need for Speed: Most Wanted       PC             2012  Racing   \n",
       "16230                Madden NFL 13      PS3             2012  Sports   \n",
       "\n",
       "       na_sales  eu_sales  jp_sales  other_sales  critic_score  user_score  \\\n",
       "1591       1.00      0.13      0.02         0.10         83.00        8.50   \n",
       "11715      0.00      0.06      0.00         0.02         82.00        8.50   \n",
       "16230      0.00      0.01      0.00         0.00         83.00        5.50   \n",
       "\n",
       "      rating  total_sales  \n",
       "1591       T         1.25  \n",
       "11715      T         0.08  \n",
       "16230      E         0.01  "
      ]
     },
     "execution_count": 21,
     "metadata": {},
     "output_type": "execute_result"
    }
   ],
   "source": [
    "#поищем явные дубликаты у которых совпадает название и платформа\n",
    "data[data.duplicated(['name', 'platform'])]\n",
    "#находим 3 дубликата, изучаем вниметельнее"
   ]
  },
  {
   "cell_type": "code",
   "execution_count": 22,
   "id": "3bebadc8",
   "metadata": {},
   "outputs": [
    {
     "data": {
      "text/html": [
       "<div>\n",
       "<style scoped>\n",
       "    .dataframe tbody tr th:only-of-type {\n",
       "        vertical-align: middle;\n",
       "    }\n",
       "\n",
       "    .dataframe tbody tr th {\n",
       "        vertical-align: top;\n",
       "    }\n",
       "\n",
       "    .dataframe thead th {\n",
       "        text-align: right;\n",
       "    }\n",
       "</style>\n",
       "<table border=\"1\" class=\"dataframe\">\n",
       "  <thead>\n",
       "    <tr style=\"text-align: right;\">\n",
       "      <th></th>\n",
       "      <th>name</th>\n",
       "      <th>platform</th>\n",
       "      <th>year_of_release</th>\n",
       "      <th>genre</th>\n",
       "      <th>na_sales</th>\n",
       "      <th>eu_sales</th>\n",
       "      <th>jp_sales</th>\n",
       "      <th>other_sales</th>\n",
       "      <th>critic_score</th>\n",
       "      <th>user_score</th>\n",
       "      <th>rating</th>\n",
       "      <th>total_sales</th>\n",
       "    </tr>\n",
       "  </thead>\n",
       "  <tbody>\n",
       "    <tr>\n",
       "      <th>1190</th>\n",
       "      <td>Need for Speed: Most Wanted</td>\n",
       "      <td>X360</td>\n",
       "      <td>2012</td>\n",
       "      <td>Racing</td>\n",
       "      <td>0.62</td>\n",
       "      <td>0.78</td>\n",
       "      <td>0.01</td>\n",
       "      <td>0.15</td>\n",
       "      <td>83.00</td>\n",
       "      <td>8.50</td>\n",
       "      <td>T</td>\n",
       "      <td>1.56</td>\n",
       "    </tr>\n",
       "    <tr>\n",
       "      <th>1591</th>\n",
       "      <td>Need for Speed: Most Wanted</td>\n",
       "      <td>X360</td>\n",
       "      <td>2005</td>\n",
       "      <td>Racing</td>\n",
       "      <td>1.00</td>\n",
       "      <td>0.13</td>\n",
       "      <td>0.02</td>\n",
       "      <td>0.10</td>\n",
       "      <td>83.00</td>\n",
       "      <td>8.50</td>\n",
       "      <td>T</td>\n",
       "      <td>1.25</td>\n",
       "    </tr>\n",
       "  </tbody>\n",
       "</table>\n",
       "</div>"
      ],
      "text/plain": [
       "                             name platform  year_of_release   genre  na_sales  \\\n",
       "1190  Need for Speed: Most Wanted     X360             2012  Racing      0.62   \n",
       "1591  Need for Speed: Most Wanted     X360             2005  Racing      1.00   \n",
       "\n",
       "      eu_sales  jp_sales  other_sales  critic_score  user_score rating  \\\n",
       "1190      0.78      0.01         0.15         83.00        8.50      T   \n",
       "1591      0.13      0.02         0.10         83.00        8.50      T   \n",
       "\n",
       "      total_sales  \n",
       "1190         1.56  \n",
       "1591         1.25  "
      ]
     },
     "execution_count": 22,
     "metadata": {},
     "output_type": "execute_result"
    }
   ],
   "source": [
    "data.query('name == \"Need for Speed: Most Wanted\" and platform == \"X360\"')"
   ]
  },
  {
   "cell_type": "code",
   "execution_count": 23,
   "id": "d7dd0f19",
   "metadata": {},
   "outputs": [
    {
     "data": {
      "text/html": [
       "<div>\n",
       "<style scoped>\n",
       "    .dataframe tbody tr th:only-of-type {\n",
       "        vertical-align: middle;\n",
       "    }\n",
       "\n",
       "    .dataframe tbody tr th {\n",
       "        vertical-align: top;\n",
       "    }\n",
       "\n",
       "    .dataframe thead th {\n",
       "        text-align: right;\n",
       "    }\n",
       "</style>\n",
       "<table border=\"1\" class=\"dataframe\">\n",
       "  <thead>\n",
       "    <tr style=\"text-align: right;\">\n",
       "      <th></th>\n",
       "      <th>name</th>\n",
       "      <th>platform</th>\n",
       "      <th>year_of_release</th>\n",
       "      <th>genre</th>\n",
       "      <th>na_sales</th>\n",
       "      <th>eu_sales</th>\n",
       "      <th>jp_sales</th>\n",
       "      <th>other_sales</th>\n",
       "      <th>critic_score</th>\n",
       "      <th>user_score</th>\n",
       "      <th>rating</th>\n",
       "      <th>total_sales</th>\n",
       "    </tr>\n",
       "  </thead>\n",
       "  <tbody>\n",
       "    <tr>\n",
       "      <th>5972</th>\n",
       "      <td>Need for Speed: Most Wanted</td>\n",
       "      <td>PC</td>\n",
       "      <td>2005</td>\n",
       "      <td>Racing</td>\n",
       "      <td>0.02</td>\n",
       "      <td>0.23</td>\n",
       "      <td>0.00</td>\n",
       "      <td>0.04</td>\n",
       "      <td>82.00</td>\n",
       "      <td>8.50</td>\n",
       "      <td>T</td>\n",
       "      <td>0.29</td>\n",
       "    </tr>\n",
       "    <tr>\n",
       "      <th>11715</th>\n",
       "      <td>Need for Speed: Most Wanted</td>\n",
       "      <td>PC</td>\n",
       "      <td>2012</td>\n",
       "      <td>Racing</td>\n",
       "      <td>0.00</td>\n",
       "      <td>0.06</td>\n",
       "      <td>0.00</td>\n",
       "      <td>0.02</td>\n",
       "      <td>82.00</td>\n",
       "      <td>8.50</td>\n",
       "      <td>T</td>\n",
       "      <td>0.08</td>\n",
       "    </tr>\n",
       "  </tbody>\n",
       "</table>\n",
       "</div>"
      ],
      "text/plain": [
       "                              name platform  year_of_release   genre  \\\n",
       "5972   Need for Speed: Most Wanted       PC             2005  Racing   \n",
       "11715  Need for Speed: Most Wanted       PC             2012  Racing   \n",
       "\n",
       "       na_sales  eu_sales  jp_sales  other_sales  critic_score  user_score  \\\n",
       "5972       0.02      0.23      0.00         0.04         82.00        8.50   \n",
       "11715      0.00      0.06      0.00         0.02         82.00        8.50   \n",
       "\n",
       "      rating  total_sales  \n",
       "5972       T         0.29  \n",
       "11715      T         0.08  "
      ]
     },
     "execution_count": 23,
     "metadata": {},
     "output_type": "execute_result"
    }
   ],
   "source": [
    "data.query('name == \"Need for Speed: Most Wanted\" and platform == \"PC\"')"
   ]
  },
  {
   "cell_type": "code",
   "execution_count": 24,
   "id": "922da25f",
   "metadata": {},
   "outputs": [
    {
     "data": {
      "text/html": [
       "<div>\n",
       "<style scoped>\n",
       "    .dataframe tbody tr th:only-of-type {\n",
       "        vertical-align: middle;\n",
       "    }\n",
       "\n",
       "    .dataframe tbody tr th {\n",
       "        vertical-align: top;\n",
       "    }\n",
       "\n",
       "    .dataframe thead th {\n",
       "        text-align: right;\n",
       "    }\n",
       "</style>\n",
       "<table border=\"1\" class=\"dataframe\">\n",
       "  <thead>\n",
       "    <tr style=\"text-align: right;\">\n",
       "      <th></th>\n",
       "      <th>name</th>\n",
       "      <th>platform</th>\n",
       "      <th>year_of_release</th>\n",
       "      <th>genre</th>\n",
       "      <th>na_sales</th>\n",
       "      <th>eu_sales</th>\n",
       "      <th>jp_sales</th>\n",
       "      <th>other_sales</th>\n",
       "      <th>critic_score</th>\n",
       "      <th>user_score</th>\n",
       "      <th>rating</th>\n",
       "      <th>total_sales</th>\n",
       "    </tr>\n",
       "  </thead>\n",
       "  <tbody>\n",
       "    <tr>\n",
       "      <th>604</th>\n",
       "      <td>Madden NFL 13</td>\n",
       "      <td>PS3</td>\n",
       "      <td>2012</td>\n",
       "      <td>Sports</td>\n",
       "      <td>2.11</td>\n",
       "      <td>0.22</td>\n",
       "      <td>0.00</td>\n",
       "      <td>0.23</td>\n",
       "      <td>83.00</td>\n",
       "      <td>5.50</td>\n",
       "      <td>E</td>\n",
       "      <td>2.56</td>\n",
       "    </tr>\n",
       "    <tr>\n",
       "      <th>16230</th>\n",
       "      <td>Madden NFL 13</td>\n",
       "      <td>PS3</td>\n",
       "      <td>2012</td>\n",
       "      <td>Sports</td>\n",
       "      <td>0.00</td>\n",
       "      <td>0.01</td>\n",
       "      <td>0.00</td>\n",
       "      <td>0.00</td>\n",
       "      <td>83.00</td>\n",
       "      <td>5.50</td>\n",
       "      <td>E</td>\n",
       "      <td>0.01</td>\n",
       "    </tr>\n",
       "  </tbody>\n",
       "</table>\n",
       "</div>"
      ],
      "text/plain": [
       "                name platform  year_of_release   genre  na_sales  eu_sales  \\\n",
       "604    Madden NFL 13      PS3             2012  Sports      2.11      0.22   \n",
       "16230  Madden NFL 13      PS3             2012  Sports      0.00      0.01   \n",
       "\n",
       "       jp_sales  other_sales  critic_score  user_score rating  total_sales  \n",
       "604        0.00         0.23         83.00        5.50      E         2.56  \n",
       "16230      0.00         0.00         83.00        5.50      E         0.01  "
      ]
     },
     "execution_count": 24,
     "metadata": {},
     "output_type": "execute_result"
    }
   ],
   "source": [
    "data.query('name == \"Madden NFL 13\" and platform == \"PS3\"')"
   ]
  },
  {
   "cell_type": "markdown",
   "id": "6d4fa7c5",
   "metadata": {},
   "source": [
    "Если NFS я просто погуглю их реальный выход и удалю некоректную строку, то с последней игрой будет сложнее, т.к. разняца продажи. Навожу справки, что это игра про американский футбол и будет странно, если в Северной америке не будет по ней продаж.\n",
    "Поэтой принимаю решение удаляить строки 1190, 11715 и 16230"
   ]
  },
  {
   "cell_type": "code",
   "execution_count": 25,
   "id": "62c88ef6",
   "metadata": {},
   "outputs": [],
   "source": [
    "#удаляю вышеперечисленные индексы\n",
    "data = data.drop(index=[ 1190 , 11715 , 16230 ])"
   ]
  },
  {
   "cell_type": "code",
   "execution_count": 26,
   "id": "e15de356",
   "metadata": {},
   "outputs": [
    {
     "name": "stdout",
     "output_type": "stream",
     "text": [
      "False    16441\n",
      "dtype: int64\n",
      "(16441, 12)\n"
     ]
    }
   ],
   "source": [
    "#для поиска неявных дубликатов нужно привести значения в строковый формат. Делаю это в основном датасете, т.к. это ничему\n",
    "#не повредит\n",
    "data['name'] = data['name'].str.lower()\n",
    "data['platform'] = data['platform'].str.lower()\n",
    "\n",
    "#считаем количество дубликатов\n",
    "print(data.duplicated(subset=['name','platform']).value_counts())\n",
    "#заодно делаем проверку\n",
    "print(data.shape)"
   ]
  },
  {
   "cell_type": "markdown",
   "id": "e2bd0af2",
   "metadata": {},
   "source": [
    "# **Шаг 3. Проведите исследовательский анализ данных**"
   ]
  },
  {
   "cell_type": "markdown",
   "id": "b18db3f7",
   "metadata": {},
   "source": [
    "**3.1 Посмотрим, сколько игр выпускалось в разные годы. Важны ли данные за все периоды?**"
   ]
  },
  {
   "cell_type": "code",
   "execution_count": 27,
   "id": "1a461ad5",
   "metadata": {},
   "outputs": [
    {
     "data": {
      "text/plain": [
       "<AxesSubplot:>"
      ]
     },
     "execution_count": 27,
     "metadata": {},
     "output_type": "execute_result"
    },
    {
     "data": {
      "image/png": "[encoded data removed]",
      "text/plain": [
       "<Figure size 864x576 with 1 Axes>"
      ]
     },
     "metadata": {},
     "output_type": "display_data"
    }
   ],
   "source": [
    "data.boxplot(column='year_of_release')"
   ]
  },
  {
   "cell_type": "code",
   "execution_count": 28,
   "id": "a3c2e0f9",
   "metadata": {},
   "outputs": [],
   "source": [
    "#на основанииящика с усами делаю вывод, что данные до 1994 года можно смело удалять, т.к данных за это период крайне мало и их,\n",
    "#по сути, можно считать за выбросы\n",
    "data = data.loc[data['year_of_release']>=1994]"
   ]
  },
  {
   "cell_type": "code",
   "execution_count": 29,
   "id": "9619d415",
   "metadata": {},
   "outputs": [
    {
     "data": {
      "text/plain": [
       "<AxesSubplot:title={'center':'Количество игр, выходивших в год'}, xlabel='Год', ylabel='Количество'>"
      ]
     },
     "execution_count": 29,
     "metadata": {},
     "output_type": "execute_result"
    },
    {
     "data": {
      "image/png": "[encoded data removed]",
      "text/plain": [
       "<Figure size 1224x576 with 1 Axes>"
      ]
     },
     "metadata": {},
     "output_type": "display_data"
    }
   ],
   "source": [
    "#по обновленным данным посмотрю какое количество игр вообще выходило в год.\n",
    "#создаю отдельную переменную для посдчета количества игр\n",
    "data_game_counts = data.drop_duplicates(subset=['name','year_of_release'])\n",
    "data_game_counts.shape\n",
    "\n",
    "data_game_counts.pivot_table(index =('year_of_release'), values='name', aggfunc=['count']).plot(grid=True,figsize=(17, 8),\n",
    "title = 'Количество игр, выходивших в год',xlabel = 'Год',ylabel='Количество' )\n"
   ]
  },
  {
   "cell_type": "code",
   "execution_count": 30,
   "id": "bd329f30",
   "metadata": {},
   "outputs": [
    {
     "data": {
      "text/plain": [
       "<AxesSubplot:title={'center':'Выручка от игр по годам'}, xlabel='Год', ylabel='Сумма продаж'>"
      ]
     },
     "execution_count": 30,
     "metadata": {},
     "output_type": "execute_result"
    },
    {
     "data": {
      "image/png": "[encoded data removed]",
      "text/plain": [
       "<Figure size 1224x576 with 1 Axes>"
      ]
     },
     "metadata": {},
     "output_type": "display_data"
    }
   ],
   "source": [
    "#построю еще 1 график с выручкой по годам\n",
    "data.pivot_table(index ='year_of_release', values='total_sales', aggfunc='sum').plot(grid=True,figsize=(17, 8),\n",
    "title = 'Выручка от игр по годам',xlabel = 'Год',ylabel='Сумма продаж' )"
   ]
  },
  {
   "cell_type": "markdown",
   "id": "8269b434",
   "metadata": {},
   "source": [
    "Вижу прямую зависимость дохода от продажк от количетсва выпущенных игр"
   ]
  },
  {
   "cell_type": "markdown",
   "id": "ad5937a0",
   "metadata": {},
   "source": [
    "## 3.2 Посмотрим, как менялись продажи по платформам"
   ]
  },
  {
   "cell_type": "code",
   "execution_count": 31,
   "id": "f40509f0",
   "metadata": {},
   "outputs": [
    {
     "data": {
      "text/plain": [
       "<AxesSubplot:title={'center':'Суммарный доход в зависимости от платформы'}, xlabel='Платформа', ylabel='Велечина дохода'>"
      ]
     },
     "execution_count": 31,
     "metadata": {},
     "output_type": "execute_result"
    },
    {
     "data": {
      "image/png": "[encoded data removed]",
      "text/plain": [
       "<Figure size 864x576 with 1 Axes>"
      ]
     },
     "metadata": {},
     "output_type": "display_data"
    }
   ],
   "source": [
    "#Выберу платформы с наибольшими суммарными продажами и постройте распределение по годам. \n",
    "data_total_sales = data.pivot_table(index ='platform', values='total_sales', aggfunc=['sum'])\n",
    "data_total_sales.columns = ['sum'] \n",
    "data_total_sales.sort_values('sum', ascending = False).plot(kind='bar',\n",
    "title = 'Суммарный доход в зависимости от платформы',xlabel = 'Платформа',ylabel='Велечина дохода' ) \n"
   ]
  },
  {
   "cell_type": "code",
   "execution_count": 32,
   "id": "89f2d809",
   "metadata": {},
   "outputs": [
    {
     "data": {
      "text/html": [
       "<div>\n",
       "<style scoped>\n",
       "    .dataframe tbody tr th:only-of-type {\n",
       "        vertical-align: middle;\n",
       "    }\n",
       "\n",
       "    .dataframe tbody tr th {\n",
       "        vertical-align: top;\n",
       "    }\n",
       "\n",
       "    .dataframe thead th {\n",
       "        text-align: right;\n",
       "    }\n",
       "</style>\n",
       "<table border=\"1\" class=\"dataframe\">\n",
       "  <thead>\n",
       "    <tr style=\"text-align: right;\">\n",
       "      <th></th>\n",
       "      <th>name</th>\n",
       "      <th>platform</th>\n",
       "      <th>year_of_release</th>\n",
       "      <th>genre</th>\n",
       "      <th>na_sales</th>\n",
       "      <th>eu_sales</th>\n",
       "      <th>jp_sales</th>\n",
       "      <th>other_sales</th>\n",
       "      <th>critic_score</th>\n",
       "      <th>user_score</th>\n",
       "      <th>rating</th>\n",
       "      <th>total_sales</th>\n",
       "    </tr>\n",
       "  </thead>\n",
       "  <tbody>\n",
       "    <tr>\n",
       "      <th>0</th>\n",
       "      <td>wii sports</td>\n",
       "      <td>wii</td>\n",
       "      <td>2006</td>\n",
       "      <td>Sports</td>\n",
       "      <td>41.36</td>\n",
       "      <td>28.96</td>\n",
       "      <td>3.77</td>\n",
       "      <td>8.45</td>\n",
       "      <td>76.00</td>\n",
       "      <td>8.00</td>\n",
       "      <td>E</td>\n",
       "      <td>82.54</td>\n",
       "    </tr>\n",
       "    <tr>\n",
       "      <th>2</th>\n",
       "      <td>mario kart wii</td>\n",
       "      <td>wii</td>\n",
       "      <td>2008</td>\n",
       "      <td>Racing</td>\n",
       "      <td>15.68</td>\n",
       "      <td>12.76</td>\n",
       "      <td>3.79</td>\n",
       "      <td>3.29</td>\n",
       "      <td>82.00</td>\n",
       "      <td>8.30</td>\n",
       "      <td>E</td>\n",
       "      <td>35.52</td>\n",
       "    </tr>\n",
       "    <tr>\n",
       "      <th>3</th>\n",
       "      <td>wii sports resort</td>\n",
       "      <td>wii</td>\n",
       "      <td>2009</td>\n",
       "      <td>Sports</td>\n",
       "      <td>15.61</td>\n",
       "      <td>10.93</td>\n",
       "      <td>3.28</td>\n",
       "      <td>2.95</td>\n",
       "      <td>80.00</td>\n",
       "      <td>8.00</td>\n",
       "      <td>E</td>\n",
       "      <td>32.77</td>\n",
       "    </tr>\n",
       "    <tr>\n",
       "      <th>6</th>\n",
       "      <td>new super mario bros.</td>\n",
       "      <td>ds</td>\n",
       "      <td>2006</td>\n",
       "      <td>Platform</td>\n",
       "      <td>11.28</td>\n",
       "      <td>9.14</td>\n",
       "      <td>6.50</td>\n",
       "      <td>2.88</td>\n",
       "      <td>89.00</td>\n",
       "      <td>8.50</td>\n",
       "      <td>E</td>\n",
       "      <td>29.80</td>\n",
       "    </tr>\n",
       "    <tr>\n",
       "      <th>7</th>\n",
       "      <td>wii play</td>\n",
       "      <td>wii</td>\n",
       "      <td>2006</td>\n",
       "      <td>Misc</td>\n",
       "      <td>13.96</td>\n",
       "      <td>9.18</td>\n",
       "      <td>2.93</td>\n",
       "      <td>2.84</td>\n",
       "      <td>58.00</td>\n",
       "      <td>6.60</td>\n",
       "      <td>E</td>\n",
       "      <td>28.91</td>\n",
       "    </tr>\n",
       "    <tr>\n",
       "      <th>...</th>\n",
       "      <td>...</td>\n",
       "      <td>...</td>\n",
       "      <td>...</td>\n",
       "      <td>...</td>\n",
       "      <td>...</td>\n",
       "      <td>...</td>\n",
       "      <td>...</td>\n",
       "      <td>...</td>\n",
       "      <td>...</td>\n",
       "      <td>...</td>\n",
       "      <td>...</td>\n",
       "      <td>...</td>\n",
       "    </tr>\n",
       "    <tr>\n",
       "      <th>16700</th>\n",
       "      <td>mezase!! tsuri master ds</td>\n",
       "      <td>ds</td>\n",
       "      <td>2009</td>\n",
       "      <td>Sports</td>\n",
       "      <td>0.00</td>\n",
       "      <td>0.00</td>\n",
       "      <td>0.01</td>\n",
       "      <td>0.00</td>\n",
       "      <td>NaN</td>\n",
       "      <td>NaN</td>\n",
       "      <td>NaN</td>\n",
       "      <td>0.01</td>\n",
       "    </tr>\n",
       "    <tr>\n",
       "      <th>16704</th>\n",
       "      <td>plushees</td>\n",
       "      <td>ds</td>\n",
       "      <td>2008</td>\n",
       "      <td>Simulation</td>\n",
       "      <td>0.01</td>\n",
       "      <td>0.00</td>\n",
       "      <td>0.00</td>\n",
       "      <td>0.00</td>\n",
       "      <td>NaN</td>\n",
       "      <td>NaN</td>\n",
       "      <td>E</td>\n",
       "      <td>0.01</td>\n",
       "    </tr>\n",
       "    <tr>\n",
       "      <th>16709</th>\n",
       "      <td>score international baja 1000: the official game</td>\n",
       "      <td>ps2</td>\n",
       "      <td>2008</td>\n",
       "      <td>Racing</td>\n",
       "      <td>0.00</td>\n",
       "      <td>0.00</td>\n",
       "      <td>0.00</td>\n",
       "      <td>0.00</td>\n",
       "      <td>NaN</td>\n",
       "      <td>NaN</td>\n",
       "      <td>NaN</td>\n",
       "      <td>0.00</td>\n",
       "    </tr>\n",
       "    <tr>\n",
       "      <th>16710</th>\n",
       "      <td>samurai warriors: sanada maru</td>\n",
       "      <td>ps3</td>\n",
       "      <td>2016</td>\n",
       "      <td>Action</td>\n",
       "      <td>0.00</td>\n",
       "      <td>0.00</td>\n",
       "      <td>0.01</td>\n",
       "      <td>0.00</td>\n",
       "      <td>NaN</td>\n",
       "      <td>NaN</td>\n",
       "      <td>NaN</td>\n",
       "      <td>0.01</td>\n",
       "    </tr>\n",
       "    <tr>\n",
       "      <th>16711</th>\n",
       "      <td>lma manager 2007</td>\n",
       "      <td>x360</td>\n",
       "      <td>2006</td>\n",
       "      <td>Sports</td>\n",
       "      <td>0.00</td>\n",
       "      <td>0.01</td>\n",
       "      <td>0.00</td>\n",
       "      <td>0.00</td>\n",
       "      <td>NaN</td>\n",
       "      <td>NaN</td>\n",
       "      <td>NaN</td>\n",
       "      <td>0.01</td>\n",
       "    </tr>\n",
       "  </tbody>\n",
       "</table>\n",
       "<p>8069 rows × 12 columns</p>\n",
       "</div>"
      ],
      "text/plain": [
       "                                                   name platform  \\\n",
       "0                                            wii sports      wii   \n",
       "2                                        mario kart wii      wii   \n",
       "3                                     wii sports resort      wii   \n",
       "6                                 new super mario bros.       ds   \n",
       "7                                              wii play      wii   \n",
       "...                                                 ...      ...   \n",
       "16700                          mezase!! tsuri master ds       ds   \n",
       "16704                                          plushees       ds   \n",
       "16709  score international baja 1000: the official game      ps2   \n",
       "16710                     samurai warriors: sanada maru      ps3   \n",
       "16711                                  lma manager 2007     x360   \n",
       "\n",
       "       year_of_release       genre  na_sales  eu_sales  jp_sales  other_sales  \\\n",
       "0                 2006      Sports     41.36     28.96      3.77         8.45   \n",
       "2                 2008      Racing     15.68     12.76      3.79         3.29   \n",
       "3                 2009      Sports     15.61     10.93      3.28         2.95   \n",
       "6                 2006    Platform     11.28      9.14      6.50         2.88   \n",
       "7                 2006        Misc     13.96      9.18      2.93         2.84   \n",
       "...                ...         ...       ...       ...       ...          ...   \n",
       "16700             2009      Sports      0.00      0.00      0.01         0.00   \n",
       "16704             2008  Simulation      0.01      0.00      0.00         0.00   \n",
       "16709             2008      Racing      0.00      0.00      0.00         0.00   \n",
       "16710             2016      Action      0.00      0.00      0.01         0.00   \n",
       "16711             2006      Sports      0.00      0.01      0.00         0.00   \n",
       "\n",
       "       critic_score  user_score rating  total_sales  \n",
       "0             76.00        8.00      E        82.54  \n",
       "2             82.00        8.30      E        35.52  \n",
       "3             80.00        8.00      E        32.77  \n",
       "6             89.00        8.50      E        29.80  \n",
       "7             58.00        6.60      E        28.91  \n",
       "...             ...         ...    ...          ...  \n",
       "16700           NaN         NaN    NaN         0.01  \n",
       "16704           NaN         NaN      E         0.01  \n",
       "16709           NaN         NaN    NaN         0.00  \n",
       "16710           NaN         NaN    NaN         0.01  \n",
       "16711           NaN         NaN    NaN         0.01  \n",
       "\n",
       "[8069 rows x 12 columns]"
      ]
     },
     "execution_count": 32,
     "metadata": {},
     "output_type": "execute_result"
    }
   ],
   "source": [
    "#выбираю TOP5 платформ PS2,X360,PS3\t,Wii,DS\n",
    "#data_top5 = data.query('platform == \"PS2\" | platform == \"X360\" | platform == \"PS3\" | platform == \"Wii\" | platform == \"DS\"')\n",
    "top5 = data.pivot_table(index='platform', values='total_sales', aggfunc= 'sum').sort_values('total_sales',\n",
    "ascending=False).index[:5].tolist()\n",
    "\n",
    "data_top5 = data.query('platform in @top5')\n",
    "data_top5"
   ]
  },
  {
   "cell_type": "code",
   "execution_count": 33,
   "id": "1d33db5b",
   "metadata": {},
   "outputs": [
    {
     "data": {
      "image/png": "[encoded data removed]",
      "text/plain": [
       "<Figure size 864x576 with 1 Axes>"
      ]
     },
     "metadata": {},
     "output_type": "display_data"
    }
   ],
   "source": [
    "#строю график \n",
    "sbn.barplot(data=data_top5, x=\"year_of_release\", y='total_sales', hue=\"platform\", ci= None)\n",
    "plt.title('Суммы доходов платформ по годам ')\n",
    "plt.xlabel('Год')\n",
    "plt.ylabel('Доход')\n",
    "plt.grid(True)\n",
    "plt.show();"
   ]
  },
  {
   "cell_type": "markdown",
   "id": "9421d1d8",
   "metadata": {},
   "source": [
    "Если судить по этому срезу данных,то можно увидеть закономерность, что жизнь платформы в среднем 10 с лишним лет\n",
    ". Так же в глаза бросаются показатели Wii многократнообгонящие остальные платформы за 16 лет,\n",
    "ну а так же нельзя незаметить, что рынок ближе к 2014 года начал свой спад. Скорее всего причиной \n",
    "стали более производительные телефоны, и чтобы поиграть человеку не нужна дорогостоющая приставка или ПК. В добавок\n",
    "широкое распротранение получили on-line игры для 'простых' компьютеров. "
   ]
  },
  {
   "cell_type": "markdown",
   "id": "79c15177",
   "metadata": {},
   "source": [
    "## 3.3 На основании полученных данным, попробуем, построить прогноз на 2017 год."
   ]
  },
  {
   "cell_type": "code",
   "execution_count": 34,
   "id": "f977ef27",
   "metadata": {},
   "outputs": [
    {
     "data": {
      "text/plain": [
       "(array([ 0,  1,  2,  3,  4,  5,  6,  7,  8,  9, 10, 11, 12, 13, 14, 15, 16,\n",
       "        17, 18, 19, 20, 21, 22]),\n",
       " [Text(0, 0, '1994'),\n",
       "  Text(1, 0, '1995'),\n",
       "  Text(2, 0, '1996'),\n",
       "  Text(3, 0, '1997'),\n",
       "  Text(4, 0, '1998'),\n",
       "  Text(5, 0, '1999'),\n",
       "  Text(6, 0, '2000'),\n",
       "  Text(7, 0, '2001'),\n",
       "  Text(8, 0, '2002'),\n",
       "  Text(9, 0, '2003'),\n",
       "  Text(10, 0, '2004'),\n",
       "  Text(11, 0, '2005'),\n",
       "  Text(12, 0, '2006'),\n",
       "  Text(13, 0, '2007'),\n",
       "  Text(14, 0, '2008'),\n",
       "  Text(15, 0, '2009'),\n",
       "  Text(16, 0, '2010'),\n",
       "  Text(17, 0, '2011'),\n",
       "  Text(18, 0, '2012'),\n",
       "  Text(19, 0, '2013'),\n",
       "  Text(20, 0, '2014'),\n",
       "  Text(21, 0, '2015'),\n",
       "  Text(22, 0, '2016')])"
      ]
     },
     "execution_count": 34,
     "metadata": {},
     "output_type": "execute_result"
    },
    {
     "data": {
      "image/png": "[encoded data removed]",
      "text/plain": [
       "<Figure size 864x576 with 1 Axes>"
      ]
     },
     "metadata": {},
     "output_type": "display_data"
    }
   ],
   "source": [
    "#для этого построю грфик аналогичный предъидущему, чтобы учесть все платформы и посмотрю на тенденции\n",
    "sbn.barplot(data=data, x=\"year_of_release\", y='total_sales', ci= None)\n",
    "plt.title('Доходы платформ по годам ')\n",
    "plt.xlabel('Год')\n",
    "plt.ylabel('Доход')\n",
    "plt.grid(True)\n",
    "plt.xticks(rotation=45)"
   ]
  },
  {
   "cell_type": "markdown",
   "id": "aa1a76b1",
   "metadata": {},
   "source": [
    "Как по мне, я вижу тренд падения начиная с 2013. Показатели 2013-2014 очень похожи на 2014-2015. Поэтому в построении прогноза на 2017 год, буду учитывать 4 года. Перед этим, для интереса, проверю полноту данных за этот период"
   ]
  },
  {
   "cell_type": "code",
   "execution_count": 35,
   "id": "12ea3304",
   "metadata": {},
   "outputs": [
    {
     "data": {
      "text/html": [
       "<div>\n",
       "<style scoped>\n",
       "    .dataframe tbody tr th:only-of-type {\n",
       "        vertical-align: middle;\n",
       "    }\n",
       "\n",
       "    .dataframe tbody tr th {\n",
       "        vertical-align: top;\n",
       "    }\n",
       "\n",
       "    .dataframe thead th {\n",
       "        text-align: right;\n",
       "    }\n",
       "</style>\n",
       "<table border=\"1\" class=\"dataframe\">\n",
       "  <thead>\n",
       "    <tr style=\"text-align: right;\">\n",
       "      <th></th>\n",
       "      <th>name</th>\n",
       "      <th>platform</th>\n",
       "      <th>year_of_release</th>\n",
       "      <th>genre</th>\n",
       "      <th>na_sales</th>\n",
       "      <th>eu_sales</th>\n",
       "      <th>jp_sales</th>\n",
       "      <th>other_sales</th>\n",
       "      <th>critic_score</th>\n",
       "      <th>user_score</th>\n",
       "      <th>rating</th>\n",
       "      <th>total_sales</th>\n",
       "    </tr>\n",
       "  </thead>\n",
       "  <tbody>\n",
       "    <tr>\n",
       "      <th>16</th>\n",
       "      <td>grand theft auto v</td>\n",
       "      <td>ps3</td>\n",
       "      <td>2013</td>\n",
       "      <td>Action</td>\n",
       "      <td>7.02</td>\n",
       "      <td>9.09</td>\n",
       "      <td>0.98</td>\n",
       "      <td>3.96</td>\n",
       "      <td>97.00</td>\n",
       "      <td>8.20</td>\n",
       "      <td>M</td>\n",
       "      <td>21.05</td>\n",
       "    </tr>\n",
       "    <tr>\n",
       "      <th>23</th>\n",
       "      <td>grand theft auto v</td>\n",
       "      <td>x360</td>\n",
       "      <td>2013</td>\n",
       "      <td>Action</td>\n",
       "      <td>9.66</td>\n",
       "      <td>5.14</td>\n",
       "      <td>0.06</td>\n",
       "      <td>1.41</td>\n",
       "      <td>97.00</td>\n",
       "      <td>8.10</td>\n",
       "      <td>M</td>\n",
       "      <td>16.27</td>\n",
       "    </tr>\n",
       "    <tr>\n",
       "      <th>31</th>\n",
       "      <td>call of duty: black ops 3</td>\n",
       "      <td>ps4</td>\n",
       "      <td>2015</td>\n",
       "      <td>Shooter</td>\n",
       "      <td>6.03</td>\n",
       "      <td>5.86</td>\n",
       "      <td>0.36</td>\n",
       "      <td>2.38</td>\n",
       "      <td>NaN</td>\n",
       "      <td>NaN</td>\n",
       "      <td>NaN</td>\n",
       "      <td>14.63</td>\n",
       "    </tr>\n",
       "    <tr>\n",
       "      <th>33</th>\n",
       "      <td>pokemon x/pokemon y</td>\n",
       "      <td>3ds</td>\n",
       "      <td>2013</td>\n",
       "      <td>Role-Playing</td>\n",
       "      <td>5.28</td>\n",
       "      <td>4.19</td>\n",
       "      <td>4.35</td>\n",
       "      <td>0.78</td>\n",
       "      <td>NaN</td>\n",
       "      <td>NaN</td>\n",
       "      <td>NaN</td>\n",
       "      <td>14.60</td>\n",
       "    </tr>\n",
       "    <tr>\n",
       "      <th>42</th>\n",
       "      <td>grand theft auto v</td>\n",
       "      <td>ps4</td>\n",
       "      <td>2014</td>\n",
       "      <td>Action</td>\n",
       "      <td>3.96</td>\n",
       "      <td>6.31</td>\n",
       "      <td>0.38</td>\n",
       "      <td>1.97</td>\n",
       "      <td>97.00</td>\n",
       "      <td>8.30</td>\n",
       "      <td>M</td>\n",
       "      <td>12.62</td>\n",
       "    </tr>\n",
       "    <tr>\n",
       "      <th>...</th>\n",
       "      <td>...</td>\n",
       "      <td>...</td>\n",
       "      <td>...</td>\n",
       "      <td>...</td>\n",
       "      <td>...</td>\n",
       "      <td>...</td>\n",
       "      <td>...</td>\n",
       "      <td>...</td>\n",
       "      <td>...</td>\n",
       "      <td>...</td>\n",
       "      <td>...</td>\n",
       "      <td>...</td>\n",
       "    </tr>\n",
       "    <tr>\n",
       "      <th>16703</th>\n",
       "      <td>strawberry nauts</td>\n",
       "      <td>psv</td>\n",
       "      <td>2016</td>\n",
       "      <td>Adventure</td>\n",
       "      <td>0.00</td>\n",
       "      <td>0.00</td>\n",
       "      <td>0.01</td>\n",
       "      <td>0.00</td>\n",
       "      <td>NaN</td>\n",
       "      <td>NaN</td>\n",
       "      <td>NaN</td>\n",
       "      <td>0.01</td>\n",
       "    </tr>\n",
       "    <tr>\n",
       "      <th>16707</th>\n",
       "      <td>aiyoku no eustia</td>\n",
       "      <td>psv</td>\n",
       "      <td>2014</td>\n",
       "      <td>Misc</td>\n",
       "      <td>0.00</td>\n",
       "      <td>0.00</td>\n",
       "      <td>0.01</td>\n",
       "      <td>0.00</td>\n",
       "      <td>NaN</td>\n",
       "      <td>NaN</td>\n",
       "      <td>NaN</td>\n",
       "      <td>0.01</td>\n",
       "    </tr>\n",
       "    <tr>\n",
       "      <th>16710</th>\n",
       "      <td>samurai warriors: sanada maru</td>\n",
       "      <td>ps3</td>\n",
       "      <td>2016</td>\n",
       "      <td>Action</td>\n",
       "      <td>0.00</td>\n",
       "      <td>0.00</td>\n",
       "      <td>0.01</td>\n",
       "      <td>0.00</td>\n",
       "      <td>NaN</td>\n",
       "      <td>NaN</td>\n",
       "      <td>NaN</td>\n",
       "      <td>0.01</td>\n",
       "    </tr>\n",
       "    <tr>\n",
       "      <th>16712</th>\n",
       "      <td>haitaka no psychedelica</td>\n",
       "      <td>psv</td>\n",
       "      <td>2016</td>\n",
       "      <td>Adventure</td>\n",
       "      <td>0.00</td>\n",
       "      <td>0.00</td>\n",
       "      <td>0.01</td>\n",
       "      <td>0.00</td>\n",
       "      <td>NaN</td>\n",
       "      <td>NaN</td>\n",
       "      <td>NaN</td>\n",
       "      <td>0.01</td>\n",
       "    </tr>\n",
       "    <tr>\n",
       "      <th>16714</th>\n",
       "      <td>winning post 8 2016</td>\n",
       "      <td>psv</td>\n",
       "      <td>2016</td>\n",
       "      <td>Simulation</td>\n",
       "      <td>0.00</td>\n",
       "      <td>0.00</td>\n",
       "      <td>0.01</td>\n",
       "      <td>0.00</td>\n",
       "      <td>NaN</td>\n",
       "      <td>NaN</td>\n",
       "      <td>NaN</td>\n",
       "      <td>0.01</td>\n",
       "    </tr>\n",
       "  </tbody>\n",
       "</table>\n",
       "<p>2233 rows × 12 columns</p>\n",
       "</div>"
      ],
      "text/plain": [
       "                                name platform  year_of_release         genre  \\\n",
       "16                grand theft auto v      ps3             2013        Action   \n",
       "23                grand theft auto v     x360             2013        Action   \n",
       "31         call of duty: black ops 3      ps4             2015       Shooter   \n",
       "33               pokemon x/pokemon y      3ds             2013  Role-Playing   \n",
       "42                grand theft auto v      ps4             2014        Action   \n",
       "...                              ...      ...              ...           ...   \n",
       "16703               strawberry nauts      psv             2016     Adventure   \n",
       "16707               aiyoku no eustia      psv             2014          Misc   \n",
       "16710  samurai warriors: sanada maru      ps3             2016        Action   \n",
       "16712        haitaka no psychedelica      psv             2016     Adventure   \n",
       "16714            winning post 8 2016      psv             2016    Simulation   \n",
       "\n",
       "       na_sales  eu_sales  jp_sales  other_sales  critic_score  user_score  \\\n",
       "16         7.02      9.09      0.98         3.96         97.00        8.20   \n",
       "23         9.66      5.14      0.06         1.41         97.00        8.10   \n",
       "31         6.03      5.86      0.36         2.38           NaN         NaN   \n",
       "33         5.28      4.19      4.35         0.78           NaN         NaN   \n",
       "42         3.96      6.31      0.38         1.97         97.00        8.30   \n",
       "...         ...       ...       ...          ...           ...         ...   \n",
       "16703      0.00      0.00      0.01         0.00           NaN         NaN   \n",
       "16707      0.00      0.00      0.01         0.00           NaN         NaN   \n",
       "16710      0.00      0.00      0.01         0.00           NaN         NaN   \n",
       "16712      0.00      0.00      0.01         0.00           NaN         NaN   \n",
       "16714      0.00      0.00      0.01         0.00           NaN         NaN   \n",
       "\n",
       "      rating  total_sales  \n",
       "16         M        21.05  \n",
       "23         M        16.27  \n",
       "31       NaN        14.63  \n",
       "33       NaN        14.60  \n",
       "42         M        12.62  \n",
       "...      ...          ...  \n",
       "16703    NaN         0.01  \n",
       "16707    NaN         0.01  \n",
       "16710    NaN         0.01  \n",
       "16712    NaN         0.01  \n",
       "16714    NaN         0.01  \n",
       "\n",
       "[2233 rows x 12 columns]"
      ]
     },
     "execution_count": 35,
     "metadata": {},
     "output_type": "execute_result"
    }
   ],
   "source": [
    "#для начала создам переменную\n",
    "data_2013_2016 = data[data['year_of_release']>= 2013]\n",
    "#data_2013_2016 = data.query('year_of_release >= 2013')\n",
    "data_2013_2016"
   ]
  },
  {
   "cell_type": "code",
   "execution_count": 36,
   "id": "9ba1eb20",
   "metadata": {},
   "outputs": [
    {
     "data": {
      "image/png": "[encoded data removed]",
      "text/plain": [
       "<Figure size 864x576 with 1 Axes>"
      ]
     },
     "metadata": {},
     "output_type": "display_data"
    }
   ],
   "source": [
    "#то, что продажи падают в целом это понятно из прошлых ячеек.\n",
    "#изучим остальные дынные среза\n",
    "sbn.barplot(data=data_2013_2016, x='year_of_release' , y='total_sales', hue=\"platform\", ci= None)\n",
    "plt.title('Доходы  платформ по годам ')\n",
    "plt.xlabel('Год')\n",
    "plt.ylabel('Доход')\n",
    "plt.grid(True)"
   ]
  },
  {
   "cell_type": "code",
   "execution_count": 37,
   "id": "60eb6602",
   "metadata": {},
   "outputs": [
    {
     "data": {
      "text/plain": [
       "['ps4', 'ps3', 'xone', '3ds', 'x360']"
      ]
     },
     "execution_count": 37,
     "metadata": {},
     "output_type": "execute_result"
    }
   ],
   "source": [
    "#выделим топ-5 лидеров\n",
    "data_top_2013_2016 = data_2013_2016.pivot_table(index ='platform', values='total_sales', aggfunc='sum').sort_values('total_sales',\n",
    "ascending=False).index[:5].tolist()\n",
    "data_top_2013_2016"
   ]
  },
  {
   "cell_type": "code",
   "execution_count": 38,
   "id": "6bf14e84",
   "metadata": {},
   "outputs": [
    {
     "data": {
      "text/html": [
       "<div>\n",
       "<style scoped>\n",
       "    .dataframe tbody tr th:only-of-type {\n",
       "        vertical-align: middle;\n",
       "    }\n",
       "\n",
       "    .dataframe tbody tr th {\n",
       "        vertical-align: top;\n",
       "    }\n",
       "\n",
       "    .dataframe thead th {\n",
       "        text-align: right;\n",
       "    }\n",
       "</style>\n",
       "<table border=\"1\" class=\"dataframe\">\n",
       "  <thead>\n",
       "    <tr style=\"text-align: right;\">\n",
       "      <th></th>\n",
       "      <th>name</th>\n",
       "      <th>platform</th>\n",
       "      <th>year_of_release</th>\n",
       "      <th>genre</th>\n",
       "      <th>na_sales</th>\n",
       "      <th>eu_sales</th>\n",
       "      <th>jp_sales</th>\n",
       "      <th>other_sales</th>\n",
       "      <th>critic_score</th>\n",
       "      <th>user_score</th>\n",
       "      <th>rating</th>\n",
       "      <th>total_sales</th>\n",
       "    </tr>\n",
       "  </thead>\n",
       "  <tbody>\n",
       "    <tr>\n",
       "      <th>16</th>\n",
       "      <td>grand theft auto v</td>\n",
       "      <td>ps3</td>\n",
       "      <td>2013</td>\n",
       "      <td>Action</td>\n",
       "      <td>7.02</td>\n",
       "      <td>9.09</td>\n",
       "      <td>0.98</td>\n",
       "      <td>3.96</td>\n",
       "      <td>97.00</td>\n",
       "      <td>8.20</td>\n",
       "      <td>M</td>\n",
       "      <td>21.05</td>\n",
       "    </tr>\n",
       "    <tr>\n",
       "      <th>23</th>\n",
       "      <td>grand theft auto v</td>\n",
       "      <td>x360</td>\n",
       "      <td>2013</td>\n",
       "      <td>Action</td>\n",
       "      <td>9.66</td>\n",
       "      <td>5.14</td>\n",
       "      <td>0.06</td>\n",
       "      <td>1.41</td>\n",
       "      <td>97.00</td>\n",
       "      <td>8.10</td>\n",
       "      <td>M</td>\n",
       "      <td>16.27</td>\n",
       "    </tr>\n",
       "    <tr>\n",
       "      <th>31</th>\n",
       "      <td>call of duty: black ops 3</td>\n",
       "      <td>ps4</td>\n",
       "      <td>2015</td>\n",
       "      <td>Shooter</td>\n",
       "      <td>6.03</td>\n",
       "      <td>5.86</td>\n",
       "      <td>0.36</td>\n",
       "      <td>2.38</td>\n",
       "      <td>NaN</td>\n",
       "      <td>NaN</td>\n",
       "      <td>NaN</td>\n",
       "      <td>14.63</td>\n",
       "    </tr>\n",
       "    <tr>\n",
       "      <th>33</th>\n",
       "      <td>pokemon x/pokemon y</td>\n",
       "      <td>3ds</td>\n",
       "      <td>2013</td>\n",
       "      <td>Role-Playing</td>\n",
       "      <td>5.28</td>\n",
       "      <td>4.19</td>\n",
       "      <td>4.35</td>\n",
       "      <td>0.78</td>\n",
       "      <td>NaN</td>\n",
       "      <td>NaN</td>\n",
       "      <td>NaN</td>\n",
       "      <td>14.60</td>\n",
       "    </tr>\n",
       "    <tr>\n",
       "      <th>42</th>\n",
       "      <td>grand theft auto v</td>\n",
       "      <td>ps4</td>\n",
       "      <td>2014</td>\n",
       "      <td>Action</td>\n",
       "      <td>3.96</td>\n",
       "      <td>6.31</td>\n",
       "      <td>0.38</td>\n",
       "      <td>1.97</td>\n",
       "      <td>97.00</td>\n",
       "      <td>8.30</td>\n",
       "      <td>M</td>\n",
       "      <td>12.62</td>\n",
       "    </tr>\n",
       "    <tr>\n",
       "      <th>...</th>\n",
       "      <td>...</td>\n",
       "      <td>...</td>\n",
       "      <td>...</td>\n",
       "      <td>...</td>\n",
       "      <td>...</td>\n",
       "      <td>...</td>\n",
       "      <td>...</td>\n",
       "      <td>...</td>\n",
       "      <td>...</td>\n",
       "      <td>...</td>\n",
       "      <td>...</td>\n",
       "      <td>...</td>\n",
       "    </tr>\n",
       "    <tr>\n",
       "      <th>16672</th>\n",
       "      <td>metal gear solid v: the definitive experience</td>\n",
       "      <td>xone</td>\n",
       "      <td>2016</td>\n",
       "      <td>Action</td>\n",
       "      <td>0.01</td>\n",
       "      <td>0.00</td>\n",
       "      <td>0.00</td>\n",
       "      <td>0.00</td>\n",
       "      <td>NaN</td>\n",
       "      <td>NaN</td>\n",
       "      <td>M</td>\n",
       "      <td>0.01</td>\n",
       "    </tr>\n",
       "    <tr>\n",
       "      <th>16674</th>\n",
       "      <td>tsukigime ranko's longest day</td>\n",
       "      <td>ps3</td>\n",
       "      <td>2014</td>\n",
       "      <td>Action</td>\n",
       "      <td>0.00</td>\n",
       "      <td>0.01</td>\n",
       "      <td>0.00</td>\n",
       "      <td>0.00</td>\n",
       "      <td>NaN</td>\n",
       "      <td>NaN</td>\n",
       "      <td>NaN</td>\n",
       "      <td>0.01</td>\n",
       "    </tr>\n",
       "    <tr>\n",
       "      <th>16677</th>\n",
       "      <td>aikatsu stars! my special appeal</td>\n",
       "      <td>3ds</td>\n",
       "      <td>2016</td>\n",
       "      <td>Action</td>\n",
       "      <td>0.00</td>\n",
       "      <td>0.00</td>\n",
       "      <td>0.01</td>\n",
       "      <td>0.00</td>\n",
       "      <td>NaN</td>\n",
       "      <td>NaN</td>\n",
       "      <td>NaN</td>\n",
       "      <td>0.01</td>\n",
       "    </tr>\n",
       "    <tr>\n",
       "      <th>16691</th>\n",
       "      <td>dynasty warriors: eiketsuden</td>\n",
       "      <td>ps3</td>\n",
       "      <td>2016</td>\n",
       "      <td>Action</td>\n",
       "      <td>0.00</td>\n",
       "      <td>0.00</td>\n",
       "      <td>0.01</td>\n",
       "      <td>0.00</td>\n",
       "      <td>NaN</td>\n",
       "      <td>NaN</td>\n",
       "      <td>NaN</td>\n",
       "      <td>0.01</td>\n",
       "    </tr>\n",
       "    <tr>\n",
       "      <th>16710</th>\n",
       "      <td>samurai warriors: sanada maru</td>\n",
       "      <td>ps3</td>\n",
       "      <td>2016</td>\n",
       "      <td>Action</td>\n",
       "      <td>0.00</td>\n",
       "      <td>0.00</td>\n",
       "      <td>0.01</td>\n",
       "      <td>0.00</td>\n",
       "      <td>NaN</td>\n",
       "      <td>NaN</td>\n",
       "      <td>NaN</td>\n",
       "      <td>0.01</td>\n",
       "    </tr>\n",
       "  </tbody>\n",
       "</table>\n",
       "<p>1473 rows × 12 columns</p>\n",
       "</div>"
      ],
      "text/plain": [
       "                                                name platform  \\\n",
       "16                                grand theft auto v      ps3   \n",
       "23                                grand theft auto v     x360   \n",
       "31                         call of duty: black ops 3      ps4   \n",
       "33                               pokemon x/pokemon y      3ds   \n",
       "42                                grand theft auto v      ps4   \n",
       "...                                              ...      ...   \n",
       "16672  metal gear solid v: the definitive experience     xone   \n",
       "16674                  tsukigime ranko's longest day      ps3   \n",
       "16677               aikatsu stars! my special appeal      3ds   \n",
       "16691                   dynasty warriors: eiketsuden      ps3   \n",
       "16710                  samurai warriors: sanada maru      ps3   \n",
       "\n",
       "       year_of_release         genre  na_sales  eu_sales  jp_sales  \\\n",
       "16                2013        Action      7.02      9.09      0.98   \n",
       "23                2013        Action      9.66      5.14      0.06   \n",
       "31                2015       Shooter      6.03      5.86      0.36   \n",
       "33                2013  Role-Playing      5.28      4.19      4.35   \n",
       "42                2014        Action      3.96      6.31      0.38   \n",
       "...                ...           ...       ...       ...       ...   \n",
       "16672             2016        Action      0.01      0.00      0.00   \n",
       "16674             2014        Action      0.00      0.01      0.00   \n",
       "16677             2016        Action      0.00      0.00      0.01   \n",
       "16691             2016        Action      0.00      0.00      0.01   \n",
       "16710             2016        Action      0.00      0.00      0.01   \n",
       "\n",
       "       other_sales  critic_score  user_score rating  total_sales  \n",
       "16            3.96         97.00        8.20      M        21.05  \n",
       "23            1.41         97.00        8.10      M        16.27  \n",
       "31            2.38           NaN         NaN    NaN        14.63  \n",
       "33            0.78           NaN         NaN    NaN        14.60  \n",
       "42            1.97         97.00        8.30      M        12.62  \n",
       "...            ...           ...         ...    ...          ...  \n",
       "16672         0.00           NaN         NaN      M         0.01  \n",
       "16674         0.00           NaN         NaN    NaN         0.01  \n",
       "16677         0.00           NaN         NaN    NaN         0.01  \n",
       "16691         0.00           NaN         NaN    NaN         0.01  \n",
       "16710         0.00           NaN         NaN    NaN         0.01  \n",
       "\n",
       "[1473 rows x 12 columns]"
      ]
     },
     "execution_count": 38,
     "metadata": {},
     "output_type": "execute_result"
    }
   ],
   "source": [
    "#отфильтруем датасет с 2013 года по топ-5 платформам\n",
    "data_top5_2013_2016 = data_2013_2016.query('platform in @data_top_2013_2016')\n",
    "data_top5_2013_2016"
   ]
  },
  {
   "cell_type": "code",
   "execution_count": 39,
   "id": "510a7126",
   "metadata": {},
   "outputs": [
    {
     "data": {
      "image/png": "[encoded data removed]",
      "text/plain": [
       "<Figure size 864x576 with 1 Axes>"
      ]
     },
     "metadata": {},
     "output_type": "display_data"
    }
   ],
   "source": [
    "#1473 колонки за 4 года... не густо\n",
    "sbn.barplot(data=data_top5_2013_2016, x='year_of_release' , y='total_sales', hue=\"platform\", ci= None)\n",
    "plt.title('Доходы топ-5 платформ по годам с 2013 по 2016 ')\n",
    "plt.xlabel('Год')\n",
    "plt.ylabel('Доход')\n",
    "plt.grid(True)"
   ]
  },
  {
   "cell_type": "markdown",
   "id": "fd5d5ced",
   "metadata": {},
   "source": [
    "Из это таблицы напрашивается вывод, что PS3 и X360 уже можно списывать со счетов. Остальные еще 'поживут'"
   ]
  },
  {
   "cell_type": "code",
   "execution_count": 40,
   "id": "a237f098",
   "metadata": {},
   "outputs": [
    {
     "data": {
      "text/plain": [
       "<AxesSubplot:xlabel='year_of_release', ylabel='total_sales'>"
      ]
     },
     "execution_count": 40,
     "metadata": {},
     "output_type": "execute_result"
    },
    {
     "data": {
      "image/png": "[encoded data removed]",
      "text/plain": [
       "<Figure size 864x576 with 1 Axes>"
      ]
     },
     "metadata": {},
     "output_type": "display_data"
    }
   ],
   "source": [
    "#не знаю на сколько это правильно, но я выбираю 3DS как кандидата, у которого есть будущее. \n",
    "#у этой платформы высока стабильность, если сравнивать с остальными платформами\n",
    "#поэтому использую ручной метод фильтрации, а не через список\n",
    "data_top3_2013_2016 = data_2013_2016.query('platform == \"ps4\" | platform == \"xone\" | platform == \"3ds\"')\n",
    "sbn.barplot(data=data_top3_2013_2016, x='year_of_release' , y='total_sales', hue=\"platform\", ci= None)"
   ]
  },
  {
   "cell_type": "code",
   "execution_count": 41,
   "id": "086cb822",
   "metadata": {},
   "outputs": [
    {
     "data": {
      "image/png": "[encoded data removed]",
      "text/plain": [
       "<Figure size 864x576 with 1 Axes>"
      ]
     },
     "metadata": {},
     "output_type": "display_data"
    }
   ],
   "source": [
    "#визуализируем топ-3\n",
    "sbn.barplot(data=data_top3_2013_2016, x='year_of_release' , y='total_sales', hue=\"platform\", ci= None)\n",
    "plt.title('Доходы топ-3 платформ по годам с 2013 по 2016 ')\n",
    "plt.xlabel('Год')\n",
    "plt.ylabel('Доход')\n",
    "plt.grid(True)"
   ]
  },
  {
   "cell_type": "code",
   "execution_count": 42,
   "id": "af386602",
   "metadata": {},
   "outputs": [
    {
     "data": {
      "text/html": [
       "<div>\n",
       "<style scoped>\n",
       "    .dataframe tbody tr th:only-of-type {\n",
       "        vertical-align: middle;\n",
       "    }\n",
       "\n",
       "    .dataframe tbody tr th {\n",
       "        vertical-align: top;\n",
       "    }\n",
       "\n",
       "    .dataframe thead th {\n",
       "        text-align: right;\n",
       "    }\n",
       "</style>\n",
       "<table border=\"1\" class=\"dataframe\">\n",
       "  <thead>\n",
       "    <tr style=\"text-align: right;\">\n",
       "      <th></th>\n",
       "      <th>name</th>\n",
       "      <th>platform</th>\n",
       "      <th>year_of_release</th>\n",
       "      <th>genre</th>\n",
       "      <th>na_sales</th>\n",
       "      <th>eu_sales</th>\n",
       "      <th>jp_sales</th>\n",
       "      <th>other_sales</th>\n",
       "      <th>critic_score</th>\n",
       "      <th>user_score</th>\n",
       "      <th>rating</th>\n",
       "      <th>total_sales</th>\n",
       "    </tr>\n",
       "  </thead>\n",
       "  <tbody>\n",
       "    <tr>\n",
       "      <th>31</th>\n",
       "      <td>call of duty: black ops 3</td>\n",
       "      <td>ps4</td>\n",
       "      <td>2015</td>\n",
       "      <td>Shooter</td>\n",
       "      <td>6.03</td>\n",
       "      <td>5.86</td>\n",
       "      <td>0.36</td>\n",
       "      <td>2.38</td>\n",
       "      <td>NaN</td>\n",
       "      <td>NaN</td>\n",
       "      <td>NaN</td>\n",
       "      <td>14.63</td>\n",
       "    </tr>\n",
       "    <tr>\n",
       "      <th>33</th>\n",
       "      <td>pokemon x/pokemon y</td>\n",
       "      <td>3ds</td>\n",
       "      <td>2013</td>\n",
       "      <td>Role-Playing</td>\n",
       "      <td>5.28</td>\n",
       "      <td>4.19</td>\n",
       "      <td>4.35</td>\n",
       "      <td>0.78</td>\n",
       "      <td>NaN</td>\n",
       "      <td>NaN</td>\n",
       "      <td>NaN</td>\n",
       "      <td>14.60</td>\n",
       "    </tr>\n",
       "    <tr>\n",
       "      <th>42</th>\n",
       "      <td>grand theft auto v</td>\n",
       "      <td>ps4</td>\n",
       "      <td>2014</td>\n",
       "      <td>Action</td>\n",
       "      <td>3.96</td>\n",
       "      <td>6.31</td>\n",
       "      <td>0.38</td>\n",
       "      <td>1.97</td>\n",
       "      <td>97.00</td>\n",
       "      <td>8.30</td>\n",
       "      <td>M</td>\n",
       "      <td>12.62</td>\n",
       "    </tr>\n",
       "    <tr>\n",
       "      <th>47</th>\n",
       "      <td>pokemon omega ruby/pokemon alpha sapphire</td>\n",
       "      <td>3ds</td>\n",
       "      <td>2014</td>\n",
       "      <td>Role-Playing</td>\n",
       "      <td>4.35</td>\n",
       "      <td>3.49</td>\n",
       "      <td>3.10</td>\n",
       "      <td>0.74</td>\n",
       "      <td>NaN</td>\n",
       "      <td>NaN</td>\n",
       "      <td>NaN</td>\n",
       "      <td>11.68</td>\n",
       "    </tr>\n",
       "    <tr>\n",
       "      <th>77</th>\n",
       "      <td>fifa 16</td>\n",
       "      <td>ps4</td>\n",
       "      <td>2015</td>\n",
       "      <td>Sports</td>\n",
       "      <td>1.12</td>\n",
       "      <td>6.12</td>\n",
       "      <td>0.06</td>\n",
       "      <td>1.28</td>\n",
       "      <td>82.00</td>\n",
       "      <td>4.30</td>\n",
       "      <td>E</td>\n",
       "      <td>8.58</td>\n",
       "    </tr>\n",
       "    <tr>\n",
       "      <th>...</th>\n",
       "      <td>...</td>\n",
       "      <td>...</td>\n",
       "      <td>...</td>\n",
       "      <td>...</td>\n",
       "      <td>...</td>\n",
       "      <td>...</td>\n",
       "      <td>...</td>\n",
       "      <td>...</td>\n",
       "      <td>...</td>\n",
       "      <td>...</td>\n",
       "      <td>...</td>\n",
       "      <td>...</td>\n",
       "    </tr>\n",
       "    <tr>\n",
       "      <th>16648</th>\n",
       "      <td>mushi bugyou</td>\n",
       "      <td>3ds</td>\n",
       "      <td>2013</td>\n",
       "      <td>Action</td>\n",
       "      <td>0.00</td>\n",
       "      <td>0.00</td>\n",
       "      <td>0.01</td>\n",
       "      <td>0.00</td>\n",
       "      <td>NaN</td>\n",
       "      <td>NaN</td>\n",
       "      <td>NaN</td>\n",
       "      <td>0.01</td>\n",
       "    </tr>\n",
       "    <tr>\n",
       "      <th>16660</th>\n",
       "      <td>prison architect</td>\n",
       "      <td>xone</td>\n",
       "      <td>2016</td>\n",
       "      <td>Action</td>\n",
       "      <td>0.01</td>\n",
       "      <td>0.00</td>\n",
       "      <td>0.00</td>\n",
       "      <td>0.00</td>\n",
       "      <td>74.00</td>\n",
       "      <td>6.70</td>\n",
       "      <td>NaN</td>\n",
       "      <td>0.01</td>\n",
       "    </tr>\n",
       "    <tr>\n",
       "      <th>16668</th>\n",
       "      <td>fujiko f. fujio characters: great assembly! sl...</td>\n",
       "      <td>3ds</td>\n",
       "      <td>2014</td>\n",
       "      <td>Action</td>\n",
       "      <td>0.00</td>\n",
       "      <td>0.00</td>\n",
       "      <td>0.01</td>\n",
       "      <td>0.00</td>\n",
       "      <td>NaN</td>\n",
       "      <td>NaN</td>\n",
       "      <td>NaN</td>\n",
       "      <td>0.01</td>\n",
       "    </tr>\n",
       "    <tr>\n",
       "      <th>16672</th>\n",
       "      <td>metal gear solid v: the definitive experience</td>\n",
       "      <td>xone</td>\n",
       "      <td>2016</td>\n",
       "      <td>Action</td>\n",
       "      <td>0.01</td>\n",
       "      <td>0.00</td>\n",
       "      <td>0.00</td>\n",
       "      <td>0.00</td>\n",
       "      <td>NaN</td>\n",
       "      <td>NaN</td>\n",
       "      <td>M</td>\n",
       "      <td>0.01</td>\n",
       "    </tr>\n",
       "    <tr>\n",
       "      <th>16677</th>\n",
       "      <td>aikatsu stars! my special appeal</td>\n",
       "      <td>3ds</td>\n",
       "      <td>2016</td>\n",
       "      <td>Action</td>\n",
       "      <td>0.00</td>\n",
       "      <td>0.00</td>\n",
       "      <td>0.01</td>\n",
       "      <td>0.00</td>\n",
       "      <td>NaN</td>\n",
       "      <td>NaN</td>\n",
       "      <td>NaN</td>\n",
       "      <td>0.01</td>\n",
       "    </tr>\n",
       "  </tbody>\n",
       "</table>\n",
       "<p>942 rows × 12 columns</p>\n",
       "</div>"
      ],
      "text/plain": [
       "                                                    name platform  \\\n",
       "31                             call of duty: black ops 3      ps4   \n",
       "33                                   pokemon x/pokemon y      3ds   \n",
       "42                                    grand theft auto v      ps4   \n",
       "47             pokemon omega ruby/pokemon alpha sapphire      3ds   \n",
       "77                                               fifa 16      ps4   \n",
       "...                                                  ...      ...   \n",
       "16648                                       mushi bugyou      3ds   \n",
       "16660                                   prison architect     xone   \n",
       "16668  fujiko f. fujio characters: great assembly! sl...      3ds   \n",
       "16672      metal gear solid v: the definitive experience     xone   \n",
       "16677                   aikatsu stars! my special appeal      3ds   \n",
       "\n",
       "       year_of_release         genre  na_sales  eu_sales  jp_sales  \\\n",
       "31                2015       Shooter      6.03      5.86      0.36   \n",
       "33                2013  Role-Playing      5.28      4.19      4.35   \n",
       "42                2014        Action      3.96      6.31      0.38   \n",
       "47                2014  Role-Playing      4.35      3.49      3.10   \n",
       "77                2015        Sports      1.12      6.12      0.06   \n",
       "...                ...           ...       ...       ...       ...   \n",
       "16648             2013        Action      0.00      0.00      0.01   \n",
       "16660             2016        Action      0.01      0.00      0.00   \n",
       "16668             2014        Action      0.00      0.00      0.01   \n",
       "16672             2016        Action      0.01      0.00      0.00   \n",
       "16677             2016        Action      0.00      0.00      0.01   \n",
       "\n",
       "       other_sales  critic_score  user_score rating  total_sales  \n",
       "31            2.38           NaN         NaN    NaN        14.63  \n",
       "33            0.78           NaN         NaN    NaN        14.60  \n",
       "42            1.97         97.00        8.30      M        12.62  \n",
       "47            0.74           NaN         NaN    NaN        11.68  \n",
       "77            1.28         82.00        4.30      E         8.58  \n",
       "...            ...           ...         ...    ...          ...  \n",
       "16648         0.00           NaN         NaN    NaN         0.01  \n",
       "16660         0.00         74.00        6.70    NaN         0.01  \n",
       "16668         0.00           NaN         NaN    NaN         0.01  \n",
       "16672         0.00           NaN         NaN      M         0.01  \n",
       "16677         0.00           NaN         NaN    NaN         0.01  \n",
       "\n",
       "[942 rows x 12 columns]"
      ]
     },
     "execution_count": 42,
     "metadata": {},
     "output_type": "execute_result"
    }
   ],
   "source": [
    "data_top3_2013_2016"
   ]
  },
  {
   "cell_type": "code",
   "execution_count": 43,
   "id": "f35079b2",
   "metadata": {},
   "outputs": [
    {
     "data": {
      "text/plain": [
       "(array([0, 1, 2, 3]),\n",
       " [Text(0, 0, '(2013, ps4)'),\n",
       "  Text(1, 0, '(2014, ps4)'),\n",
       "  Text(2, 0, '(2015, ps4)'),\n",
       "  Text(3, 0, '(2016, ps4)')])"
      ]
     },
     "execution_count": 43,
     "metadata": {},
     "output_type": "execute_result"
    },
    {
     "data": {
      "image/png": "[encoded data removed]",
      "text/plain": [
       "<Figure size 216x216 with 1 Axes>"
      ]
     },
     "metadata": {},
     "output_type": "display_data"
    }
   ],
   "source": [
    "#возможно спад связан с меньшим количеством выхода игр?\n",
    "(\n",
    "data_top3_2013_2016.query('platform == \"ps4\"').\n",
    "pivot_table(index=('year_of_release', 'platform'), values='total_sales', aggfunc='count').\n",
    "plot(kind='bar',figsize=(3,3))\n",
    ")\n",
    "plt.title('Количество игр под ps4 с 2013 по 2016 ')\n",
    "plt.xlabel('Год')\n",
    "plt.ylabel('Количество игр')\n",
    "plt.grid(True)\n",
    "plt.xticks(rotation=90)"
   ]
  },
  {
   "cell_type": "code",
   "execution_count": 44,
   "id": "d16edf6b",
   "metadata": {},
   "outputs": [
    {
     "data": {
      "text/plain": [
       "(array([0, 1, 2, 3]),\n",
       " [Text(0, 0, '(2013, xone)'),\n",
       "  Text(1, 0, '(2014, xone)'),\n",
       "  Text(2, 0, '(2015, xone)'),\n",
       "  Text(3, 0, '(2016, xone)')])"
      ]
     },
     "execution_count": 44,
     "metadata": {},
     "output_type": "execute_result"
    },
    {
     "data": {
      "image/png": "[encoded data removed]",
      "text/plain": [
       "<Figure size 216x216 with 1 Axes>"
      ]
     },
     "metadata": {},
     "output_type": "display_data"
    }
   ],
   "source": [
    "(\n",
    "data_top3_2013_2016.query('platform == \"xone\"').\n",
    "pivot_table(index=('year_of_release', 'platform'), values='total_sales', aggfunc='count').\n",
    "plot(kind='bar',figsize=(3,3))\n",
    ")\n",
    "plt.title('Количество игр под xone с 2013 по 2016 ')\n",
    "plt.xlabel('Год')\n",
    "plt.ylabel('Количество игр')\n",
    "plt.grid(True)\n",
    "plt.xticks(rotation=90)"
   ]
  },
  {
   "cell_type": "code",
   "execution_count": 45,
   "id": "ad21620a",
   "metadata": {},
   "outputs": [
    {
     "data": {
      "text/plain": [
       "(array([0, 1, 2, 3]),\n",
       " [Text(0, 0, '(2013, 3ds)'),\n",
       "  Text(1, 0, '(2014, 3ds)'),\n",
       "  Text(2, 0, '(2015, 3ds)'),\n",
       "  Text(3, 0, '(2016, 3ds)')])"
      ]
     },
     "execution_count": 45,
     "metadata": {},
     "output_type": "execute_result"
    },
    {
     "data": {
      "image/png": "[encoded data removed]",
      "text/plain": [
       "<Figure size 216x216 with 1 Axes>"
      ]
     },
     "metadata": {},
     "output_type": "display_data"
    }
   ],
   "source": [
    "(\n",
    "data_top3_2013_2016.query('platform == \"3ds\"').\n",
    "pivot_table(index=('year_of_release', 'platform'), values='total_sales', aggfunc='count').\n",
    "plot(kind='bar',figsize=(3,3))\n",
    ")\n",
    "plt.title('Количество игр под 3ds с 2013 по 2016 ')\n",
    "plt.xlabel('Год')\n",
    "plt.ylabel('Количество игр')\n",
    "plt.grid(True)\n",
    "plt.xticks(rotation=90)"
   ]
  },
  {
   "cell_type": "markdown",
   "id": "95192de8",
   "metadata": {},
   "source": [
    "**Выводы:** Не смотря на рост выхода игр, доходы продолжают стремительно падать. Тут выделяеты 3DS, он более стабилен что в падении продаж, что в выпуске игр за исключением последнего года. Поэтому в 2017 году я делаю ставки на существование этих 3-х китов и продолжение падание в продажах."
   ]
  },
  {
   "cell_type": "markdown",
   "id": "8fb02046",
   "metadata": {},
   "source": [
    "## 3.4 Построим график «ящик с усами» по глобальным продажам игр в разбивке по платформам. \n"
   ]
  },
  {
   "cell_type": "code",
   "execution_count": 46,
   "id": "5a420227",
   "metadata": {},
   "outputs": [
    {
     "data": {
      "image/png": "[encoded data removed]",
      "text/plain": [
       "<Figure size 1440x720 with 1 Axes>"
      ]
     },
     "metadata": {},
     "output_type": "display_data"
    }
   ],
   "source": [
    "sbn.set(rc={'figure.figsize':(20,10)})\n",
    "sbn.boxplot(data=data_2013_2016, x = 'platform', y ='total_sales')\n",
    "plt.ylim(0, 0.85)\n",
    "plt.show()"
   ]
  },
  {
   "cell_type": "markdown",
   "id": "30950ced",
   "metadata": {},
   "source": [
    "Тут прослеживается тренд присущий любой платформе. Есть бумы продаж которые выходят очень далеко за пределы 3-его квартиля. И такая ситуация практически везде. "
   ]
  },
  {
   "cell_type": "markdown",
   "id": "b62f2c5a",
   "metadata": {},
   "source": [
    "## 3.5 Посмотрим, как влияют на продажи внутри одной популярной платформы отзывы пользователей и критиков"
   ]
  },
  {
   "cell_type": "code",
   "execution_count": 47,
   "id": "99769426",
   "metadata": {},
   "outputs": [
    {
     "name": "stdout",
     "output_type": "stream",
     "text": [
      "<class 'pandas.core.frame.DataFrame'>\n",
      "Int64Index: 942 entries, 31 to 16677\n",
      "Data columns (total 12 columns):\n",
      " #   Column           Non-Null Count  Dtype  \n",
      "---  ------           --------------  -----  \n",
      " 0   name             942 non-null    object \n",
      " 1   platform         942 non-null    object \n",
      " 2   year_of_release  942 non-null    Int64  \n",
      " 3   genre            942 non-null    object \n",
      " 4   na_sales         942 non-null    float64\n",
      " 5   eu_sales         942 non-null    float64\n",
      " 6   jp_sales         942 non-null    float64\n",
      " 7   other_sales      942 non-null    float64\n",
      " 8   critic_score     492 non-null    float64\n",
      " 9   user_score       519 non-null    float64\n",
      " 10  rating           545 non-null    object \n",
      " 11  total_sales      942 non-null    float64\n",
      "dtypes: Int64(1), float64(7), object(4)\n",
      "memory usage: 128.9+ KB\n"
     ]
    }
   ],
   "source": [
    "#для анализа возьму данные из data_top3_2013_2016, но сначала проверю количество пропусков, \n",
    "#возможно их меньше чем в изначальном датасете\n",
    "data_top3_2013_2016.info()"
   ]
  },
  {
   "cell_type": "code",
   "execution_count": 48,
   "id": "152cdc49",
   "metadata": {},
   "outputs": [
    {
     "name": "stderr",
     "output_type": "stream",
     "text": [
      "*c* argument looks like a single numeric RGB or RGBA sequence, which should be avoided as value-mapping will have precedence in case its length matches with *x* & *y*.  Please use the *color* keyword-argument or provide a 2-D array with a single row if you intend to specify the same RGB or RGBA value for all points.\n",
      "*c* argument looks like a single numeric RGB or RGBA sequence, which should be avoided as value-mapping will have precedence in case its length matches with *x* & *y*.  Please use the *color* keyword-argument or provide a 2-D array with a single row if you intend to specify the same RGB or RGBA value for all points.\n"
     ]
    },
    {
     "name": "stdout",
     "output_type": "stream",
     "text": [
      "0.3881509469324385\n",
      "AxesSubplot(0.125,0.125;0.775x0.755)\n",
      "-0.026513383301050384\n"
     ]
    },
    {
     "data": {
      "image/png": "[encoded data removed]",
      "text/plain": [
       "<Figure size 1440x720 with 1 Axes>"
      ]
     },
     "metadata": {},
     "output_type": "display_data"
    },
    {
     "data": {
      "image/png": "[encoded data removed]",
      "text/plain": [
       "<Figure size 1440x720 with 1 Axes>"
      ]
     },
     "metadata": {},
     "output_type": "display_data"
    }
   ],
   "source": [
    "#видно что процент пропусков даже выше в этом периоде, нежели в первичных данных. Менять медианным данными нельзя, смысла\n",
    "#ставить заглушку тоже не вижу. Поэтому будем работать с темми данными, какие имеем\n",
    "data_top3_2013_2016 = data_top3_2013_2016.dropna(subset = ['critic_score'])\n",
    "data_top3_2013_2016 = data_top3_2013_2016.dropna(subset = ['user_score'])\n",
    "data_top3_2013_2016.user_score  = data_top3_2013_2016.user_score.astype('float')\n",
    "\n",
    "#смотрим на корреляцию critic_score\n",
    "data_top3_2013_2016.plot(kind='scatter', x='critic_score', y='total_sales')\n",
    "print(data_top3_2013_2016['critic_score'].corr(data_top3_2013_2016['total_sales']))\n",
    "\n",
    "#смотрим на корреляцию user_score\n",
    "print(data_top3_2013_2016.plot( x='user_score', y='total_sales',kind='scatter'))\n",
    "print(data_top3_2013_2016['user_score'].corr(data_top3_2013_2016['total_sales']))"
   ]
  },
  {
   "cell_type": "markdown",
   "id": "9b24935f",
   "metadata": {},
   "source": [
    "Коэффиценты кореляции слабые. Оценик критиков практически никакакого влияние на продажи не оказывают. Коэффицент оценки пользователей равен 0.388, что можно расценивать как слабое влияние."
   ]
  },
  {
   "cell_type": "markdown",
   "id": "7956b4a0",
   "metadata": {},
   "source": [
    "Оценки критиков демонстрируют прямую, средне-слабую корреляцию с \"цифрами\" продаж. Оценки пользователей корреляции с продажами не имеют\"."
   ]
  },
  {
   "cell_type": "code",
   "execution_count": 49,
   "id": "2c9265bd",
   "metadata": {},
   "outputs": [
    {
     "name": "stderr",
     "output_type": "stream",
     "text": [
      "*c* argument looks like a single numeric RGB or RGBA sequence, which should be avoided as value-mapping will have precedence in case its length matches with *x* & *y*.  Please use the *color* keyword-argument or provide a 2-D array with a single row if you intend to specify the same RGB or RGBA value for all points.\n",
      "*c* argument looks like a single numeric RGB or RGBA sequence, which should be avoided as value-mapping will have precedence in case its length matches with *x* & *y*.  Please use the *color* keyword-argument or provide a 2-D array with a single row if you intend to specify the same RGB or RGBA value for all points.\n"
     ]
    },
    {
     "name": "stdout",
     "output_type": "stream",
     "text": [
      "0.3392349287853147\n",
      "AxesSubplot(0.125,0.125;0.775x0.755)\n",
      "0.2729904366942444\n"
     ]
    },
    {
     "data": {
      "image/png": "[encoded data removed]",
      "text/plain": [
       "<Figure size 1440x720 with 1 Axes>"
      ]
     },
     "metadata": {},
     "output_type": "display_data"
    },
    {
     "data": {
      "image/png": "[encoded data removed]",
      "text/plain": [
       "<Figure size 1440x720 with 1 Axes>"
      ]
     },
     "metadata": {},
     "output_type": "display_data"
    }
   ],
   "source": [
    "#Рассмотрю отдельно платформу 3DS, у которой не такие большие разбросы в показателях, как у других\n",
    "three_ds =data_top3_2013_2016.query('platform == \"3ds\"')\n",
    "three_ds.plot(kind='scatter', x='critic_score', y='total_sales')\n",
    "print(three_ds['critic_score'].corr(three_ds['total_sales']))\n",
    "print(three_ds.plot( x='user_score', y='total_sales',kind='scatter'))\n",
    "print(three_ds['user_score'].corr(three_ds['total_sales']))"
   ]
  },
  {
   "cell_type": "markdown",
   "id": "a1517009",
   "metadata": {},
   "source": [
    "Кореляция по оценки критиков прямую, средне-слабую корреляцию с \"цифрами\" продаж. Возможно, у Nintendo как-то инчае продвигает свой продукт. Мне кажется этому можно посвятить отдельное иследование"
   ]
  },
  {
   "cell_type": "markdown",
   "id": "a700bcfb",
   "metadata": {},
   "source": [
    "## 3.5 Посмотрите на общее распределение игр по жанрам. Что можно сказать о самых прибыльных жанрах? Выделяются ли жанры с высокими и низкими продажами?"
   ]
  },
  {
   "cell_type": "code",
   "execution_count": 50,
   "id": "c37ccc28",
   "metadata": {},
   "outputs": [
    {
     "data": {
      "text/plain": [
       "Action          766\n",
       "Role-Playing    292\n",
       "Adventure       245\n",
       "Sports          214\n",
       "Shooter         187\n",
       "Misc            155\n",
       "Racing           85\n",
       "Fighting         80\n",
       "Platform         74\n",
       "Simulation       62\n",
       "Strategy         56\n",
       "Puzzle           17\n",
       "Name: genre, dtype: int64"
      ]
     },
     "execution_count": 50,
     "metadata": {},
     "output_type": "execute_result"
    }
   ],
   "source": [
    "#посмотрю сколько жанров вообще\n",
    "data_2013_2016.genre.value_counts()\n",
    "#получается самый популярный Action и самый нераспространенный Puzzle           "
   ]
  },
  {
   "cell_type": "code",
   "execution_count": 51,
   "id": "d728dc38",
   "metadata": {},
   "outputs": [
    {
     "data": {
      "text/plain": [
       "<AxesSubplot:xlabel='genre'>"
      ]
     },
     "execution_count": 51,
     "metadata": {},
     "output_type": "execute_result"
    },
    {
     "data": {
      "image/png": "[encoded data removed]",
      "text/plain": [
       "<Figure size 576x360 with 1 Axes>"
      ]
     },
     "metadata": {},
     "output_type": "display_data"
    }
   ],
   "source": [
    "#оценим зависимость жанра от прибыли\n",
    "data_genre=data_2013_2016.pivot_table(index ='genre', values='total_sales', aggfunc=('sum', 'count'))\n",
    "data_genre.columns = ['sum','count']\n",
    "data_genre.sort_values('sum', ascending = False).plot.bar(grid=True,figsize=(8,5),y='sum')\n",
    "#Чем больше количество игр, тем выше прибыль"
   ]
  },
  {
   "cell_type": "code",
   "execution_count": 52,
   "id": "79827cec",
   "metadata": {},
   "outputs": [
    {
     "data": {
      "text/plain": [
       "<AxesSubplot:xlabel='genre'>"
      ]
     },
     "execution_count": 52,
     "metadata": {},
     "output_type": "execute_result"
    },
    {
     "data": {
      "image/png": "[encoded data removed]",
      "text/plain": [
       "<Figure size 576x360 with 1 Axes>"
      ]
     },
     "metadata": {},
     "output_type": "display_data"
    }
   ],
   "source": [
    "#А какое КПД в жанре?\n",
    "data_genre_kpd = data_genre['sum']/data_genre['count']\n",
    "data_genre_kpd.sort_values(ascending = False).plot.bar(grid=True,figsize=(8,5),y='sum')"
   ]
  },
  {
   "cell_type": "markdown",
   "id": "2f740cf3",
   "metadata": {},
   "source": [
    "Делаю вывод, что самый популярный на рынке жанр ЭКШН, однако самый результативный с точки зрения прибыли ПРИКЛЮЧЕНИЕ, СТРАТЕГИЯ и даже ПАЗЛЫ."
   ]
  },
  {
   "cell_type": "code",
   "execution_count": 53,
   "id": "b46bbd97",
   "metadata": {},
   "outputs": [
    {
     "data": {
      "text/plain": [
       "<AxesSubplot:xlabel='genre'>"
      ]
     },
     "execution_count": 53,
     "metadata": {},
     "output_type": "execute_result"
    },
    {
     "data": {
      "image/png": "[encoded data removed]",
      "text/plain": [
       "<Figure size 576x360 with 1 Axes>"
      ]
     },
     "metadata": {},
     "output_type": "display_data"
    }
   ],
   "source": [
    "#строю гистрограмму медианного значения по жанрам\n",
    "(\n",
    "data_2013_2016.pivot_table(index ='genre', values='total_sales', aggfunc='median').\n",
    "sort_values('total_sales', ascending = False).\n",
    "plot.bar(grid=True,figsize=(8,5),y='total_sales')\n",
    ")"
   ]
  },
  {
   "cell_type": "markdown",
   "id": "5b546049",
   "metadata": {},
   "source": [
    "Медианной значение выставляет свой порядок первенства жанров, в котором лидирующее место занимают шутеры, на 2 и 3 месте с небольшой разницей спор и платформа соответсвенно. Получается самые прибыльный жанр, да еще и с таким отрывом-это шутер. "
   ]
  },
  {
   "cell_type": "markdown",
   "id": "146117ff",
   "metadata": {},
   "source": [
    "# Шаг 4. Составьте портрет пользователя каждого региона"
   ]
  },
  {
   "cell_type": "markdown",
   "id": "62c872ff",
   "metadata": {},
   "source": [
    "**4.1 Определяю топ 5 платформ в разных регионах**"
   ]
  },
  {
   "cell_type": "code",
   "execution_count": 54,
   "id": "d59ba019",
   "metadata": {},
   "outputs": [
    {
     "data": {
      "text/plain": [
       "<AxesSubplot:xlabel='platform'>"
      ]
     },
     "execution_count": 54,
     "metadata": {},
     "output_type": "execute_result"
    },
    {
     "data": {
      "image/png": "[encoded data removed]",
      "text/plain": [
       "<Figure size 720x360 with 1 Axes>"
      ]
     },
     "metadata": {},
     "output_type": "display_data"
    }
   ],
   "source": [
    "#топ-5 я уже считал ранее, поэтому воспльзуюсь переменной data_top5_2013_2016\n",
    "(\n",
    "data_top5_2013_2016.\n",
    "pivot_table(index = 'platform', values=('na_sales','eu_sales','jp_sales'), aggfunc='sum').\n",
    "sort_values(by='eu_sales', ascending=False).\n",
    "plot.bar(figsize=(10,5))\n",
    ")"
   ]
  },
  {
   "cell_type": "markdown",
   "id": "5f15d7dc",
   "metadata": {},
   "source": [
    "Первое на что обращаю внимание, так на полное отсутвие продаж x360 и Xone на японском рынке, где лидером становиться продук японского рынка Нинтендо. В Европе с большим отровым занимает пальму пренвенства PS4, далее более старая модель того же производителя PS3 и замыкает 3-ку лидерсва Xone. В Северное Америке лидером выступает PS4, с небольшим отставание Xone и с таким же небольши отставание X360 занимает 3-е место. "
   ]
  },
  {
   "cell_type": "code",
   "execution_count": 55,
   "id": "df822746",
   "metadata": {},
   "outputs": [
    {
     "data": {
      "text/plain": [
       "<AxesSubplot:xlabel='genre'>"
      ]
     },
     "execution_count": 55,
     "metadata": {},
     "output_type": "execute_result"
    },
    {
     "data": {
      "image/png": "[encoded data removed]",
      "text/plain": [
       "<Figure size 720x360 with 1 Axes>"
      ]
     },
     "metadata": {},
     "output_type": "display_data"
    }
   ],
   "source": [
    "(\n",
    "data_top5_2013_2016.\n",
    "pivot_table(index = 'genre', values=('na_sales','eu_sales','jp_sales'), aggfunc='sum').\n",
    "plot.bar(figsize=(10,5))\n",
    ")\n"
   ]
  },
  {
   "cell_type": "markdown",
   "id": "d6ea2c06",
   "metadata": {},
   "source": [
    "Японцы и тут отличились. Самые популярные жарны ролевые игры и экшены. В Европе и Северноей Америке Экшн, Шутер и спорт. Разницу в показания японцев могу объяснить в первую очередь культурным контрастом. Т.к. они чаще пользуются 3DS, а это портативная консоль, то становиться понятны различия в жанровых предпочтениях."
   ]
  },
  {
   "cell_type": "markdown",
   "id": "5279cd3c",
   "metadata": {},
   "source": [
    "**4.2 Влияет ли рейтинг ESRB на продажи в отдельном регионе?**"
   ]
  },
  {
   "cell_type": "code",
   "execution_count": 56,
   "id": "1407ec2f",
   "metadata": {},
   "outputs": [
    {
     "data": {
      "text/plain": [
       "NaN     977\n",
       "M       369\n",
       "T       333\n",
       "E       302\n",
       "E10+    252\n",
       "Name: rating, dtype: int64"
      ]
     },
     "execution_count": 56,
     "metadata": {},
     "output_type": "execute_result"
    }
   ],
   "source": [
    "#cмотрим на значения которые есть в этой колонке и видим, что 977 строк не имею рейтинга, а это очень большая часть датасета\n",
    "data_2013_2016['rating'].value_counts(dropna=False)"
   ]
  },
  {
   "cell_type": "code",
   "execution_count": 57,
   "id": "ecb34df8",
   "metadata": {},
   "outputs": [
    {
     "data": {
      "text/html": [
       "<div>\n",
       "<style scoped>\n",
       "    .dataframe tbody tr th:only-of-type {\n",
       "        vertical-align: middle;\n",
       "    }\n",
       "\n",
       "    .dataframe tbody tr th {\n",
       "        vertical-align: top;\n",
       "    }\n",
       "\n",
       "    .dataframe thead th {\n",
       "        text-align: right;\n",
       "    }\n",
       "</style>\n",
       "<table border=\"1\" class=\"dataframe\">\n",
       "  <thead>\n",
       "    <tr style=\"text-align: right;\">\n",
       "      <th></th>\n",
       "      <th>name</th>\n",
       "      <th>platform</th>\n",
       "      <th>year_of_release</th>\n",
       "      <th>genre</th>\n",
       "      <th>na_sales</th>\n",
       "      <th>eu_sales</th>\n",
       "      <th>jp_sales</th>\n",
       "      <th>other_sales</th>\n",
       "      <th>critic_score</th>\n",
       "      <th>user_score</th>\n",
       "      <th>rating</th>\n",
       "      <th>total_sales</th>\n",
       "    </tr>\n",
       "  </thead>\n",
       "  <tbody>\n",
       "    <tr>\n",
       "      <th>31</th>\n",
       "      <td>call of duty: black ops 3</td>\n",
       "      <td>ps4</td>\n",
       "      <td>2015</td>\n",
       "      <td>Shooter</td>\n",
       "      <td>6.03</td>\n",
       "      <td>5.86</td>\n",
       "      <td>0.36</td>\n",
       "      <td>2.38</td>\n",
       "      <td>NaN</td>\n",
       "      <td>NaN</td>\n",
       "      <td>NaN</td>\n",
       "      <td>14.63</td>\n",
       "    </tr>\n",
       "    <tr>\n",
       "      <th>33</th>\n",
       "      <td>pokemon x/pokemon y</td>\n",
       "      <td>3ds</td>\n",
       "      <td>2013</td>\n",
       "      <td>Role-Playing</td>\n",
       "      <td>5.28</td>\n",
       "      <td>4.19</td>\n",
       "      <td>4.35</td>\n",
       "      <td>0.78</td>\n",
       "      <td>NaN</td>\n",
       "      <td>NaN</td>\n",
       "      <td>NaN</td>\n",
       "      <td>14.60</td>\n",
       "    </tr>\n",
       "    <tr>\n",
       "      <th>47</th>\n",
       "      <td>pokemon omega ruby/pokemon alpha sapphire</td>\n",
       "      <td>3ds</td>\n",
       "      <td>2014</td>\n",
       "      <td>Role-Playing</td>\n",
       "      <td>4.35</td>\n",
       "      <td>3.49</td>\n",
       "      <td>3.10</td>\n",
       "      <td>0.74</td>\n",
       "      <td>NaN</td>\n",
       "      <td>NaN</td>\n",
       "      <td>NaN</td>\n",
       "      <td>11.68</td>\n",
       "    </tr>\n",
       "    <tr>\n",
       "      <th>72</th>\n",
       "      <td>minecraft</td>\n",
       "      <td>x360</td>\n",
       "      <td>2013</td>\n",
       "      <td>Misc</td>\n",
       "      <td>5.70</td>\n",
       "      <td>2.65</td>\n",
       "      <td>0.02</td>\n",
       "      <td>0.81</td>\n",
       "      <td>NaN</td>\n",
       "      <td>NaN</td>\n",
       "      <td>NaN</td>\n",
       "      <td>9.18</td>\n",
       "    </tr>\n",
       "    <tr>\n",
       "      <th>87</th>\n",
       "      <td>star wars battlefront (2015)</td>\n",
       "      <td>ps4</td>\n",
       "      <td>2015</td>\n",
       "      <td>Shooter</td>\n",
       "      <td>2.99</td>\n",
       "      <td>3.49</td>\n",
       "      <td>0.22</td>\n",
       "      <td>1.28</td>\n",
       "      <td>NaN</td>\n",
       "      <td>NaN</td>\n",
       "      <td>NaN</td>\n",
       "      <td>7.98</td>\n",
       "    </tr>\n",
       "    <tr>\n",
       "      <th>...</th>\n",
       "      <td>...</td>\n",
       "      <td>...</td>\n",
       "      <td>...</td>\n",
       "      <td>...</td>\n",
       "      <td>...</td>\n",
       "      <td>...</td>\n",
       "      <td>...</td>\n",
       "      <td>...</td>\n",
       "      <td>...</td>\n",
       "      <td>...</td>\n",
       "      <td>...</td>\n",
       "      <td>...</td>\n",
       "    </tr>\n",
       "    <tr>\n",
       "      <th>16703</th>\n",
       "      <td>strawberry nauts</td>\n",
       "      <td>psv</td>\n",
       "      <td>2016</td>\n",
       "      <td>Adventure</td>\n",
       "      <td>0.00</td>\n",
       "      <td>0.00</td>\n",
       "      <td>0.01</td>\n",
       "      <td>0.00</td>\n",
       "      <td>NaN</td>\n",
       "      <td>NaN</td>\n",
       "      <td>NaN</td>\n",
       "      <td>0.01</td>\n",
       "    </tr>\n",
       "    <tr>\n",
       "      <th>16707</th>\n",
       "      <td>aiyoku no eustia</td>\n",
       "      <td>psv</td>\n",
       "      <td>2014</td>\n",
       "      <td>Misc</td>\n",
       "      <td>0.00</td>\n",
       "      <td>0.00</td>\n",
       "      <td>0.01</td>\n",
       "      <td>0.00</td>\n",
       "      <td>NaN</td>\n",
       "      <td>NaN</td>\n",
       "      <td>NaN</td>\n",
       "      <td>0.01</td>\n",
       "    </tr>\n",
       "    <tr>\n",
       "      <th>16710</th>\n",
       "      <td>samurai warriors: sanada maru</td>\n",
       "      <td>ps3</td>\n",
       "      <td>2016</td>\n",
       "      <td>Action</td>\n",
       "      <td>0.00</td>\n",
       "      <td>0.00</td>\n",
       "      <td>0.01</td>\n",
       "      <td>0.00</td>\n",
       "      <td>NaN</td>\n",
       "      <td>NaN</td>\n",
       "      <td>NaN</td>\n",
       "      <td>0.01</td>\n",
       "    </tr>\n",
       "    <tr>\n",
       "      <th>16712</th>\n",
       "      <td>haitaka no psychedelica</td>\n",
       "      <td>psv</td>\n",
       "      <td>2016</td>\n",
       "      <td>Adventure</td>\n",
       "      <td>0.00</td>\n",
       "      <td>0.00</td>\n",
       "      <td>0.01</td>\n",
       "      <td>0.00</td>\n",
       "      <td>NaN</td>\n",
       "      <td>NaN</td>\n",
       "      <td>NaN</td>\n",
       "      <td>0.01</td>\n",
       "    </tr>\n",
       "    <tr>\n",
       "      <th>16714</th>\n",
       "      <td>winning post 8 2016</td>\n",
       "      <td>psv</td>\n",
       "      <td>2016</td>\n",
       "      <td>Simulation</td>\n",
       "      <td>0.00</td>\n",
       "      <td>0.00</td>\n",
       "      <td>0.01</td>\n",
       "      <td>0.00</td>\n",
       "      <td>NaN</td>\n",
       "      <td>NaN</td>\n",
       "      <td>NaN</td>\n",
       "      <td>0.01</td>\n",
       "    </tr>\n",
       "  </tbody>\n",
       "</table>\n",
       "<p>977 rows × 12 columns</p>\n",
       "</div>"
      ],
      "text/plain": [
       "                                            name platform  year_of_release  \\\n",
       "31                     call of duty: black ops 3      ps4             2015   \n",
       "33                           pokemon x/pokemon y      3ds             2013   \n",
       "47     pokemon omega ruby/pokemon alpha sapphire      3ds             2014   \n",
       "72                                     minecraft     x360             2013   \n",
       "87                  star wars battlefront (2015)      ps4             2015   \n",
       "...                                          ...      ...              ...   \n",
       "16703                           strawberry nauts      psv             2016   \n",
       "16707                           aiyoku no eustia      psv             2014   \n",
       "16710              samurai warriors: sanada maru      ps3             2016   \n",
       "16712                    haitaka no psychedelica      psv             2016   \n",
       "16714                        winning post 8 2016      psv             2016   \n",
       "\n",
       "              genre  na_sales  eu_sales  jp_sales  other_sales  critic_score  \\\n",
       "31          Shooter      6.03      5.86      0.36         2.38           NaN   \n",
       "33     Role-Playing      5.28      4.19      4.35         0.78           NaN   \n",
       "47     Role-Playing      4.35      3.49      3.10         0.74           NaN   \n",
       "72             Misc      5.70      2.65      0.02         0.81           NaN   \n",
       "87          Shooter      2.99      3.49      0.22         1.28           NaN   \n",
       "...             ...       ...       ...       ...          ...           ...   \n",
       "16703     Adventure      0.00      0.00      0.01         0.00           NaN   \n",
       "16707          Misc      0.00      0.00      0.01         0.00           NaN   \n",
       "16710        Action      0.00      0.00      0.01         0.00           NaN   \n",
       "16712     Adventure      0.00      0.00      0.01         0.00           NaN   \n",
       "16714    Simulation      0.00      0.00      0.01         0.00           NaN   \n",
       "\n",
       "       user_score rating  total_sales  \n",
       "31            NaN    NaN        14.63  \n",
       "33            NaN    NaN        14.60  \n",
       "47            NaN    NaN        11.68  \n",
       "72            NaN    NaN         9.18  \n",
       "87            NaN    NaN         7.98  \n",
       "...           ...    ...          ...  \n",
       "16703         NaN    NaN         0.01  \n",
       "16707         NaN    NaN         0.01  \n",
       "16710         NaN    NaN         0.01  \n",
       "16712         NaN    NaN         0.01  \n",
       "16714         NaN    NaN         0.01  \n",
       "\n",
       "[977 rows x 12 columns]"
      ]
     },
     "execution_count": 57,
     "metadata": {},
     "output_type": "execute_result"
    }
   ],
   "source": [
    "#посмотрим на датафрем состоящий из пропуска в рейтинге\n",
    "data_2013_2016[data_2013_2016['rating'].isna()]"
   ]
  },
  {
   "cell_type": "code",
   "execution_count": 58,
   "id": "4863a3b8",
   "metadata": {},
   "outputs": [
    {
     "name": "stdout",
     "output_type": "stream",
     "text": [
      "<class 'pandas.core.frame.DataFrame'>\n",
      "Int64Index: 977 entries, 31 to 16714\n",
      "Data columns (total 12 columns):\n",
      " #   Column           Non-Null Count  Dtype  \n",
      "---  ------           --------------  -----  \n",
      " 0   name             977 non-null    object \n",
      " 1   platform         977 non-null    object \n",
      " 2   year_of_release  977 non-null    Int64  \n",
      " 3   genre            977 non-null    object \n",
      " 4   na_sales         977 non-null    float64\n",
      " 5   eu_sales         977 non-null    float64\n",
      " 6   jp_sales         977 non-null    float64\n",
      " 7   other_sales      977 non-null    float64\n",
      " 8   critic_score     37 non-null     float64\n",
      " 9   user_score       42 non-null     float64\n",
      " 10  rating           0 non-null      object \n",
      " 11  total_sales      977 non-null    float64\n",
      "dtypes: Int64(1), float64(7), object(4)\n",
      "memory usage: 100.2+ KB\n"
     ]
    }
   ],
   "source": [
    "#обращаю внимание что пропуски так же и в 2-ух соседних колонках, возможно есть взаимосвязь\n",
    "data_2013_2016[data_2013_2016['rating'].isna()].info()"
   ]
  },
  {
   "cell_type": "code",
   "execution_count": 59,
   "id": "fa477009",
   "metadata": {},
   "outputs": [
    {
     "name": "stderr",
     "output_type": "stream",
     "text": [
      "/opt/conda/lib/python3.9/site-packages/pandas/core/generic.py:5494: SettingWithCopyWarning: \n",
      "A value is trying to be set on a copy of a slice from a DataFrame.\n",
      "Try using .loc[row_indexer,col_indexer] = value instead\n",
      "\n",
      "See the caveats in the documentation: https://pandas.pydata.org/pandas-docs/stable/user_guide/indexing.html#returning-a-view-versus-a-copy\n",
      "  self[name] = value\n"
     ]
    }
   ],
   "source": [
    "#делаем заглушку, что бы проанализировать пропуски\n",
    "data_2013_2016.rating = data_2013_2016.rating.fillna('pass')\n"
   ]
  },
  {
   "cell_type": "code",
   "execution_count": 60,
   "id": "7f5fba56",
   "metadata": {},
   "outputs": [
    {
     "data": {
      "text/html": [
       "<div>\n",
       "<style scoped>\n",
       "    .dataframe tbody tr th:only-of-type {\n",
       "        vertical-align: middle;\n",
       "    }\n",
       "\n",
       "    .dataframe tbody tr th {\n",
       "        vertical-align: top;\n",
       "    }\n",
       "\n",
       "    .dataframe thead th {\n",
       "        text-align: right;\n",
       "    }\n",
       "</style>\n",
       "<table border=\"1\" class=\"dataframe\">\n",
       "  <thead>\n",
       "    <tr style=\"text-align: right;\">\n",
       "      <th></th>\n",
       "      <th>name</th>\n",
       "      <th>platform</th>\n",
       "      <th>year_of_release</th>\n",
       "      <th>genre</th>\n",
       "      <th>na_sales</th>\n",
       "      <th>eu_sales</th>\n",
       "      <th>jp_sales</th>\n",
       "      <th>other_sales</th>\n",
       "      <th>critic_score</th>\n",
       "      <th>user_score</th>\n",
       "      <th>rating</th>\n",
       "      <th>total_sales</th>\n",
       "    </tr>\n",
       "  </thead>\n",
       "  <tbody>\n",
       "    <tr>\n",
       "      <th>16</th>\n",
       "      <td>grand theft auto v</td>\n",
       "      <td>ps3</td>\n",
       "      <td>2013</td>\n",
       "      <td>Action</td>\n",
       "      <td>7.02</td>\n",
       "      <td>9.09</td>\n",
       "      <td>0.98</td>\n",
       "      <td>3.96</td>\n",
       "      <td>97.00</td>\n",
       "      <td>8.20</td>\n",
       "      <td>M</td>\n",
       "      <td>21.05</td>\n",
       "    </tr>\n",
       "    <tr>\n",
       "      <th>23</th>\n",
       "      <td>grand theft auto v</td>\n",
       "      <td>x360</td>\n",
       "      <td>2013</td>\n",
       "      <td>Action</td>\n",
       "      <td>9.66</td>\n",
       "      <td>5.14</td>\n",
       "      <td>0.06</td>\n",
       "      <td>1.41</td>\n",
       "      <td>97.00</td>\n",
       "      <td>8.10</td>\n",
       "      <td>M</td>\n",
       "      <td>16.27</td>\n",
       "    </tr>\n",
       "    <tr>\n",
       "      <th>31</th>\n",
       "      <td>call of duty: black ops 3</td>\n",
       "      <td>ps4</td>\n",
       "      <td>2015</td>\n",
       "      <td>Shooter</td>\n",
       "      <td>6.03</td>\n",
       "      <td>5.86</td>\n",
       "      <td>0.36</td>\n",
       "      <td>2.38</td>\n",
       "      <td>NaN</td>\n",
       "      <td>NaN</td>\n",
       "      <td>pass</td>\n",
       "      <td>14.63</td>\n",
       "    </tr>\n",
       "    <tr>\n",
       "      <th>33</th>\n",
       "      <td>pokemon x/pokemon y</td>\n",
       "      <td>3ds</td>\n",
       "      <td>2013</td>\n",
       "      <td>Role-Playing</td>\n",
       "      <td>5.28</td>\n",
       "      <td>4.19</td>\n",
       "      <td>4.35</td>\n",
       "      <td>0.78</td>\n",
       "      <td>NaN</td>\n",
       "      <td>NaN</td>\n",
       "      <td>pass</td>\n",
       "      <td>14.60</td>\n",
       "    </tr>\n",
       "    <tr>\n",
       "      <th>42</th>\n",
       "      <td>grand theft auto v</td>\n",
       "      <td>ps4</td>\n",
       "      <td>2014</td>\n",
       "      <td>Action</td>\n",
       "      <td>3.96</td>\n",
       "      <td>6.31</td>\n",
       "      <td>0.38</td>\n",
       "      <td>1.97</td>\n",
       "      <td>97.00</td>\n",
       "      <td>8.30</td>\n",
       "      <td>M</td>\n",
       "      <td>12.62</td>\n",
       "    </tr>\n",
       "    <tr>\n",
       "      <th>...</th>\n",
       "      <td>...</td>\n",
       "      <td>...</td>\n",
       "      <td>...</td>\n",
       "      <td>...</td>\n",
       "      <td>...</td>\n",
       "      <td>...</td>\n",
       "      <td>...</td>\n",
       "      <td>...</td>\n",
       "      <td>...</td>\n",
       "      <td>...</td>\n",
       "      <td>...</td>\n",
       "      <td>...</td>\n",
       "    </tr>\n",
       "    <tr>\n",
       "      <th>16703</th>\n",
       "      <td>strawberry nauts</td>\n",
       "      <td>psv</td>\n",
       "      <td>2016</td>\n",
       "      <td>Adventure</td>\n",
       "      <td>0.00</td>\n",
       "      <td>0.00</td>\n",
       "      <td>0.01</td>\n",
       "      <td>0.00</td>\n",
       "      <td>NaN</td>\n",
       "      <td>NaN</td>\n",
       "      <td>pass</td>\n",
       "      <td>0.01</td>\n",
       "    </tr>\n",
       "    <tr>\n",
       "      <th>16707</th>\n",
       "      <td>aiyoku no eustia</td>\n",
       "      <td>psv</td>\n",
       "      <td>2014</td>\n",
       "      <td>Misc</td>\n",
       "      <td>0.00</td>\n",
       "      <td>0.00</td>\n",
       "      <td>0.01</td>\n",
       "      <td>0.00</td>\n",
       "      <td>NaN</td>\n",
       "      <td>NaN</td>\n",
       "      <td>pass</td>\n",
       "      <td>0.01</td>\n",
       "    </tr>\n",
       "    <tr>\n",
       "      <th>16710</th>\n",
       "      <td>samurai warriors: sanada maru</td>\n",
       "      <td>ps3</td>\n",
       "      <td>2016</td>\n",
       "      <td>Action</td>\n",
       "      <td>0.00</td>\n",
       "      <td>0.00</td>\n",
       "      <td>0.01</td>\n",
       "      <td>0.00</td>\n",
       "      <td>NaN</td>\n",
       "      <td>NaN</td>\n",
       "      <td>pass</td>\n",
       "      <td>0.01</td>\n",
       "    </tr>\n",
       "    <tr>\n",
       "      <th>16712</th>\n",
       "      <td>haitaka no psychedelica</td>\n",
       "      <td>psv</td>\n",
       "      <td>2016</td>\n",
       "      <td>Adventure</td>\n",
       "      <td>0.00</td>\n",
       "      <td>0.00</td>\n",
       "      <td>0.01</td>\n",
       "      <td>0.00</td>\n",
       "      <td>NaN</td>\n",
       "      <td>NaN</td>\n",
       "      <td>pass</td>\n",
       "      <td>0.01</td>\n",
       "    </tr>\n",
       "    <tr>\n",
       "      <th>16714</th>\n",
       "      <td>winning post 8 2016</td>\n",
       "      <td>psv</td>\n",
       "      <td>2016</td>\n",
       "      <td>Simulation</td>\n",
       "      <td>0.00</td>\n",
       "      <td>0.00</td>\n",
       "      <td>0.01</td>\n",
       "      <td>0.00</td>\n",
       "      <td>NaN</td>\n",
       "      <td>NaN</td>\n",
       "      <td>pass</td>\n",
       "      <td>0.01</td>\n",
       "    </tr>\n",
       "  </tbody>\n",
       "</table>\n",
       "<p>2233 rows × 12 columns</p>\n",
       "</div>"
      ],
      "text/plain": [
       "                                name platform  year_of_release         genre  \\\n",
       "16                grand theft auto v      ps3             2013        Action   \n",
       "23                grand theft auto v     x360             2013        Action   \n",
       "31         call of duty: black ops 3      ps4             2015       Shooter   \n",
       "33               pokemon x/pokemon y      3ds             2013  Role-Playing   \n",
       "42                grand theft auto v      ps4             2014        Action   \n",
       "...                              ...      ...              ...           ...   \n",
       "16703               strawberry nauts      psv             2016     Adventure   \n",
       "16707               aiyoku no eustia      psv             2014          Misc   \n",
       "16710  samurai warriors: sanada maru      ps3             2016        Action   \n",
       "16712        haitaka no psychedelica      psv             2016     Adventure   \n",
       "16714            winning post 8 2016      psv             2016    Simulation   \n",
       "\n",
       "       na_sales  eu_sales  jp_sales  other_sales  critic_score  user_score  \\\n",
       "16         7.02      9.09      0.98         3.96         97.00        8.20   \n",
       "23         9.66      5.14      0.06         1.41         97.00        8.10   \n",
       "31         6.03      5.86      0.36         2.38           NaN         NaN   \n",
       "33         5.28      4.19      4.35         0.78           NaN         NaN   \n",
       "42         3.96      6.31      0.38         1.97         97.00        8.30   \n",
       "...         ...       ...       ...          ...           ...         ...   \n",
       "16703      0.00      0.00      0.01         0.00           NaN         NaN   \n",
       "16707      0.00      0.00      0.01         0.00           NaN         NaN   \n",
       "16710      0.00      0.00      0.01         0.00           NaN         NaN   \n",
       "16712      0.00      0.00      0.01         0.00           NaN         NaN   \n",
       "16714      0.00      0.00      0.01         0.00           NaN         NaN   \n",
       "\n",
       "      rating  total_sales  \n",
       "16         M        21.05  \n",
       "23         M        16.27  \n",
       "31      pass        14.63  \n",
       "33      pass        14.60  \n",
       "42         M        12.62  \n",
       "...      ...          ...  \n",
       "16703   pass         0.01  \n",
       "16707   pass         0.01  \n",
       "16710   pass         0.01  \n",
       "16712   pass         0.01  \n",
       "16714   pass         0.01  \n",
       "\n",
       "[2233 rows x 12 columns]"
      ]
     },
     "execution_count": 60,
     "metadata": {},
     "output_type": "execute_result"
    }
   ],
   "source": [
    "data_2013_2016"
   ]
  },
  {
   "cell_type": "code",
   "execution_count": 61,
   "id": "b76af3f0",
   "metadata": {},
   "outputs": [
    {
     "data": {
      "text/plain": [
       "<AxesSubplot:xlabel='rating'>"
      ]
     },
     "execution_count": 61,
     "metadata": {},
     "output_type": "execute_result"
    },
    {
     "data": {
      "image/png": "[encoded data removed]",
      "text/plain": [
       "<Figure size 864x360 with 1 Axes>"
      ]
     },
     "metadata": {},
     "output_type": "display_data"
    }
   ],
   "source": [
    "(\n",
    "data_2013_2016.\n",
    "pivot_table(index = 'rating', values=('na_sales','eu_sales','jp_sales'), aggfunc='sum').\n",
    "sort_values(by='eu_sales', ascending=False).\n",
    "plot.bar(figsize=(12,5))\n",
    ")"
   ]
  },
  {
   "cell_type": "markdown",
   "id": "0a28a657",
   "metadata": {},
   "source": [
    "## Шаг 5. Проверьте гипотезы"
   ]
  },
  {
   "cell_type": "markdown",
   "id": "015ae12c",
   "metadata": {},
   "source": [
    "**5.1 Средние пользовательские рейтинги платформ Xbox One и PC одинаковые**"
   ]
  },
  {
   "cell_type": "code",
   "execution_count": 62,
   "id": "2ed9b74a",
   "metadata": {},
   "outputs": [],
   "source": [
    "#настало время удалить пропуски в рейтингах, т.к. иначе расчет гипотезы будет не возможен\n",
    "data_clean = data_2013_2016.dropna(subset = ['critic_score'])\n",
    "data_clean = data_2013_2016.dropna(subset = ['user_score'])\n",
    "\n",
    "#создаю переменные для сокращения записей\n",
    "platform_x_one = data_2013_2016.query('platform == \"XOne\"')['user_score']\n",
    "platform_pc = data_2013_2016.query('platform == \"PC\"')['user_score']"
   ]
  },
  {
   "cell_type": "markdown",
   "id": "a5bd009c",
   "metadata": {},
   "source": [
    "H0: Средние пользовательские рейтинги платформ Xbox One и PC одинаковые.\n",
    "\n",
    "\n",
    "H1: Средние пользовательские рейтинги платформ Xbox One и PC различаются."
   ]
  },
  {
   "cell_type": "code",
   "execution_count": 63,
   "id": "b4a5ebe7",
   "metadata": {},
   "outputs": [
    {
     "name": "stdout",
     "output_type": "stream",
     "text": [
      "p-значение: nan\n",
      "Не получилось отвергнуть нулевую гипотезу\n"
     ]
    }
   ],
   "source": [
    "alpha = 0.05\n",
    "\n",
    "results = st.ttest_ind(\n",
    "    platform_x_one,\n",
    "    platform_pc,\n",
    "    equal_var=False \n",
    ")\n",
    "\n",
    "print('p-значение:',results.pvalue )\n",
    "\n",
    "if results.pvalue < alpha :\n",
    "    print(\"Отвергаем нулевую гипотезу\")\n",
    "else:\n",
    "    print(\"Не получилось отвергнуть нулевую гипотезу\")\n",
    "    "
   ]
  },
  {
   "cell_type": "markdown",
   "id": "5d6798c0",
   "metadata": {},
   "source": [
    "**Вывод:** не принимаем нулевую гипотезу, p-значение меньше значения alpha, средние пользовательские рейтинги платформ Xbox One и PC различаются."
   ]
  },
  {
   "cell_type": "code",
   "execution_count": 64,
   "id": "d79d2631",
   "metadata": {},
   "outputs": [
    {
     "name": "stdout",
     "output_type": "stream",
     "text": [
      "nan\n",
      "nan\n"
     ]
    }
   ],
   "source": [
    "#это же можно подтвердить следующими данными\n",
    "print(platform_x_one.mean())\n",
    "print(platform_pc.mean())"
   ]
  },
  {
   "cell_type": "markdown",
   "id": "e2a57e72",
   "metadata": {},
   "source": [
    "Различия есть, но небольшие. Возможно, в каком-то из срезов они будут одинаковыми."
   ]
  },
  {
   "cell_type": "markdown",
   "id": "e9c9a1fe",
   "metadata": {},
   "source": [
    "**5.2 Средние пользовательские рейтинги жанров Action и Sports разные**"
   ]
  },
  {
   "cell_type": "markdown",
   "id": "bf8b0583",
   "metadata": {},
   "source": [
    "H0: Средние пользовательские рейтинги жанров Action и Sports одинаковые.\n",
    "\n",
    "H1: Средние пользовательские рейтинги жанров Action и Sports различаются."
   ]
  },
  {
   "cell_type": "code",
   "execution_count": 65,
   "id": "a2f2e4a6",
   "metadata": {},
   "outputs": [
    {
     "name": "stdout",
     "output_type": "stream",
     "text": [
      "p-значение: 1.0517832389140023e-27\n",
      "Отвергаем нулевую гипотезу\n"
     ]
    }
   ],
   "source": [
    "\n",
    "results = st.ttest_ind(\n",
    "    data_clean.query('genre == \"Action\"')['user_score'],\n",
    "    data_clean.query('genre == \"Sports\"')['user_score']\n",
    ")\n",
    "\n",
    "alpha = 0.05 \n",
    "\n",
    "print('p-значение:', results.pvalue)\n",
    "\n",
    "if results.pvalue < alpha:\n",
    "    print(\"Отвергаем нулевую гипотезу\")\n",
    "else:\n",
    "    print(\"Не получилось отвергнуть нулевую гипотезу\")"
   ]
  },
  {
   "cell_type": "code",
   "execution_count": 66,
   "id": "47d3df72",
   "metadata": {},
   "outputs": [
    {
     "name": "stdout",
     "output_type": "stream",
     "text": [
      "6.837532133676092\n",
      "5.238124999999999\n"
     ]
    }
   ],
   "source": [
    "#проверим в ручном режиме\n",
    "print(data_clean.query('genre == \"Action\"')['user_score'].mean())\n",
    "print(data_clean.query('genre == \"Sports\"')['user_score'].mean())"
   ]
  },
  {
   "cell_type": "markdown",
   "id": "7f48c2be",
   "metadata": {},
   "source": [
    "**Вывод:** Можно увтерждать что, средние пользовательские рейтинги жанров Action и Sports одинаковые"
   ]
  },
  {
   "cell_type": "markdown",
   "id": "4f6d2ede",
   "metadata": {},
   "source": [
    "# Шаг 6. Общий вывод"
   ]
  },
  {
   "cell_type": "markdown",
   "id": "bc15a188",
   "metadata": {},
   "source": [
    "Данные об играх имеются с 1980 года, но данных до 1994 очень мало, что объясняется развитием технологий. \n",
    "Даже в 90-ых, когда выпуск игра не был так серийным как после 2000, все равно это был рынок с колосальными оборотами.\n",
    "Несмотря на рост количества игр на всех платформах, популярность игровых платформ идет на спад. \n",
    "\n",
    "Средняя жизни платформы в районе 10 лет, что объясняется технологическим прогрессом. \n",
    "\n",
    "С 2013 по 2016 году в лидерах остаются PS4, Xone для Европы и Северной Америке и 3DS в Японии. За тот же период в процессе анализа данных был выявлен самый успешный с точки зрения прибыли жанр Шутеры, однако если в 2017 году идти покорять японский рынок, надо учесть, что из-за популярности 3DS в данном регионе, там самый успешным считается жанр Ролевые игры. Так же не забывать про различия в рейтинговых агенствах в разных регионах, т.к. \n",
    "анализ показал, что оценки критиков демонстрируют прямую, средне-слабую корреляцию с \"цифрами\" продаж. Все эти нюансы надо учитывать. \n",
    "\n",
    "\n",
    "Из полученных данных, по моему мнению рецептом успеха будет являться выпуск игры в жанре шутер, с рейтингом М-для взрослых, на платформе PS4 или Xone. Это касается рынков Европы и Северной Америке. В Японии нужно изучить отдельно их местное рейтинговое агенствах. Пока понятно, что туда лучше заходить с платформой 3DS и жанром ролевый игры\n",
    "\n",
    "\n",
    "\n"
   ]
  }
 ],
 "metadata": {
  "ExecuteTimeLog": [
   {
    "duration": 1276,
    "start_time": "2022-12-18T17:05:53.215Z"
   },
   {
    "duration": 0,
    "start_time": "2022-12-18T17:05:54.494Z"
   },
   {
    "duration": 0,
    "start_time": "2022-12-18T17:05:54.495Z"
   },
   {
    "duration": 0,
    "start_time": "2022-12-18T17:05:54.497Z"
   },
   {
    "duration": 0,
    "start_time": "2022-12-18T17:05:54.498Z"
   },
   {
    "duration": 0,
    "start_time": "2022-12-18T17:05:54.499Z"
   },
   {
    "duration": 0,
    "start_time": "2022-12-18T17:05:54.500Z"
   },
   {
    "duration": 0,
    "start_time": "2022-12-18T17:05:54.501Z"
   },
   {
    "duration": 0,
    "start_time": "2022-12-18T17:05:54.502Z"
   },
   {
    "duration": 0,
    "start_time": "2022-12-18T17:05:54.503Z"
   },
   {
    "duration": 0,
    "start_time": "2022-12-18T17:05:54.504Z"
   },
   {
    "duration": 0,
    "start_time": "2022-12-18T17:05:54.505Z"
   },
   {
    "duration": 0,
    "start_time": "2022-12-18T17:05:54.506Z"
   },
   {
    "duration": 0,
    "start_time": "2022-12-18T17:05:54.527Z"
   },
   {
    "duration": 0,
    "start_time": "2022-12-18T17:05:54.529Z"
   },
   {
    "duration": 0,
    "start_time": "2022-12-18T17:05:54.531Z"
   },
   {
    "duration": 0,
    "start_time": "2022-12-18T17:05:54.532Z"
   },
   {
    "duration": 0,
    "start_time": "2022-12-18T17:05:54.533Z"
   },
   {
    "duration": 0,
    "start_time": "2022-12-18T17:05:54.534Z"
   },
   {
    "duration": 0,
    "start_time": "2022-12-18T17:05:54.535Z"
   },
   {
    "duration": 0,
    "start_time": "2022-12-18T17:05:54.537Z"
   },
   {
    "duration": 0,
    "start_time": "2022-12-18T17:05:54.538Z"
   },
   {
    "duration": 0,
    "start_time": "2022-12-18T17:05:54.539Z"
   },
   {
    "duration": 0,
    "start_time": "2022-12-18T17:05:54.540Z"
   },
   {
    "duration": 0,
    "start_time": "2022-12-18T17:05:54.541Z"
   },
   {
    "duration": 0,
    "start_time": "2022-12-18T17:05:54.542Z"
   },
   {
    "duration": 0,
    "start_time": "2022-12-18T17:05:54.543Z"
   },
   {
    "duration": 0,
    "start_time": "2022-12-18T17:05:54.545Z"
   },
   {
    "duration": 0,
    "start_time": "2022-12-18T17:05:54.546Z"
   },
   {
    "duration": 0,
    "start_time": "2022-12-18T17:05:54.547Z"
   },
   {
    "duration": 0,
    "start_time": "2022-12-18T17:05:54.548Z"
   },
   {
    "duration": 0,
    "start_time": "2022-12-18T17:05:54.549Z"
   },
   {
    "duration": 1,
    "start_time": "2022-12-18T17:05:54.550Z"
   },
   {
    "duration": 0,
    "start_time": "2022-12-18T17:05:54.552Z"
   },
   {
    "duration": 0,
    "start_time": "2022-12-18T17:05:54.553Z"
   },
   {
    "duration": 0,
    "start_time": "2022-12-18T17:05:54.554Z"
   },
   {
    "duration": 0,
    "start_time": "2022-12-18T17:05:54.555Z"
   },
   {
    "duration": 0,
    "start_time": "2022-12-18T17:05:54.557Z"
   },
   {
    "duration": 0,
    "start_time": "2022-12-18T17:05:54.559Z"
   },
   {
    "duration": 0,
    "start_time": "2022-12-18T17:05:54.560Z"
   },
   {
    "duration": 0,
    "start_time": "2022-12-18T17:05:54.562Z"
   },
   {
    "duration": 0,
    "start_time": "2022-12-18T17:05:54.563Z"
   },
   {
    "duration": 0,
    "start_time": "2022-12-18T17:05:54.565Z"
   },
   {
    "duration": 0,
    "start_time": "2022-12-18T17:05:54.567Z"
   },
   {
    "duration": 0,
    "start_time": "2022-12-18T17:05:54.568Z"
   },
   {
    "duration": 0,
    "start_time": "2022-12-18T17:05:54.570Z"
   },
   {
    "duration": 1208,
    "start_time": "2022-12-18T17:06:40.448Z"
   },
   {
    "duration": 16,
    "start_time": "2022-12-18T17:06:41.658Z"
   },
   {
    "duration": 4,
    "start_time": "2022-12-18T17:06:41.675Z"
   },
   {
    "duration": 18,
    "start_time": "2022-12-18T17:06:41.680Z"
   },
   {
    "duration": 3,
    "start_time": "2022-12-18T17:06:41.699Z"
   },
   {
    "duration": 22,
    "start_time": "2022-12-18T17:06:41.704Z"
   },
   {
    "duration": 14,
    "start_time": "2022-12-18T17:06:41.732Z"
   },
   {
    "duration": 15,
    "start_time": "2022-12-18T17:06:41.747Z"
   },
   {
    "duration": 5,
    "start_time": "2022-12-18T17:06:41.764Z"
   },
   {
    "duration": 23,
    "start_time": "2022-12-18T17:06:41.771Z"
   },
   {
    "duration": 10,
    "start_time": "2022-12-18T17:06:41.795Z"
   },
   {
    "duration": 26,
    "start_time": "2022-12-18T17:06:41.806Z"
   },
   {
    "duration": 15,
    "start_time": "2022-12-18T17:06:41.835Z"
   },
   {
    "duration": 29,
    "start_time": "2022-12-18T17:06:41.852Z"
   },
   {
    "duration": 256,
    "start_time": "2022-12-18T17:06:41.882Z"
   },
   {
    "duration": 153,
    "start_time": "2022-12-18T17:06:42.140Z"
   },
   {
    "duration": 4,
    "start_time": "2022-12-18T17:06:42.295Z"
   },
   {
    "duration": 230,
    "start_time": "2022-12-18T17:06:42.301Z"
   },
   {
    "duration": 356,
    "start_time": "2022-12-18T17:06:42.532Z"
   },
   {
    "duration": 22,
    "start_time": "2022-12-18T17:06:42.890Z"
   },
   {
    "duration": 458,
    "start_time": "2022-12-18T17:06:42.913Z"
   },
   {
    "duration": 299,
    "start_time": "2022-12-18T17:06:43.373Z"
   },
   {
    "duration": 18,
    "start_time": "2022-12-18T17:06:43.674Z"
   },
   {
    "duration": 365,
    "start_time": "2022-12-18T17:06:43.693Z"
   },
   {
    "duration": 14,
    "start_time": "2022-12-18T17:06:44.060Z"
   },
   {
    "duration": 32,
    "start_time": "2022-12-18T17:06:44.075Z"
   },
   {
    "duration": 325,
    "start_time": "2022-12-18T17:06:44.109Z"
   },
   {
    "duration": 225,
    "start_time": "2022-12-18T17:06:44.438Z"
   },
   {
    "duration": 148,
    "start_time": "2022-12-18T17:06:44.664Z"
   },
   {
    "duration": 147,
    "start_time": "2022-12-18T17:06:44.813Z"
   },
   {
    "duration": 142,
    "start_time": "2022-12-18T17:06:44.961Z"
   },
   {
    "duration": 289,
    "start_time": "2022-12-18T17:06:45.105Z"
   },
   {
    "duration": 12,
    "start_time": "2022-12-18T17:06:45.396Z"
   },
   {
    "duration": 457,
    "start_time": "2022-12-18T17:06:45.410Z"
   },
   {
    "duration": 373,
    "start_time": "2022-12-18T17:06:45.868Z"
   },
   {
    "duration": 6,
    "start_time": "2022-12-18T17:06:46.243Z"
   },
   {
    "duration": 262,
    "start_time": "2022-12-18T17:06:46.251Z"
   },
   {
    "duration": 203,
    "start_time": "2022-12-18T17:06:46.515Z"
   },
   {
    "duration": 194,
    "start_time": "2022-12-18T17:06:46.720Z"
   },
   {
    "duration": 380,
    "start_time": "2022-12-18T17:06:46.916Z"
   },
   {
    "duration": 205,
    "start_time": "2022-12-18T17:06:47.298Z"
   },
   {
    "duration": 12,
    "start_time": "2022-12-18T17:06:47.504Z"
   },
   {
    "duration": 101,
    "start_time": "2022-12-18T17:06:47.532Z"
   },
   {
    "duration": 0,
    "start_time": "2022-12-18T17:06:47.635Z"
   },
   {
    "duration": 0,
    "start_time": "2022-12-18T17:06:47.637Z"
   },
   {
    "duration": 0,
    "start_time": "2022-12-18T17:06:47.638Z"
   },
   {
    "duration": 1207,
    "start_time": "2022-12-18T17:07:40.746Z"
   },
   {
    "duration": 17,
    "start_time": "2022-12-18T17:07:41.955Z"
   },
   {
    "duration": 4,
    "start_time": "2022-12-18T17:07:41.973Z"
   },
   {
    "duration": 22,
    "start_time": "2022-12-18T17:07:41.979Z"
   },
   {
    "duration": 2,
    "start_time": "2022-12-18T17:07:42.003Z"
   },
   {
    "duration": 7,
    "start_time": "2022-12-18T17:07:42.007Z"
   },
   {
    "duration": 23,
    "start_time": "2022-12-18T17:07:42.015Z"
   },
   {
    "duration": 11,
    "start_time": "2022-12-18T17:07:42.040Z"
   },
   {
    "duration": 6,
    "start_time": "2022-12-18T17:07:42.053Z"
   },
   {
    "duration": 13,
    "start_time": "2022-12-18T17:07:42.061Z"
   },
   {
    "duration": 11,
    "start_time": "2022-12-18T17:07:42.075Z"
   },
   {
    "duration": 18,
    "start_time": "2022-12-18T17:07:42.088Z"
   },
   {
    "duration": 19,
    "start_time": "2022-12-18T17:07:42.127Z"
   },
   {
    "duration": 24,
    "start_time": "2022-12-18T17:07:42.148Z"
   },
   {
    "duration": 272,
    "start_time": "2022-12-18T17:07:42.173Z"
   },
   {
    "duration": 147,
    "start_time": "2022-12-18T17:07:42.447Z"
   },
   {
    "duration": 4,
    "start_time": "2022-12-18T17:07:42.596Z"
   },
   {
    "duration": 238,
    "start_time": "2022-12-18T17:07:42.601Z"
   },
   {
    "duration": 349,
    "start_time": "2022-12-18T17:07:42.841Z"
   },
   {
    "duration": 25,
    "start_time": "2022-12-18T17:07:43.192Z"
   },
   {
    "duration": 488,
    "start_time": "2022-12-18T17:07:43.219Z"
   },
   {
    "duration": 328,
    "start_time": "2022-12-18T17:07:43.708Z"
   },
   {
    "duration": 19,
    "start_time": "2022-12-18T17:07:44.038Z"
   },
   {
    "duration": 346,
    "start_time": "2022-12-18T17:07:44.059Z"
   },
   {
    "duration": 13,
    "start_time": "2022-12-18T17:07:44.407Z"
   },
   {
    "duration": 24,
    "start_time": "2022-12-18T17:07:44.432Z"
   },
   {
    "duration": 327,
    "start_time": "2022-12-18T17:07:44.458Z"
   },
   {
    "duration": 218,
    "start_time": "2022-12-18T17:07:44.788Z"
   },
   {
    "duration": 158,
    "start_time": "2022-12-18T17:07:45.007Z"
   },
   {
    "duration": 143,
    "start_time": "2022-12-18T17:07:45.166Z"
   },
   {
    "duration": 182,
    "start_time": "2022-12-18T17:07:45.311Z"
   },
   {
    "duration": 292,
    "start_time": "2022-12-18T17:07:45.495Z"
   },
   {
    "duration": 10,
    "start_time": "2022-12-18T17:07:45.789Z"
   },
   {
    "duration": 418,
    "start_time": "2022-12-18T17:07:45.800Z"
   },
   {
    "duration": 352,
    "start_time": "2022-12-18T17:07:46.220Z"
   },
   {
    "duration": 6,
    "start_time": "2022-12-18T17:07:46.574Z"
   },
   {
    "duration": 235,
    "start_time": "2022-12-18T17:07:46.582Z"
   },
   {
    "duration": 196,
    "start_time": "2022-12-18T17:07:46.818Z"
   },
   {
    "duration": 192,
    "start_time": "2022-12-18T17:07:47.016Z"
   },
   {
    "duration": 356,
    "start_time": "2022-12-18T17:07:47.210Z"
   },
   {
    "duration": 199,
    "start_time": "2022-12-18T17:07:47.569Z"
   },
   {
    "duration": 13,
    "start_time": "2022-12-18T17:07:47.770Z"
   },
   {
    "duration": 6,
    "start_time": "2022-12-18T17:07:47.784Z"
   },
   {
    "duration": 10,
    "start_time": "2022-12-18T17:07:47.791Z"
   },
   {
    "duration": 32,
    "start_time": "2022-12-18T17:07:47.802Z"
   },
   {
    "duration": 9,
    "start_time": "2022-12-18T17:07:47.838Z"
   },
   {
    "duration": 1211,
    "start_time": "2022-12-19T05:26:08.059Z"
   },
   {
    "duration": 20,
    "start_time": "2022-12-19T05:26:09.272Z"
   },
   {
    "duration": 6,
    "start_time": "2022-12-19T05:26:09.294Z"
   },
   {
    "duration": 31,
    "start_time": "2022-12-19T05:26:09.302Z"
   },
   {
    "duration": 27,
    "start_time": "2022-12-19T05:26:09.335Z"
   },
   {
    "duration": 5,
    "start_time": "2022-12-19T05:26:09.364Z"
   },
   {
    "duration": 23,
    "start_time": "2022-12-19T05:26:09.371Z"
   },
   {
    "duration": 27,
    "start_time": "2022-12-19T05:26:09.396Z"
   },
   {
    "duration": 10,
    "start_time": "2022-12-19T05:26:09.425Z"
   },
   {
    "duration": 12,
    "start_time": "2022-12-19T05:26:09.439Z"
   },
   {
    "duration": 10,
    "start_time": "2022-12-19T05:26:09.452Z"
   },
   {
    "duration": 19,
    "start_time": "2022-12-19T05:26:09.464Z"
   },
   {
    "duration": 46,
    "start_time": "2022-12-19T05:26:09.485Z"
   },
   {
    "duration": 25,
    "start_time": "2022-12-19T05:26:09.532Z"
   },
   {
    "duration": 309,
    "start_time": "2022-12-19T05:26:09.559Z"
   },
   {
    "duration": 178,
    "start_time": "2022-12-19T05:26:09.870Z"
   },
   {
    "duration": 6,
    "start_time": "2022-12-19T05:26:10.049Z"
   },
   {
    "duration": 284,
    "start_time": "2022-12-19T05:26:10.056Z"
   },
   {
    "duration": 428,
    "start_time": "2022-12-19T05:26:10.341Z"
   },
   {
    "duration": 24,
    "start_time": "2022-12-19T05:26:10.771Z"
   },
   {
    "duration": 560,
    "start_time": "2022-12-19T05:26:10.796Z"
   },
   {
    "duration": 417,
    "start_time": "2022-12-19T05:26:11.358Z"
   },
   {
    "duration": 23,
    "start_time": "2022-12-19T05:26:11.776Z"
   },
   {
    "duration": 404,
    "start_time": "2022-12-19T05:26:11.800Z"
   },
   {
    "duration": 32,
    "start_time": "2022-12-19T05:26:12.206Z"
   },
   {
    "duration": 22,
    "start_time": "2022-12-19T05:26:12.240Z"
   },
   {
    "duration": 363,
    "start_time": "2022-12-19T05:26:12.264Z"
   },
   {
    "duration": 244,
    "start_time": "2022-12-19T05:26:12.632Z"
   },
   {
    "duration": 177,
    "start_time": "2022-12-19T05:26:12.878Z"
   },
   {
    "duration": 152,
    "start_time": "2022-12-19T05:26:13.056Z"
   },
   {
    "duration": 181,
    "start_time": "2022-12-19T05:26:13.209Z"
   },
   {
    "duration": 309,
    "start_time": "2022-12-19T05:26:13.392Z"
   },
   {
    "duration": 21,
    "start_time": "2022-12-19T05:26:13.702Z"
   },
   {
    "duration": 464,
    "start_time": "2022-12-19T05:26:13.725Z"
   },
   {
    "duration": 431,
    "start_time": "2022-12-19T05:26:14.192Z"
   },
   {
    "duration": 6,
    "start_time": "2022-12-19T05:26:14.625Z"
   },
   {
    "duration": 294,
    "start_time": "2022-12-19T05:26:14.633Z"
   },
   {
    "duration": 232,
    "start_time": "2022-12-19T05:26:14.932Z"
   },
   {
    "duration": 238,
    "start_time": "2022-12-19T05:26:15.166Z"
   },
   {
    "duration": 431,
    "start_time": "2022-12-19T05:26:15.406Z"
   },
   {
    "duration": 233,
    "start_time": "2022-12-19T05:26:15.839Z"
   },
   {
    "duration": 14,
    "start_time": "2022-12-19T05:26:16.074Z"
   },
   {
    "duration": 6,
    "start_time": "2022-12-19T05:26:16.090Z"
   },
   {
    "duration": 26,
    "start_time": "2022-12-19T05:26:16.098Z"
   },
   {
    "duration": 12,
    "start_time": "2022-12-19T05:26:16.127Z"
   },
   {
    "duration": 10,
    "start_time": "2022-12-19T05:26:16.141Z"
   },
   {
    "duration": 1253,
    "start_time": "2022-12-19T05:41:40.905Z"
   },
   {
    "duration": 25,
    "start_time": "2022-12-19T05:41:42.160Z"
   },
   {
    "duration": 4,
    "start_time": "2022-12-19T05:41:42.187Z"
   },
   {
    "duration": 18,
    "start_time": "2022-12-19T05:41:42.193Z"
   },
   {
    "duration": 9,
    "start_time": "2022-12-19T05:41:42.221Z"
   },
   {
    "duration": 8,
    "start_time": "2022-12-19T05:41:42.237Z"
   },
   {
    "duration": 16,
    "start_time": "2022-12-19T05:41:42.247Z"
   },
   {
    "duration": 13,
    "start_time": "2022-12-19T05:41:42.265Z"
   },
   {
    "duration": 7,
    "start_time": "2022-12-19T05:41:42.280Z"
   },
   {
    "duration": 13,
    "start_time": "2022-12-19T05:41:42.288Z"
   },
   {
    "duration": 24,
    "start_time": "2022-12-19T05:41:42.312Z"
   },
   {
    "duration": 20,
    "start_time": "2022-12-19T05:41:42.338Z"
   },
   {
    "duration": 19,
    "start_time": "2022-12-19T05:41:42.360Z"
   },
   {
    "duration": 49,
    "start_time": "2022-12-19T05:41:42.383Z"
   },
   {
    "duration": 293,
    "start_time": "2022-12-19T05:41:42.434Z"
   },
   {
    "duration": 192,
    "start_time": "2022-12-19T05:41:42.730Z"
   },
   {
    "duration": 7,
    "start_time": "2022-12-19T05:41:42.925Z"
   },
   {
    "duration": 529,
    "start_time": "2022-12-19T05:41:42.933Z"
   },
   {
    "duration": 953,
    "start_time": "2022-12-19T05:41:43.512Z"
   },
   {
    "duration": 87,
    "start_time": "2022-12-19T05:41:44.467Z"
   },
   {
    "duration": 1110,
    "start_time": "2022-12-19T05:41:44.556Z"
   },
   {
    "duration": 346,
    "start_time": "2022-12-19T05:41:45.669Z"
   },
   {
    "duration": 29,
    "start_time": "2022-12-19T05:41:46.028Z"
   },
   {
    "duration": 473,
    "start_time": "2022-12-19T05:41:46.059Z"
   },
   {
    "duration": 19,
    "start_time": "2022-12-19T05:41:46.535Z"
   },
   {
    "duration": 39,
    "start_time": "2022-12-19T05:41:46.556Z"
   },
   {
    "duration": 389,
    "start_time": "2022-12-19T05:41:46.597Z"
   },
   {
    "duration": 268,
    "start_time": "2022-12-19T05:41:46.988Z"
   },
   {
    "duration": 176,
    "start_time": "2022-12-19T05:41:47.258Z"
   },
   {
    "duration": 191,
    "start_time": "2022-12-19T05:41:47.436Z"
   },
   {
    "duration": 164,
    "start_time": "2022-12-19T05:41:47.632Z"
   },
   {
    "duration": 302,
    "start_time": "2022-12-19T05:41:47.797Z"
   },
   {
    "duration": 22,
    "start_time": "2022-12-19T05:41:48.101Z"
   },
   {
    "duration": 432,
    "start_time": "2022-12-19T05:41:48.125Z"
   },
   {
    "duration": 427,
    "start_time": "2022-12-19T05:41:48.559Z"
   },
   {
    "duration": 8,
    "start_time": "2022-12-19T05:41:48.989Z"
   },
   {
    "duration": 365,
    "start_time": "2022-12-19T05:41:48.998Z"
   },
   {
    "duration": 228,
    "start_time": "2022-12-19T05:41:49.365Z"
   },
   {
    "duration": 123,
    "start_time": "2022-12-19T05:41:49.595Z"
   },
   {
    "duration": 0,
    "start_time": "2022-12-19T05:41:49.722Z"
   },
   {
    "duration": 1,
    "start_time": "2022-12-19T05:41:49.727Z"
   },
   {
    "duration": 0,
    "start_time": "2022-12-19T05:41:49.729Z"
   },
   {
    "duration": 0,
    "start_time": "2022-12-19T05:41:49.731Z"
   },
   {
    "duration": 0,
    "start_time": "2022-12-19T05:41:49.732Z"
   },
   {
    "duration": 0,
    "start_time": "2022-12-19T05:41:49.733Z"
   },
   {
    "duration": 0,
    "start_time": "2022-12-19T05:41:49.735Z"
   },
   {
    "duration": 0,
    "start_time": "2022-12-19T05:41:49.736Z"
   },
   {
    "duration": 22,
    "start_time": "2022-12-19T05:42:02.410Z"
   },
   {
    "duration": 1203,
    "start_time": "2022-12-19T05:42:28.475Z"
   },
   {
    "duration": 18,
    "start_time": "2022-12-19T05:42:29.680Z"
   },
   {
    "duration": 4,
    "start_time": "2022-12-19T05:42:29.699Z"
   },
   {
    "duration": 24,
    "start_time": "2022-12-19T05:42:29.705Z"
   },
   {
    "duration": 5,
    "start_time": "2022-12-19T05:42:29.732Z"
   },
   {
    "duration": 5,
    "start_time": "2022-12-19T05:42:29.738Z"
   },
   {
    "duration": 10,
    "start_time": "2022-12-19T05:42:29.745Z"
   },
   {
    "duration": 12,
    "start_time": "2022-12-19T05:42:29.756Z"
   },
   {
    "duration": 6,
    "start_time": "2022-12-19T05:42:29.770Z"
   },
   {
    "duration": 9,
    "start_time": "2022-12-19T05:42:29.777Z"
   },
   {
    "duration": 43,
    "start_time": "2022-12-19T05:42:29.788Z"
   },
   {
    "duration": 19,
    "start_time": "2022-12-19T05:42:29.833Z"
   },
   {
    "duration": 21,
    "start_time": "2022-12-19T05:42:29.853Z"
   },
   {
    "duration": 20,
    "start_time": "2022-12-19T05:42:29.877Z"
   },
   {
    "duration": 307,
    "start_time": "2022-12-19T05:42:29.898Z"
   },
   {
    "duration": 166,
    "start_time": "2022-12-19T05:42:30.207Z"
   },
   {
    "duration": 6,
    "start_time": "2022-12-19T05:42:30.374Z"
   },
   {
    "duration": 265,
    "start_time": "2022-12-19T05:42:30.381Z"
   },
   {
    "duration": 396,
    "start_time": "2022-12-19T05:42:30.648Z"
   },
   {
    "duration": 26,
    "start_time": "2022-12-19T05:42:31.046Z"
   },
   {
    "duration": 544,
    "start_time": "2022-12-19T05:42:31.074Z"
   },
   {
    "duration": 346,
    "start_time": "2022-12-19T05:42:31.624Z"
   },
   {
    "duration": 22,
    "start_time": "2022-12-19T05:42:31.972Z"
   },
   {
    "duration": 401,
    "start_time": "2022-12-19T05:42:31.995Z"
   },
   {
    "duration": 32,
    "start_time": "2022-12-19T05:42:32.398Z"
   },
   {
    "duration": 22,
    "start_time": "2022-12-19T05:42:32.432Z"
   },
   {
    "duration": 338,
    "start_time": "2022-12-19T05:42:32.456Z"
   },
   {
    "duration": 265,
    "start_time": "2022-12-19T05:42:32.796Z"
   },
   {
    "duration": 184,
    "start_time": "2022-12-19T05:42:33.063Z"
   },
   {
    "duration": 161,
    "start_time": "2022-12-19T05:42:33.248Z"
   },
   {
    "duration": 178,
    "start_time": "2022-12-19T05:42:33.411Z"
   },
   {
    "duration": 298,
    "start_time": "2022-12-19T05:42:33.591Z"
   },
   {
    "duration": 11,
    "start_time": "2022-12-19T05:42:33.891Z"
   },
   {
    "duration": 448,
    "start_time": "2022-12-19T05:42:33.904Z"
   },
   {
    "duration": 382,
    "start_time": "2022-12-19T05:42:34.354Z"
   },
   {
    "duration": 8,
    "start_time": "2022-12-19T05:42:34.739Z"
   },
   {
    "duration": 259,
    "start_time": "2022-12-19T05:42:34.748Z"
   },
   {
    "duration": 230,
    "start_time": "2022-12-19T05:42:35.008Z"
   },
   {
    "duration": 220,
    "start_time": "2022-12-19T05:42:35.241Z"
   },
   {
    "duration": 393,
    "start_time": "2022-12-19T05:42:35.462Z"
   },
   {
    "duration": 222,
    "start_time": "2022-12-19T05:42:35.859Z"
   },
   {
    "duration": 14,
    "start_time": "2022-12-19T05:42:36.083Z"
   },
   {
    "duration": 28,
    "start_time": "2022-12-19T05:42:36.099Z"
   },
   {
    "duration": 8,
    "start_time": "2022-12-19T05:42:36.129Z"
   },
   {
    "duration": 12,
    "start_time": "2022-12-19T05:42:36.139Z"
   },
   {
    "duration": 9,
    "start_time": "2022-12-19T05:42:36.152Z"
   },
   {
    "duration": 1247,
    "start_time": "2023-05-24T16:17:46.401Z"
   },
   {
    "duration": 122,
    "start_time": "2023-05-24T16:17:48.395Z"
   },
   {
    "duration": 193,
    "start_time": "2023-05-24T16:17:59.259Z"
   },
   {
    "duration": 4,
    "start_time": "2023-05-24T16:18:01.339Z"
   },
   {
    "duration": 3,
    "start_time": "2023-05-24T16:18:09.137Z"
   },
   {
    "duration": 16,
    "start_time": "2023-05-24T16:18:15.274Z"
   },
   {
    "duration": 1034,
    "start_time": "2023-05-24T16:27:04.069Z"
   },
   {
    "duration": 50,
    "start_time": "2023-05-24T16:27:05.105Z"
   },
   {
    "duration": 4,
    "start_time": "2023-05-24T16:27:05.156Z"
   },
   {
    "duration": 24,
    "start_time": "2023-05-24T16:27:05.161Z"
   },
   {
    "duration": 22,
    "start_time": "2023-05-24T16:27:05.187Z"
   },
   {
    "duration": 14,
    "start_time": "2023-05-24T16:27:05.210Z"
   },
   {
    "duration": 4,
    "start_time": "2023-05-24T16:27:05.226Z"
   },
   {
    "duration": 10,
    "start_time": "2023-05-24T16:27:05.231Z"
   },
   {
    "duration": 39,
    "start_time": "2023-05-24T16:27:05.242Z"
   },
   {
    "duration": 17,
    "start_time": "2023-05-24T16:27:05.285Z"
   },
   {
    "duration": 14,
    "start_time": "2023-05-24T16:27:05.304Z"
   },
   {
    "duration": 16,
    "start_time": "2023-05-24T16:27:05.319Z"
   },
   {
    "duration": 9,
    "start_time": "2023-05-24T16:27:05.336Z"
   },
   {
    "duration": 32,
    "start_time": "2023-05-24T16:27:05.347Z"
   },
   {
    "duration": 33,
    "start_time": "2023-05-24T16:27:05.381Z"
   },
   {
    "duration": 11,
    "start_time": "2023-05-24T16:27:05.416Z"
   },
   {
    "duration": 15,
    "start_time": "2023-05-24T16:27:05.428Z"
   },
   {
    "duration": 33,
    "start_time": "2023-05-24T16:27:05.444Z"
   },
   {
    "duration": 31,
    "start_time": "2023-05-24T16:27:05.479Z"
   },
   {
    "duration": 245,
    "start_time": "2023-05-24T16:27:05.511Z"
   },
   {
    "duration": 25,
    "start_time": "2023-05-24T16:27:05.758Z"
   },
   {
    "duration": 33,
    "start_time": "2023-05-24T16:27:05.786Z"
   },
   {
    "duration": 21,
    "start_time": "2023-05-24T16:27:05.821Z"
   },
   {
    "duration": 38,
    "start_time": "2023-05-24T16:27:05.844Z"
   },
   {
    "duration": 19,
    "start_time": "2023-05-24T16:27:05.883Z"
   },
   {
    "duration": 29,
    "start_time": "2023-05-24T16:27:05.904Z"
   },
   {
    "duration": 149,
    "start_time": "2023-05-24T16:27:05.934Z"
   },
   {
    "duration": 6,
    "start_time": "2023-05-24T16:27:06.086Z"
   },
   {
    "duration": 225,
    "start_time": "2023-05-24T16:27:06.094Z"
   },
   {
    "duration": 219,
    "start_time": "2023-05-24T16:27:06.321Z"
   },
   {
    "duration": 439,
    "start_time": "2023-05-24T16:27:06.542Z"
   },
   {
    "duration": 40,
    "start_time": "2023-05-24T16:27:06.983Z"
   },
   {
    "duration": 425,
    "start_time": "2023-05-24T16:27:07.025Z"
   },
   {
    "duration": 289,
    "start_time": "2023-05-24T16:27:07.452Z"
   },
   {
    "duration": 17,
    "start_time": "2023-05-24T16:27:07.743Z"
   },
   {
    "duration": 389,
    "start_time": "2023-05-24T16:27:07.762Z"
   },
   {
    "duration": 11,
    "start_time": "2023-05-24T16:27:08.153Z"
   },
   {
    "duration": 22,
    "start_time": "2023-05-24T16:27:08.165Z"
   },
   {
    "duration": 259,
    "start_time": "2023-05-24T16:27:08.189Z"
   },
   {
    "duration": 229,
    "start_time": "2023-05-24T16:27:08.450Z"
   },
   {
    "duration": 217,
    "start_time": "2023-05-24T16:27:08.681Z"
   },
   {
    "duration": 28,
    "start_time": "2023-05-24T16:27:08.900Z"
   },
   {
    "duration": 164,
    "start_time": "2023-05-24T16:27:08.930Z"
   },
   {
    "duration": 158,
    "start_time": "2023-05-24T16:27:09.095Z"
   },
   {
    "duration": 163,
    "start_time": "2023-05-24T16:27:09.254Z"
   },
   {
    "duration": 296,
    "start_time": "2023-05-24T16:27:09.418Z"
   },
   {
    "duration": 11,
    "start_time": "2023-05-24T16:27:09.715Z"
   },
   {
    "duration": 467,
    "start_time": "2023-05-24T16:27:09.727Z"
   },
   {
    "duration": 392,
    "start_time": "2023-05-24T16:27:10.196Z"
   },
   {
    "duration": 20,
    "start_time": "2023-05-24T16:27:10.589Z"
   },
   {
    "duration": 298,
    "start_time": "2023-05-24T16:27:10.610Z"
   },
   {
    "duration": 176,
    "start_time": "2023-05-24T16:27:10.910Z"
   },
   {
    "duration": 225,
    "start_time": "2023-05-24T16:27:11.088Z"
   },
   {
    "duration": 199,
    "start_time": "2023-05-24T16:27:11.315Z"
   },
   {
    "duration": 251,
    "start_time": "2023-05-24T16:27:11.516Z"
   },
   {
    "duration": 5,
    "start_time": "2023-05-24T16:27:11.769Z"
   },
   {
    "duration": 31,
    "start_time": "2023-05-24T16:27:11.776Z"
   },
   {
    "duration": 11,
    "start_time": "2023-05-24T16:27:11.808Z"
   },
   {
    "duration": 5,
    "start_time": "2023-05-24T16:27:11.820Z"
   },
   {
    "duration": 28,
    "start_time": "2023-05-24T16:27:11.827Z"
   },
   {
    "duration": 185,
    "start_time": "2023-05-24T16:27:11.856Z"
   },
   {
    "duration": 12,
    "start_time": "2023-05-24T16:27:12.043Z"
   },
   {
    "duration": 7,
    "start_time": "2023-05-24T16:27:12.057Z"
   },
   {
    "duration": 8,
    "start_time": "2023-05-24T16:27:12.065Z"
   },
   {
    "duration": 9,
    "start_time": "2023-05-24T16:27:12.075Z"
   },
   {
    "duration": 26,
    "start_time": "2023-05-24T16:27:12.086Z"
   }
  ],
  "celltoolbar": "Необработанный формат ячейки",
  "kernelspec": {
   "display_name": "Python 3 (ipykernel)",
   "language": "python",
   "name": "python3"
  },
  "language_info": {
   "codemirror_mode": {
    "name": "ipython",
    "version": 3
   },
   "file_extension": ".py",
   "mimetype": "text/x-python",
   "name": "python",
   "nbconvert_exporter": "python",
   "pygments_lexer": "ipython3",
   "version": "3.9.5"
  },
  "toc": {
   "base_numbering": 1,
   "nav_menu": {},
   "number_sections": false,
   "sideBar": true,
   "skip_h1_title": false,
   "title_cell": "Table of Contents",
   "title_sidebar": "Contents",
   "toc_cell": false,
   "toc_position": {},
   "toc_section_display": true,
   "toc_window_display": true
  }
 },
 "nbformat": 4,
 "nbformat_minor": 5
}
